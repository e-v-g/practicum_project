{
 "cells": [
  {
   "cell_type": "markdown",
   "metadata": {},
   "source": [
    "# Анализ поведения пользователей мобильного приложения"
   ]
  },
  {
   "cell_type": "markdown",
   "metadata": {},
   "source": [
    "Цель проекта:\n",
    " - определить по результатам A/A/B-теста, какой шрифт лучше использовать в приложении"
   ]
  },
  {
   "cell_type": "markdown",
   "metadata": {},
   "source": [
    "Для проведения анализа имеется лог данных:\n",
    " - EventName — название события;\n",
    " - DeviceIDHash — уникальный идентификатор пользователя;\n",
    " - EventTimestamp — время события;\n",
    " - ExpId — номер эксперимента: 246 и 247 — контрольные группы, а 248 — экспериментальная."
   ]
  },
  {
   "cell_type": "markdown",
   "metadata": {},
   "source": [
    "План выполнения задачи:\n",
    "\n",
    "1. [Общая информация](#start)\n",
    "2. [Изучение данных](#data)\n",
    "3. [Воронка событий](#funnel)\n",
    "4. [Результаты эксперимента](#results)   \n",
    "5. [Вывод](#end)"
   ]
  },
  {
   "cell_type": "markdown",
   "metadata": {},
   "source": [
    "## Общая информация\n",
    "<a id=\"start\"></a>"
   ]
  },
  {
   "cell_type": "markdown",
   "metadata": {},
   "source": [
    "Импортируем библиотеки"
   ]
  },
  {
   "cell_type": "code",
   "execution_count": 1,
   "metadata": {},
   "outputs": [
    {
     "data": {
      "text/plain": [
       "Renderers configuration\n",
       "-----------------------\n",
       "    Default renderer: 'plotly_mimetype+notebook'\n",
       "    Available renderers:\n",
       "        ['plotly_mimetype', 'jupyterlab', 'nteract', 'vscode',\n",
       "         'notebook', 'notebook_connected', 'kaggle', 'azure', 'colab',\n",
       "         'cocalc', 'databricks', 'json', 'png', 'jpeg', 'jpg', 'svg',\n",
       "         'pdf', 'browser', 'firefox', 'chrome', 'chromium', 'iframe',\n",
       "         'iframe_connected', 'sphinx_gallery', 'sphinx_gallery_png']"
      ]
     },
     "execution_count": 1,
     "metadata": {},
     "output_type": "execute_result"
    }
   ],
   "source": [
    "import pandas as pd\n",
    "import numpy as np\n",
    "import matplotlib.pyplot as plt\n",
    "import plotly.express as px\n",
    "from plotly import graph_objects as go\n",
    "from datetime import datetime\n",
    "import math as mth\n",
    "import scipy.stats as stats\n",
    "from scipy import stats as st\n",
    "import warnings\n",
    "warnings.filterwarnings('ignore')\n",
    "import plotly.io as pio\n",
    "pio.renderers"
   ]
  },
  {
   "cell_type": "markdown",
   "metadata": {},
   "source": [
    "Открываем файл и смотрим информацию"
   ]
  },
  {
   "cell_type": "code",
   "execution_count": 2,
   "metadata": {},
   "outputs": [],
   "source": [
    "df = pd.read_csv('datasets.csv', sep='\\t')"
   ]
  },
  {
   "cell_type": "code",
   "execution_count": 3,
   "metadata": {},
   "outputs": [
    {
     "data": {
      "text/html": [
       "<div>\n",
       "<style scoped>\n",
       "    .dataframe tbody tr th:only-of-type {\n",
       "        vertical-align: middle;\n",
       "    }\n",
       "\n",
       "    .dataframe tbody tr th {\n",
       "        vertical-align: top;\n",
       "    }\n",
       "\n",
       "    .dataframe thead th {\n",
       "        text-align: right;\n",
       "    }\n",
       "</style>\n",
       "<table border=\"1\" class=\"dataframe\">\n",
       "  <thead>\n",
       "    <tr style=\"text-align: right;\">\n",
       "      <th></th>\n",
       "      <th>EventName</th>\n",
       "      <th>DeviceIDHash</th>\n",
       "      <th>EventTimestamp</th>\n",
       "      <th>ExpId</th>\n",
       "    </tr>\n",
       "  </thead>\n",
       "  <tbody>\n",
       "    <tr>\n",
       "      <th>0</th>\n",
       "      <td>MainScreenAppear</td>\n",
       "      <td>4575588528974610257</td>\n",
       "      <td>1564029816</td>\n",
       "      <td>246</td>\n",
       "    </tr>\n",
       "    <tr>\n",
       "      <th>1</th>\n",
       "      <td>MainScreenAppear</td>\n",
       "      <td>7416695313311560658</td>\n",
       "      <td>1564053102</td>\n",
       "      <td>246</td>\n",
       "    </tr>\n",
       "    <tr>\n",
       "      <th>2</th>\n",
       "      <td>PaymentScreenSuccessful</td>\n",
       "      <td>3518123091307005509</td>\n",
       "      <td>1564054127</td>\n",
       "      <td>248</td>\n",
       "    </tr>\n",
       "    <tr>\n",
       "      <th>3</th>\n",
       "      <td>CartScreenAppear</td>\n",
       "      <td>3518123091307005509</td>\n",
       "      <td>1564054127</td>\n",
       "      <td>248</td>\n",
       "    </tr>\n",
       "    <tr>\n",
       "      <th>4</th>\n",
       "      <td>PaymentScreenSuccessful</td>\n",
       "      <td>6217807653094995999</td>\n",
       "      <td>1564055322</td>\n",
       "      <td>248</td>\n",
       "    </tr>\n",
       "  </tbody>\n",
       "</table>\n",
       "</div>"
      ],
      "text/plain": [
       "                 EventName         DeviceIDHash  EventTimestamp  ExpId\n",
       "0         MainScreenAppear  4575588528974610257      1564029816    246\n",
       "1         MainScreenAppear  7416695313311560658      1564053102    246\n",
       "2  PaymentScreenSuccessful  3518123091307005509      1564054127    248\n",
       "3         CartScreenAppear  3518123091307005509      1564054127    248\n",
       "4  PaymentScreenSuccessful  6217807653094995999      1564055322    248"
      ]
     },
     "metadata": {},
     "output_type": "display_data"
    },
    {
     "name": "stdout",
     "output_type": "stream",
     "text": [
      "<class 'pandas.core.frame.DataFrame'>\n",
      "RangeIndex: 244126 entries, 0 to 244125\n",
      "Data columns (total 4 columns):\n",
      " #   Column          Non-Null Count   Dtype \n",
      "---  ------          --------------   ----- \n",
      " 0   EventName       244126 non-null  object\n",
      " 1   DeviceIDHash    244126 non-null  int64 \n",
      " 2   EventTimestamp  244126 non-null  int64 \n",
      " 3   ExpId           244126 non-null  int64 \n",
      "dtypes: int64(3), object(1)\n",
      "memory usage: 7.5+ MB\n"
     ]
    }
   ],
   "source": [
    "display(df.head())\n",
    "df.info()"
   ]
  },
  {
   "cell_type": "markdown",
   "metadata": {},
   "source": [
    "Переименуем столбцы"
   ]
  },
  {
   "cell_type": "code",
   "execution_count": 4,
   "metadata": {},
   "outputs": [],
   "source": [
    "df = df.rename(columns={'EventName': 'event', 'DeviceIDHash': 'id', 'EventTimestamp': 'event_timestamp', 'ExpId': 'group'})"
   ]
  },
  {
   "cell_type": "markdown",
   "metadata": {},
   "source": [
    "Изменит тип данных в столбце 'event' на тип 'category'"
   ]
  },
  {
   "cell_type": "code",
   "execution_count": 5,
   "metadata": {},
   "outputs": [],
   "source": [
    "df['event'] = df['event'].astype('category')"
   ]
  },
  {
   "cell_type": "markdown",
   "metadata": {},
   "source": [
    "Добавим столбец даты и времени 'event_timedate', а также отдельный столбец дат 'event_date'"
   ]
  },
  {
   "cell_type": "code",
   "execution_count": 6,
   "metadata": {},
   "outputs": [],
   "source": [
    "df['event_timedate'] = pd.to_datetime(df['event_timestamp'], unit=\"s\")"
   ]
  },
  {
   "cell_type": "code",
   "execution_count": 7,
   "metadata": {},
   "outputs": [],
   "source": [
    "df['event_date'] = df['event_timedate'].dt.date"
   ]
  },
  {
   "cell_type": "markdown",
   "metadata": {},
   "source": [
    "Посмотрим на наличие дубликатов и удалим их"
   ]
  },
  {
   "cell_type": "code",
   "execution_count": 8,
   "metadata": {},
   "outputs": [
    {
     "data": {
      "text/html": [
       "<div>\n",
       "<style scoped>\n",
       "    .dataframe tbody tr th:only-of-type {\n",
       "        vertical-align: middle;\n",
       "    }\n",
       "\n",
       "    .dataframe tbody tr th {\n",
       "        vertical-align: top;\n",
       "    }\n",
       "\n",
       "    .dataframe thead th {\n",
       "        text-align: right;\n",
       "    }\n",
       "</style>\n",
       "<table border=\"1\" class=\"dataframe\">\n",
       "  <thead>\n",
       "    <tr style=\"text-align: right;\">\n",
       "      <th></th>\n",
       "      <th>event</th>\n",
       "      <th>id</th>\n",
       "      <th>event_timestamp</th>\n",
       "      <th>group</th>\n",
       "      <th>event_timedate</th>\n",
       "      <th>event_date</th>\n",
       "    </tr>\n",
       "  </thead>\n",
       "  <tbody>\n",
       "    <tr>\n",
       "      <th>452</th>\n",
       "      <td>MainScreenAppear</td>\n",
       "      <td>5613408041324010552</td>\n",
       "      <td>1564474784</td>\n",
       "      <td>248</td>\n",
       "      <td>2019-07-30 08:19:44</td>\n",
       "      <td>2019-07-30</td>\n",
       "    </tr>\n",
       "    <tr>\n",
       "      <th>453</th>\n",
       "      <td>MainScreenAppear</td>\n",
       "      <td>5613408041324010552</td>\n",
       "      <td>1564474784</td>\n",
       "      <td>248</td>\n",
       "      <td>2019-07-30 08:19:44</td>\n",
       "      <td>2019-07-30</td>\n",
       "    </tr>\n",
       "    <tr>\n",
       "      <th>2348</th>\n",
       "      <td>CartScreenAppear</td>\n",
       "      <td>1694940645335807244</td>\n",
       "      <td>1564609899</td>\n",
       "      <td>248</td>\n",
       "      <td>2019-07-31 21:51:39</td>\n",
       "      <td>2019-07-31</td>\n",
       "    </tr>\n",
       "    <tr>\n",
       "      <th>2350</th>\n",
       "      <td>CartScreenAppear</td>\n",
       "      <td>1694940645335807244</td>\n",
       "      <td>1564609899</td>\n",
       "      <td>248</td>\n",
       "      <td>2019-07-31 21:51:39</td>\n",
       "      <td>2019-07-31</td>\n",
       "    </tr>\n",
       "    <tr>\n",
       "      <th>3572</th>\n",
       "      <td>MainScreenAppear</td>\n",
       "      <td>434103746454591587</td>\n",
       "      <td>1564628377</td>\n",
       "      <td>248</td>\n",
       "      <td>2019-08-01 02:59:37</td>\n",
       "      <td>2019-08-01</td>\n",
       "    </tr>\n",
       "    <tr>\n",
       "      <th>...</th>\n",
       "      <td>...</td>\n",
       "      <td>...</td>\n",
       "      <td>...</td>\n",
       "      <td>...</td>\n",
       "      <td>...</td>\n",
       "      <td>...</td>\n",
       "    </tr>\n",
       "    <tr>\n",
       "      <th>242359</th>\n",
       "      <td>PaymentScreenSuccessful</td>\n",
       "      <td>2382591782303281935</td>\n",
       "      <td>1565206049</td>\n",
       "      <td>246</td>\n",
       "      <td>2019-08-07 19:27:29</td>\n",
       "      <td>2019-08-07</td>\n",
       "    </tr>\n",
       "    <tr>\n",
       "      <th>242360</th>\n",
       "      <td>PaymentScreenSuccessful</td>\n",
       "      <td>2382591782303281935</td>\n",
       "      <td>1565206049</td>\n",
       "      <td>246</td>\n",
       "      <td>2019-08-07 19:27:29</td>\n",
       "      <td>2019-08-07</td>\n",
       "    </tr>\n",
       "    <tr>\n",
       "      <th>242362</th>\n",
       "      <td>CartScreenAppear</td>\n",
       "      <td>2382591782303281935</td>\n",
       "      <td>1565206049</td>\n",
       "      <td>246</td>\n",
       "      <td>2019-08-07 19:27:29</td>\n",
       "      <td>2019-08-07</td>\n",
       "    </tr>\n",
       "    <tr>\n",
       "      <th>242634</th>\n",
       "      <td>MainScreenAppear</td>\n",
       "      <td>4097782667445790512</td>\n",
       "      <td>1565206618</td>\n",
       "      <td>246</td>\n",
       "      <td>2019-08-07 19:36:58</td>\n",
       "      <td>2019-08-07</td>\n",
       "    </tr>\n",
       "    <tr>\n",
       "      <th>242635</th>\n",
       "      <td>MainScreenAppear</td>\n",
       "      <td>4097782667445790512</td>\n",
       "      <td>1565206618</td>\n",
       "      <td>246</td>\n",
       "      <td>2019-08-07 19:36:58</td>\n",
       "      <td>2019-08-07</td>\n",
       "    </tr>\n",
       "  </tbody>\n",
       "</table>\n",
       "<p>768 rows × 6 columns</p>\n",
       "</div>"
      ],
      "text/plain": [
       "                          event                   id  event_timestamp  group  \\\n",
       "452            MainScreenAppear  5613408041324010552       1564474784    248   \n",
       "453            MainScreenAppear  5613408041324010552       1564474784    248   \n",
       "2348           CartScreenAppear  1694940645335807244       1564609899    248   \n",
       "2350           CartScreenAppear  1694940645335807244       1564609899    248   \n",
       "3572           MainScreenAppear   434103746454591587       1564628377    248   \n",
       "...                         ...                  ...              ...    ...   \n",
       "242359  PaymentScreenSuccessful  2382591782303281935       1565206049    246   \n",
       "242360  PaymentScreenSuccessful  2382591782303281935       1565206049    246   \n",
       "242362         CartScreenAppear  2382591782303281935       1565206049    246   \n",
       "242634         MainScreenAppear  4097782667445790512       1565206618    246   \n",
       "242635         MainScreenAppear  4097782667445790512       1565206618    246   \n",
       "\n",
       "            event_timedate  event_date  \n",
       "452    2019-07-30 08:19:44  2019-07-30  \n",
       "453    2019-07-30 08:19:44  2019-07-30  \n",
       "2348   2019-07-31 21:51:39  2019-07-31  \n",
       "2350   2019-07-31 21:51:39  2019-07-31  \n",
       "3572   2019-08-01 02:59:37  2019-08-01  \n",
       "...                    ...         ...  \n",
       "242359 2019-08-07 19:27:29  2019-08-07  \n",
       "242360 2019-08-07 19:27:29  2019-08-07  \n",
       "242362 2019-08-07 19:27:29  2019-08-07  \n",
       "242634 2019-08-07 19:36:58  2019-08-07  \n",
       "242635 2019-08-07 19:36:58  2019-08-07  \n",
       "\n",
       "[768 rows x 6 columns]"
      ]
     },
     "execution_count": 8,
     "metadata": {},
     "output_type": "execute_result"
    }
   ],
   "source": [
    "df[df.duplicated(subset=['id', 'event', 'group', 'event_timedate'], keep = False)]"
   ]
  },
  {
   "cell_type": "code",
   "execution_count": 9,
   "metadata": {},
   "outputs": [],
   "source": [
    "df = df.drop_duplicates(subset=['id', 'event', 'group', 'event_timedate'], keep = 'last')"
   ]
  },
  {
   "cell_type": "markdown",
   "metadata": {},
   "source": [
    "Мы ознакомились с данными, привели столбец 'event' к типу 'category', удалили дубликаты (скорее всего они появились при выгрузке, возможно произошел технический сбой). Пропуски в данных отсутствуют."
   ]
  },
  {
   "cell_type": "markdown",
   "metadata": {},
   "source": [
    "## Изучение данных\n",
    "<a id=\"data\"></a>"
   ]
  },
  {
   "cell_type": "markdown",
   "metadata": {},
   "source": [
    "Найдем количество событий в логе"
   ]
  },
  {
   "cell_type": "code",
   "execution_count": 10,
   "metadata": {},
   "outputs": [
    {
     "data": {
      "text/plain": [
       "243713"
      ]
     },
     "execution_count": 10,
     "metadata": {},
     "output_type": "execute_result"
    }
   ],
   "source": [
    "df['event'].count()"
   ]
  },
  {
   "cell_type": "code",
   "execution_count": 11,
   "metadata": {},
   "outputs": [
    {
     "data": {
      "text/plain": [
       "['MainScreenAppear', 'PaymentScreenSuccessful', 'CartScreenAppear', 'OffersScreenAppear', 'Tutorial']\n",
       "Categories (5, object): ['MainScreenAppear', 'PaymentScreenSuccessful', 'CartScreenAppear', 'OffersScreenAppear', 'Tutorial']"
      ]
     },
     "execution_count": 11,
     "metadata": {},
     "output_type": "execute_result"
    }
   ],
   "source": [
    "df['event'].unique()"
   ]
  },
  {
   "cell_type": "markdown",
   "metadata": {},
   "source": [
    "Найдем количество пользователей в логе"
   ]
  },
  {
   "cell_type": "code",
   "execution_count": 12,
   "metadata": {},
   "outputs": [
    {
     "data": {
      "text/plain": [
       "7551"
      ]
     },
     "execution_count": 12,
     "metadata": {},
     "output_type": "execute_result"
    }
   ],
   "source": [
    "df['id'].nunique()"
   ]
  },
  {
   "cell_type": "markdown",
   "metadata": {},
   "source": [
    "Нйдем среднее количество событий на пользователя"
   ]
  },
  {
   "cell_type": "code",
   "execution_count": 13,
   "metadata": {},
   "outputs": [
    {
     "data": {
      "text/plain": [
       "32.27559263673685"
      ]
     },
     "execution_count": 13,
     "metadata": {},
     "output_type": "execute_result"
    }
   ],
   "source": [
    "df['event'].count() / df['id'].nunique()"
   ]
  },
  {
   "cell_type": "markdown",
   "metadata": {},
   "source": [
    "Найдем максимальную и минимальную дату периода"
   ]
  },
  {
   "cell_type": "code",
   "execution_count": 14,
   "metadata": {},
   "outputs": [
    {
     "data": {
      "text/plain": [
       "Timestamp('2019-07-25 04:43:36')"
      ]
     },
     "execution_count": 14,
     "metadata": {},
     "output_type": "execute_result"
    }
   ],
   "source": [
    "df['event_timedate'].min()"
   ]
  },
  {
   "cell_type": "code",
   "execution_count": 15,
   "metadata": {},
   "outputs": [
    {
     "data": {
      "text/plain": [
       "Timestamp('2019-08-07 21:15:17')"
      ]
     },
     "execution_count": 15,
     "metadata": {},
     "output_type": "execute_result"
    }
   ],
   "source": [
    "df['event_timedate'].max()"
   ]
  },
  {
   "cell_type": "code",
   "execution_count": 16,
   "metadata": {},
   "outputs": [
    {
     "data": {
      "image/png": "[encoded data removed]",
      "text/plain": [
       "<Figure size 1080x360 with 1 Axes>"
      ]
     },
     "metadata": {
      "needs_background": "light"
     },
     "output_type": "display_data"
    }
   ],
   "source": [
    "df['event_timedate'].hist(bins = 100, ec='black', figsize = (15, 5))\n",
    "plt.xlabel('Период')\n",
    "plt.ylabel('Частота')\n",
    "plt.title('Распределение количества событий за временной период')\n",
    "plt.show()"
   ]
  },
  {
   "cell_type": "markdown",
   "metadata": {},
   "source": [
    "Рассмотрев полученные результаты, видим, что до начала августа данных практически нет, присутствует совсем маленькое количество. Поэтому для дальнейших дейтсвий мы не будем использовать данные до 01.08.2019"
   ]
  },
  {
   "cell_type": "markdown",
   "metadata": {},
   "source": [
    "Найдем количество событий и пользователей в данных до 01.08.2019"
   ]
  },
  {
   "cell_type": "code",
   "execution_count": 17,
   "metadata": {},
   "outputs": [],
   "source": [
    "df_drop= df[df['event_timedate'] < '2019-08-01']"
   ]
  },
  {
   "cell_type": "code",
   "execution_count": 18,
   "metadata": {},
   "outputs": [
    {
     "data": {
      "text/plain": [
       "1451"
      ]
     },
     "execution_count": 18,
     "metadata": {},
     "output_type": "execute_result"
    }
   ],
   "source": [
    "df_drop['id'].nunique()"
   ]
  },
  {
   "cell_type": "code",
   "execution_count": 19,
   "metadata": {},
   "outputs": [
    {
     "data": {
      "text/plain": [
       "2826"
      ]
     },
     "execution_count": 19,
     "metadata": {},
     "output_type": "execute_result"
    }
   ],
   "source": [
    "df_drop['event'].count()"
   ]
  },
  {
   "cell_type": "markdown",
   "metadata": {},
   "source": [
    "Удалим данные до 01.08.2019"
   ]
  },
  {
   "cell_type": "code",
   "execution_count": 20,
   "metadata": {},
   "outputs": [],
   "source": [
    "df = df[df['event_timedate'] >= '2019-08-01']"
   ]
  },
  {
   "cell_type": "code",
   "execution_count": 21,
   "metadata": {},
   "outputs": [
    {
     "data": {
      "text/plain": [
       "7534"
      ]
     },
     "execution_count": 21,
     "metadata": {},
     "output_type": "execute_result"
    }
   ],
   "source": [
    "df['id'].nunique()"
   ]
  },
  {
   "cell_type": "markdown",
   "metadata": {},
   "source": [
    "Найдем количество пользователей, которые совершали события до 01.08.2019"
   ]
  },
  {
   "cell_type": "code",
   "execution_count": 22,
   "metadata": {},
   "outputs": [
    {
     "data": {
      "text/plain": [
       "17"
      ]
     },
     "execution_count": 22,
     "metadata": {},
     "output_type": "execute_result"
    }
   ],
   "source": [
    "7551 - 7534"
   ]
  },
  {
   "cell_type": "markdown",
   "metadata": {},
   "source": [
    "Проверим имеются ли у нас пользователи, которые совершали события и до 01.08.2019 и после этой даты."
   ]
  },
  {
   "cell_type": "code",
   "execution_count": 23,
   "metadata": {},
   "outputs": [],
   "source": [
    "dublicate = df[df['id'].isin(df_drop['id'])]"
   ]
  },
  {
   "cell_type": "code",
   "execution_count": 24,
   "metadata": {},
   "outputs": [
    {
     "data": {
      "text/plain": [
       "1434"
      ]
     },
     "execution_count": 24,
     "metadata": {},
     "output_type": "execute_result"
    }
   ],
   "source": [
    "dublicate['id'].nunique()"
   ]
  },
  {
   "cell_type": "markdown",
   "metadata": {},
   "source": [
    "Да, такие пользователи есть."
   ]
  },
  {
   "cell_type": "markdown",
   "metadata": {},
   "source": [
    "Проверим, что у нас есть пользователи из всех трёх экспериментальных групп."
   ]
  },
  {
   "cell_type": "code",
   "execution_count": 25,
   "metadata": {},
   "outputs": [
    {
     "data": {
      "text/plain": [
       "group\n",
       "246    2484\n",
       "247    2513\n",
       "248    2537\n",
       "Name: id, dtype: int64"
      ]
     },
     "execution_count": 25,
     "metadata": {},
     "output_type": "execute_result"
    }
   ],
   "source": [
    "df.groupby('group')['id'].nunique()"
   ]
  },
  {
   "cell_type": "markdown",
   "metadata": {},
   "source": [
    "В ходе этого шага мы обнаружили, что до 01.08.2019 у нас имелись не полные данные. Поэтому для проведения дальнейшего анализа мы отбросили все данные до этой даты(события , которые совершали 17 пользователей)."
   ]
  },
  {
   "cell_type": "markdown",
   "metadata": {},
   "source": [
    "## Воронка событий\n",
    "<a id=\"funnel\"></a>"
   ]
  },
  {
   "cell_type": "markdown",
   "metadata": {},
   "source": [
    "Найдем какие события есть в логах и как часто они встречаются"
   ]
  },
  {
   "cell_type": "code",
   "execution_count": 26,
   "metadata": {},
   "outputs": [
    {
     "data": {
      "text/plain": [
       "MainScreenAppear           117328\n",
       "OffersScreenAppear          46333\n",
       "CartScreenAppear            42303\n",
       "PaymentScreenSuccessful     33918\n",
       "Tutorial                     1005\n",
       "Name: event, dtype: int64"
      ]
     },
     "execution_count": 26,
     "metadata": {},
     "output_type": "execute_result"
    }
   ],
   "source": [
    "df['event'].value_counts()"
   ]
  },
  {
   "cell_type": "markdown",
   "metadata": {},
   "source": [
    "Найдем сколько пользователей совершали каждое из этих событий"
   ]
  },
  {
   "cell_type": "code",
   "execution_count": 27,
   "metadata": {},
   "outputs": [],
   "source": [
    "df_1 = df.groupby('event')['id'].nunique().reset_index().sort_values(by='id', ascending = False)"
   ]
  },
  {
   "cell_type": "markdown",
   "metadata": {},
   "source": [
    "Мы видим событие 'Tutorial', которое возможно пройти на любом шаге. И как мы видим по количеству польвателей, этот шаг необязательный, его можно пропустить при переходе на другой шаг. Исключим это событие при построении воронки событий."
   ]
  },
  {
   "cell_type": "markdown",
   "metadata": {},
   "source": [
    "Добавим к датасету первоначальные данные о посетителях"
   ]
  },
  {
   "cell_type": "code",
   "execution_count": 28,
   "metadata": {},
   "outputs": [],
   "source": [
    "df_1.loc[5] = ['Visits', 7534]"
   ]
  },
  {
   "cell_type": "markdown",
   "metadata": {},
   "source": [
    "Найдем конверсии пользователей на каждом шаге"
   ]
  },
  {
   "cell_type": "code",
   "execution_count": 29,
   "metadata": {},
   "outputs": [],
   "source": [
    "df_1['conversion'] = df_1['id'] / 7534"
   ]
  },
  {
   "cell_type": "code",
   "execution_count": 30,
   "metadata": {},
   "outputs": [],
   "source": [
    "df_1 = df_1.sort_values(by='id', ascending = False)"
   ]
  },
  {
   "cell_type": "code",
   "execution_count": 31,
   "metadata": {},
   "outputs": [
    {
     "data": {
      "text/html": [
       "<div>\n",
       "<style scoped>\n",
       "    .dataframe tbody tr th:only-of-type {\n",
       "        vertical-align: middle;\n",
       "    }\n",
       "\n",
       "    .dataframe tbody tr th {\n",
       "        vertical-align: top;\n",
       "    }\n",
       "\n",
       "    .dataframe thead th {\n",
       "        text-align: right;\n",
       "    }\n",
       "</style>\n",
       "<table border=\"1\" class=\"dataframe\">\n",
       "  <thead>\n",
       "    <tr style=\"text-align: right;\">\n",
       "      <th></th>\n",
       "      <th>event</th>\n",
       "      <th>id</th>\n",
       "      <th>conversion</th>\n",
       "    </tr>\n",
       "  </thead>\n",
       "  <tbody>\n",
       "    <tr>\n",
       "      <th>5</th>\n",
       "      <td>Visits</td>\n",
       "      <td>7534</td>\n",
       "      <td>1.000000</td>\n",
       "    </tr>\n",
       "    <tr>\n",
       "      <th>1</th>\n",
       "      <td>MainScreenAppear</td>\n",
       "      <td>7419</td>\n",
       "      <td>0.984736</td>\n",
       "    </tr>\n",
       "    <tr>\n",
       "      <th>2</th>\n",
       "      <td>OffersScreenAppear</td>\n",
       "      <td>4593</td>\n",
       "      <td>0.609636</td>\n",
       "    </tr>\n",
       "    <tr>\n",
       "      <th>0</th>\n",
       "      <td>CartScreenAppear</td>\n",
       "      <td>3734</td>\n",
       "      <td>0.495620</td>\n",
       "    </tr>\n",
       "    <tr>\n",
       "      <th>3</th>\n",
       "      <td>PaymentScreenSuccessful</td>\n",
       "      <td>3539</td>\n",
       "      <td>0.469737</td>\n",
       "    </tr>\n",
       "    <tr>\n",
       "      <th>4</th>\n",
       "      <td>Tutorial</td>\n",
       "      <td>840</td>\n",
       "      <td>0.111495</td>\n",
       "    </tr>\n",
       "  </tbody>\n",
       "</table>\n",
       "</div>"
      ],
      "text/plain": [
       "                     event    id  conversion\n",
       "5                   Visits  7534    1.000000\n",
       "1         MainScreenAppear  7419    0.984736\n",
       "2       OffersScreenAppear  4593    0.609636\n",
       "0         CartScreenAppear  3734    0.495620\n",
       "3  PaymentScreenSuccessful  3539    0.469737\n",
       "4                 Tutorial   840    0.111495"
      ]
     },
     "execution_count": 31,
     "metadata": {},
     "output_type": "execute_result"
    }
   ],
   "source": [
    "df_1"
   ]
  },
  {
   "cell_type": "markdown",
   "metadata": {},
   "source": [
    "Построим воронку событий"
   ]
  },
  {
   "cell_type": "code",
   "execution_count": 32,
   "metadata": {},
   "outputs": [
    {
     "data": {
      "image/svg+xml": [
       "<svg class=\"main-svg\" xmlns=\"http://www.w3.org/2000/svg\" xmlns:xlink=\"http://www.w3.org/1999/xlink\" width=\"700\" height=\"500\" style=\"\" viewBox=\"0 0 700 500\"><rect x=\"0\" y=\"0\" width=\"700\" height=\"500\" style=\"fill: rgb(255, 255, 255); fill-opacity: 1;\"/><defs id=\"defs-7a0f09\"><g class=\"clips\"><clipPath id=\"clip7a0f09xyplot\" class=\"plotclip\"><rect width=\"450\" height=\"320\"/></clipPath><clipPath class=\"axesclip\" id=\"clip7a0f09x\"><rect x=\"170\" y=\"0\" width=\"450\" height=\"500\"/></clipPath><clipPath class=\"axesclip\" id=\"clip7a0f09y\"><rect x=\"0\" y=\"100\" width=\"700\" height=\"320\"/></clipPath><clipPath class=\"axesclip\" id=\"clip7a0f09xy\"><rect x=\"170\" y=\"100\" width=\"450\" height=\"320\"/></clipPath></g><g class=\"gradients\"/><g class=\"patterns\"/></defs><g class=\"bglayer\"><rect class=\"bg\" x=\"170\" y=\"100\" width=\"450\" height=\"320\" style=\"fill: rgb(229, 236, 246); fill-opacity: 1; stroke-width: 0;\"/></g><g class=\"layer-below\"><g class=\"imagelayer\"/><g class=\"shapelayer\"/></g><g class=\"cartesianlayer\"><g class=\"subplot xy\"><g class=\"layer-subplot\"><g class=\"shapelayer\"/><g class=\"imagelayer\"/></g><g class=\"gridlayer\"><g class=\"x\"/><g class=\"y\"/></g><g class=\"zerolinelayer\"/><path class=\"xlines-below\"/><path class=\"ylines-below\"/><g class=\"overlines-below\"/><g class=\"xaxislayer-below\"/><g class=\"yaxislayer-below\"/><g class=\"overaxes-below\"/><g class=\"plot\" transform=\"translate(170,100)\" clip-path=\"url(#clip7a0f09xyplot)\"><g class=\"funnellayer mlayer\"><g class=\"trace bars\" style=\"opacity: 1;\"><g class=\"regions\"><g class=\"region\"><path d=\"M22.5,48L25.59,58.67H424.41L427.5,48Z\" style=\"stroke-width: 0; fill: rgb(99, 110, 250); fill-opacity: 0.5;\"/></g><g class=\"region\"><path d=\"M25.59,101.33L101.55,112H348.45L424.41,101.33Z\" style=\"stroke-width: 0; fill: rgb(99, 110, 250); fill-opacity: 0.5;\"/></g><g class=\"region\"><path d=\"M101.55,154.67L124.64,165.33H325.36L348.45,154.67Z\" style=\"stroke-width: 0; fill: rgb(99, 110, 250); fill-opacity: 0.5;\"/></g><g class=\"region\"><path d=\"M124.64,208L129.88,218.67H320.12L325.36,208Z\" style=\"stroke-width: 0; fill: rgb(99, 110, 250); fill-opacity: 0.5;\"/></g><g class=\"region\"><path d=\"M129.88,261.33L202.42,272H247.58L320.12,261.33Z\" style=\"stroke-width: 0; fill: rgb(99, 110, 250); fill-opacity: 0.5;\"/></g><g class=\"region\"><path d=\"M0,0Z\" style=\"stroke-width: 0; fill: rgb(99, 110, 250); fill-opacity: 0.5;\"/></g></g><g class=\"points\"><g class=\"point\"><path d=\"M22.5,5.33V48H427.5V5.33Z\" style=\"vector-effect: non-scaling-stroke; fill: rgb(99, 110, 250); fill-opacity: 1; stroke: rgb(68, 68, 68); stroke-opacity: 1; stroke-width: 0px; opacity: 1;\"/><text class=\"bartext bartext-inside\" text-anchor=\"middle\" data-notex=\"1\" x=\"0\" y=\"0\" style=\"font-family: 'Open Sans', verdana, arial, sans-serif; font-size: 12px; fill: rgb(255, 255, 255); fill-opacity: 1; white-space: pre;\" transform=\"translate(224.7023740277308,17.854031112614134)scale(0.7936692593845114)\"><tspan class=\"line\" dy=\"0em\" x=\"0\" y=\"0\">7534</tspan><tspan class=\"line\" dy=\"1.3em\" x=\"0\" y=\"0\">100% of initial</tspan><tspan class=\"line\" dy=\"2.6em\" x=\"0\" y=\"0\">100% of previous</tspan></text></g><g class=\"point\"><path d=\"M25.59,58.67V101.33H424.41V58.67Z\" style=\"vector-effect: non-scaling-stroke; fill: rgb(99, 110, 250); fill-opacity: 1; stroke: rgb(68, 68, 68); stroke-opacity: 1; stroke-width: 0px; opacity: 1;\"/><text class=\"bartext bartext-inside\" text-anchor=\"middle\" data-notex=\"1\" x=\"0\" y=\"0\" style=\"font-family: 'Open Sans', verdana, arial, sans-serif; font-size: 12px; fill: rgb(255, 255, 255); fill-opacity: 1; white-space: pre;\" transform=\"translate(224.70245519107203,71.19143388569496)scale(0.7934528238079134)\"><tspan class=\"line\" dy=\"0em\" x=\"0\" y=\"0\">7419</tspan><tspan class=\"line\" dy=\"1.3em\" x=\"0\" y=\"0\">98% of initial</tspan><tspan class=\"line\" dy=\"2.6em\" x=\"0\" y=\"0\">98% of previous</tspan></text></g><g class=\"point\"><path d=\"M101.55,112V154.67H348.45V112Z\" style=\"vector-effect: non-scaling-stroke; fill: rgb(99, 110, 250); fill-opacity: 1; stroke: rgb(68, 68, 68); stroke-opacity: 1; stroke-width: 0px; opacity: 1;\"/><text class=\"bartext bartext-inside\" text-anchor=\"middle\" data-notex=\"1\" x=\"0\" y=\"0\" style=\"font-family: 'Open Sans', verdana, arial, sans-serif; font-size: 12px; fill: rgb(255, 255, 255); fill-opacity: 1; white-space: pre;\" transform=\"translate(224.7023740277308,124.52403111261413)scale(0.793669259384511)\"><tspan class=\"line\" dy=\"0em\" x=\"0\" y=\"0\">4593</tspan><tspan class=\"line\" dy=\"1.3em\" x=\"0\" y=\"0\">61% of initial</tspan><tspan class=\"line\" dy=\"2.6em\" x=\"0\" y=\"0\">62% of previous</tspan></text></g><g class=\"point\"><path d=\"M124.64,165.33V208H325.36V165.33Z\" style=\"vector-effect: non-scaling-stroke; fill: rgb(99, 110, 250); fill-opacity: 1; stroke: rgb(68, 68, 68); stroke-opacity: 1; stroke-width: 0px; opacity: 1;\"/><text class=\"bartext bartext-inside\" text-anchor=\"middle\" data-notex=\"1\" x=\"0\" y=\"0\" style=\"font-family: 'Open Sans', verdana, arial, sans-serif; font-size: 12px; fill: rgb(255, 255, 255); fill-opacity: 1; white-space: pre;\" transform=\"translate(224.7023740277308,177.85403111261417)scale(0.793669259384511)\"><tspan class=\"line\" dy=\"0em\" x=\"0\" y=\"0\">3734</tspan><tspan class=\"line\" dy=\"1.3em\" x=\"0\" y=\"0\">50% of initial</tspan><tspan class=\"line\" dy=\"2.6em\" x=\"0\" y=\"0\">81% of previous</tspan></text></g><g class=\"point\"><path d=\"M129.88,218.67V261.33H320.12V218.67Z\" style=\"vector-effect: non-scaling-stroke; fill: rgb(99, 110, 250); fill-opacity: 1; stroke: rgb(68, 68, 68); stroke-opacity: 1; stroke-width: 0px; opacity: 1;\"/><text class=\"bartext bartext-inside\" text-anchor=\"middle\" data-notex=\"1\" x=\"0\" y=\"0\" style=\"font-family: 'Open Sans', verdana, arial, sans-serif; font-size: 12px; fill: rgb(255, 255, 255); fill-opacity: 1; white-space: pre;\" transform=\"translate(224.70245519107203,231.19143388569495)scale(0.7934528238079134)\"><tspan class=\"line\" dy=\"0em\" x=\"0\" y=\"0\">3539</tspan><tspan class=\"line\" dy=\"1.3em\" x=\"0\" y=\"0\">47% of initial</tspan><tspan class=\"line\" dy=\"2.6em\" x=\"0\" y=\"0\">95% of previous</tspan></text></g><g class=\"point\"><path d=\"M202.42,272V314.67H247.58V272Z\" style=\"vector-effect: non-scaling-stroke; fill: rgb(99, 110, 250); fill-opacity: 1; stroke: rgb(68, 68, 68); stroke-opacity: 1; stroke-width: 0px; opacity: 1;\"/><text class=\"bartext bartext-outside\" text-anchor=\"middle\" data-notex=\"1\" x=\"0\" y=\"0\" style=\"font-family: 'Open Sans', verdana, arial, sans-serif; font-size: 12px; fill: rgb(42, 63, 95); fill-opacity: 1; white-space: pre;\" transform=\"translate(296.48235711870143,283.08236726411906)scale(0.9235306053432536)\"><tspan class=\"line\" dy=\"0em\" x=\"0\" y=\"0\">840</tspan><tspan class=\"line\" dy=\"1.3em\" x=\"0\" y=\"0\">11% of initial</tspan><tspan class=\"line\" dy=\"2.6em\" x=\"0\" y=\"0\">24% of previous</tspan></text></g></g></g></g></g><g class=\"overplot\"/><path class=\"xlines-above crisp\" d=\"M0,0\" style=\"fill: none;\"/><path class=\"ylines-above crisp\" d=\"M0,0\" style=\"fill: none;\"/><g class=\"overlines-above\"/><g class=\"xaxislayer-above\"/><g class=\"yaxislayer-above\"><g class=\"ytick\"><text text-anchor=\"end\" x=\"169\" y=\"4.199999999999999\" transform=\"translate(0,393.33)\" style=\"font-family: 'Open Sans', verdana, arial, sans-serif; font-size: 12px; fill: rgb(42, 63, 95); fill-opacity: 1; white-space: pre; opacity: 1;\">Tutorial</text></g><g class=\"ytick\"><text text-anchor=\"end\" x=\"169\" y=\"4.199999999999999\" transform=\"translate(0,340)\" style=\"font-family: 'Open Sans', verdana, arial, sans-serif; font-size: 12px; fill: rgb(42, 63, 95); fill-opacity: 1; white-space: pre; opacity: 1;\">PaymentScreenSuccessful</text></g><g class=\"ytick\"><text text-anchor=\"end\" x=\"169\" y=\"4.199999999999999\" transform=\"translate(0,286.66999999999996)\" style=\"font-family: 'Open Sans', verdana, arial, sans-serif; font-size: 12px; fill: rgb(42, 63, 95); fill-opacity: 1; white-space: pre; opacity: 1;\">CartScreenAppear</text></g><g class=\"ytick\"><text text-anchor=\"end\" x=\"169\" y=\"4.199999999999999\" transform=\"translate(0,233.33)\" style=\"font-family: 'Open Sans', verdana, arial, sans-serif; font-size: 12px; fill: rgb(42, 63, 95); fill-opacity: 1; white-space: pre; opacity: 1;\">OffersScreenAppear</text></g><g class=\"ytick\"><text text-anchor=\"end\" x=\"169\" y=\"4.199999999999999\" transform=\"translate(0,180)\" style=\"font-family: 'Open Sans', verdana, arial, sans-serif; font-size: 12px; fill: rgb(42, 63, 95); fill-opacity: 1; white-space: pre; opacity: 1;\">MainScreenAppear</text></g><g class=\"ytick\"><text text-anchor=\"end\" x=\"169\" y=\"4.199999999999999\" transform=\"translate(0,126.67)\" style=\"font-family: 'Open Sans', verdana, arial, sans-serif; font-size: 12px; fill: rgb(42, 63, 95); fill-opacity: 1; white-space: pre; opacity: 1;\">Visits</text></g></g><g class=\"overaxes-above\"/></g></g><g class=\"polarlayer\"/><g class=\"ternarylayer\"/><g class=\"geolayer\"/><g class=\"funnelarealayer\"/><g class=\"pielayer\"/><g class=\"iciclelayer\"/><g class=\"treemaplayer\"/><g class=\"sunburstlayer\"/><g class=\"glimages\"/><defs id=\"topdefs-7a0f09\"><g class=\"clips\"/></defs><g class=\"layer-above\"><g class=\"imagelayer\"/><g class=\"shapelayer\"/></g><g class=\"infolayer\"><g class=\"g-gtitle\"><text class=\"gtitle\" x=\"35\" y=\"50\" text-anchor=\"start\" dy=\"0em\" style=\"font-family: 'Open Sans', verdana, arial, sans-serif; font-size: 17px; fill: rgb(42, 63, 95); opacity: 1; font-weight: normal; white-space: pre;\">Воронка событий</text></g><g class=\"g-ytitle\"/></g></svg>"
      ]
     },
     "metadata": {},
     "output_type": "display_data"
    }
   ],
   "source": [
    "fig = go.Figure(\n",
    "    go.Funnel(\n",
    "        y=df_1['event'],\n",
    "        x=df_1['id'],\n",
    "        textinfo = \"value+percent initial+percent previous\",\n",
    "    )\n",
    ")\n",
    "fig.update_layout(title='Воронка событий')\n",
    "fig.show(renderer='svg') "
   ]
  },
  {
   "cell_type": "markdown",
   "metadata": {},
   "source": [
    "По воронке событий мы видим, что доля пользователей, которые проходят на следующий шаг составляет:\n",
    "  - MainScreenAppear - 98% от предыдущего шага, 98% от первоначального шага\n",
    "  - OffersScreenAppear - 62% от предыдущего шага, 61% от первоначального шага\n",
    "  - CartScreenAppear - 81% от предыдущего шага, 50% от первоначального шага\n",
    "  - PaymentScreenSuccessful\t- 95% от предыдущего шага, 47% от первоначального шага\n",
    "  \n",
    "Больше всего пользователей было потеряно при переходе на 'OffersScreenAppear'.\n",
    "\n",
    "47%  пользователей доходит от первого события до оплаты."
   ]
  },
  {
   "cell_type": "markdown",
   "metadata": {},
   "source": [
    "## Результаты эксперимента\n",
    "<a id=\"results\"></a>"
   ]
  },
  {
   "cell_type": "markdown",
   "metadata": {},
   "source": [
    "Найдем количество пользователей для каждой экспериментальной группы"
   ]
  },
  {
   "cell_type": "code",
   "execution_count": 33,
   "metadata": {},
   "outputs": [
    {
     "data": {
      "text/plain": [
       "group\n",
       "246    2484\n",
       "247    2513\n",
       "248    2537\n",
       "Name: id, dtype: int64"
      ]
     },
     "execution_count": 33,
     "metadata": {},
     "output_type": "execute_result"
    }
   ],
   "source": [
    "df.groupby('group')['id'].nunique()"
   ]
  },
  {
   "cell_type": "markdown",
   "metadata": {},
   "source": [
    "Проверим наличие пересекающихся пользователей по группам"
   ]
  },
  {
   "cell_type": "code",
   "execution_count": 34,
   "metadata": {},
   "outputs": [],
   "source": [
    "group246 = df.query('group == \"246\"')['id'].tolist()\n",
    "group247 = df.query('group == \"247\"')['id'].tolist()\n",
    "group248 = df.query('group == \"248\"')['id'].tolist()"
   ]
  },
  {
   "cell_type": "code",
   "execution_count": 35,
   "metadata": {},
   "outputs": [
    {
     "data": {
      "text/plain": [
       "0"
      ]
     },
     "execution_count": 35,
     "metadata": {},
     "output_type": "execute_result"
    }
   ],
   "source": [
    "len(set(group246)&set(group247)&set(group248))"
   ]
  },
  {
   "cell_type": "markdown",
   "metadata": {},
   "source": [
    "Таких пользователей нет."
   ]
  },
  {
   "cell_type": "markdown",
   "metadata": {},
   "source": [
    "Найдем распределение пользоватей по группам и событиям"
   ]
  },
  {
   "cell_type": "code",
   "execution_count": 36,
   "metadata": {},
   "outputs": [],
   "source": [
    "data = df.pivot_table(index = 'event', \n",
    "                      columns = 'group', values = 'id', aggfunc = 'nunique').reset_index()"
   ]
  },
  {
   "cell_type": "code",
   "execution_count": 37,
   "metadata": {},
   "outputs": [],
   "source": [
    "data.columns = ['event','A1', 'A2', 'B']"
   ]
  },
  {
   "cell_type": "code",
   "execution_count": 38,
   "metadata": {},
   "outputs": [
    {
     "data": {
      "text/html": [
       "<div>\n",
       "<style scoped>\n",
       "    .dataframe tbody tr th:only-of-type {\n",
       "        vertical-align: middle;\n",
       "    }\n",
       "\n",
       "    .dataframe tbody tr th {\n",
       "        vertical-align: top;\n",
       "    }\n",
       "\n",
       "    .dataframe thead th {\n",
       "        text-align: right;\n",
       "    }\n",
       "</style>\n",
       "<table border=\"1\" class=\"dataframe\">\n",
       "  <thead>\n",
       "    <tr style=\"text-align: right;\">\n",
       "      <th></th>\n",
       "      <th>event</th>\n",
       "      <th>A1</th>\n",
       "      <th>A2</th>\n",
       "      <th>B</th>\n",
       "    </tr>\n",
       "  </thead>\n",
       "  <tbody>\n",
       "    <tr>\n",
       "      <th>1</th>\n",
       "      <td>MainScreenAppear</td>\n",
       "      <td>2450</td>\n",
       "      <td>2476</td>\n",
       "      <td>2493</td>\n",
       "    </tr>\n",
       "    <tr>\n",
       "      <th>2</th>\n",
       "      <td>OffersScreenAppear</td>\n",
       "      <td>1542</td>\n",
       "      <td>1520</td>\n",
       "      <td>1531</td>\n",
       "    </tr>\n",
       "    <tr>\n",
       "      <th>0</th>\n",
       "      <td>CartScreenAppear</td>\n",
       "      <td>1266</td>\n",
       "      <td>1238</td>\n",
       "      <td>1230</td>\n",
       "    </tr>\n",
       "    <tr>\n",
       "      <th>3</th>\n",
       "      <td>PaymentScreenSuccessful</td>\n",
       "      <td>1200</td>\n",
       "      <td>1158</td>\n",
       "      <td>1181</td>\n",
       "    </tr>\n",
       "    <tr>\n",
       "      <th>4</th>\n",
       "      <td>Tutorial</td>\n",
       "      <td>278</td>\n",
       "      <td>283</td>\n",
       "      <td>279</td>\n",
       "    </tr>\n",
       "  </tbody>\n",
       "</table>\n",
       "</div>"
      ],
      "text/plain": [
       "                     event    A1    A2     B\n",
       "1         MainScreenAppear  2450  2476  2493\n",
       "2       OffersScreenAppear  1542  1520  1531\n",
       "0         CartScreenAppear  1266  1238  1230\n",
       "3  PaymentScreenSuccessful  1200  1158  1181\n",
       "4                 Tutorial   278   283   279"
      ]
     },
     "execution_count": 38,
     "metadata": {},
     "output_type": "execute_result"
    }
   ],
   "source": [
    "data = data.sort_values(by=['A1', 'A2', 'B'], ascending = False)\n",
    "data"
   ]
  },
  {
   "cell_type": "code",
   "execution_count": 39,
   "metadata": {},
   "outputs": [],
   "source": [
    "data.loc[5] = ['Visits', 2484, 2513, 2537]"
   ]
  },
  {
   "cell_type": "code",
   "execution_count": 40,
   "metadata": {},
   "outputs": [
    {
     "data": {
      "text/html": [
       "<div>\n",
       "<style scoped>\n",
       "    .dataframe tbody tr th:only-of-type {\n",
       "        vertical-align: middle;\n",
       "    }\n",
       "\n",
       "    .dataframe tbody tr th {\n",
       "        vertical-align: top;\n",
       "    }\n",
       "\n",
       "    .dataframe thead th {\n",
       "        text-align: right;\n",
       "    }\n",
       "</style>\n",
       "<table border=\"1\" class=\"dataframe\">\n",
       "  <thead>\n",
       "    <tr style=\"text-align: right;\">\n",
       "      <th></th>\n",
       "      <th>event</th>\n",
       "      <th>A1</th>\n",
       "      <th>A2</th>\n",
       "      <th>B</th>\n",
       "    </tr>\n",
       "  </thead>\n",
       "  <tbody>\n",
       "    <tr>\n",
       "      <th>1</th>\n",
       "      <td>MainScreenAppear</td>\n",
       "      <td>2450</td>\n",
       "      <td>2476</td>\n",
       "      <td>2493</td>\n",
       "    </tr>\n",
       "    <tr>\n",
       "      <th>2</th>\n",
       "      <td>OffersScreenAppear</td>\n",
       "      <td>1542</td>\n",
       "      <td>1520</td>\n",
       "      <td>1531</td>\n",
       "    </tr>\n",
       "    <tr>\n",
       "      <th>0</th>\n",
       "      <td>CartScreenAppear</td>\n",
       "      <td>1266</td>\n",
       "      <td>1238</td>\n",
       "      <td>1230</td>\n",
       "    </tr>\n",
       "    <tr>\n",
       "      <th>3</th>\n",
       "      <td>PaymentScreenSuccessful</td>\n",
       "      <td>1200</td>\n",
       "      <td>1158</td>\n",
       "      <td>1181</td>\n",
       "    </tr>\n",
       "    <tr>\n",
       "      <th>4</th>\n",
       "      <td>Tutorial</td>\n",
       "      <td>278</td>\n",
       "      <td>283</td>\n",
       "      <td>279</td>\n",
       "    </tr>\n",
       "    <tr>\n",
       "      <th>5</th>\n",
       "      <td>Visits</td>\n",
       "      <td>2484</td>\n",
       "      <td>2513</td>\n",
       "      <td>2537</td>\n",
       "    </tr>\n",
       "  </tbody>\n",
       "</table>\n",
       "</div>"
      ],
      "text/plain": [
       "                     event    A1    A2     B\n",
       "1         MainScreenAppear  2450  2476  2493\n",
       "2       OffersScreenAppear  1542  1520  1531\n",
       "0         CartScreenAppear  1266  1238  1230\n",
       "3  PaymentScreenSuccessful  1200  1158  1181\n",
       "4                 Tutorial   278   283   279\n",
       "5                   Visits  2484  2513  2537"
      ]
     },
     "execution_count": 40,
     "metadata": {},
     "output_type": "execute_result"
    }
   ],
   "source": [
    "data"
   ]
  },
  {
   "cell_type": "code",
   "execution_count": 41,
   "metadata": {},
   "outputs": [],
   "source": [
    "re_i = [5, 1, 2, 0, 3, 4]\n",
    "data = data.reindex(re_i)"
   ]
  },
  {
   "cell_type": "code",
   "execution_count": 42,
   "metadata": {},
   "outputs": [
    {
     "data": {
      "text/html": [
       "<div>\n",
       "<style scoped>\n",
       "    .dataframe tbody tr th:only-of-type {\n",
       "        vertical-align: middle;\n",
       "    }\n",
       "\n",
       "    .dataframe tbody tr th {\n",
       "        vertical-align: top;\n",
       "    }\n",
       "\n",
       "    .dataframe thead th {\n",
       "        text-align: right;\n",
       "    }\n",
       "</style>\n",
       "<table border=\"1\" class=\"dataframe\">\n",
       "  <thead>\n",
       "    <tr style=\"text-align: right;\">\n",
       "      <th></th>\n",
       "      <th>event</th>\n",
       "      <th>A1</th>\n",
       "      <th>A2</th>\n",
       "      <th>B</th>\n",
       "    </tr>\n",
       "  </thead>\n",
       "  <tbody>\n",
       "    <tr>\n",
       "      <th>5</th>\n",
       "      <td>Visits</td>\n",
       "      <td>2484</td>\n",
       "      <td>2513</td>\n",
       "      <td>2537</td>\n",
       "    </tr>\n",
       "    <tr>\n",
       "      <th>1</th>\n",
       "      <td>MainScreenAppear</td>\n",
       "      <td>2450</td>\n",
       "      <td>2476</td>\n",
       "      <td>2493</td>\n",
       "    </tr>\n",
       "    <tr>\n",
       "      <th>2</th>\n",
       "      <td>OffersScreenAppear</td>\n",
       "      <td>1542</td>\n",
       "      <td>1520</td>\n",
       "      <td>1531</td>\n",
       "    </tr>\n",
       "    <tr>\n",
       "      <th>0</th>\n",
       "      <td>CartScreenAppear</td>\n",
       "      <td>1266</td>\n",
       "      <td>1238</td>\n",
       "      <td>1230</td>\n",
       "    </tr>\n",
       "    <tr>\n",
       "      <th>3</th>\n",
       "      <td>PaymentScreenSuccessful</td>\n",
       "      <td>1200</td>\n",
       "      <td>1158</td>\n",
       "      <td>1181</td>\n",
       "    </tr>\n",
       "    <tr>\n",
       "      <th>4</th>\n",
       "      <td>Tutorial</td>\n",
       "      <td>278</td>\n",
       "      <td>283</td>\n",
       "      <td>279</td>\n",
       "    </tr>\n",
       "  </tbody>\n",
       "</table>\n",
       "</div>"
      ],
      "text/plain": [
       "                     event    A1    A2     B\n",
       "5                   Visits  2484  2513  2537\n",
       "1         MainScreenAppear  2450  2476  2493\n",
       "2       OffersScreenAppear  1542  1520  1531\n",
       "0         CartScreenAppear  1266  1238  1230\n",
       "3  PaymentScreenSuccessful  1200  1158  1181\n",
       "4                 Tutorial   278   283   279"
      ]
     },
     "execution_count": 42,
     "metadata": {},
     "output_type": "execute_result"
    }
   ],
   "source": [
    "data"
   ]
  },
  {
   "cell_type": "code",
   "execution_count": 43,
   "metadata": {},
   "outputs": [
    {
     "data": {
      "text/plain": [
       "2513"
      ]
     },
     "execution_count": 43,
     "metadata": {},
     "output_type": "execute_result"
    }
   ],
   "source": [
    "data.loc[5, 'A2']"
   ]
  },
  {
   "cell_type": "markdown",
   "metadata": {},
   "source": [
    "Создадим массивы событий по количеству уникальных пользователей"
   ]
  },
  {
   "cell_type": "code",
   "execution_count": 44,
   "metadata": {},
   "outputs": [],
   "source": [
    "total_A1 = 2484\n",
    "tolal_A2 = 2513\n",
    "total_B = 2537"
   ]
  },
  {
   "cell_type": "code",
   "execution_count": 45,
   "metadata": {},
   "outputs": [],
   "source": [
    "MainScreenAppear = np.array([2450, 2476, 2493])\n",
    "OffersScreenAppear = np.array([1542, 1520, 1531])\n",
    "CartScreenAppear = np.array([1266, 1238, 1230])\n",
    "PaymentScreenSuccessful = np.array([1200, 1158, 1181])"
   ]
  },
  {
   "cell_type": "markdown",
   "metadata": {},
   "source": [
    "Создадим функцию, которая проверяет находят ли статистические критерии разницу между выборками"
   ]
  },
  {
   "cell_type": "code",
   "execution_count": 46,
   "metadata": {},
   "outputs": [],
   "source": [
    "def hypothesis(event_1, event_2, total_1, total_2):\n",
    "    alpha=0.05\n",
    "    \n",
    "    p1 = event_1/total_1\n",
    "    p2 = event_2/total_2\n",
    "    p_combined = (event_1 + event_2) / (total_1 + total_2)\n",
    "    difference = p1 - p2\n",
    "    z_value = difference / mth.sqrt(p_combined * (1 - p_combined) * (1 / total_1 + 1 / total_2))\n",
    "    distr = st.norm(0, 1)\n",
    "    p_value = (1 - distr.cdf(abs(z_value))) * 2\n",
    "    print('p-значение: ', p_value)\n",
    "\n",
    "    if p_value < alpha:\n",
    "        print('Отвергаем нулевую гипотезу: между долями есть значимая разница')\n",
    "    else:\n",
    "        print('Не получилось отвергнуть нулевую гипотезу, нет оснований считать доли разными')"
   ]
  },
  {
   "cell_type": "markdown",
   "metadata": {},
   "source": [
    "Сформируем гипотезы:\n",
    " \n",
    " - Н0 - статистически значимых различий нет между долями пользователей, совершающих событие\n",
    " - Н1 - статистически значимые различия есть между долями пользователей, совершающих событие"
   ]
  },
  {
   "cell_type": "markdown",
   "metadata": {},
   "source": [
    "Проверим группы 246 и 247"
   ]
  },
  {
   "cell_type": "markdown",
   "metadata": {},
   "source": [
    "Шаг 1-2-3-4"
   ]
  },
  {
   "cell_type": "code",
   "execution_count": 47,
   "metadata": {},
   "outputs": [
    {
     "name": "stdout",
     "output_type": "stream",
     "text": [
      "p-значение:  0.7570597232046099\n",
      "Не получилось отвергнуть нулевую гипотезу, нет оснований считать доли разными\n",
      "p-значение:  0.2480954578522181\n",
      "Не получилось отвергнуть нулевую гипотезу, нет оснований считать доли разными\n",
      "p-значение:  0.22883372237997213\n",
      "Не получилось отвергнуть нулевую гипотезу, нет оснований считать доли разными\n",
      "p-значение:  0.11456679313141849\n",
      "Не получилось отвергнуть нулевую гипотезу, нет оснований считать доли разными\n"
     ]
    }
   ],
   "source": [
    "hypothesis(data.loc[1, 'A1'], data.loc[1, 'A2'], data.loc[5, 'A1'], data.loc[5, 'A2'])\n",
    "hypothesis(data.loc[2, 'A1'], data.loc[2, 'A2'], data.loc[5, 'A1'], data.loc[5, 'A2'])\n",
    "hypothesis(data.loc[0, 'A1'], data.loc[0, 'A2'], data.loc[5, 'A1'], data.loc[5, 'A2'])\n",
    "hypothesis(data.loc[3, 'A1'], data.loc[3, 'A2'], data.loc[5, 'A1'], data.loc[5, 'A2'])"
   ]
  },
  {
   "cell_type": "markdown",
   "metadata": {},
   "source": [
    "Проверим группы 246 и 248"
   ]
  },
  {
   "cell_type": "markdown",
   "metadata": {},
   "source": [
    "Шаг 1-2-3-4"
   ]
  },
  {
   "cell_type": "code",
   "execution_count": 48,
   "metadata": {},
   "outputs": [
    {
     "name": "stdout",
     "output_type": "stream",
     "text": [
      "p-значение:  0.2949721933554552\n",
      "Не получилось отвергнуть нулевую гипотезу, нет оснований считать доли разными\n",
      "p-значение:  0.20836205402738917\n",
      "Не получилось отвергнуть нулевую гипотезу, нет оснований считать доли разными\n",
      "p-значение:  0.07842923237520116\n",
      "Не получилось отвергнуть нулевую гипотезу, нет оснований считать доли разными\n",
      "p-значение:  0.2122553275697796\n",
      "Не получилось отвергнуть нулевую гипотезу, нет оснований считать доли разными\n"
     ]
    }
   ],
   "source": [
    "hypothesis(data.loc[1, 'A1'], data.loc[1, 'B'], data.loc[5, 'A1'], data.loc[5, 'B'])\n",
    "hypothesis(data.loc[2, 'A1'], data.loc[2, 'B'], data.loc[5, 'A1'], data.loc[5, 'B'])\n",
    "hypothesis(data.loc[0, 'A1'], data.loc[0, 'B'], data.loc[5, 'A1'], data.loc[5, 'B'])\n",
    "hypothesis(data.loc[3, 'A1'], data.loc[3, 'B'], data.loc[5, 'A1'], data.loc[5, 'B'])"
   ]
  },
  {
   "cell_type": "markdown",
   "metadata": {},
   "source": [
    "Проверим группы 247 и 248"
   ]
  },
  {
   "cell_type": "markdown",
   "metadata": {},
   "source": [
    "Шаг 1-2-3-4"
   ]
  },
  {
   "cell_type": "code",
   "execution_count": 49,
   "metadata": {},
   "outputs": [
    {
     "name": "stdout",
     "output_type": "stream",
     "text": [
      "p-значение:  0.4587053616621515\n",
      "Не получилось отвергнуть нулевую гипотезу, нет оснований считать доли разными\n",
      "p-значение:  0.9197817830592261\n",
      "Не получилось отвергнуть нулевую гипотезу, нет оснований считать доли разными\n",
      "p-значение:  0.5786197879539783\n",
      "Не получилось отвергнуть нулевую гипотезу, нет оснований считать доли разными\n",
      "p-значение:  0.7373415053803964\n",
      "Не получилось отвергнуть нулевую гипотезу, нет оснований считать доли разными\n"
     ]
    }
   ],
   "source": [
    "hypothesis(data.loc[1, 'A2'], data.loc[1, 'B'], data.loc[5, 'A2'], data.loc[5, 'B'])\n",
    "hypothesis(data.loc[2, 'A2'], data.loc[2, 'B'], data.loc[5, 'A2'], data.loc[5, 'B'])\n",
    "hypothesis(data.loc[0, 'A2'], data.loc[0, 'B'], data.loc[5, 'A2'], data.loc[5, 'B'])\n",
    "hypothesis(data.loc[3, 'A2'], data.loc[3, 'B'], data.loc[5, 'A2'], data.loc[5, 'B'])"
   ]
  },
  {
   "cell_type": "markdown",
   "metadata": {},
   "source": [
    "Проверим объединённую контрольную группу с группой 248"
   ]
  },
  {
   "cell_type": "markdown",
   "metadata": {},
   "source": [
    "Шаг 1-2-3-4"
   ]
  },
  {
   "cell_type": "code",
   "execution_count": 50,
   "metadata": {},
   "outputs": [
    {
     "name": "stdout",
     "output_type": "stream",
     "text": [
      "p-значение:  0.29424526837179577\n",
      "Не получилось отвергнуть нулевую гипотезу, нет оснований считать доли разными\n",
      "p-значение:  0.43425549655188256\n",
      "Не получилось отвергнуть нулевую гипотезу, нет оснований считать доли разными\n",
      "p-значение:  0.18175875284404386\n",
      "Не получилось отвергнуть нулевую гипотезу, нет оснований считать доли разными\n",
      "p-значение:  0.6004294282308704\n",
      "Не получилось отвергнуть нулевую гипотезу, нет оснований считать доли разными\n"
     ]
    }
   ],
   "source": [
    "hypothesis(data.loc[1, 'A1'] + data.loc[1, 'A2'], data.loc[1, 'B'], data.loc[5, 'A1'] + data.loc[5, 'A2'], data.loc[5, 'B'])\n",
    "hypothesis(data.loc[2, 'A1'] + data.loc[2, 'A2'], data.loc[2, 'B'], data.loc[5, 'A1'] + data.loc[5, 'A2'], data.loc[5, 'B'])\n",
    "hypothesis(data.loc[0, 'A1'] + data.loc[0, 'A2'], data.loc[0, 'B'], data.loc[5, 'A1'] + data.loc[5, 'A2'], data.loc[5, 'B'])\n",
    "hypothesis(data.loc[3, 'A1'] + data.loc[3, 'A2'], data.loc[3, 'B'], data.loc[5, 'A1'] + data.loc[5, 'A2'], data.loc[5, 'B'])"
   ]
  },
  {
   "cell_type": "markdown",
   "metadata": {},
   "source": [
    "При проверке всех гипотез не получилось отвергнуть Н0, основая считать доли пользователей, совершивший событие, различными нет."
   ]
  },
  {
   "cell_type": "markdown",
   "metadata": {},
   "source": [
    "Уровень статистической значимости для проверки гипотез был выбран в 0.05. Всего было проведено 12 проверок, что считается множественным тестом. Особенность множественных тестов состоит в том, что с каждой новой проверкой гипотезы растёт вероятность ошибки первого рода. Применим метод Шидака, чтобы снизить такую вероятность."
   ]
  },
  {
   "cell_type": "markdown",
   "metadata": {},
   "source": [
    "Создадим функцию для проверки"
   ]
  },
  {
   "cell_type": "code",
   "execution_count": 51,
   "metadata": {},
   "outputs": [],
   "source": [
    "sidak_alpha = 1 - (1 - 0.05)**(1/12)"
   ]
  },
  {
   "cell_type": "code",
   "execution_count": 52,
   "metadata": {},
   "outputs": [],
   "source": [
    "def hypothesis_sidak(event_1, event_2, total_1, total_2):\n",
    "    alpha=sidak_alpha\n",
    "    \n",
    "    p1 = event_1/total_1\n",
    "    p2 = event_2/total_2\n",
    "    p_combined = (event_1 + event_2) / (total_1 + total_2)\n",
    "    difference = p1 - p2\n",
    "    z_value = difference / mth.sqrt(p_combined * (1 - p_combined) * (1 / total_1 + 1 / total_2))\n",
    "    distr = st.norm(0, 1)\n",
    "    p_value = (1 - distr.cdf(abs(z_value))) * 2\n",
    "    print('p-значение: ', '{0:.10f}'.format(p_value))\n",
    "\n",
    "    if p_value < alpha:\n",
    "        print('Отвергаем нулевую гипотезу: между долями есть значимая разница')\n",
    "    else:\n",
    "        print('Не получилось отвергнуть нулевую гипотезу, нет оснований считать доли разными')"
   ]
  },
  {
   "cell_type": "markdown",
   "metadata": {},
   "source": [
    "Проверим группы 246 и 247, шаги 1-2-3-4"
   ]
  },
  {
   "cell_type": "code",
   "execution_count": 53,
   "metadata": {},
   "outputs": [
    {
     "name": "stdout",
     "output_type": "stream",
     "text": [
      "p-значение:  0.2949721934\n",
      "Не получилось отвергнуть нулевую гипотезу, нет оснований считать доли разными\n",
      "p-значение:  0.2480954579\n",
      "Не получилось отвергнуть нулевую гипотезу, нет оснований считать доли разными\n",
      "p-значение:  0.2288337224\n",
      "Не получилось отвергнуть нулевую гипотезу, нет оснований считать доли разными\n",
      "p-значение:  0.1145667931\n",
      "Не получилось отвергнуть нулевую гипотезу, нет оснований считать доли разными\n"
     ]
    }
   ],
   "source": [
    "hypothesis_sidak(data.loc[1, 'A1'], data.loc[1, 'B'], data.loc[5, 'A1'], data.loc[5, 'B'])\n",
    "hypothesis_sidak(data.loc[2, 'A1'], data.loc[2, 'A2'], data.loc[5, 'A1'], data.loc[5, 'A2'])\n",
    "hypothesis_sidak(data.loc[0, 'A1'], data.loc[0, 'A2'], data.loc[5, 'A1'], data.loc[5, 'A2'])\n",
    "hypothesis_sidak(data.loc[3, 'A1'], data.loc[3, 'A2'], data.loc[5, 'A1'], data.loc[5, 'A2'])"
   ]
  },
  {
   "cell_type": "markdown",
   "metadata": {},
   "source": [
    "Проверим группы 246 и 248, шаги 1-2-3-4"
   ]
  },
  {
   "cell_type": "code",
   "execution_count": 54,
   "metadata": {},
   "outputs": [
    {
     "name": "stdout",
     "output_type": "stream",
     "text": [
      "p-значение:  0.2949721934\n",
      "Не получилось отвергнуть нулевую гипотезу, нет оснований считать доли разными\n",
      "p-значение:  0.2083620540\n",
      "Не получилось отвергнуть нулевую гипотезу, нет оснований считать доли разными\n",
      "p-значение:  0.0784292324\n",
      "Не получилось отвергнуть нулевую гипотезу, нет оснований считать доли разными\n",
      "p-значение:  0.2122553276\n",
      "Не получилось отвергнуть нулевую гипотезу, нет оснований считать доли разными\n"
     ]
    }
   ],
   "source": [
    "hypothesis_sidak(data.loc[1, 'A1'], data.loc[1, 'B'], data.loc[5, 'A1'], data.loc[5, 'B'])\n",
    "hypothesis_sidak(data.loc[2, 'A1'], data.loc[2, 'B'], data.loc[5, 'A1'], data.loc[5, 'B'])\n",
    "hypothesis_sidak(data.loc[0, 'A1'], data.loc[0, 'B'], data.loc[5, 'A1'], data.loc[5, 'B'])\n",
    "hypothesis_sidak(data.loc[3, 'A1'], data.loc[3, 'B'], data.loc[5, 'A1'], data.loc[5, 'B'])"
   ]
  },
  {
   "cell_type": "markdown",
   "metadata": {},
   "source": [
    "Проверим группы 247 и 248, шаги 1-2-3-4"
   ]
  },
  {
   "cell_type": "code",
   "execution_count": 55,
   "metadata": {},
   "outputs": [
    {
     "name": "stdout",
     "output_type": "stream",
     "text": [
      "p-значение:  0.4587053617\n",
      "Не получилось отвергнуть нулевую гипотезу, нет оснований считать доли разными\n",
      "p-значение:  0.9197817831\n",
      "Не получилось отвергнуть нулевую гипотезу, нет оснований считать доли разными\n",
      "p-значение:  0.5786197880\n",
      "Не получилось отвергнуть нулевую гипотезу, нет оснований считать доли разными\n",
      "p-значение:  0.7373415054\n",
      "Не получилось отвергнуть нулевую гипотезу, нет оснований считать доли разными\n"
     ]
    }
   ],
   "source": [
    "hypothesis_sidak(data.loc[1, 'A2'], data.loc[1, 'B'], data.loc[5, 'A2'], data.loc[5, 'B'])\n",
    "hypothesis_sidak(data.loc[2, 'A2'], data.loc[2, 'B'], data.loc[5, 'A2'], data.loc[5, 'B'])\n",
    "hypothesis_sidak(data.loc[0, 'A2'], data.loc[0, 'B'], data.loc[5, 'A2'], data.loc[5, 'B'])\n",
    "hypothesis_sidak(data.loc[3, 'A2'], data.loc[3, 'B'], data.loc[5, 'A2'], data.loc[5, 'B'])"
   ]
  },
  {
   "cell_type": "markdown",
   "metadata": {},
   "source": [
    "Проверим  объединённую контрольную группу с группой 248, шаги 1-2-3-4"
   ]
  },
  {
   "cell_type": "code",
   "execution_count": 56,
   "metadata": {},
   "outputs": [
    {
     "name": "stdout",
     "output_type": "stream",
     "text": [
      "p-значение:  0.2942452684\n",
      "Не получилось отвергнуть нулевую гипотезу, нет оснований считать доли разными\n",
      "p-значение:  0.4342554966\n",
      "Не получилось отвергнуть нулевую гипотезу, нет оснований считать доли разными\n",
      "p-значение:  0.1817587528\n",
      "Не получилось отвергнуть нулевую гипотезу, нет оснований считать доли разными\n",
      "p-значение:  0.6004294282\n",
      "Не получилось отвергнуть нулевую гипотезу, нет оснований считать доли разными\n"
     ]
    }
   ],
   "source": [
    "hypothesis_sidak(data.loc[1, 'A1'] + data.loc[1, 'A2'], data.loc[1, 'B'], data.loc[5, 'A1'] + data.loc[5, 'A2'], \n",
    "                 data.loc[5, 'B'])\n",
    "hypothesis_sidak(data.loc[2, 'A1'] + data.loc[2, 'A2'], data.loc[2, 'B'], data.loc[5, 'A1'] + data.loc[5, 'A2'], \n",
    "                 data.loc[5, 'B'])\n",
    "hypothesis_sidak(data.loc[0, 'A1'] + data.loc[0, 'A2'], data.loc[0, 'B'], data.loc[5, 'A1'] + data.loc[5, 'A2'], \n",
    "                 data.loc[5, 'B'])\n",
    "hypothesis_sidak(data.loc[3, 'A1'] + data.loc[3, 'A2'], data.loc[3, 'B'], data.loc[5, 'A1'] + data.loc[5, 'A2'], \n",
    "                 data.loc[5, 'B'])"
   ]
  },
  {
   "cell_type": "markdown",
   "metadata": {},
   "source": [
    "Н0 также не получилось отвергнуть, нет оснований считать доли разными"
   ]
  },
  {
   "cell_type": "markdown",
   "metadata": {},
   "source": [
    "## Вывод\n",
    "<a id=\"end\"></a>"
   ]
  },
  {
   "cell_type": "markdown",
   "metadata": {},
   "source": [
    "Имея в работе лог данных, был проведен анализ поведения пользователей мобильного приложения.\n",
    "1. В начале работы столбец 'event' был привели к типу 'category', также были удалены дубликаты (имеется предроложение, что они образовалить при некорректной выгрузке).\n",
    "2. В ходе изучения данных мы обнаружили , что за период с 25.07.2019 до 01.08.2019 у нас имелись не полные данные. Возможно приложение работало в тестовом режиме. Поэтому для дальнейшего анализа использовались данные начиная с 01.08.2019.\n",
    "3. Изучив воронку событий мы мы видим, что доля пользователей, которые проходят на следующий шаг составляет:\n",
    "   - MainScreenAppear - 98% от предыдущего шага, 98% от первоначального шага\n",
    "   - OffersScreenAppear - 62% от предыдущего шага, 61% от первоначального шага\n",
    "   - CartScreenAppear - 81% от предыдущего шага, 50% от первоначального шага\n",
    "   - PaymentScreenSuccessful\t- 95% от предыдущего шага, 47% от первоначального шага\n",
    "   - Больше всего пользователей было потеряно при переходе на 'OffersScreenAppear'.\n",
    "   - 47% пользователей доходит от первого события до оплаты.\n",
    "4. Проверив гипотезы, можно сделать выводы, что считать доли пользователей, совершающих события, разными у нас нет основания.\n",
    "\n",
    "Перед нами стояла цель определить какой шрифт лучше использовать в приложении: можно сделать вывод, что для успешного использования приложения можно использовать оба варианта, так как статистически значимых различий нет.\n",
    "\n"
   ]
  },
  {
   "cell_type": "code",
   "execution_count": null,
   "metadata": {},
   "outputs": [],
   "source": []
  }
 ],
 "metadata": {
  "ExecuteTimeLog": [
   {
    "duration": 399,
    "start_time": "2021-08-01T18:41:12.960Z"
   },
   {
    "duration": 737,
    "start_time": "2021-08-01T18:41:17.017Z"
   },
   {
    "duration": 314,
    "start_time": "2021-08-01T18:41:19.125Z"
   },
   {
    "duration": 19,
    "start_time": "2021-08-01T18:41:27.894Z"
   },
   {
    "duration": 163,
    "start_time": "2021-08-01T18:41:48.218Z"
   },
   {
    "duration": 11,
    "start_time": "2021-08-01T18:41:49.665Z"
   },
   {
    "duration": 4,
    "start_time": "2021-08-01T18:43:42.527Z"
   },
   {
    "duration": 15,
    "start_time": "2021-08-01T18:43:48.118Z"
   },
   {
    "duration": 31,
    "start_time": "2021-08-01T18:43:55.789Z"
   },
   {
    "duration": 22,
    "start_time": "2021-08-01T18:44:43.963Z"
   },
   {
    "duration": 24,
    "start_time": "2021-08-01T18:59:39.479Z"
   },
   {
    "duration": 10,
    "start_time": "2021-08-01T18:59:45.013Z"
   },
   {
    "duration": 49,
    "start_time": "2021-08-01T19:07:20.001Z"
   },
   {
    "duration": 22,
    "start_time": "2021-08-01T19:07:25.878Z"
   },
   {
    "duration": 131,
    "start_time": "2021-08-01T19:08:27.162Z"
   },
   {
    "duration": 20,
    "start_time": "2021-08-01T19:08:28.715Z"
   },
   {
    "duration": 1372,
    "start_time": "2021-08-01T19:10:04.343Z"
   },
   {
    "duration": 784,
    "start_time": "2021-08-01T19:10:23.911Z"
   },
   {
    "duration": 173,
    "start_time": "2021-08-01T19:10:24.698Z"
   },
   {
    "duration": 23,
    "start_time": "2021-08-01T19:10:24.875Z"
   },
   {
    "duration": 12,
    "start_time": "2021-08-01T19:10:24.900Z"
   },
   {
    "duration": 34,
    "start_time": "2021-08-01T19:10:24.915Z"
   },
   {
    "duration": 28,
    "start_time": "2021-08-01T19:10:24.967Z"
   },
   {
    "duration": 28,
    "start_time": "2021-08-01T19:10:24.997Z"
   },
   {
    "duration": 54,
    "start_time": "2021-08-01T19:10:25.028Z"
   },
   {
    "duration": 435,
    "start_time": "2021-08-01T19:10:25.085Z"
   },
   {
    "duration": 103,
    "start_time": "2021-08-01T19:10:25.420Z"
   },
   {
    "duration": 17,
    "start_time": "2021-08-01T19:10:37.590Z"
   },
   {
    "duration": 16,
    "start_time": "2021-08-01T19:12:37.522Z"
   },
   {
    "duration": 21,
    "start_time": "2021-08-01T19:12:38.841Z"
   },
   {
    "duration": 8,
    "start_time": "2021-08-01T19:13:10.166Z"
   },
   {
    "duration": 24,
    "start_time": "2021-08-01T19:13:12.239Z"
   },
   {
    "duration": 131,
    "start_time": "2021-08-01T19:13:42.568Z"
   },
   {
    "duration": 26,
    "start_time": "2021-08-01T19:13:46.175Z"
   },
   {
    "duration": 114,
    "start_time": "2021-08-01T19:15:43.392Z"
   },
   {
    "duration": 122,
    "start_time": "2021-08-01T19:16:29.036Z"
   },
   {
    "duration": 132,
    "start_time": "2021-08-01T19:16:41.028Z"
   },
   {
    "duration": 46,
    "start_time": "2021-08-01T19:17:02.706Z"
   },
   {
    "duration": 12,
    "start_time": "2021-08-01T19:17:25.897Z"
   },
   {
    "duration": 21,
    "start_time": "2021-08-01T19:28:46.402Z"
   },
   {
    "duration": 55,
    "start_time": "2021-08-01T19:28:53.166Z"
   },
   {
    "duration": 50,
    "start_time": "2021-08-01T19:29:18.167Z"
   },
   {
    "duration": 1330,
    "start_time": "2021-08-01T19:29:26.735Z"
   },
   {
    "duration": 52,
    "start_time": "2021-08-01T19:29:34.290Z"
   },
   {
    "duration": 20,
    "start_time": "2021-08-01T19:29:59.486Z"
   },
   {
    "duration": 95,
    "start_time": "2021-08-01T19:30:31.332Z"
   },
   {
    "duration": 87,
    "start_time": "2021-08-01T19:49:24.836Z"
   },
   {
    "duration": 82,
    "start_time": "2021-08-01T19:50:04.095Z"
   },
   {
    "duration": 265,
    "start_time": "2021-08-02T05:44:24.276Z"
   },
   {
    "duration": 524,
    "start_time": "2021-08-02T05:44:31.923Z"
   },
   {
    "duration": 113,
    "start_time": "2021-08-02T05:44:32.448Z"
   },
   {
    "duration": 12,
    "start_time": "2021-08-02T05:44:32.563Z"
   },
   {
    "duration": 2,
    "start_time": "2021-08-02T05:44:32.577Z"
   },
   {
    "duration": 24,
    "start_time": "2021-08-02T05:44:32.580Z"
   },
   {
    "duration": 17,
    "start_time": "2021-08-02T05:44:32.605Z"
   },
   {
    "duration": 9,
    "start_time": "2021-08-02T05:44:32.623Z"
   },
   {
    "duration": 89,
    "start_time": "2021-08-02T05:44:32.634Z"
   },
   {
    "duration": 56,
    "start_time": "2021-08-02T05:44:32.725Z"
   },
   {
    "duration": 58,
    "start_time": "2021-08-02T05:44:32.783Z"
   },
   {
    "duration": 4,
    "start_time": "2021-08-02T05:44:32.843Z"
   },
   {
    "duration": 7,
    "start_time": "2021-08-02T05:45:00.107Z"
   },
   {
    "duration": 5,
    "start_time": "2021-08-02T05:49:59.642Z"
   },
   {
    "duration": 6,
    "start_time": "2021-08-02T05:50:11.887Z"
   },
   {
    "duration": 5,
    "start_time": "2021-08-02T05:50:22.305Z"
   },
   {
    "duration": 5,
    "start_time": "2021-08-02T05:50:26.897Z"
   },
   {
    "duration": 7,
    "start_time": "2021-08-02T05:52:34.497Z"
   },
   {
    "duration": 5,
    "start_time": "2021-08-02T05:56:31.223Z"
   },
   {
    "duration": 6,
    "start_time": "2021-08-02T05:56:50.514Z"
   },
   {
    "duration": 227,
    "start_time": "2021-08-02T05:57:21.469Z"
   },
   {
    "duration": 754,
    "start_time": "2021-08-02T05:58:25.472Z"
   },
   {
    "duration": 3,
    "start_time": "2021-08-02T05:59:28.804Z"
   },
   {
    "duration": 174,
    "start_time": "2021-08-02T06:02:05.309Z"
   },
   {
    "duration": 796,
    "start_time": "2021-08-02T06:03:54.197Z"
   },
   {
    "duration": 680,
    "start_time": "2021-08-02T06:04:12.566Z"
   },
   {
    "duration": 241,
    "start_time": "2021-08-02T06:04:56.918Z"
   },
   {
    "duration": 267,
    "start_time": "2021-08-02T06:05:23.731Z"
   },
   {
    "duration": 380,
    "start_time": "2021-08-02T06:05:31.195Z"
   },
   {
    "duration": 317,
    "start_time": "2021-08-02T06:05:39.643Z"
   },
   {
    "duration": 295,
    "start_time": "2021-08-02T06:05:49.011Z"
   },
   {
    "duration": 319,
    "start_time": "2021-08-02T06:05:57.398Z"
   },
   {
    "duration": 354,
    "start_time": "2021-08-02T06:06:05.160Z"
   },
   {
    "duration": 341,
    "start_time": "2021-08-02T06:06:16.615Z"
   },
   {
    "duration": 17,
    "start_time": "2021-08-02T06:15:39.301Z"
   },
   {
    "duration": 28,
    "start_time": "2021-08-02T06:15:45.924Z"
   },
   {
    "duration": 19,
    "start_time": "2021-08-02T06:15:56.589Z"
   },
   {
    "duration": 246,
    "start_time": "2021-08-02T06:16:52.809Z"
   },
   {
    "duration": 233,
    "start_time": "2021-08-02T06:16:58.770Z"
   },
   {
    "duration": 220,
    "start_time": "2021-08-02T06:17:07.277Z"
   },
   {
    "duration": 11,
    "start_time": "2021-08-02T06:17:14.862Z"
   },
   {
    "duration": 29,
    "start_time": "2021-08-02T06:18:04.877Z"
   },
   {
    "duration": 6,
    "start_time": "2021-08-02T06:18:40.227Z"
   },
   {
    "duration": 5,
    "start_time": "2021-08-02T06:20:18.213Z"
   },
   {
    "duration": 1278,
    "start_time": "2021-08-02T06:20:26.533Z"
   },
   {
    "duration": 112,
    "start_time": "2021-08-02T06:20:27.812Z"
   },
   {
    "duration": 9,
    "start_time": "2021-08-02T06:20:27.926Z"
   },
   {
    "duration": 5,
    "start_time": "2021-08-02T06:20:27.937Z"
   },
   {
    "duration": 16,
    "start_time": "2021-08-02T06:20:27.943Z"
   },
   {
    "duration": 13,
    "start_time": "2021-08-02T06:20:27.961Z"
   },
   {
    "duration": 15,
    "start_time": "2021-08-02T06:20:27.976Z"
   },
   {
    "duration": 65,
    "start_time": "2021-08-02T06:20:27.992Z"
   },
   {
    "duration": 71,
    "start_time": "2021-08-02T06:20:28.060Z"
   },
   {
    "duration": 60,
    "start_time": "2021-08-02T06:20:28.133Z"
   },
   {
    "duration": 5,
    "start_time": "2021-08-02T06:20:28.195Z"
   },
   {
    "duration": 7,
    "start_time": "2021-08-02T06:20:28.202Z"
   },
   {
    "duration": 6,
    "start_time": "2021-08-02T06:20:28.211Z"
   },
   {
    "duration": 6,
    "start_time": "2021-08-02T06:20:28.219Z"
   },
   {
    "duration": 5,
    "start_time": "2021-08-02T06:20:28.227Z"
   },
   {
    "duration": 7,
    "start_time": "2021-08-02T06:20:28.234Z"
   },
   {
    "duration": 377,
    "start_time": "2021-08-02T06:20:28.242Z"
   },
   {
    "duration": 2,
    "start_time": "2021-08-02T06:20:28.621Z"
   },
   {
    "duration": 13,
    "start_time": "2021-08-02T06:20:28.624Z"
   },
   {
    "duration": 12,
    "start_time": "2021-08-02T06:20:28.638Z"
   },
   {
    "duration": 37,
    "start_time": "2021-08-02T06:20:28.651Z"
   },
   {
    "duration": 329,
    "start_time": "2021-08-02T06:20:35.205Z"
   },
   {
    "duration": 5,
    "start_time": "2021-08-02T06:20:57.265Z"
   },
   {
    "duration": 4,
    "start_time": "2021-08-02T06:21:28.320Z"
   },
   {
    "duration": 4,
    "start_time": "2021-08-02T06:21:32.304Z"
   },
   {
    "duration": 16,
    "start_time": "2021-08-02T06:21:42.144Z"
   },
   {
    "duration": 6,
    "start_time": "2021-08-02T06:21:44.416Z"
   },
   {
    "duration": 14,
    "start_time": "2021-08-02T06:22:00.022Z"
   },
   {
    "duration": 5,
    "start_time": "2021-08-02T06:22:15.204Z"
   },
   {
    "duration": 1651,
    "start_time": "2021-08-02T06:23:03.328Z"
   },
   {
    "duration": 174,
    "start_time": "2021-08-02T06:23:04.981Z"
   },
   {
    "duration": 10,
    "start_time": "2021-08-02T06:23:05.157Z"
   },
   {
    "duration": 2,
    "start_time": "2021-08-02T06:23:05.169Z"
   },
   {
    "duration": 27,
    "start_time": "2021-08-02T06:23:05.173Z"
   },
   {
    "duration": 16,
    "start_time": "2021-08-02T06:23:05.202Z"
   },
   {
    "duration": 7,
    "start_time": "2021-08-02T06:23:05.220Z"
   },
   {
    "duration": 79,
    "start_time": "2021-08-02T06:23:05.228Z"
   },
   {
    "duration": 53,
    "start_time": "2021-08-02T06:23:05.310Z"
   },
   {
    "duration": 63,
    "start_time": "2021-08-02T06:23:05.365Z"
   },
   {
    "duration": 4,
    "start_time": "2021-08-02T06:23:05.430Z"
   },
   {
    "duration": 8,
    "start_time": "2021-08-02T06:23:05.435Z"
   },
   {
    "duration": 5,
    "start_time": "2021-08-02T06:23:05.444Z"
   },
   {
    "duration": 11,
    "start_time": "2021-08-02T06:23:05.450Z"
   },
   {
    "duration": 6,
    "start_time": "2021-08-02T06:23:05.462Z"
   },
   {
    "duration": 23,
    "start_time": "2021-08-02T06:23:05.469Z"
   },
   {
    "duration": 345,
    "start_time": "2021-08-02T06:23:05.493Z"
   },
   {
    "duration": 5,
    "start_time": "2021-08-02T06:23:05.840Z"
   },
   {
    "duration": 5,
    "start_time": "2021-08-02T06:23:05.846Z"
   },
   {
    "duration": 5,
    "start_time": "2021-08-02T06:23:05.853Z"
   },
   {
    "duration": 5,
    "start_time": "2021-08-02T06:23:05.860Z"
   },
   {
    "duration": 40,
    "start_time": "2021-08-02T06:23:05.867Z"
   },
   {
    "duration": 7,
    "start_time": "2021-08-02T06:23:05.908Z"
   },
   {
    "duration": 30,
    "start_time": "2021-08-02T06:23:05.916Z"
   },
   {
    "duration": 329,
    "start_time": "2021-08-02T06:23:07.897Z"
   },
   {
    "duration": 7,
    "start_time": "2021-08-02T06:23:17.691Z"
   },
   {
    "duration": 6,
    "start_time": "2021-08-02T06:23:45.230Z"
   },
   {
    "duration": 6,
    "start_time": "2021-08-02T06:23:50.189Z"
   },
   {
    "duration": 19,
    "start_time": "2021-08-02T06:23:56.805Z"
   },
   {
    "duration": 7,
    "start_time": "2021-08-02T06:23:58.675Z"
   },
   {
    "duration": 7,
    "start_time": "2021-08-02T06:24:01.084Z"
   },
   {
    "duration": 38,
    "start_time": "2021-08-02T06:24:03.625Z"
   },
   {
    "duration": 4,
    "start_time": "2021-08-02T06:45:14.702Z"
   },
   {
    "duration": 479,
    "start_time": "2021-08-02T06:46:55.567Z"
   },
   {
    "duration": 558,
    "start_time": "2021-08-02T06:47:38.309Z"
   },
   {
    "duration": 273,
    "start_time": "2021-08-02T06:50:24.052Z"
   },
   {
    "duration": 102,
    "start_time": "2021-08-02T06:50:39.905Z"
   },
   {
    "duration": 3,
    "start_time": "2021-08-02T06:50:54.794Z"
   },
   {
    "duration": 112,
    "start_time": "2021-08-02T06:50:58.482Z"
   },
   {
    "duration": 3,
    "start_time": "2021-08-02T06:51:04.926Z"
   },
   {
    "duration": 244,
    "start_time": "2021-08-02T06:53:52.608Z"
   },
   {
    "duration": 215,
    "start_time": "2021-08-02T06:54:04.473Z"
   },
   {
    "duration": 261,
    "start_time": "2021-08-02T06:58:44.011Z"
   },
   {
    "duration": 237,
    "start_time": "2021-08-02T06:58:51.658Z"
   },
   {
    "duration": 2190,
    "start_time": "2021-08-02T07:03:49.071Z"
   },
   {
    "duration": 224,
    "start_time": "2021-08-02T07:07:14.714Z"
   },
   {
    "duration": 218,
    "start_time": "2021-08-02T07:07:37.838Z"
   },
   {
    "duration": 78,
    "start_time": "2021-08-02T07:07:48.246Z"
   },
   {
    "duration": 3,
    "start_time": "2021-08-02T07:07:56.142Z"
   },
   {
    "duration": 218,
    "start_time": "2021-08-02T07:08:03.677Z"
   },
   {
    "duration": 1600,
    "start_time": "2021-08-02T07:08:12.246Z"
   },
   {
    "duration": 80,
    "start_time": "2021-08-02T07:08:51.866Z"
   },
   {
    "duration": 81,
    "start_time": "2021-08-02T07:09:01.658Z"
   },
   {
    "duration": 84,
    "start_time": "2021-08-02T07:09:43.311Z"
   },
   {
    "duration": 11967,
    "start_time": "2021-08-02T07:09:59.799Z"
   },
   {
    "duration": 1741,
    "start_time": "2021-08-02T07:10:54.852Z"
   },
   {
    "duration": 2109,
    "start_time": "2021-08-02T07:12:48.984Z"
   },
   {
    "duration": 1653,
    "start_time": "2021-08-02T07:12:53.696Z"
   },
   {
    "duration": 235,
    "start_time": "2021-08-02T07:24:03.463Z"
   },
   {
    "duration": 1772,
    "start_time": "2021-08-02T07:24:13.495Z"
   },
   {
    "duration": 1794,
    "start_time": "2021-08-02T07:24:27.470Z"
   },
   {
    "duration": 78,
    "start_time": "2021-08-02T07:24:46.423Z"
   },
   {
    "duration": 2350,
    "start_time": "2021-08-02T07:24:57.338Z"
   },
   {
    "duration": 37,
    "start_time": "2021-08-02T07:26:51.168Z"
   },
   {
    "duration": 35,
    "start_time": "2021-08-02T07:28:23.697Z"
   },
   {
    "duration": 32,
    "start_time": "2021-08-02T07:28:31.664Z"
   },
   {
    "duration": 279,
    "start_time": "2021-08-02T07:28:55.352Z"
   },
   {
    "duration": 1992,
    "start_time": "2021-08-02T07:29:10.340Z"
   },
   {
    "duration": 116,
    "start_time": "2021-08-02T07:29:13.612Z"
   },
   {
    "duration": 227,
    "start_time": "2021-08-02T07:29:32.580Z"
   },
   {
    "duration": 13,
    "start_time": "2021-08-02T07:29:56.455Z"
   },
   {
    "duration": 12,
    "start_time": "2021-08-02T07:30:05.479Z"
   },
   {
    "duration": 40,
    "start_time": "2021-08-02T07:31:21.612Z"
   },
   {
    "duration": 11,
    "start_time": "2021-08-02T07:32:43.092Z"
   },
   {
    "duration": 105,
    "start_time": "2021-08-02T07:33:12.155Z"
   },
   {
    "duration": 157,
    "start_time": "2021-08-02T08:19:43.705Z"
   },
   {
    "duration": 1890,
    "start_time": "2021-08-02T08:24:34.505Z"
   },
   {
    "duration": 40,
    "start_time": "2021-08-02T08:24:44.001Z"
   },
   {
    "duration": 295,
    "start_time": "2021-08-02T08:24:46.278Z"
   },
   {
    "duration": 103,
    "start_time": "2021-08-02T08:25:26.747Z"
   },
   {
    "duration": 3730,
    "start_time": "2021-08-03T07:40:47.406Z"
   },
   {
    "duration": 115,
    "start_time": "2021-08-03T07:40:51.139Z"
   },
   {
    "duration": 11,
    "start_time": "2021-08-03T07:40:51.258Z"
   },
   {
    "duration": 4,
    "start_time": "2021-08-03T07:40:51.270Z"
   },
   {
    "duration": 24,
    "start_time": "2021-08-03T07:40:51.276Z"
   },
   {
    "duration": 15,
    "start_time": "2021-08-03T07:40:51.302Z"
   },
   {
    "duration": 9,
    "start_time": "2021-08-03T07:40:51.318Z"
   },
   {
    "duration": 83,
    "start_time": "2021-08-03T07:40:51.329Z"
   },
   {
    "duration": 57,
    "start_time": "2021-08-03T07:40:51.414Z"
   },
   {
    "duration": 67,
    "start_time": "2021-08-03T07:40:51.472Z"
   },
   {
    "duration": 4,
    "start_time": "2021-08-03T07:40:51.540Z"
   },
   {
    "duration": 8,
    "start_time": "2021-08-03T07:40:51.546Z"
   },
   {
    "duration": 4,
    "start_time": "2021-08-03T07:40:51.556Z"
   },
   {
    "duration": 5,
    "start_time": "2021-08-03T07:40:51.562Z"
   },
   {
    "duration": 24,
    "start_time": "2021-08-03T07:40:51.569Z"
   },
   {
    "duration": 4,
    "start_time": "2021-08-03T07:40:51.595Z"
   },
   {
    "duration": 360,
    "start_time": "2021-08-03T07:40:51.600Z"
   },
   {
    "duration": 4,
    "start_time": "2021-08-03T07:40:51.962Z"
   },
   {
    "duration": 5,
    "start_time": "2021-08-03T07:40:51.968Z"
   },
   {
    "duration": 17,
    "start_time": "2021-08-03T07:40:51.975Z"
   },
   {
    "duration": 16,
    "start_time": "2021-08-03T07:40:51.993Z"
   },
   {
    "duration": 27,
    "start_time": "2021-08-03T07:40:52.010Z"
   },
   {
    "duration": 32,
    "start_time": "2021-08-03T07:40:52.038Z"
   },
   {
    "duration": 500,
    "start_time": "2021-08-03T07:40:52.072Z"
   },
   {
    "duration": 410,
    "start_time": "2021-08-03T07:40:52.574Z"
   },
   {
    "duration": 5769,
    "start_time": "2021-08-03T08:03:36.568Z"
   },
   {
    "duration": 3321,
    "start_time": "2021-08-03T08:03:55.207Z"
   },
   {
    "duration": 113,
    "start_time": "2021-08-03T08:03:58.530Z"
   },
   {
    "duration": 11,
    "start_time": "2021-08-03T08:03:58.645Z"
   },
   {
    "duration": 4,
    "start_time": "2021-08-03T08:03:58.658Z"
   },
   {
    "duration": 28,
    "start_time": "2021-08-03T08:03:58.663Z"
   },
   {
    "duration": 16,
    "start_time": "2021-08-03T08:03:58.693Z"
   },
   {
    "duration": 9,
    "start_time": "2021-08-03T08:03:58.711Z"
   },
   {
    "duration": 79,
    "start_time": "2021-08-03T08:03:58.722Z"
   },
   {
    "duration": 59,
    "start_time": "2021-08-03T08:03:58.803Z"
   },
   {
    "duration": 66,
    "start_time": "2021-08-03T08:03:58.864Z"
   },
   {
    "duration": 4,
    "start_time": "2021-08-03T08:03:58.932Z"
   },
   {
    "duration": 9,
    "start_time": "2021-08-03T08:03:58.938Z"
   },
   {
    "duration": 5,
    "start_time": "2021-08-03T08:03:58.948Z"
   },
   {
    "duration": 8,
    "start_time": "2021-08-03T08:03:58.954Z"
   },
   {
    "duration": 7,
    "start_time": "2021-08-03T08:03:58.963Z"
   },
   {
    "duration": 5,
    "start_time": "2021-08-03T08:03:58.991Z"
   },
   {
    "duration": 346,
    "start_time": "2021-08-03T08:03:58.997Z"
   },
   {
    "duration": 4,
    "start_time": "2021-08-03T08:03:59.345Z"
   },
   {
    "duration": 9,
    "start_time": "2021-08-03T08:03:59.351Z"
   },
   {
    "duration": 5,
    "start_time": "2021-08-03T08:03:59.362Z"
   },
   {
    "duration": 28,
    "start_time": "2021-08-03T08:03:59.368Z"
   },
   {
    "duration": 27,
    "start_time": "2021-08-03T08:03:59.397Z"
   },
   {
    "duration": 36,
    "start_time": "2021-08-03T08:03:59.427Z"
   },
   {
    "duration": 542,
    "start_time": "2021-08-03T08:03:59.465Z"
   },
   {
    "duration": 434,
    "start_time": "2021-08-03T08:04:29.690Z"
   },
   {
    "duration": 3310,
    "start_time": "2021-08-03T08:11:09.030Z"
   },
   {
    "duration": 116,
    "start_time": "2021-08-03T08:11:12.342Z"
   },
   {
    "duration": 11,
    "start_time": "2021-08-03T08:11:12.462Z"
   },
   {
    "duration": 23,
    "start_time": "2021-08-03T08:11:12.474Z"
   },
   {
    "duration": 23,
    "start_time": "2021-08-03T08:11:12.499Z"
   },
   {
    "duration": 21,
    "start_time": "2021-08-03T08:11:12.524Z"
   },
   {
    "duration": 8,
    "start_time": "2021-08-03T08:11:12.548Z"
   },
   {
    "duration": 79,
    "start_time": "2021-08-03T08:11:12.558Z"
   },
   {
    "duration": 62,
    "start_time": "2021-08-03T08:11:12.639Z"
   },
   {
    "duration": 52,
    "start_time": "2021-08-03T08:11:12.702Z"
   },
   {
    "duration": 4,
    "start_time": "2021-08-03T08:11:12.756Z"
   },
   {
    "duration": 15,
    "start_time": "2021-08-03T08:11:12.761Z"
   },
   {
    "duration": 5,
    "start_time": "2021-08-03T08:11:12.791Z"
   },
   {
    "duration": 16,
    "start_time": "2021-08-03T08:11:12.797Z"
   },
   {
    "duration": 7,
    "start_time": "2021-08-03T08:11:12.815Z"
   },
   {
    "duration": 14,
    "start_time": "2021-08-03T08:11:12.824Z"
   },
   {
    "duration": 354,
    "start_time": "2021-08-03T08:11:12.839Z"
   },
   {
    "duration": 5,
    "start_time": "2021-08-03T08:11:13.195Z"
   },
   {
    "duration": 13,
    "start_time": "2021-08-03T08:11:13.201Z"
   },
   {
    "duration": 11,
    "start_time": "2021-08-03T08:11:13.216Z"
   },
   {
    "duration": 38,
    "start_time": "2021-08-03T08:11:13.229Z"
   },
   {
    "duration": 28,
    "start_time": "2021-08-03T08:11:13.270Z"
   },
   {
    "duration": 33,
    "start_time": "2021-08-03T08:11:13.300Z"
   },
   {
    "duration": 585,
    "start_time": "2021-08-03T08:11:13.335Z"
   },
   {
    "duration": 976,
    "start_time": "2021-08-03T08:38:45.737Z"
   },
   {
    "duration": 391,
    "start_time": "2021-08-03T08:39:05.196Z"
   },
   {
    "duration": 413,
    "start_time": "2021-08-03T08:39:34.740Z"
   },
   {
    "duration": 338,
    "start_time": "2021-08-03T08:47:23.299Z"
   },
   {
    "duration": 7,
    "start_time": "2021-08-03T08:52:24.205Z"
   },
   {
    "duration": 11,
    "start_time": "2021-08-03T09:20:48.406Z"
   },
   {
    "duration": 78,
    "start_time": "2021-08-03T09:21:06.027Z"
   },
   {
    "duration": 52,
    "start_time": "2021-08-03T09:21:14.100Z"
   },
   {
    "duration": 38,
    "start_time": "2021-08-03T09:21:25.418Z"
   },
   {
    "duration": 30,
    "start_time": "2021-08-03T12:51:04.680Z"
   },
   {
    "duration": 36,
    "start_time": "2021-08-03T13:31:34.388Z"
   },
   {
    "duration": 14,
    "start_time": "2021-08-03T13:33:09.736Z"
   },
   {
    "duration": 234,
    "start_time": "2021-08-03T13:33:44.501Z"
   },
   {
    "duration": 10,
    "start_time": "2021-08-03T13:35:26.683Z"
   },
   {
    "duration": 10,
    "start_time": "2021-08-03T13:35:37.489Z"
   },
   {
    "duration": 10,
    "start_time": "2021-08-03T13:35:42.055Z"
   },
   {
    "duration": 46,
    "start_time": "2021-08-03T13:37:05.147Z"
   },
   {
    "duration": 10,
    "start_time": "2021-08-03T13:37:24.395Z"
   },
   {
    "duration": 46,
    "start_time": "2021-08-03T13:38:16.575Z"
   },
   {
    "duration": 12,
    "start_time": "2021-08-03T13:38:21.231Z"
   },
   {
    "duration": 12,
    "start_time": "2021-08-03T13:38:38.519Z"
   },
   {
    "duration": 3942,
    "start_time": "2021-08-03T20:15:54.293Z"
   },
   {
    "duration": 126,
    "start_time": "2021-08-03T20:15:58.237Z"
   },
   {
    "duration": 12,
    "start_time": "2021-08-03T20:15:58.365Z"
   },
   {
    "duration": 2,
    "start_time": "2021-08-03T20:15:58.379Z"
   },
   {
    "duration": 16,
    "start_time": "2021-08-03T20:15:58.383Z"
   },
   {
    "duration": 41,
    "start_time": "2021-08-03T20:15:58.401Z"
   },
   {
    "duration": 11,
    "start_time": "2021-08-03T20:15:58.445Z"
   },
   {
    "duration": 104,
    "start_time": "2021-08-03T20:15:58.459Z"
   },
   {
    "duration": 59,
    "start_time": "2021-08-03T20:15:58.566Z"
   },
   {
    "duration": 74,
    "start_time": "2021-08-03T20:15:58.627Z"
   },
   {
    "duration": 5,
    "start_time": "2021-08-03T20:15:58.703Z"
   },
   {
    "duration": 18,
    "start_time": "2021-08-03T20:15:58.710Z"
   },
   {
    "duration": 26,
    "start_time": "2021-08-03T20:15:58.730Z"
   },
   {
    "duration": 8,
    "start_time": "2021-08-03T20:15:58.758Z"
   },
   {
    "duration": 13,
    "start_time": "2021-08-03T20:15:58.767Z"
   },
   {
    "duration": 11,
    "start_time": "2021-08-03T20:15:58.781Z"
   },
   {
    "duration": 403,
    "start_time": "2021-08-03T20:15:58.794Z"
   },
   {
    "duration": 5,
    "start_time": "2021-08-03T20:15:59.198Z"
   },
   {
    "duration": 13,
    "start_time": "2021-08-03T20:15:59.204Z"
   },
   {
    "duration": 7,
    "start_time": "2021-08-03T20:15:59.218Z"
   },
   {
    "duration": 31,
    "start_time": "2021-08-03T20:15:59.227Z"
   },
   {
    "duration": 27,
    "start_time": "2021-08-03T20:15:59.260Z"
   },
   {
    "duration": 6,
    "start_time": "2021-08-03T20:15:59.289Z"
   },
   {
    "duration": 54,
    "start_time": "2021-08-03T20:15:59.297Z"
   },
   {
    "duration": 533,
    "start_time": "2021-08-03T20:15:59.355Z"
   },
   {
    "duration": 66,
    "start_time": "2021-08-03T20:15:59.890Z"
   },
   {
    "duration": 103,
    "start_time": "2021-08-03T20:15:59.958Z"
   },
   {
    "duration": 13,
    "start_time": "2021-08-03T20:16:00.063Z"
   },
   {
    "duration": 435,
    "start_time": "2021-08-03T20:17:03.161Z"
   },
   {
    "duration": 456,
    "start_time": "2021-08-03T20:17:28.216Z"
   },
   {
    "duration": 20,
    "start_time": "2021-08-03T20:17:36.357Z"
   },
   {
    "duration": 34,
    "start_time": "2021-08-03T20:17:43.277Z"
   },
   {
    "duration": 30,
    "start_time": "2021-08-03T20:18:01.262Z"
   },
   {
    "duration": 39,
    "start_time": "2021-08-03T20:18:05.845Z"
   },
   {
    "duration": 15,
    "start_time": "2021-08-03T20:18:44.627Z"
   },
   {
    "duration": 41,
    "start_time": "2021-08-03T20:18:47.203Z"
   },
   {
    "duration": 8,
    "start_time": "2021-08-03T20:18:49.934Z"
   },
   {
    "duration": 83,
    "start_time": "2021-08-03T20:19:05.798Z"
   },
   {
    "duration": 5,
    "start_time": "2021-08-03T20:19:14.105Z"
   },
   {
    "duration": 7,
    "start_time": "2021-08-03T20:19:21.163Z"
   },
   {
    "duration": 12,
    "start_time": "2021-08-03T20:19:31.838Z"
   },
   {
    "duration": 225,
    "start_time": "2021-08-03T20:19:58.070Z"
   },
   {
    "duration": 315,
    "start_time": "2021-08-03T20:55:29.673Z"
   },
   {
    "duration": 216,
    "start_time": "2021-08-03T20:58:25.495Z"
   },
   {
    "duration": 7,
    "start_time": "2021-08-03T20:58:30.766Z"
   },
   {
    "duration": 471,
    "start_time": "2021-08-03T21:14:28.142Z"
   },
   {
    "duration": 460,
    "start_time": "2021-08-03T21:14:43.399Z"
   },
   {
    "duration": 566,
    "start_time": "2021-08-03T21:14:49.919Z"
   },
   {
    "duration": 488,
    "start_time": "2021-08-03T21:15:03.375Z"
   },
   {
    "duration": 203,
    "start_time": "2021-08-03T21:15:08.478Z"
   },
   {
    "duration": 285,
    "start_time": "2021-08-03T21:17:24.416Z"
   },
   {
    "duration": 250,
    "start_time": "2021-08-03T21:17:41.151Z"
   },
   {
    "duration": 6,
    "start_time": "2021-08-03T21:17:49.475Z"
   },
   {
    "duration": 6,
    "start_time": "2021-08-03T21:18:01.827Z"
   },
   {
    "duration": 6,
    "start_time": "2021-08-03T21:18:20.371Z"
   },
   {
    "duration": 194,
    "start_time": "2021-08-03T21:18:33.755Z"
   },
   {
    "duration": 7,
    "start_time": "2021-08-03T21:18:35.868Z"
   },
   {
    "duration": 250,
    "start_time": "2021-08-03T21:19:13.816Z"
   },
   {
    "duration": 963,
    "start_time": "2021-08-03T21:21:45.899Z"
   },
   {
    "duration": 4,
    "start_time": "2021-08-03T21:22:06.811Z"
   },
   {
    "duration": 17,
    "start_time": "2021-08-03T21:22:19.125Z"
   },
   {
    "duration": 10,
    "start_time": "2021-08-03T21:22:39.278Z"
   },
   {
    "duration": 2318,
    "start_time": "2021-08-03T21:55:41.069Z"
   },
   {
    "duration": 6828,
    "start_time": "2021-08-03T21:58:12.841Z"
   },
   {
    "duration": 8,
    "start_time": "2021-08-03T21:58:32.322Z"
   },
   {
    "duration": 6,
    "start_time": "2021-08-03T21:58:41.786Z"
   },
   {
    "duration": 6,
    "start_time": "2021-08-03T21:59:02.072Z"
   },
   {
    "duration": 6,
    "start_time": "2021-08-03T21:59:07.528Z"
   },
   {
    "duration": 238,
    "start_time": "2021-08-03T21:59:46.818Z"
   },
   {
    "duration": 3,
    "start_time": "2021-08-03T22:01:41.158Z"
   },
   {
    "duration": 4,
    "start_time": "2021-08-03T22:01:54.271Z"
   },
   {
    "duration": 7,
    "start_time": "2021-08-03T22:04:37.345Z"
   },
   {
    "duration": 4,
    "start_time": "2021-08-03T22:04:43.221Z"
   },
   {
    "duration": 3,
    "start_time": "2021-08-03T22:17:29.285Z"
   },
   {
    "duration": 271,
    "start_time": "2021-08-03T22:30:45.560Z"
   },
   {
    "duration": 2189,
    "start_time": "2021-08-03T22:31:16.015Z"
   },
   {
    "duration": 7,
    "start_time": "2021-08-03T22:31:23.803Z"
   },
   {
    "duration": 6,
    "start_time": "2021-08-03T22:57:41.448Z"
   },
   {
    "duration": 12,
    "start_time": "2021-08-03T22:57:46.831Z"
   },
   {
    "duration": 2,
    "start_time": "2021-08-03T22:58:30.572Z"
   },
   {
    "duration": 4,
    "start_time": "2021-08-03T22:58:40.508Z"
   },
   {
    "duration": 5,
    "start_time": "2021-08-03T22:58:49.348Z"
   },
   {
    "duration": 5,
    "start_time": "2021-08-03T22:59:01.340Z"
   },
   {
    "duration": 5,
    "start_time": "2021-08-03T23:01:26.725Z"
   },
   {
    "duration": 5,
    "start_time": "2021-08-03T23:01:38.372Z"
   },
   {
    "duration": 5,
    "start_time": "2021-08-03T23:03:09.350Z"
   },
   {
    "duration": 6,
    "start_time": "2021-08-03T23:06:01.952Z"
   },
   {
    "duration": 4,
    "start_time": "2021-08-03T23:18:08.781Z"
   },
   {
    "duration": 11,
    "start_time": "2021-08-03T23:20:19.236Z"
   },
   {
    "duration": 5,
    "start_time": "2021-08-03T23:21:32.382Z"
   },
   {
    "duration": 5,
    "start_time": "2021-08-03T23:21:55.058Z"
   },
   {
    "duration": 121,
    "start_time": "2021-08-03T23:43:38.323Z"
   },
   {
    "duration": 14,
    "start_time": "2021-08-03T23:46:00.649Z"
   },
   {
    "duration": 18,
    "start_time": "2021-08-03T23:46:18.242Z"
   },
   {
    "duration": 8,
    "start_time": "2021-08-03T23:46:46.869Z"
   },
   {
    "duration": 8,
    "start_time": "2021-08-03T23:46:48.749Z"
   },
   {
    "duration": 3,
    "start_time": "2021-08-03T23:51:14.824Z"
   },
   {
    "duration": 8,
    "start_time": "2021-08-03T23:57:26.357Z"
   },
   {
    "duration": 7,
    "start_time": "2021-08-03T23:57:52.446Z"
   },
   {
    "duration": 270,
    "start_time": "2021-08-04T00:00:38.125Z"
   },
   {
    "duration": 310,
    "start_time": "2021-08-04T00:00:47.121Z"
   },
   {
    "duration": 3,
    "start_time": "2021-08-04T00:01:04.774Z"
   },
   {
    "duration": 4,
    "start_time": "2021-08-04T00:01:17.282Z"
   },
   {
    "duration": 4,
    "start_time": "2021-08-04T00:01:29.687Z"
   },
   {
    "duration": 6,
    "start_time": "2021-08-04T00:01:50.805Z"
   },
   {
    "duration": 6,
    "start_time": "2021-08-04T00:03:12.801Z"
   },
   {
    "duration": 5191,
    "start_time": "2021-08-04T10:43:08.510Z"
   },
   {
    "duration": 151,
    "start_time": "2021-08-04T10:43:13.703Z"
   },
   {
    "duration": 16,
    "start_time": "2021-08-04T10:43:13.856Z"
   },
   {
    "duration": 8,
    "start_time": "2021-08-04T10:43:13.874Z"
   },
   {
    "duration": 18,
    "start_time": "2021-08-04T10:43:13.885Z"
   },
   {
    "duration": 22,
    "start_time": "2021-08-04T10:43:13.906Z"
   },
   {
    "duration": 11,
    "start_time": "2021-08-04T10:43:13.930Z"
   },
   {
    "duration": 143,
    "start_time": "2021-08-04T10:43:13.943Z"
   },
   {
    "duration": 81,
    "start_time": "2021-08-04T10:43:14.090Z"
   },
   {
    "duration": 72,
    "start_time": "2021-08-04T10:43:14.181Z"
   },
   {
    "duration": 6,
    "start_time": "2021-08-04T10:43:14.255Z"
   },
   {
    "duration": 8,
    "start_time": "2021-08-04T10:43:14.283Z"
   },
   {
    "duration": 6,
    "start_time": "2021-08-04T10:43:14.294Z"
   },
   {
    "duration": 7,
    "start_time": "2021-08-04T10:43:14.303Z"
   },
   {
    "duration": 6,
    "start_time": "2021-08-04T10:43:14.313Z"
   },
   {
    "duration": 7,
    "start_time": "2021-08-04T10:43:14.322Z"
   },
   {
    "duration": 675,
    "start_time": "2021-08-04T10:43:14.331Z"
   },
   {
    "duration": 6,
    "start_time": "2021-08-04T10:43:15.008Z"
   },
   {
    "duration": 23,
    "start_time": "2021-08-04T10:43:15.016Z"
   },
   {
    "duration": 9,
    "start_time": "2021-08-04T10:43:15.041Z"
   },
   {
    "duration": 35,
    "start_time": "2021-08-04T10:43:15.053Z"
   },
   {
    "duration": 36,
    "start_time": "2021-08-04T10:43:15.090Z"
   },
   {
    "duration": 10,
    "start_time": "2021-08-04T10:43:15.128Z"
   },
   {
    "duration": 74,
    "start_time": "2021-08-04T10:43:15.140Z"
   },
   {
    "duration": 20,
    "start_time": "2021-08-04T10:43:15.217Z"
   },
   {
    "duration": 732,
    "start_time": "2021-08-04T10:43:15.239Z"
   },
   {
    "duration": 35,
    "start_time": "2021-08-04T10:43:15.986Z"
   },
   {
    "duration": 106,
    "start_time": "2021-08-04T10:43:16.024Z"
   },
   {
    "duration": 22,
    "start_time": "2021-08-04T10:43:16.184Z"
   },
   {
    "duration": 306,
    "start_time": "2021-08-04T10:43:16.208Z"
   },
   {
    "duration": 4,
    "start_time": "2021-08-04T10:43:16.516Z"
   },
   {
    "duration": 16,
    "start_time": "2021-08-04T10:43:16.522Z"
   },
   {
    "duration": 8,
    "start_time": "2021-08-04T10:43:16.541Z"
   },
   {
    "duration": 31,
    "start_time": "2021-08-04T10:43:16.551Z"
   },
   {
    "duration": 18,
    "start_time": "2021-08-04T10:43:16.585Z"
   },
   {
    "duration": 14,
    "start_time": "2021-08-04T10:43:16.605Z"
   },
   {
    "duration": 10,
    "start_time": "2021-08-04T10:43:16.621Z"
   },
   {
    "duration": 12,
    "start_time": "2021-08-04T10:43:16.633Z"
   },
   {
    "duration": 9,
    "start_time": "2021-08-04T10:43:16.684Z"
   },
   {
    "duration": 13,
    "start_time": "2021-08-04T10:43:16.695Z"
   },
   {
    "duration": 236,
    "start_time": "2021-08-04T11:56:20.696Z"
   },
   {
    "duration": 165,
    "start_time": "2021-08-04T11:57:22.147Z"
   },
   {
    "duration": 111,
    "start_time": "2021-08-04T12:23:25.742Z"
   },
   {
    "duration": 7,
    "start_time": "2021-08-04T12:23:29.484Z"
   },
   {
    "duration": 5746,
    "start_time": "2021-08-04T12:23:57.737Z"
   },
   {
    "duration": 152,
    "start_time": "2021-08-04T12:24:03.486Z"
   },
   {
    "duration": 16,
    "start_time": "2021-08-04T12:24:03.642Z"
   },
   {
    "duration": 5,
    "start_time": "2021-08-04T12:24:03.661Z"
   },
   {
    "duration": 20,
    "start_time": "2021-08-04T12:24:03.683Z"
   },
   {
    "duration": 23,
    "start_time": "2021-08-04T12:24:03.706Z"
   },
   {
    "duration": 11,
    "start_time": "2021-08-04T12:24:03.731Z"
   },
   {
    "duration": 135,
    "start_time": "2021-08-04T12:24:03.747Z"
   },
   {
    "duration": 78,
    "start_time": "2021-08-04T12:24:03.885Z"
   },
   {
    "duration": 84,
    "start_time": "2021-08-04T12:24:03.965Z"
   },
   {
    "duration": 6,
    "start_time": "2021-08-04T12:24:04.051Z"
   },
   {
    "duration": 26,
    "start_time": "2021-08-04T12:24:04.059Z"
   },
   {
    "duration": 7,
    "start_time": "2021-08-04T12:24:04.088Z"
   },
   {
    "duration": 9,
    "start_time": "2021-08-04T12:24:04.098Z"
   },
   {
    "duration": 6,
    "start_time": "2021-08-04T12:24:04.110Z"
   },
   {
    "duration": 6,
    "start_time": "2021-08-04T12:24:04.118Z"
   },
   {
    "duration": 659,
    "start_time": "2021-08-04T12:24:04.126Z"
   },
   {
    "duration": 6,
    "start_time": "2021-08-04T12:24:04.787Z"
   },
   {
    "duration": 6,
    "start_time": "2021-08-04T12:24:04.795Z"
   },
   {
    "duration": 8,
    "start_time": "2021-08-04T12:24:04.803Z"
   },
   {
    "duration": 23,
    "start_time": "2021-08-04T12:24:04.813Z"
   },
   {
    "duration": 71,
    "start_time": "2021-08-04T12:24:04.838Z"
   },
   {
    "duration": 10,
    "start_time": "2021-08-04T12:24:04.914Z"
   },
   {
    "duration": 77,
    "start_time": "2021-08-04T12:24:04.926Z"
   },
   {
    "duration": 19,
    "start_time": "2021-08-04T12:24:05.005Z"
   },
   {
    "duration": 696,
    "start_time": "2021-08-04T12:24:05.027Z"
   },
   {
    "duration": 79,
    "start_time": "2021-08-04T12:24:05.725Z"
   },
   {
    "duration": 114,
    "start_time": "2021-08-04T12:24:05.807Z"
   },
   {
    "duration": 74,
    "start_time": "2021-08-04T12:24:05.924Z"
   },
   {
    "duration": 364,
    "start_time": "2021-08-04T12:24:06.000Z"
   },
   {
    "duration": 4,
    "start_time": "2021-08-04T12:24:06.367Z"
   },
   {
    "duration": 16,
    "start_time": "2021-08-04T12:24:06.382Z"
   },
   {
    "duration": 9,
    "start_time": "2021-08-04T12:24:06.401Z"
   },
   {
    "duration": 18,
    "start_time": "2021-08-04T12:24:06.413Z"
   },
   {
    "duration": 623,
    "start_time": "2021-08-04T12:24:06.433Z"
   },
   {
    "duration": -1800,
    "start_time": "2021-08-04T12:24:08.859Z"
   },
   {
    "duration": -1813,
    "start_time": "2021-08-04T12:24:08.873Z"
   },
   {
    "duration": -1815,
    "start_time": "2021-08-04T12:24:08.876Z"
   },
   {
    "duration": -1825,
    "start_time": "2021-08-04T12:24:08.888Z"
   },
   {
    "duration": -1830,
    "start_time": "2021-08-04T12:24:08.894Z"
   },
   {
    "duration": 7,
    "start_time": "2021-08-04T12:24:17.624Z"
   },
   {
    "duration": 7,
    "start_time": "2021-08-04T12:24:19.519Z"
   },
   {
    "duration": 8,
    "start_time": "2021-08-04T12:24:24.167Z"
   },
   {
    "duration": 7,
    "start_time": "2021-08-04T12:24:28.830Z"
   },
   {
    "duration": 4,
    "start_time": "2021-08-04T12:24:35.436Z"
   },
   {
    "duration": 9,
    "start_time": "2021-08-04T12:24:39.000Z"
   },
   {
    "duration": 111,
    "start_time": "2021-08-04T12:27:09.314Z"
   },
   {
    "duration": 8,
    "start_time": "2021-08-04T12:27:11.472Z"
   },
   {
    "duration": 7,
    "start_time": "2021-08-04T12:27:15.208Z"
   },
   {
    "duration": 8,
    "start_time": "2021-08-04T12:27:18.981Z"
   },
   {
    "duration": 5,
    "start_time": "2021-08-04T12:27:20.841Z"
   },
   {
    "duration": 8,
    "start_time": "2021-08-04T12:27:21.731Z"
   },
   {
    "duration": 12,
    "start_time": "2021-08-04T12:27:28.475Z"
   },
   {
    "duration": 7,
    "start_time": "2021-08-04T12:27:30.359Z"
   },
   {
    "duration": 7,
    "start_time": "2021-08-04T12:27:31.522Z"
   },
   {
    "duration": 8,
    "start_time": "2021-08-04T12:27:32.577Z"
   },
   {
    "duration": 5,
    "start_time": "2021-08-04T12:27:33.500Z"
   },
   {
    "duration": 8,
    "start_time": "2021-08-04T12:27:33.981Z"
   },
   {
    "duration": 3376,
    "start_time": "2021-08-04T13:34:39.964Z"
   },
   {
    "duration": 5,
    "start_time": "2021-08-04T13:35:19.400Z"
   },
   {
    "duration": 5,
    "start_time": "2021-08-04T13:35:36.194Z"
   },
   {
    "duration": 6,
    "start_time": "2021-08-04T13:35:43.809Z"
   },
   {
    "duration": 6,
    "start_time": "2021-08-04T13:36:07.037Z"
   },
   {
    "duration": 6,
    "start_time": "2021-08-04T13:36:15.414Z"
   },
   {
    "duration": 4,
    "start_time": "2021-08-04T13:39:40.851Z"
   },
   {
    "duration": 6,
    "start_time": "2021-08-04T13:39:47.907Z"
   },
   {
    "duration": 4,
    "start_time": "2021-08-04T13:44:30.318Z"
   },
   {
    "duration": 6,
    "start_time": "2021-08-04T13:49:49.401Z"
   },
   {
    "duration": 7,
    "start_time": "2021-08-04T13:50:17.733Z"
   },
   {
    "duration": 142,
    "start_time": "2021-08-04T13:50:42.829Z"
   },
   {
    "duration": 5,
    "start_time": "2021-08-04T13:51:07.393Z"
   },
   {
    "duration": 6,
    "start_time": "2021-08-04T13:52:37.167Z"
   },
   {
    "duration": 5,
    "start_time": "2021-08-04T13:53:56.375Z"
   },
   {
    "duration": 108,
    "start_time": "2021-08-04T13:54:07.994Z"
   },
   {
    "duration": 5,
    "start_time": "2021-08-04T13:54:47.887Z"
   },
   {
    "duration": 5,
    "start_time": "2021-08-04T13:55:44.414Z"
   },
   {
    "duration": 4909,
    "start_time": "2021-08-04T14:16:56.730Z"
   },
   {
    "duration": 168,
    "start_time": "2021-08-04T14:17:01.643Z"
   },
   {
    "duration": 17,
    "start_time": "2021-08-04T14:17:01.818Z"
   },
   {
    "duration": 7,
    "start_time": "2021-08-04T14:17:01.837Z"
   },
   {
    "duration": 50,
    "start_time": "2021-08-04T14:17:01.847Z"
   },
   {
    "duration": 23,
    "start_time": "2021-08-04T14:17:01.900Z"
   },
   {
    "duration": 10,
    "start_time": "2021-08-04T14:17:01.928Z"
   },
   {
    "duration": 127,
    "start_time": "2021-08-04T14:17:01.941Z"
   },
   {
    "duration": 92,
    "start_time": "2021-08-04T14:17:02.070Z"
   },
   {
    "duration": 81,
    "start_time": "2021-08-04T14:17:02.164Z"
   },
   {
    "duration": 5,
    "start_time": "2021-08-04T14:17:02.248Z"
   },
   {
    "duration": 29,
    "start_time": "2021-08-04T14:17:02.255Z"
   },
   {
    "duration": 13,
    "start_time": "2021-08-04T14:17:02.287Z"
   },
   {
    "duration": 13,
    "start_time": "2021-08-04T14:17:02.303Z"
   },
   {
    "duration": 17,
    "start_time": "2021-08-04T14:17:02.319Z"
   },
   {
    "duration": 8,
    "start_time": "2021-08-04T14:17:02.339Z"
   },
   {
    "duration": 665,
    "start_time": "2021-08-04T14:17:02.350Z"
   },
   {
    "duration": 5,
    "start_time": "2021-08-04T14:17:03.017Z"
   },
   {
    "duration": 14,
    "start_time": "2021-08-04T14:17:03.025Z"
   },
   {
    "duration": 19,
    "start_time": "2021-08-04T14:17:03.041Z"
   },
   {
    "duration": 35,
    "start_time": "2021-08-04T14:17:03.062Z"
   },
   {
    "duration": 35,
    "start_time": "2021-08-04T14:17:03.102Z"
   },
   {
    "duration": 9,
    "start_time": "2021-08-04T14:17:03.140Z"
   },
   {
    "duration": 71,
    "start_time": "2021-08-04T14:17:03.152Z"
   },
   {
    "duration": 18,
    "start_time": "2021-08-04T14:17:03.226Z"
   },
   {
    "duration": 713,
    "start_time": "2021-08-04T14:17:03.247Z"
   },
   {
    "duration": 53,
    "start_time": "2021-08-04T14:17:03.962Z"
   },
   {
    "duration": 112,
    "start_time": "2021-08-04T14:17:04.017Z"
   },
   {
    "duration": 23,
    "start_time": "2021-08-04T14:17:04.183Z"
   },
   {
    "duration": 334,
    "start_time": "2021-08-04T14:17:04.210Z"
   },
   {
    "duration": 4,
    "start_time": "2021-08-04T14:17:04.547Z"
   },
   {
    "duration": 21,
    "start_time": "2021-08-04T14:17:04.553Z"
   },
   {
    "duration": 55,
    "start_time": "2021-08-04T14:17:04.576Z"
   },
   {
    "duration": 15,
    "start_time": "2021-08-04T14:17:04.633Z"
   },
   {
    "duration": 19,
    "start_time": "2021-08-04T14:17:04.651Z"
   },
   {
    "duration": 15,
    "start_time": "2021-08-04T14:17:04.672Z"
   },
   {
    "duration": 12,
    "start_time": "2021-08-04T14:17:04.689Z"
   },
   {
    "duration": 9,
    "start_time": "2021-08-04T14:17:04.703Z"
   },
   {
    "duration": 13,
    "start_time": "2021-08-04T14:17:04.714Z"
   },
   {
    "duration": 10,
    "start_time": "2021-08-04T14:17:04.729Z"
   },
   {
    "duration": 109,
    "start_time": "2021-08-04T14:17:04.741Z"
   },
   {
    "duration": 13,
    "start_time": "2021-08-04T14:17:04.852Z"
   },
   {
    "duration": 9,
    "start_time": "2021-08-04T14:17:04.868Z"
   },
   {
    "duration": 8,
    "start_time": "2021-08-04T14:17:04.880Z"
   },
   {
    "duration": 4995,
    "start_time": "2021-08-04T14:21:13.722Z"
   },
   {
    "duration": 151,
    "start_time": "2021-08-04T14:21:18.720Z"
   },
   {
    "duration": 16,
    "start_time": "2021-08-04T14:21:18.877Z"
   },
   {
    "duration": 6,
    "start_time": "2021-08-04T14:21:18.895Z"
   },
   {
    "duration": 23,
    "start_time": "2021-08-04T14:21:18.903Z"
   },
   {
    "duration": 54,
    "start_time": "2021-08-04T14:21:18.928Z"
   },
   {
    "duration": 10,
    "start_time": "2021-08-04T14:21:18.986Z"
   },
   {
    "duration": 112,
    "start_time": "2021-08-04T14:21:18.999Z"
   },
   {
    "duration": 95,
    "start_time": "2021-08-04T14:21:19.114Z"
   },
   {
    "duration": 78,
    "start_time": "2021-08-04T14:21:19.211Z"
   },
   {
    "duration": 6,
    "start_time": "2021-08-04T14:21:19.291Z"
   },
   {
    "duration": 11,
    "start_time": "2021-08-04T14:21:19.299Z"
   },
   {
    "duration": 9,
    "start_time": "2021-08-04T14:21:19.312Z"
   },
   {
    "duration": 9,
    "start_time": "2021-08-04T14:21:19.323Z"
   },
   {
    "duration": 6,
    "start_time": "2021-08-04T14:21:19.334Z"
   },
   {
    "duration": 45,
    "start_time": "2021-08-04T14:21:19.342Z"
   },
   {
    "duration": 666,
    "start_time": "2021-08-04T14:21:19.390Z"
   },
   {
    "duration": 7,
    "start_time": "2021-08-04T14:21:20.058Z"
   },
   {
    "duration": 24,
    "start_time": "2021-08-04T14:21:20.067Z"
   },
   {
    "duration": 11,
    "start_time": "2021-08-04T14:21:20.094Z"
   },
   {
    "duration": 27,
    "start_time": "2021-08-04T14:21:20.107Z"
   },
   {
    "duration": 53,
    "start_time": "2021-08-04T14:21:20.139Z"
   },
   {
    "duration": 10,
    "start_time": "2021-08-04T14:21:20.195Z"
   },
   {
    "duration": 50,
    "start_time": "2021-08-04T14:21:20.207Z"
   },
   {
    "duration": 39,
    "start_time": "2021-08-04T14:21:20.259Z"
   },
   {
    "duration": 547,
    "start_time": "2021-08-04T14:21:20.300Z"
   },
   {
    "duration": 508,
    "start_time": "2021-08-04T14:21:20.342Z"
   },
   {
    "duration": 505,
    "start_time": "2021-08-04T14:21:20.347Z"
   },
   {
    "duration": 498,
    "start_time": "2021-08-04T14:21:20.355Z"
   },
   {
    "duration": 497,
    "start_time": "2021-08-04T14:21:20.358Z"
   },
   {
    "duration": 494,
    "start_time": "2021-08-04T14:21:20.362Z"
   },
   {
    "duration": 493,
    "start_time": "2021-08-04T14:21:20.365Z"
   },
   {
    "duration": 490,
    "start_time": "2021-08-04T14:21:20.369Z"
   },
   {
    "duration": 489,
    "start_time": "2021-08-04T14:21:20.372Z"
   },
   {
    "duration": 481,
    "start_time": "2021-08-04T14:21:20.381Z"
   },
   {
    "duration": 480,
    "start_time": "2021-08-04T14:21:20.384Z"
   },
   {
    "duration": 478,
    "start_time": "2021-08-04T14:21:20.387Z"
   },
   {
    "duration": 477,
    "start_time": "2021-08-04T14:21:20.390Z"
   },
   {
    "duration": 476,
    "start_time": "2021-08-04T14:21:20.393Z"
   },
   {
    "duration": 474,
    "start_time": "2021-08-04T14:21:20.396Z"
   },
   {
    "duration": 472,
    "start_time": "2021-08-04T14:21:20.400Z"
   },
   {
    "duration": 471,
    "start_time": "2021-08-04T14:21:20.402Z"
   },
   {
    "duration": 469,
    "start_time": "2021-08-04T14:21:20.406Z"
   },
   {
    "duration": 469,
    "start_time": "2021-08-04T14:21:20.408Z"
   },
   {
    "duration": 5149,
    "start_time": "2021-08-04T14:21:50.838Z"
   },
   {
    "duration": 154,
    "start_time": "2021-08-04T14:21:55.990Z"
   },
   {
    "duration": 15,
    "start_time": "2021-08-04T14:21:56.147Z"
   },
   {
    "duration": 18,
    "start_time": "2021-08-04T14:21:56.164Z"
   },
   {
    "duration": 27,
    "start_time": "2021-08-04T14:21:56.184Z"
   },
   {
    "duration": 21,
    "start_time": "2021-08-04T14:21:56.213Z"
   },
   {
    "duration": 9,
    "start_time": "2021-08-04T14:21:56.236Z"
   },
   {
    "duration": 120,
    "start_time": "2021-08-04T14:21:56.248Z"
   },
   {
    "duration": 89,
    "start_time": "2021-08-04T14:21:56.373Z"
   },
   {
    "duration": 80,
    "start_time": "2021-08-04T14:21:56.465Z"
   },
   {
    "duration": 5,
    "start_time": "2021-08-04T14:21:56.547Z"
   },
   {
    "duration": 32,
    "start_time": "2021-08-04T14:21:56.554Z"
   },
   {
    "duration": 7,
    "start_time": "2021-08-04T14:21:56.588Z"
   },
   {
    "duration": 10,
    "start_time": "2021-08-04T14:21:56.598Z"
   },
   {
    "duration": 8,
    "start_time": "2021-08-04T14:21:56.611Z"
   },
   {
    "duration": 8,
    "start_time": "2021-08-04T14:21:56.622Z"
   },
   {
    "duration": 689,
    "start_time": "2021-08-04T14:21:56.633Z"
   },
   {
    "duration": 7,
    "start_time": "2021-08-04T14:21:57.325Z"
   },
   {
    "duration": 8,
    "start_time": "2021-08-04T14:21:57.335Z"
   },
   {
    "duration": 37,
    "start_time": "2021-08-04T14:21:57.346Z"
   },
   {
    "duration": 22,
    "start_time": "2021-08-04T14:21:57.386Z"
   },
   {
    "duration": 34,
    "start_time": "2021-08-04T14:21:57.410Z"
   },
   {
    "duration": 37,
    "start_time": "2021-08-04T14:21:57.447Z"
   },
   {
    "duration": 49,
    "start_time": "2021-08-04T14:21:57.487Z"
   },
   {
    "duration": 18,
    "start_time": "2021-08-04T14:21:57.538Z"
   },
   {
    "duration": 732,
    "start_time": "2021-08-04T14:21:57.558Z"
   },
   {
    "duration": 89,
    "start_time": "2021-08-04T14:21:58.295Z"
   },
   {
    "duration": 101,
    "start_time": "2021-08-04T14:21:58.386Z"
   },
   {
    "duration": 21,
    "start_time": "2021-08-04T14:21:58.490Z"
   },
   {
    "duration": 298,
    "start_time": "2021-08-04T14:21:58.514Z"
   },
   {
    "duration": 4,
    "start_time": "2021-08-04T14:21:58.814Z"
   },
   {
    "duration": 17,
    "start_time": "2021-08-04T14:21:58.821Z"
   },
   {
    "duration": 6,
    "start_time": "2021-08-04T14:21:58.840Z"
   },
   {
    "duration": 42,
    "start_time": "2021-08-04T14:21:58.848Z"
   },
   {
    "duration": 14,
    "start_time": "2021-08-04T14:21:58.893Z"
   },
   {
    "duration": 8,
    "start_time": "2021-08-04T14:21:58.909Z"
   },
   {
    "duration": 9,
    "start_time": "2021-08-04T14:21:58.919Z"
   },
   {
    "duration": 5,
    "start_time": "2021-08-04T14:21:58.931Z"
   },
   {
    "duration": 52,
    "start_time": "2021-08-04T14:21:58.938Z"
   },
   {
    "duration": 6,
    "start_time": "2021-08-04T14:21:58.992Z"
   },
   {
    "duration": 11,
    "start_time": "2021-08-04T14:21:59.000Z"
   },
   {
    "duration": 6,
    "start_time": "2021-08-04T14:21:59.014Z"
   },
   {
    "duration": 7,
    "start_time": "2021-08-04T14:21:59.022Z"
   },
   {
    "duration": 54,
    "start_time": "2021-08-04T14:21:59.031Z"
   },
   {
    "duration": 231326,
    "start_time": "2021-08-04T14:58:33.545Z"
   },
   {
    "duration": 165,
    "start_time": "2021-08-04T15:02:24.875Z"
   },
   {
    "duration": 20,
    "start_time": "2021-08-04T15:02:25.042Z"
   },
   {
    "duration": 7,
    "start_time": "2021-08-04T15:02:25.065Z"
   },
   {
    "duration": 23,
    "start_time": "2021-08-04T15:02:25.074Z"
   },
   {
    "duration": 21,
    "start_time": "2021-08-04T15:02:25.099Z"
   },
   {
    "duration": 38,
    "start_time": "2021-08-04T15:02:25.123Z"
   },
   {
    "duration": 108,
    "start_time": "2021-08-04T15:02:25.165Z"
   },
   {
    "duration": 109,
    "start_time": "2021-08-04T15:02:25.277Z"
   },
   {
    "duration": 84,
    "start_time": "2021-08-04T15:02:25.389Z"
   },
   {
    "duration": 6,
    "start_time": "2021-08-04T15:02:25.476Z"
   },
   {
    "duration": 12,
    "start_time": "2021-08-04T15:02:25.485Z"
   },
   {
    "duration": 8,
    "start_time": "2021-08-04T15:02:25.499Z"
   },
   {
    "duration": 8,
    "start_time": "2021-08-04T15:02:25.510Z"
   },
   {
    "duration": 39,
    "start_time": "2021-08-04T15:02:25.520Z"
   },
   {
    "duration": 8,
    "start_time": "2021-08-04T15:02:25.561Z"
   },
   {
    "duration": 674,
    "start_time": "2021-08-04T15:02:25.572Z"
   },
   {
    "duration": 6,
    "start_time": "2021-08-04T15:02:26.256Z"
   },
   {
    "duration": 7,
    "start_time": "2021-08-04T15:02:26.264Z"
   },
   {
    "duration": 8,
    "start_time": "2021-08-04T15:02:26.273Z"
   },
   {
    "duration": 25,
    "start_time": "2021-08-04T15:02:26.283Z"
   },
   {
    "duration": 73,
    "start_time": "2021-08-04T15:02:26.311Z"
   },
   {
    "duration": 11,
    "start_time": "2021-08-04T15:02:26.392Z"
   },
   {
    "duration": 83,
    "start_time": "2021-08-04T15:02:26.407Z"
   },
   {
    "duration": 18,
    "start_time": "2021-08-04T15:02:26.493Z"
   },
   {
    "duration": 757,
    "start_time": "2021-08-04T15:02:26.514Z"
   },
   {
    "duration": 101,
    "start_time": "2021-08-04T15:02:27.273Z"
   },
   {
    "duration": 179,
    "start_time": "2021-08-04T15:02:27.377Z"
   },
   {
    "duration": 28,
    "start_time": "2021-08-04T15:02:27.559Z"
   },
   {
    "duration": 366,
    "start_time": "2021-08-04T15:02:27.590Z"
   },
   {
    "duration": 4,
    "start_time": "2021-08-04T15:02:27.958Z"
   },
   {
    "duration": 21,
    "start_time": "2021-08-04T15:02:27.964Z"
   },
   {
    "duration": 7,
    "start_time": "2021-08-04T15:02:27.987Z"
   },
   {
    "duration": 17,
    "start_time": "2021-08-04T15:02:27.997Z"
   },
   {
    "duration": 42,
    "start_time": "2021-08-04T15:02:28.017Z"
   },
   {
    "duration": 10,
    "start_time": "2021-08-04T15:02:28.061Z"
   },
   {
    "duration": 13,
    "start_time": "2021-08-04T15:02:28.073Z"
   },
   {
    "duration": 9,
    "start_time": "2021-08-04T15:02:28.088Z"
   },
   {
    "duration": 17,
    "start_time": "2021-08-04T15:02:28.099Z"
   },
   {
    "duration": 37,
    "start_time": "2021-08-04T15:02:28.118Z"
   },
   {
    "duration": 6,
    "start_time": "2021-08-04T15:02:28.158Z"
   },
   {
    "duration": 8,
    "start_time": "2021-08-04T15:02:28.167Z"
   },
   {
    "duration": 17,
    "start_time": "2021-08-04T15:02:28.178Z"
   },
   {
    "duration": 11,
    "start_time": "2021-08-04T15:02:28.198Z"
   },
   {
    "duration": 5447,
    "start_time": "2021-08-04T16:59:13.641Z"
   },
   {
    "duration": 165,
    "start_time": "2021-08-04T16:59:19.091Z"
   },
   {
    "duration": 17,
    "start_time": "2021-08-04T16:59:19.258Z"
   },
   {
    "duration": 22,
    "start_time": "2021-08-04T16:59:19.278Z"
   },
   {
    "duration": 23,
    "start_time": "2021-08-04T16:59:19.302Z"
   },
   {
    "duration": 22,
    "start_time": "2021-08-04T16:59:19.327Z"
   },
   {
    "duration": 11,
    "start_time": "2021-08-04T16:59:19.352Z"
   },
   {
    "duration": 141,
    "start_time": "2021-08-04T16:59:19.368Z"
   },
   {
    "duration": 106,
    "start_time": "2021-08-04T16:59:19.513Z"
   },
   {
    "duration": 86,
    "start_time": "2021-08-04T16:59:19.623Z"
   },
   {
    "duration": 8,
    "start_time": "2021-08-04T16:59:19.711Z"
   },
   {
    "duration": 15,
    "start_time": "2021-08-04T16:59:19.722Z"
   },
   {
    "duration": 11,
    "start_time": "2021-08-04T16:59:19.739Z"
   },
   {
    "duration": 14,
    "start_time": "2021-08-04T16:59:19.753Z"
   },
   {
    "duration": 34,
    "start_time": "2021-08-04T16:59:19.770Z"
   },
   {
    "duration": 7,
    "start_time": "2021-08-04T16:59:19.806Z"
   },
   {
    "duration": 661,
    "start_time": "2021-08-04T16:59:19.816Z"
   },
   {
    "duration": 6,
    "start_time": "2021-08-04T16:59:20.480Z"
   },
   {
    "duration": 5,
    "start_time": "2021-08-04T16:59:20.500Z"
   },
   {
    "duration": 14,
    "start_time": "2021-08-04T16:59:20.508Z"
   },
   {
    "duration": 23,
    "start_time": "2021-08-04T16:59:20.524Z"
   },
   {
    "duration": 58,
    "start_time": "2021-08-04T16:59:20.550Z"
   },
   {
    "duration": 10,
    "start_time": "2021-08-04T16:59:20.614Z"
   },
   {
    "duration": 74,
    "start_time": "2021-08-04T16:59:20.627Z"
   },
   {
    "duration": 19,
    "start_time": "2021-08-04T16:59:20.704Z"
   },
   {
    "duration": 775,
    "start_time": "2021-08-04T16:59:20.725Z"
   },
   {
    "duration": 35,
    "start_time": "2021-08-04T16:59:21.503Z"
   },
   {
    "duration": 160,
    "start_time": "2021-08-04T16:59:21.540Z"
   },
   {
    "duration": 18,
    "start_time": "2021-08-04T16:59:21.703Z"
   },
   {
    "duration": 339,
    "start_time": "2021-08-04T16:59:21.724Z"
   },
   {
    "duration": 4,
    "start_time": "2021-08-04T16:59:22.066Z"
   },
   {
    "duration": 33,
    "start_time": "2021-08-04T16:59:22.072Z"
   },
   {
    "duration": 16,
    "start_time": "2021-08-04T16:59:22.108Z"
   },
   {
    "duration": 18,
    "start_time": "2021-08-04T16:59:22.127Z"
   },
   {
    "duration": 33,
    "start_time": "2021-08-04T16:59:22.148Z"
   },
   {
    "duration": 9,
    "start_time": "2021-08-04T16:59:22.183Z"
   },
   {
    "duration": 21,
    "start_time": "2021-08-04T16:59:22.194Z"
   },
   {
    "duration": 15,
    "start_time": "2021-08-04T16:59:22.218Z"
   },
   {
    "duration": 16,
    "start_time": "2021-08-04T16:59:22.235Z"
   },
   {
    "duration": 7,
    "start_time": "2021-08-04T16:59:22.254Z"
   },
   {
    "duration": 18,
    "start_time": "2021-08-04T16:59:22.263Z"
   },
   {
    "duration": 20,
    "start_time": "2021-08-04T16:59:22.284Z"
   },
   {
    "duration": 17,
    "start_time": "2021-08-04T16:59:22.307Z"
   },
   {
    "duration": 10,
    "start_time": "2021-08-04T16:59:22.327Z"
   },
   {
    "duration": 101,
    "start_time": "2021-08-04T17:11:14.767Z"
   },
   {
    "duration": 46,
    "start_time": "2021-08-04T17:17:43.015Z"
   },
   {
    "duration": 4,
    "start_time": "2021-08-04T17:43:49.596Z"
   },
   {
    "duration": 30,
    "start_time": "2021-08-04T17:43:57.955Z"
   },
   {
    "duration": 5,
    "start_time": "2021-08-04T17:44:02.227Z"
   },
   {
    "duration": 3345,
    "start_time": "2021-08-04T17:53:04.491Z"
   },
   {
    "duration": 292,
    "start_time": "2021-08-04T17:53:14.193Z"
   },
   {
    "duration": 576,
    "start_time": "2021-08-04T17:53:20.179Z"
   },
   {
    "duration": 476,
    "start_time": "2021-08-04T17:55:16.876Z"
   },
   {
    "duration": 517,
    "start_time": "2021-08-04T17:55:32.727Z"
   },
   {
    "duration": 581,
    "start_time": "2021-08-04T18:18:01.921Z"
   },
   {
    "duration": 291,
    "start_time": "2021-08-04T18:19:54.730Z"
   },
   {
    "duration": 846,
    "start_time": "2021-08-04T18:20:01.311Z"
   },
   {
    "duration": 300,
    "start_time": "2021-08-04T18:22:03.337Z"
   },
   {
    "duration": 294,
    "start_time": "2021-08-04T18:22:11.850Z"
   },
   {
    "duration": 287,
    "start_time": "2021-08-04T18:22:19.152Z"
   },
   {
    "duration": 674,
    "start_time": "2021-08-04T18:23:28.656Z"
   },
   {
    "duration": 346,
    "start_time": "2021-08-04T18:23:48.519Z"
   },
   {
    "duration": 292,
    "start_time": "2021-08-04T18:23:54.386Z"
   },
   {
    "duration": 855,
    "start_time": "2021-08-04T18:26:10.417Z"
   },
   {
    "duration": 732,
    "start_time": "2021-08-04T18:26:29.378Z"
   },
   {
    "duration": 654,
    "start_time": "2021-08-04T18:28:34.852Z"
   },
   {
    "duration": 925,
    "start_time": "2021-08-04T18:31:42.966Z"
   },
   {
    "duration": 714,
    "start_time": "2021-08-04T18:32:13.871Z"
   },
   {
    "duration": 707,
    "start_time": "2021-08-04T18:32:20.065Z"
   },
   {
    "duration": 99,
    "start_time": "2021-08-04T18:33:02.284Z"
   },
   {
    "duration": 8,
    "start_time": "2021-08-04T18:34:09.152Z"
   },
   {
    "duration": 379,
    "start_time": "2021-08-04T18:36:07.248Z"
   },
   {
    "duration": 307,
    "start_time": "2021-08-04T18:36:12.274Z"
   },
   {
    "duration": 4,
    "start_time": "2021-08-04T18:37:55.183Z"
   },
   {
    "duration": 11,
    "start_time": "2021-08-04T18:39:46.895Z"
   },
   {
    "duration": 8,
    "start_time": "2021-08-04T18:40:02.738Z"
   },
   {
    "duration": 23,
    "start_time": "2021-08-04T18:40:24.253Z"
   },
   {
    "duration": 89,
    "start_time": "2021-08-04T18:47:03.268Z"
   },
   {
    "duration": 16,
    "start_time": "2021-08-04T18:49:29.395Z"
   },
   {
    "duration": 6,
    "start_time": "2021-08-04T18:49:49.155Z"
   },
   {
    "duration": 5,
    "start_time": "2021-08-04T18:50:39.232Z"
   },
   {
    "duration": 24,
    "start_time": "2021-08-04T18:51:29.113Z"
   },
   {
    "duration": 29,
    "start_time": "2021-08-04T18:51:35.218Z"
   },
   {
    "duration": 11,
    "start_time": "2021-08-04T18:51:49.107Z"
   },
   {
    "duration": 29,
    "start_time": "2021-08-04T18:52:33.367Z"
   },
   {
    "duration": 29,
    "start_time": "2021-08-04T18:55:35.042Z"
   },
   {
    "duration": 59,
    "start_time": "2021-08-04T18:57:19.271Z"
   },
   {
    "duration": 10,
    "start_time": "2021-08-04T19:00:45.052Z"
   },
   {
    "duration": 49,
    "start_time": "2021-08-04T19:00:50.372Z"
   },
   {
    "duration": 45,
    "start_time": "2021-08-04T19:04:22.987Z"
   },
   {
    "duration": 16,
    "start_time": "2021-08-04T19:04:30.400Z"
   },
   {
    "duration": 359,
    "start_time": "2021-08-04T19:04:36.485Z"
   },
   {
    "duration": 6,
    "start_time": "2021-08-04T19:06:43.306Z"
   },
   {
    "duration": 180,
    "start_time": "2021-08-04T19:10:44.724Z"
   },
   {
    "duration": 182,
    "start_time": "2021-08-04T19:11:24.394Z"
   },
   {
    "duration": 19,
    "start_time": "2021-08-04T19:24:27.239Z"
   },
   {
    "duration": 6,
    "start_time": "2021-08-04T19:24:45.161Z"
   },
   {
    "duration": 291,
    "start_time": "2021-08-04T19:27:26.268Z"
   },
   {
    "duration": 302,
    "start_time": "2021-08-04T19:27:57.193Z"
   },
   {
    "duration": 461,
    "start_time": "2021-08-04T19:28:07.383Z"
   },
   {
    "duration": 314,
    "start_time": "2021-08-04T19:28:11.279Z"
   },
   {
    "duration": 7,
    "start_time": "2021-08-04T19:28:28.223Z"
   },
   {
    "duration": 12,
    "start_time": "2021-08-04T19:29:03.555Z"
   },
   {
    "duration": 10,
    "start_time": "2021-08-04T19:29:17.547Z"
   },
   {
    "duration": 4,
    "start_time": "2021-08-04T19:33:21.345Z"
   },
   {
    "duration": 7,
    "start_time": "2021-08-04T19:33:27.713Z"
   },
   {
    "duration": 10,
    "start_time": "2021-08-04T19:33:32.731Z"
   },
   {
    "duration": 12,
    "start_time": "2021-08-04T19:33:49.991Z"
   },
   {
    "duration": 5,
    "start_time": "2021-08-04T19:35:08.794Z"
   },
   {
    "duration": 10,
    "start_time": "2021-08-04T19:35:11.219Z"
   },
   {
    "duration": 11,
    "start_time": "2021-08-04T19:35:24.059Z"
   },
   {
    "duration": 7,
    "start_time": "2021-08-04T19:35:31.430Z"
   },
   {
    "duration": 11,
    "start_time": "2021-08-04T19:35:34.482Z"
   },
   {
    "duration": 5,
    "start_time": "2021-08-04T19:36:39.912Z"
   },
   {
    "duration": 7,
    "start_time": "2021-08-04T19:40:40.380Z"
   },
   {
    "duration": 6426,
    "start_time": "2021-08-05T05:37:46.580Z"
   },
   {
    "duration": 294,
    "start_time": "2021-08-05T05:37:53.008Z"
   },
   {
    "duration": 20,
    "start_time": "2021-08-05T05:37:53.305Z"
   },
   {
    "duration": 17,
    "start_time": "2021-08-05T05:37:53.327Z"
   },
   {
    "duration": 15,
    "start_time": "2021-08-05T05:37:53.346Z"
   },
   {
    "duration": 4728,
    "start_time": "2021-08-05T05:37:53.362Z"
   },
   {
    "duration": -11,
    "start_time": "2021-08-05T05:37:58.106Z"
   },
   {
    "duration": -14,
    "start_time": "2021-08-05T05:37:58.110Z"
   },
   {
    "duration": -15,
    "start_time": "2021-08-05T05:37:58.113Z"
   },
   {
    "duration": -18,
    "start_time": "2021-08-05T05:37:58.117Z"
   },
   {
    "duration": -20,
    "start_time": "2021-08-05T05:37:58.120Z"
   },
   {
    "duration": -21,
    "start_time": "2021-08-05T05:37:58.123Z"
   },
   {
    "duration": -23,
    "start_time": "2021-08-05T05:37:58.126Z"
   },
   {
    "duration": -25,
    "start_time": "2021-08-05T05:37:58.130Z"
   },
   {
    "duration": -28,
    "start_time": "2021-08-05T05:37:58.134Z"
   },
   {
    "duration": -30,
    "start_time": "2021-08-05T05:37:58.138Z"
   },
   {
    "duration": -32,
    "start_time": "2021-08-05T05:37:58.141Z"
   },
   {
    "duration": -34,
    "start_time": "2021-08-05T05:37:58.144Z"
   },
   {
    "duration": -34,
    "start_time": "2021-08-05T05:37:58.146Z"
   },
   {
    "duration": -42,
    "start_time": "2021-08-05T05:37:58.155Z"
   },
   {
    "duration": -42,
    "start_time": "2021-08-05T05:37:58.157Z"
   },
   {
    "duration": -45,
    "start_time": "2021-08-05T05:37:58.161Z"
   },
   {
    "duration": -46,
    "start_time": "2021-08-05T05:37:58.163Z"
   },
   {
    "duration": -48,
    "start_time": "2021-08-05T05:37:58.167Z"
   },
   {
    "duration": -49,
    "start_time": "2021-08-05T05:37:58.169Z"
   },
   {
    "duration": -51,
    "start_time": "2021-08-05T05:37:58.173Z"
   },
   {
    "duration": -53,
    "start_time": "2021-08-05T05:37:58.176Z"
   },
   {
    "duration": -56,
    "start_time": "2021-08-05T05:37:58.180Z"
   },
   {
    "duration": -57,
    "start_time": "2021-08-05T05:37:58.183Z"
   },
   {
    "duration": -59,
    "start_time": "2021-08-05T05:37:58.186Z"
   },
   {
    "duration": -60,
    "start_time": "2021-08-05T05:37:58.189Z"
   },
   {
    "duration": -64,
    "start_time": "2021-08-05T05:37:58.193Z"
   },
   {
    "duration": -67,
    "start_time": "2021-08-05T05:37:58.197Z"
   },
   {
    "duration": -69,
    "start_time": "2021-08-05T05:37:58.200Z"
   },
   {
    "duration": -72,
    "start_time": "2021-08-05T05:37:58.204Z"
   },
   {
    "duration": -75,
    "start_time": "2021-08-05T05:37:58.208Z"
   },
   {
    "duration": -89,
    "start_time": "2021-08-05T05:37:58.223Z"
   },
   {
    "duration": -92,
    "start_time": "2021-08-05T05:37:58.227Z"
   },
   {
    "duration": -42,
    "start_time": "2021-08-05T05:37:58.230Z"
   },
   {
    "duration": -43,
    "start_time": "2021-08-05T05:37:58.233Z"
   },
   {
    "duration": -44,
    "start_time": "2021-08-05T05:37:58.236Z"
   },
   {
    "duration": -47,
    "start_time": "2021-08-05T05:37:58.240Z"
   },
   {
    "duration": -50,
    "start_time": "2021-08-05T05:37:58.244Z"
   },
   {
    "duration": -53,
    "start_time": "2021-08-05T05:37:58.248Z"
   },
   {
    "duration": -55,
    "start_time": "2021-08-05T05:37:58.251Z"
   },
   {
    "duration": -57,
    "start_time": "2021-08-05T05:37:58.254Z"
   },
   {
    "duration": -58,
    "start_time": "2021-08-05T05:37:58.256Z"
   },
   {
    "duration": -60,
    "start_time": "2021-08-05T05:37:58.259Z"
   },
   {
    "duration": -61,
    "start_time": "2021-08-05T05:37:58.262Z"
   },
   {
    "duration": -63,
    "start_time": "2021-08-05T05:37:58.265Z"
   },
   {
    "duration": -65,
    "start_time": "2021-08-05T05:37:58.268Z"
   },
   {
    "duration": -66,
    "start_time": "2021-08-05T05:37:58.271Z"
   },
   {
    "duration": -67,
    "start_time": "2021-08-05T05:37:58.273Z"
   },
   {
    "duration": -69,
    "start_time": "2021-08-05T05:37:58.276Z"
   },
   {
    "duration": -70,
    "start_time": "2021-08-05T05:37:58.279Z"
   },
   {
    "duration": -74,
    "start_time": "2021-08-05T05:37:58.285Z"
   },
   {
    "duration": 13,
    "start_time": "2021-08-05T05:38:44.194Z"
   },
   {
    "duration": 15,
    "start_time": "2021-08-05T05:38:45.417Z"
   },
   {
    "duration": 20,
    "start_time": "2021-08-05T05:38:47.089Z"
   },
   {
    "duration": 5906,
    "start_time": "2021-08-05T05:38:53.029Z"
   },
   {
    "duration": 128,
    "start_time": "2021-08-05T05:38:58.937Z"
   },
   {
    "duration": 12,
    "start_time": "2021-08-05T05:38:59.067Z"
   },
   {
    "duration": 13,
    "start_time": "2021-08-05T05:38:59.081Z"
   },
   {
    "duration": 15,
    "start_time": "2021-08-05T05:38:59.096Z"
   },
   {
    "duration": 16,
    "start_time": "2021-08-05T05:38:59.113Z"
   },
   {
    "duration": 7,
    "start_time": "2021-08-05T05:38:59.131Z"
   },
   {
    "duration": 101,
    "start_time": "2021-08-05T05:38:59.140Z"
   },
   {
    "duration": 66,
    "start_time": "2021-08-05T05:38:59.244Z"
   },
   {
    "duration": 50,
    "start_time": "2021-08-05T05:38:59.312Z"
   },
   {
    "duration": 4,
    "start_time": "2021-08-05T05:38:59.364Z"
   },
   {
    "duration": 11,
    "start_time": "2021-08-05T05:38:59.387Z"
   },
   {
    "duration": 6,
    "start_time": "2021-08-05T05:38:59.400Z"
   },
   {
    "duration": 7,
    "start_time": "2021-08-05T05:38:59.408Z"
   },
   {
    "duration": 55,
    "start_time": "2021-08-05T05:38:59.417Z"
   },
   {
    "duration": -65,
    "start_time": "2021-08-05T05:38:59.539Z"
   },
   {
    "duration": -67,
    "start_time": "2021-08-05T05:38:59.543Z"
   },
   {
    "duration": -69,
    "start_time": "2021-08-05T05:38:59.546Z"
   },
   {
    "duration": -71,
    "start_time": "2021-08-05T05:38:59.549Z"
   },
   {
    "duration": -73,
    "start_time": "2021-08-05T05:38:59.552Z"
   },
   {
    "duration": -75,
    "start_time": "2021-08-05T05:38:59.555Z"
   },
   {
    "duration": -77,
    "start_time": "2021-08-05T05:38:59.558Z"
   },
   {
    "duration": -79,
    "start_time": "2021-08-05T05:38:59.561Z"
   },
   {
    "duration": -80,
    "start_time": "2021-08-05T05:38:59.563Z"
   },
   {
    "duration": -82,
    "start_time": "2021-08-05T05:38:59.566Z"
   },
   {
    "duration": -84,
    "start_time": "2021-08-05T05:38:59.569Z"
   },
   {
    "duration": -88,
    "start_time": "2021-08-05T05:38:59.573Z"
   },
   {
    "duration": -89,
    "start_time": "2021-08-05T05:38:59.575Z"
   },
   {
    "duration": -95,
    "start_time": "2021-08-05T05:38:59.582Z"
   },
   {
    "duration": -153,
    "start_time": "2021-08-05T05:38:59.641Z"
   },
   {
    "duration": -154,
    "start_time": "2021-08-05T05:38:59.644Z"
   },
   {
    "duration": -156,
    "start_time": "2021-08-05T05:38:59.647Z"
   },
   {
    "duration": -157,
    "start_time": "2021-08-05T05:38:59.650Z"
   },
   {
    "duration": -159,
    "start_time": "2021-08-05T05:38:59.653Z"
   },
   {
    "duration": -159,
    "start_time": "2021-08-05T05:38:59.655Z"
   },
   {
    "duration": -161,
    "start_time": "2021-08-05T05:38:59.658Z"
   },
   {
    "duration": -163,
    "start_time": "2021-08-05T05:38:59.661Z"
   },
   {
    "duration": -159,
    "start_time": "2021-08-05T05:38:59.663Z"
   },
   {
    "duration": -161,
    "start_time": "2021-08-05T05:38:59.666Z"
   },
   {
    "duration": -163,
    "start_time": "2021-08-05T05:38:59.669Z"
   },
   {
    "duration": -163,
    "start_time": "2021-08-05T05:38:59.671Z"
   },
   {
    "duration": -165,
    "start_time": "2021-08-05T05:38:59.674Z"
   },
   {
    "duration": -166,
    "start_time": "2021-08-05T05:38:59.676Z"
   },
   {
    "duration": -168,
    "start_time": "2021-08-05T05:38:59.679Z"
   },
   {
    "duration": -173,
    "start_time": "2021-08-05T05:38:59.684Z"
   },
   {
    "duration": -175,
    "start_time": "2021-08-05T05:38:59.687Z"
   },
   {
    "duration": -177,
    "start_time": "2021-08-05T05:38:59.690Z"
   },
   {
    "duration": -177,
    "start_time": "2021-08-05T05:38:59.692Z"
   },
   {
    "duration": -179,
    "start_time": "2021-08-05T05:38:59.695Z"
   },
   {
    "duration": -181,
    "start_time": "2021-08-05T05:38:59.698Z"
   },
   {
    "duration": -182,
    "start_time": "2021-08-05T05:38:59.700Z"
   },
   {
    "duration": -185,
    "start_time": "2021-08-05T05:38:59.703Z"
   },
   {
    "duration": -186,
    "start_time": "2021-08-05T05:38:59.705Z"
   },
   {
    "duration": -187,
    "start_time": "2021-08-05T05:38:59.707Z"
   },
   {
    "duration": -189,
    "start_time": "2021-08-05T05:38:59.710Z"
   },
   {
    "duration": 6,
    "start_time": "2021-08-05T05:39:21.484Z"
   },
   {
    "duration": 5,
    "start_time": "2021-08-05T05:39:21.819Z"
   },
   {
    "duration": 5957,
    "start_time": "2021-08-05T05:39:36.153Z"
   },
   {
    "duration": 130,
    "start_time": "2021-08-05T05:39:42.113Z"
   },
   {
    "duration": 13,
    "start_time": "2021-08-05T05:39:42.247Z"
   },
   {
    "duration": 29,
    "start_time": "2021-08-05T05:39:42.262Z"
   },
   {
    "duration": 17,
    "start_time": "2021-08-05T05:39:42.293Z"
   },
   {
    "duration": 18,
    "start_time": "2021-08-05T05:39:42.311Z"
   },
   {
    "duration": 8,
    "start_time": "2021-08-05T05:39:42.332Z"
   },
   {
    "duration": 96,
    "start_time": "2021-08-05T05:39:42.342Z"
   },
   {
    "duration": 68,
    "start_time": "2021-08-05T05:39:42.439Z"
   },
   {
    "duration": 50,
    "start_time": "2021-08-05T05:39:42.509Z"
   },
   {
    "duration": 4,
    "start_time": "2021-08-05T05:39:42.561Z"
   },
   {
    "duration": 28,
    "start_time": "2021-08-05T05:39:42.567Z"
   },
   {
    "duration": 7,
    "start_time": "2021-08-05T05:39:42.597Z"
   },
   {
    "duration": 5,
    "start_time": "2021-08-05T05:39:42.606Z"
   },
   {
    "duration": 5,
    "start_time": "2021-08-05T05:39:42.613Z"
   },
   {
    "duration": 5,
    "start_time": "2021-08-05T05:39:42.620Z"
   },
   {
    "duration": 475,
    "start_time": "2021-08-05T05:39:42.627Z"
   },
   {
    "duration": 422,
    "start_time": "2021-08-05T05:39:43.104Z"
   },
   {
    "duration": 4,
    "start_time": "2021-08-05T05:39:43.528Z"
   },
   {
    "duration": 6,
    "start_time": "2021-08-05T05:39:43.534Z"
   },
   {
    "duration": 14,
    "start_time": "2021-08-05T05:39:43.541Z"
   },
   {
    "duration": 2,
    "start_time": "2021-08-05T05:39:43.558Z"
   },
   {
    "duration": 34,
    "start_time": "2021-08-05T05:39:43.562Z"
   },
   {
    "duration": 16,
    "start_time": "2021-08-05T05:39:43.598Z"
   },
   {
    "duration": 5,
    "start_time": "2021-08-05T05:39:43.616Z"
   },
   {
    "duration": 12,
    "start_time": "2021-08-05T05:39:43.622Z"
   },
   {
    "duration": 4,
    "start_time": "2021-08-05T05:39:43.635Z"
   },
   {
    "duration": 5,
    "start_time": "2021-08-05T05:39:43.640Z"
   },
   {
    "duration": 56,
    "start_time": "2021-08-05T05:39:43.646Z"
   },
   {
    "duration": 5,
    "start_time": "2021-08-05T05:39:43.704Z"
   },
   {
    "duration": 25,
    "start_time": "2021-08-05T05:39:43.710Z"
   },
   {
    "duration": 6,
    "start_time": "2021-08-05T05:39:43.737Z"
   },
   {
    "duration": 56,
    "start_time": "2021-08-05T05:39:43.745Z"
   },
   {
    "duration": 9,
    "start_time": "2021-08-05T05:39:43.802Z"
   },
   {
    "duration": 7,
    "start_time": "2021-08-05T05:39:43.813Z"
   },
   {
    "duration": 668,
    "start_time": "2021-08-05T05:39:43.821Z"
   },
   {
    "duration": 30,
    "start_time": "2021-08-05T05:39:44.496Z"
   },
   {
    "duration": 91,
    "start_time": "2021-08-05T05:39:44.527Z"
   },
   {
    "duration": 11,
    "start_time": "2021-08-05T05:39:44.620Z"
   },
   {
    "duration": 232,
    "start_time": "2021-08-05T05:39:44.633Z"
   },
   {
    "duration": 3,
    "start_time": "2021-08-05T05:39:44.866Z"
   },
   {
    "duration": 29,
    "start_time": "2021-08-05T05:39:44.870Z"
   },
   {
    "duration": 5,
    "start_time": "2021-08-05T05:39:44.901Z"
   },
   {
    "duration": 13,
    "start_time": "2021-08-05T05:39:44.907Z"
   },
   {
    "duration": 10,
    "start_time": "2021-08-05T05:39:44.921Z"
   },
   {
    "duration": 8,
    "start_time": "2021-08-05T05:39:44.933Z"
   },
   {
    "duration": 8,
    "start_time": "2021-08-05T05:39:44.942Z"
   },
   {
    "duration": 5,
    "start_time": "2021-08-05T05:39:44.951Z"
   },
   {
    "duration": 34,
    "start_time": "2021-08-05T05:39:44.958Z"
   },
   {
    "duration": 6,
    "start_time": "2021-08-05T05:39:44.995Z"
   },
   {
    "duration": 5,
    "start_time": "2021-08-05T05:39:45.003Z"
   },
   {
    "duration": 13,
    "start_time": "2021-08-05T05:39:45.010Z"
   },
   {
    "duration": 11,
    "start_time": "2021-08-05T05:39:45.025Z"
   },
   {
    "duration": 7,
    "start_time": "2021-08-05T05:39:45.037Z"
   },
   {
    "duration": 6,
    "start_time": "2021-08-05T05:50:50.950Z"
   },
   {
    "duration": 8,
    "start_time": "2021-08-05T05:50:51.437Z"
   },
   {
    "duration": 5,
    "start_time": "2021-08-05T05:51:01.057Z"
   },
   {
    "duration": 5,
    "start_time": "2021-08-05T05:51:47.847Z"
   },
   {
    "duration": 108,
    "start_time": "2021-08-05T07:53:16.912Z"
   },
   {
    "duration": 5490,
    "start_time": "2021-08-05T07:53:41.077Z"
   },
   {
    "duration": 169,
    "start_time": "2021-08-05T07:53:46.570Z"
   },
   {
    "duration": 24,
    "start_time": "2021-08-05T07:53:46.742Z"
   },
   {
    "duration": 13,
    "start_time": "2021-08-05T07:53:46.769Z"
   },
   {
    "duration": 22,
    "start_time": "2021-08-05T07:53:46.785Z"
   },
   {
    "duration": 56,
    "start_time": "2021-08-05T07:53:46.810Z"
   },
   {
    "duration": 10,
    "start_time": "2021-08-05T07:53:46.868Z"
   },
   {
    "duration": 139,
    "start_time": "2021-08-05T07:53:46.882Z"
   },
   {
    "duration": 99,
    "start_time": "2021-08-05T07:53:47.025Z"
   },
   {
    "duration": 88,
    "start_time": "2021-08-05T07:53:47.127Z"
   },
   {
    "duration": 8,
    "start_time": "2021-08-05T07:53:47.217Z"
   },
   {
    "duration": 28,
    "start_time": "2021-08-05T07:53:47.228Z"
   },
   {
    "duration": 11,
    "start_time": "2021-08-05T07:53:47.259Z"
   },
   {
    "duration": 11,
    "start_time": "2021-08-05T07:53:47.273Z"
   },
   {
    "duration": 9,
    "start_time": "2021-08-05T07:53:47.287Z"
   },
   {
    "duration": 58,
    "start_time": "2021-08-05T07:53:47.299Z"
   },
   {
    "duration": 694,
    "start_time": "2021-08-05T07:53:47.360Z"
   },
   {
    "duration": 662,
    "start_time": "2021-08-05T07:53:48.057Z"
   },
   {
    "duration": 7,
    "start_time": "2021-08-05T07:53:48.721Z"
   },
   {
    "duration": 11,
    "start_time": "2021-08-05T07:53:48.730Z"
   },
   {
    "duration": 6,
    "start_time": "2021-08-05T07:53:48.755Z"
   },
   {
    "duration": 12,
    "start_time": "2021-08-05T07:53:48.764Z"
   },
   {
    "duration": 30,
    "start_time": "2021-08-05T07:53:48.781Z"
   },
   {
    "duration": 43,
    "start_time": "2021-08-05T07:53:48.814Z"
   },
   {
    "duration": 8,
    "start_time": "2021-08-05T07:53:48.859Z"
   },
   {
    "duration": 31,
    "start_time": "2021-08-05T07:53:48.869Z"
   },
   {
    "duration": 6,
    "start_time": "2021-08-05T07:53:48.903Z"
   },
   {
    "duration": 7,
    "start_time": "2021-08-05T07:53:48.912Z"
   },
   {
    "duration": 49,
    "start_time": "2021-08-05T07:53:48.921Z"
   },
   {
    "duration": 7,
    "start_time": "2021-08-05T07:53:48.973Z"
   },
   {
    "duration": 33,
    "start_time": "2021-08-05T07:53:48.983Z"
   },
   {
    "duration": 37,
    "start_time": "2021-08-05T07:53:49.019Z"
   },
   {
    "duration": 40,
    "start_time": "2021-08-05T07:53:49.058Z"
   },
   {
    "duration": 16,
    "start_time": "2021-08-05T07:53:49.100Z"
   },
   {
    "duration": 37,
    "start_time": "2021-08-05T07:53:49.119Z"
   },
   {
    "duration": 855,
    "start_time": "2021-08-05T07:53:49.159Z"
   },
   {
    "duration": 57,
    "start_time": "2021-08-05T07:53:50.016Z"
   },
   {
    "duration": 100,
    "start_time": "2021-08-05T07:53:50.075Z"
   },
   {
    "duration": 16,
    "start_time": "2021-08-05T07:53:50.178Z"
   },
   {
    "duration": 295,
    "start_time": "2021-08-05T07:53:50.197Z"
   },
   {
    "duration": 5,
    "start_time": "2021-08-05T07:53:50.495Z"
   },
   {
    "duration": 30,
    "start_time": "2021-08-05T07:53:50.502Z"
   },
   {
    "duration": 13,
    "start_time": "2021-08-05T07:53:50.535Z"
   },
   {
    "duration": 17,
    "start_time": "2021-08-05T07:53:50.555Z"
   },
   {
    "duration": 41,
    "start_time": "2021-08-05T07:53:50.575Z"
   },
   {
    "duration": 32,
    "start_time": "2021-08-05T07:53:50.618Z"
   },
   {
    "duration": 22,
    "start_time": "2021-08-05T07:53:50.652Z"
   },
   {
    "duration": 8,
    "start_time": "2021-08-05T07:53:50.677Z"
   },
   {
    "duration": 22,
    "start_time": "2021-08-05T07:53:50.687Z"
   },
   {
    "duration": 23,
    "start_time": "2021-08-05T07:53:50.711Z"
   },
   {
    "duration": 25,
    "start_time": "2021-08-05T07:53:50.736Z"
   },
   {
    "duration": 10,
    "start_time": "2021-08-05T07:53:50.764Z"
   },
   {
    "duration": 13,
    "start_time": "2021-08-05T07:53:50.777Z"
   },
   {
    "duration": 11,
    "start_time": "2021-08-05T07:53:50.792Z"
   },
   {
    "duration": 99,
    "start_time": "2021-08-05T07:55:56.150Z"
   },
   {
    "duration": 10,
    "start_time": "2021-08-05T07:56:29.558Z"
   },
   {
    "duration": 6,
    "start_time": "2021-08-05T07:56:30.169Z"
   },
   {
    "duration": 4943,
    "start_time": "2021-08-05T07:56:42.605Z"
   },
   {
    "duration": 161,
    "start_time": "2021-08-05T07:56:47.551Z"
   },
   {
    "duration": 18,
    "start_time": "2021-08-05T07:56:47.715Z"
   },
   {
    "duration": 27,
    "start_time": "2021-08-05T07:56:47.735Z"
   },
   {
    "duration": 23,
    "start_time": "2021-08-05T07:56:47.764Z"
   },
   {
    "duration": 29,
    "start_time": "2021-08-05T07:56:47.790Z"
   },
   {
    "duration": 35,
    "start_time": "2021-08-05T07:56:47.821Z"
   },
   {
    "duration": 119,
    "start_time": "2021-08-05T07:56:47.860Z"
   },
   {
    "duration": 104,
    "start_time": "2021-08-05T07:56:47.982Z"
   },
   {
    "duration": 76,
    "start_time": "2021-08-05T07:56:48.089Z"
   },
   {
    "duration": 6,
    "start_time": "2021-08-05T07:56:48.168Z"
   },
   {
    "duration": 24,
    "start_time": "2021-08-05T07:56:48.176Z"
   },
   {
    "duration": 13,
    "start_time": "2021-08-05T07:56:48.202Z"
   },
   {
    "duration": 19,
    "start_time": "2021-08-05T07:56:48.218Z"
   },
   {
    "duration": 20,
    "start_time": "2021-08-05T07:56:48.239Z"
   },
   {
    "duration": 21,
    "start_time": "2021-08-05T07:56:48.262Z"
   },
   {
    "duration": 672,
    "start_time": "2021-08-05T07:56:48.285Z"
   },
   {
    "duration": 6,
    "start_time": "2021-08-05T07:56:48.960Z"
   },
   {
    "duration": 10,
    "start_time": "2021-08-05T07:56:48.968Z"
   },
   {
    "duration": 10,
    "start_time": "2021-08-05T07:56:48.980Z"
   },
   {
    "duration": 12,
    "start_time": "2021-08-05T07:56:48.993Z"
   },
   {
    "duration": 51,
    "start_time": "2021-08-05T07:56:49.008Z"
   },
   {
    "duration": 22,
    "start_time": "2021-08-05T07:56:49.064Z"
   },
   {
    "duration": 7,
    "start_time": "2021-08-05T07:56:49.089Z"
   },
   {
    "duration": 17,
    "start_time": "2021-08-05T07:56:49.099Z"
   },
   {
    "duration": 38,
    "start_time": "2021-08-05T07:56:49.118Z"
   },
   {
    "duration": 8,
    "start_time": "2021-08-05T07:56:49.158Z"
   },
   {
    "duration": 37,
    "start_time": "2021-08-05T07:56:49.168Z"
   },
   {
    "duration": 9,
    "start_time": "2021-08-05T07:56:49.207Z"
   },
   {
    "duration": 84,
    "start_time": "2021-08-05T07:56:49.218Z"
   },
   {
    "duration": 31,
    "start_time": "2021-08-05T07:56:49.304Z"
   },
   {
    "duration": 25,
    "start_time": "2021-08-05T07:56:49.337Z"
   },
   {
    "duration": 809,
    "start_time": "2021-08-05T07:56:49.365Z"
   },
   {
    "duration": 90,
    "start_time": "2021-08-05T07:56:50.176Z"
   },
   {
    "duration": 111,
    "start_time": "2021-08-05T07:56:50.268Z"
   },
   {
    "duration": 19,
    "start_time": "2021-08-05T07:56:50.382Z"
   },
   {
    "duration": 293,
    "start_time": "2021-08-05T07:56:50.455Z"
   },
   {
    "duration": 4,
    "start_time": "2021-08-05T07:56:50.751Z"
   },
   {
    "duration": 24,
    "start_time": "2021-08-05T07:56:50.757Z"
   },
   {
    "duration": 8,
    "start_time": "2021-08-05T07:56:50.784Z"
   },
   {
    "duration": 18,
    "start_time": "2021-08-05T07:56:50.794Z"
   },
   {
    "duration": 43,
    "start_time": "2021-08-05T07:56:50.815Z"
   },
   {
    "duration": 10,
    "start_time": "2021-08-05T07:56:50.862Z"
   },
   {
    "duration": 12,
    "start_time": "2021-08-05T07:56:50.875Z"
   },
   {
    "duration": 7,
    "start_time": "2021-08-05T07:56:50.889Z"
   },
   {
    "duration": 12,
    "start_time": "2021-08-05T07:56:50.899Z"
   },
   {
    "duration": 43,
    "start_time": "2021-08-05T07:56:50.913Z"
   },
   {
    "duration": 8,
    "start_time": "2021-08-05T07:56:50.959Z"
   },
   {
    "duration": 140,
    "start_time": "2021-08-05T07:56:50.970Z"
   },
   {
    "duration": 7,
    "start_time": "2021-08-05T07:56:51.113Z"
   },
   {
    "duration": 31,
    "start_time": "2021-08-05T07:56:51.123Z"
   },
   {
    "duration": 10,
    "start_time": "2021-08-05T07:57:46.554Z"
   },
   {
    "duration": 42,
    "start_time": "2021-08-05T07:57:51.889Z"
   },
   {
    "duration": 5,
    "start_time": "2021-08-05T08:03:19.907Z"
   },
   {
    "duration": 5,
    "start_time": "2021-08-05T08:03:28.715Z"
   },
   {
    "duration": 10,
    "start_time": "2021-08-05T08:03:30.556Z"
   },
   {
    "duration": 6,
    "start_time": "2021-08-05T08:03:32.818Z"
   },
   {
    "duration": 11,
    "start_time": "2021-08-05T08:03:34.351Z"
   },
   {
    "duration": 4,
    "start_time": "2021-08-05T08:03:47.440Z"
   },
   {
    "duration": 11,
    "start_time": "2021-08-05T08:03:49.208Z"
   },
   {
    "duration": 9,
    "start_time": "2021-08-05T08:19:07.539Z"
   },
   {
    "duration": 10,
    "start_time": "2021-08-05T08:19:09.635Z"
   },
   {
    "duration": 9,
    "start_time": "2021-08-05T08:19:17.017Z"
   },
   {
    "duration": 10,
    "start_time": "2021-08-05T08:19:20.163Z"
   },
   {
    "duration": 5154,
    "start_time": "2021-08-05T08:19:31.982Z"
   },
   {
    "duration": 177,
    "start_time": "2021-08-05T08:19:37.140Z"
   },
   {
    "duration": 33,
    "start_time": "2021-08-05T08:19:37.323Z"
   },
   {
    "duration": 25,
    "start_time": "2021-08-05T08:19:37.359Z"
   },
   {
    "duration": 23,
    "start_time": "2021-08-05T08:19:37.387Z"
   },
   {
    "duration": 46,
    "start_time": "2021-08-05T08:19:37.413Z"
   },
   {
    "duration": 16,
    "start_time": "2021-08-05T08:19:37.463Z"
   },
   {
    "duration": 114,
    "start_time": "2021-08-05T08:19:37.483Z"
   },
   {
    "duration": 110,
    "start_time": "2021-08-05T08:19:37.600Z"
   },
   {
    "duration": 89,
    "start_time": "2021-08-05T08:19:37.712Z"
   },
   {
    "duration": 5,
    "start_time": "2021-08-05T08:19:37.803Z"
   },
   {
    "duration": 18,
    "start_time": "2021-08-05T08:19:37.810Z"
   },
   {
    "duration": 26,
    "start_time": "2021-08-05T08:19:37.830Z"
   },
   {
    "duration": 8,
    "start_time": "2021-08-05T08:19:37.858Z"
   },
   {
    "duration": 21,
    "start_time": "2021-08-05T08:19:37.869Z"
   },
   {
    "duration": 16,
    "start_time": "2021-08-05T08:19:37.892Z"
   },
   {
    "duration": 694,
    "start_time": "2021-08-05T08:19:37.910Z"
   },
   {
    "duration": 5,
    "start_time": "2021-08-05T08:19:38.607Z"
   },
   {
    "duration": 23,
    "start_time": "2021-08-05T08:19:38.615Z"
   },
   {
    "duration": 19,
    "start_time": "2021-08-05T08:19:38.640Z"
   },
   {
    "duration": 35,
    "start_time": "2021-08-05T08:19:38.661Z"
   },
   {
    "duration": 23,
    "start_time": "2021-08-05T08:19:38.702Z"
   },
   {
    "duration": 25,
    "start_time": "2021-08-05T08:19:38.728Z"
   },
   {
    "duration": 15,
    "start_time": "2021-08-05T08:19:38.756Z"
   },
   {
    "duration": 14,
    "start_time": "2021-08-05T08:19:38.773Z"
   },
   {
    "duration": 18,
    "start_time": "2021-08-05T08:19:38.789Z"
   },
   {
    "duration": 55,
    "start_time": "2021-08-05T08:19:38.810Z"
   },
   {
    "duration": 9,
    "start_time": "2021-08-05T08:19:38.867Z"
   },
   {
    "duration": 52,
    "start_time": "2021-08-05T08:19:38.878Z"
   },
   {
    "duration": 10,
    "start_time": "2021-08-05T08:19:38.954Z"
   },
   {
    "duration": 18,
    "start_time": "2021-08-05T08:19:38.967Z"
   },
   {
    "duration": 806,
    "start_time": "2021-08-05T08:19:38.988Z"
   },
   {
    "duration": 74,
    "start_time": "2021-08-05T08:19:39.796Z"
   },
   {
    "duration": 108,
    "start_time": "2021-08-05T08:19:39.873Z"
   },
   {
    "duration": 73,
    "start_time": "2021-08-05T08:19:39.983Z"
   },
   {
    "duration": 302,
    "start_time": "2021-08-05T08:19:40.059Z"
   },
   {
    "duration": 3,
    "start_time": "2021-08-05T08:19:40.364Z"
   },
   {
    "duration": 34,
    "start_time": "2021-08-05T08:19:40.369Z"
   },
   {
    "duration": 10,
    "start_time": "2021-08-05T08:19:40.405Z"
   },
   {
    "duration": 18,
    "start_time": "2021-08-05T08:19:40.418Z"
   },
   {
    "duration": 22,
    "start_time": "2021-08-05T08:19:40.438Z"
   },
   {
    "duration": 22,
    "start_time": "2021-08-05T08:19:40.463Z"
   },
   {
    "duration": 15,
    "start_time": "2021-08-05T08:19:40.487Z"
   },
   {
    "duration": 17,
    "start_time": "2021-08-05T08:19:40.504Z"
   },
   {
    "duration": 15,
    "start_time": "2021-08-05T08:19:40.523Z"
   },
   {
    "duration": 4,
    "start_time": "2021-08-05T08:19:40.540Z"
   },
   {
    "duration": 15,
    "start_time": "2021-08-05T08:19:40.554Z"
   },
   {
    "duration": 125,
    "start_time": "2021-08-05T08:19:40.572Z"
   },
   {
    "duration": 9,
    "start_time": "2021-08-05T08:19:40.699Z"
   },
   {
    "duration": 17,
    "start_time": "2021-08-05T08:19:40.711Z"
   },
   {
    "duration": 6,
    "start_time": "2021-08-05T08:24:27.367Z"
   },
   {
    "duration": 5,
    "start_time": "2021-08-05T08:29:17.527Z"
   },
   {
    "duration": 11,
    "start_time": "2021-08-05T08:29:18.374Z"
   },
   {
    "duration": 171,
    "start_time": "2021-08-05T08:35:18.910Z"
   },
   {
    "duration": 169,
    "start_time": "2021-08-05T08:35:33.800Z"
   },
   {
    "duration": 172,
    "start_time": "2021-08-05T08:37:35.816Z"
   },
   {
    "duration": 39,
    "start_time": "2021-08-05T08:38:34.046Z"
   },
   {
    "duration": 5,
    "start_time": "2021-08-05T08:42:18.711Z"
   },
   {
    "duration": 6,
    "start_time": "2021-08-05T08:42:47.747Z"
   },
   {
    "duration": 4,
    "start_time": "2021-08-05T08:44:24.816Z"
   },
   {
    "duration": 6,
    "start_time": "2021-08-05T08:45:19.189Z"
   },
   {
    "duration": 6,
    "start_time": "2021-08-05T08:46:03.761Z"
   },
   {
    "duration": 6,
    "start_time": "2021-08-05T08:46:41.242Z"
   },
   {
    "duration": 7,
    "start_time": "2021-08-05T08:46:56.609Z"
   },
   {
    "duration": 84,
    "start_time": "2021-08-05T08:48:43.331Z"
   },
   {
    "duration": 7,
    "start_time": "2021-08-05T08:48:47.105Z"
   },
   {
    "duration": 7,
    "start_time": "2021-08-05T08:48:51.159Z"
   },
   {
    "duration": 101,
    "start_time": "2021-08-05T08:48:51.770Z"
   },
   {
    "duration": 85,
    "start_time": "2021-08-05T08:48:55.201Z"
   },
   {
    "duration": 6,
    "start_time": "2021-08-05T08:49:02.769Z"
   },
   {
    "duration": 6,
    "start_time": "2021-08-05T08:49:06.521Z"
   },
   {
    "duration": 7,
    "start_time": "2021-08-05T08:50:37.057Z"
   },
   {
    "duration": 6,
    "start_time": "2021-08-05T08:50:38.131Z"
   },
   {
    "duration": 6,
    "start_time": "2021-08-05T08:50:39.243Z"
   },
   {
    "duration": 7,
    "start_time": "2021-08-05T08:50:40.508Z"
   },
   {
    "duration": 6,
    "start_time": "2021-08-05T08:52:02.944Z"
   },
   {
    "duration": 6,
    "start_time": "2021-08-05T08:53:13.206Z"
   },
   {
    "duration": 7,
    "start_time": "2021-08-05T08:53:14.276Z"
   },
   {
    "duration": 7,
    "start_time": "2021-08-05T08:53:15.380Z"
   },
   {
    "duration": 6,
    "start_time": "2021-08-05T08:53:17.765Z"
   },
   {
    "duration": 7,
    "start_time": "2021-08-05T08:57:10.146Z"
   },
   {
    "duration": 7,
    "start_time": "2021-08-05T08:58:06.467Z"
   },
   {
    "duration": 6,
    "start_time": "2021-08-05T08:59:16.254Z"
   },
   {
    "duration": 7,
    "start_time": "2021-08-05T09:00:22.179Z"
   },
   {
    "duration": 3426,
    "start_time": "2021-08-05T09:05:11.355Z"
   },
   {
    "duration": 4928,
    "start_time": "2021-08-05T09:05:41.795Z"
   },
   {
    "duration": 166,
    "start_time": "2021-08-05T09:05:46.726Z"
   },
   {
    "duration": 16,
    "start_time": "2021-08-05T09:05:46.895Z"
   },
   {
    "duration": 16,
    "start_time": "2021-08-05T09:05:46.914Z"
   },
   {
    "duration": 21,
    "start_time": "2021-08-05T09:05:46.955Z"
   },
   {
    "duration": 24,
    "start_time": "2021-08-05T09:05:46.979Z"
   },
   {
    "duration": 10,
    "start_time": "2021-08-05T09:05:47.006Z"
   },
   {
    "duration": 145,
    "start_time": "2021-08-05T09:05:47.020Z"
   },
   {
    "duration": 100,
    "start_time": "2021-08-05T09:05:47.168Z"
   },
   {
    "duration": 70,
    "start_time": "2021-08-05T09:05:47.271Z"
   },
   {
    "duration": 6,
    "start_time": "2021-08-05T09:05:47.355Z"
   },
   {
    "duration": 9,
    "start_time": "2021-08-05T09:05:47.364Z"
   },
   {
    "duration": 7,
    "start_time": "2021-08-05T09:05:47.376Z"
   },
   {
    "duration": 8,
    "start_time": "2021-08-05T09:05:47.385Z"
   },
   {
    "duration": 6,
    "start_time": "2021-08-05T09:05:47.396Z"
   },
   {
    "duration": 6,
    "start_time": "2021-08-05T09:05:47.455Z"
   },
   {
    "duration": 681,
    "start_time": "2021-08-05T09:05:47.464Z"
   },
   {
    "duration": 10,
    "start_time": "2021-08-05T09:05:48.148Z"
   },
   {
    "duration": 21,
    "start_time": "2021-08-05T09:05:48.161Z"
   },
   {
    "duration": 29,
    "start_time": "2021-08-05T09:05:48.184Z"
   },
   {
    "duration": 33,
    "start_time": "2021-08-05T09:05:48.216Z"
   },
   {
    "duration": 21,
    "start_time": "2021-08-05T09:05:48.251Z"
   },
   {
    "duration": 11,
    "start_time": "2021-08-05T09:05:48.279Z"
   },
   {
    "duration": 12,
    "start_time": "2021-08-05T09:05:48.294Z"
   },
   {
    "duration": 34,
    "start_time": "2021-08-05T09:05:48.308Z"
   },
   {
    "duration": 23,
    "start_time": "2021-08-05T09:05:48.345Z"
   },
   {
    "duration": 55,
    "start_time": "2021-08-05T09:05:48.370Z"
   },
   {
    "duration": 9,
    "start_time": "2021-08-05T09:05:48.428Z"
   },
   {
    "duration": 61,
    "start_time": "2021-08-05T09:05:48.439Z"
   },
   {
    "duration": 21,
    "start_time": "2021-08-05T09:05:48.502Z"
   },
   {
    "duration": 16,
    "start_time": "2021-08-05T09:05:48.525Z"
   },
   {
    "duration": 777,
    "start_time": "2021-08-05T09:05:48.543Z"
   },
   {
    "duration": 62,
    "start_time": "2021-08-05T09:05:49.323Z"
   },
   {
    "duration": 111,
    "start_time": "2021-08-05T09:05:49.387Z"
   },
   {
    "duration": 77,
    "start_time": "2021-08-05T09:05:49.501Z"
   },
   {
    "duration": 417,
    "start_time": "2021-08-05T09:05:49.581Z"
   },
   {
    "duration": 4,
    "start_time": "2021-08-05T09:05:50.000Z"
   },
   {
    "duration": 21,
    "start_time": "2021-08-05T09:05:50.006Z"
   },
   {
    "duration": 26,
    "start_time": "2021-08-05T09:05:50.029Z"
   },
   {
    "duration": 11,
    "start_time": "2021-08-05T09:05:50.057Z"
   },
   {
    "duration": 11,
    "start_time": "2021-08-05T09:05:50.070Z"
   },
   {
    "duration": 10,
    "start_time": "2021-08-05T09:05:50.084Z"
   },
   {
    "duration": 8,
    "start_time": "2021-08-05T09:05:50.097Z"
   },
   {
    "duration": 10,
    "start_time": "2021-08-05T09:05:50.107Z"
   },
   {
    "duration": 8,
    "start_time": "2021-08-05T09:05:50.119Z"
   },
   {
    "duration": 7,
    "start_time": "2021-08-05T09:05:50.155Z"
   },
   {
    "duration": 16,
    "start_time": "2021-08-05T09:05:50.164Z"
   },
   {
    "duration": 10,
    "start_time": "2021-08-05T09:05:50.183Z"
   },
   {
    "duration": 10,
    "start_time": "2021-08-05T09:05:50.196Z"
   },
   {
    "duration": 9,
    "start_time": "2021-08-05T09:05:50.209Z"
   },
   {
    "duration": 6,
    "start_time": "2021-08-05T09:05:50.254Z"
   },
   {
    "duration": 17,
    "start_time": "2021-08-05T09:05:50.263Z"
   },
   {
    "duration": 11,
    "start_time": "2021-08-05T09:05:50.282Z"
   },
   {
    "duration": 10,
    "start_time": "2021-08-05T09:05:50.295Z"
   },
   {
    "duration": 9,
    "start_time": "2021-08-05T09:05:50.307Z"
   },
   {
    "duration": 40,
    "start_time": "2021-08-05T09:05:50.318Z"
   },
   {
    "duration": 9,
    "start_time": "2021-08-05T09:05:50.360Z"
   },
   {
    "duration": 9,
    "start_time": "2021-08-05T09:05:50.372Z"
   },
   {
    "duration": 14,
    "start_time": "2021-08-05T09:05:50.384Z"
   },
   {
    "duration": 10,
    "start_time": "2021-08-05T09:05:50.400Z"
   },
   {
    "duration": 42,
    "start_time": "2021-08-05T09:05:50.412Z"
   },
   {
    "duration": 6,
    "start_time": "2021-08-05T09:05:50.457Z"
   },
   {
    "duration": 4797,
    "start_time": "2021-08-05T09:16:29.712Z"
   },
   {
    "duration": 189,
    "start_time": "2021-08-05T09:16:34.513Z"
   },
   {
    "duration": 17,
    "start_time": "2021-08-05T09:16:34.705Z"
   },
   {
    "duration": 38,
    "start_time": "2021-08-05T09:16:34.725Z"
   },
   {
    "duration": 20,
    "start_time": "2021-08-05T09:16:34.766Z"
   },
   {
    "duration": 24,
    "start_time": "2021-08-05T09:16:34.788Z"
   },
   {
    "duration": 41,
    "start_time": "2021-08-05T09:16:34.815Z"
   },
   {
    "duration": 117,
    "start_time": "2021-08-05T09:16:34.859Z"
   },
   {
    "duration": 105,
    "start_time": "2021-08-05T09:16:34.979Z"
   },
   {
    "duration": 91,
    "start_time": "2021-08-05T09:16:35.087Z"
   },
   {
    "duration": 6,
    "start_time": "2021-08-05T09:16:35.180Z"
   },
   {
    "duration": 18,
    "start_time": "2021-08-05T09:16:35.188Z"
   },
   {
    "duration": 7,
    "start_time": "2021-08-05T09:16:35.208Z"
   },
   {
    "duration": 43,
    "start_time": "2021-08-05T09:16:35.217Z"
   },
   {
    "duration": 10,
    "start_time": "2021-08-05T09:16:35.263Z"
   },
   {
    "duration": 10,
    "start_time": "2021-08-05T09:16:35.275Z"
   },
   {
    "duration": 688,
    "start_time": "2021-08-05T09:16:35.287Z"
   },
   {
    "duration": 7,
    "start_time": "2021-08-05T09:16:35.977Z"
   },
   {
    "duration": 21,
    "start_time": "2021-08-05T09:16:35.986Z"
   },
   {
    "duration": 18,
    "start_time": "2021-08-05T09:16:36.010Z"
   },
   {
    "duration": 45,
    "start_time": "2021-08-05T09:16:36.030Z"
   },
   {
    "duration": 24,
    "start_time": "2021-08-05T09:16:36.077Z"
   },
   {
    "duration": 10,
    "start_time": "2021-08-05T09:16:36.104Z"
   },
   {
    "duration": 48,
    "start_time": "2021-08-05T09:16:36.117Z"
   },
   {
    "duration": 24,
    "start_time": "2021-08-05T09:16:36.167Z"
   },
   {
    "duration": 7,
    "start_time": "2021-08-05T09:16:36.193Z"
   },
   {
    "duration": 64,
    "start_time": "2021-08-05T09:16:36.206Z"
   },
   {
    "duration": 9,
    "start_time": "2021-08-05T09:16:36.273Z"
   },
   {
    "duration": 77,
    "start_time": "2021-08-05T09:16:36.285Z"
   },
   {
    "duration": 11,
    "start_time": "2021-08-05T09:16:36.364Z"
   },
   {
    "duration": 12,
    "start_time": "2021-08-05T09:16:36.377Z"
   },
   {
    "duration": 817,
    "start_time": "2021-08-05T09:16:36.391Z"
   },
   {
    "duration": 54,
    "start_time": "2021-08-05T09:16:37.210Z"
   },
   {
    "duration": 62,
    "start_time": "2021-08-05T09:16:37.266Z"
   },
   {
    "duration": 37,
    "start_time": "2021-08-05T09:16:37.330Z"
   },
   {
    "duration": 298,
    "start_time": "2021-08-05T09:16:37.369Z"
   },
   {
    "duration": 4,
    "start_time": "2021-08-05T09:16:37.669Z"
   },
   {
    "duration": 50,
    "start_time": "2021-08-05T09:16:37.675Z"
   },
   {
    "duration": 9,
    "start_time": "2021-08-05T09:16:37.728Z"
   },
   {
    "duration": 19,
    "start_time": "2021-08-05T09:16:37.739Z"
   },
   {
    "duration": 18,
    "start_time": "2021-08-05T09:16:37.761Z"
   },
   {
    "duration": 21,
    "start_time": "2021-08-05T09:16:37.782Z"
   },
   {
    "duration": 23,
    "start_time": "2021-08-05T09:16:37.805Z"
   },
   {
    "duration": 26,
    "start_time": "2021-08-05T09:16:37.831Z"
   },
   {
    "duration": 16,
    "start_time": "2021-08-05T09:16:37.860Z"
   },
   {
    "duration": 23,
    "start_time": "2021-08-05T09:16:37.879Z"
   },
   {
    "duration": 21,
    "start_time": "2021-08-05T09:16:37.904Z"
   },
   {
    "duration": 32,
    "start_time": "2021-08-05T09:16:37.927Z"
   },
   {
    "duration": 31,
    "start_time": "2021-08-05T09:16:37.961Z"
   },
   {
    "duration": 21,
    "start_time": "2021-08-05T09:16:37.994Z"
   },
   {
    "duration": 23,
    "start_time": "2021-08-05T09:16:38.018Z"
   },
   {
    "duration": 18,
    "start_time": "2021-08-05T09:16:38.043Z"
   },
   {
    "duration": 24,
    "start_time": "2021-08-05T09:16:38.064Z"
   },
   {
    "duration": 28,
    "start_time": "2021-08-05T09:16:38.090Z"
   },
   {
    "duration": 15,
    "start_time": "2021-08-05T09:16:38.120Z"
   },
   {
    "duration": 23,
    "start_time": "2021-08-05T09:16:38.137Z"
   },
   {
    "duration": 19,
    "start_time": "2021-08-05T09:16:38.163Z"
   },
   {
    "duration": 14,
    "start_time": "2021-08-05T09:16:38.184Z"
   },
   {
    "duration": 20,
    "start_time": "2021-08-05T09:16:38.200Z"
   },
   {
    "duration": 10,
    "start_time": "2021-08-05T09:16:38.223Z"
   },
   {
    "duration": 25,
    "start_time": "2021-08-05T09:16:38.235Z"
   },
   {
    "duration": 28,
    "start_time": "2021-08-05T09:16:38.262Z"
   },
   {
    "duration": 4229,
    "start_time": "2021-09-21T19:34:25.405Z"
   },
   {
    "duration": 128,
    "start_time": "2021-09-21T19:34:29.639Z"
   },
   {
    "duration": 12,
    "start_time": "2021-09-21T19:34:29.769Z"
   },
   {
    "duration": 16,
    "start_time": "2021-09-21T19:34:29.783Z"
   },
   {
    "duration": 16,
    "start_time": "2021-09-21T19:34:29.801Z"
   },
   {
    "duration": 22,
    "start_time": "2021-09-21T19:34:29.818Z"
   },
   {
    "duration": 8,
    "start_time": "2021-09-21T19:34:29.842Z"
   },
   {
    "duration": 94,
    "start_time": "2021-09-21T19:34:29.854Z"
   },
   {
    "duration": 78,
    "start_time": "2021-09-21T19:34:29.951Z"
   },
   {
    "duration": 67,
    "start_time": "2021-09-21T19:34:30.031Z"
   },
   {
    "duration": 5,
    "start_time": "2021-09-21T19:34:30.100Z"
   },
   {
    "duration": 8,
    "start_time": "2021-09-21T19:34:30.107Z"
   },
   {
    "duration": 10,
    "start_time": "2021-09-21T19:34:30.117Z"
   },
   {
    "duration": 8,
    "start_time": "2021-09-21T19:34:30.128Z"
   },
   {
    "duration": 12,
    "start_time": "2021-09-21T19:34:30.137Z"
   },
   {
    "duration": 29,
    "start_time": "2021-09-21T19:34:30.150Z"
   },
   {
    "duration": 427,
    "start_time": "2021-09-21T19:34:30.181Z"
   },
   {
    "duration": 5,
    "start_time": "2021-09-21T19:34:30.609Z"
   },
   {
    "duration": 11,
    "start_time": "2021-09-21T19:34:30.616Z"
   },
   {
    "duration": 9,
    "start_time": "2021-09-21T19:34:30.629Z"
   },
   {
    "duration": 33,
    "start_time": "2021-09-21T19:34:30.640Z"
   },
   {
    "duration": 17,
    "start_time": "2021-09-21T19:34:30.675Z"
   },
   {
    "duration": 6,
    "start_time": "2021-09-21T19:34:30.693Z"
   },
   {
    "duration": 5,
    "start_time": "2021-09-21T19:34:30.701Z"
   },
   {
    "duration": 23,
    "start_time": "2021-09-21T19:34:30.708Z"
   },
   {
    "duration": 15,
    "start_time": "2021-09-21T19:34:30.736Z"
   },
   {
    "duration": 45,
    "start_time": "2021-09-21T19:34:30.754Z"
   },
   {
    "duration": 8,
    "start_time": "2021-09-21T19:34:30.801Z"
   },
   {
    "duration": 55,
    "start_time": "2021-09-21T19:34:30.811Z"
   },
   {
    "duration": 14,
    "start_time": "2021-09-21T19:34:30.868Z"
   },
   {
    "duration": 13,
    "start_time": "2021-09-21T19:34:30.884Z"
   },
   {
    "duration": 542,
    "start_time": "2021-09-21T19:34:30.899Z"
   },
   {
    "duration": 60,
    "start_time": "2021-09-21T19:34:31.443Z"
   },
   {
    "duration": 115,
    "start_time": "2021-09-21T19:34:31.505Z"
   },
   {
    "duration": 21,
    "start_time": "2021-09-21T19:34:31.677Z"
   },
   {
    "duration": 253,
    "start_time": "2021-09-21T19:34:31.701Z"
   },
   {
    "duration": 3,
    "start_time": "2021-09-21T19:34:31.956Z"
   },
   {
    "duration": 24,
    "start_time": "2021-09-21T19:34:31.961Z"
   },
   {
    "duration": 7,
    "start_time": "2021-09-21T19:34:31.987Z"
   },
   {
    "duration": 8,
    "start_time": "2021-09-21T19:34:31.996Z"
   },
   {
    "duration": 10,
    "start_time": "2021-09-21T19:34:32.006Z"
   },
   {
    "duration": 9,
    "start_time": "2021-09-21T19:34:32.018Z"
   },
   {
    "duration": 8,
    "start_time": "2021-09-21T19:34:32.029Z"
   },
   {
    "duration": 17,
    "start_time": "2021-09-21T19:34:32.039Z"
   },
   {
    "duration": 20,
    "start_time": "2021-09-21T19:34:32.058Z"
   },
   {
    "duration": 26,
    "start_time": "2021-09-21T19:34:32.080Z"
   },
   {
    "duration": 13,
    "start_time": "2021-09-21T19:34:32.108Z"
   },
   {
    "duration": 21,
    "start_time": "2021-09-21T19:34:32.123Z"
   },
   {
    "duration": 15,
    "start_time": "2021-09-21T19:34:32.146Z"
   },
   {
    "duration": 11,
    "start_time": "2021-09-21T19:34:32.163Z"
   },
   {
    "duration": 8,
    "start_time": "2021-09-21T19:34:32.176Z"
   },
   {
    "duration": 8,
    "start_time": "2021-09-21T19:34:32.186Z"
   },
   {
    "duration": 7,
    "start_time": "2021-09-21T19:34:32.195Z"
   },
   {
    "duration": 10,
    "start_time": "2021-09-21T19:34:32.204Z"
   },
   {
    "duration": 12,
    "start_time": "2021-09-21T19:34:32.216Z"
   },
   {
    "duration": 17,
    "start_time": "2021-09-21T19:34:32.230Z"
   },
   {
    "duration": 13,
    "start_time": "2021-09-21T19:34:32.249Z"
   },
   {
    "duration": 5,
    "start_time": "2021-09-21T19:34:32.263Z"
   },
   {
    "duration": 10,
    "start_time": "2021-09-21T19:34:32.270Z"
   },
   {
    "duration": 12,
    "start_time": "2021-09-21T19:34:32.282Z"
   },
   {
    "duration": 10,
    "start_time": "2021-09-21T19:34:32.296Z"
   },
   {
    "duration": 10,
    "start_time": "2021-09-21T19:34:32.308Z"
   },
   {
    "duration": 5770,
    "start_time": "2021-09-23T14:14:36.898Z"
   },
   {
    "duration": 168,
    "start_time": "2021-09-23T14:14:42.671Z"
   },
   {
    "duration": 15,
    "start_time": "2021-09-23T14:14:42.842Z"
   },
   {
    "duration": 24,
    "start_time": "2021-09-23T14:14:42.860Z"
   },
   {
    "duration": 32,
    "start_time": "2021-09-23T14:14:42.887Z"
   },
   {
    "duration": 31,
    "start_time": "2021-09-23T14:14:42.921Z"
   },
   {
    "duration": 9,
    "start_time": "2021-09-23T14:14:42.954Z"
   },
   {
    "duration": 132,
    "start_time": "2021-09-23T14:14:42.967Z"
   },
   {
    "duration": 100,
    "start_time": "2021-09-23T14:14:43.103Z"
   },
   {
    "duration": 84,
    "start_time": "2021-09-23T14:14:43.205Z"
   },
   {
    "duration": 6,
    "start_time": "2021-09-23T14:14:43.291Z"
   },
   {
    "duration": 8,
    "start_time": "2021-09-23T14:14:43.317Z"
   },
   {
    "duration": 13,
    "start_time": "2021-09-23T14:14:43.327Z"
   },
   {
    "duration": 20,
    "start_time": "2021-09-23T14:14:43.342Z"
   },
   {
    "duration": 20,
    "start_time": "2021-09-23T14:14:43.364Z"
   },
   {
    "duration": 26,
    "start_time": "2021-09-23T14:14:43.386Z"
   },
   {
    "duration": 680,
    "start_time": "2021-09-23T14:14:43.415Z"
   },
   {
    "duration": 6,
    "start_time": "2021-09-23T14:14:44.097Z"
   },
   {
    "duration": 12,
    "start_time": "2021-09-23T14:14:44.116Z"
   },
   {
    "duration": 22,
    "start_time": "2021-09-23T14:14:44.130Z"
   },
   {
    "duration": 34,
    "start_time": "2021-09-23T14:14:44.154Z"
   },
   {
    "duration": 33,
    "start_time": "2021-09-23T14:14:44.190Z"
   },
   {
    "duration": 7,
    "start_time": "2021-09-23T14:14:44.229Z"
   },
   {
    "duration": 18,
    "start_time": "2021-09-23T14:14:44.240Z"
   },
   {
    "duration": 35,
    "start_time": "2021-09-23T14:14:44.260Z"
   },
   {
    "duration": 12,
    "start_time": "2021-09-23T14:14:44.298Z"
   },
   {
    "duration": 56,
    "start_time": "2021-09-23T14:14:44.312Z"
   },
   {
    "duration": 9,
    "start_time": "2021-09-23T14:14:44.370Z"
   },
   {
    "duration": 63,
    "start_time": "2021-09-23T14:14:44.381Z"
   },
   {
    "duration": 11,
    "start_time": "2021-09-23T14:14:44.447Z"
   },
   {
    "duration": 21,
    "start_time": "2021-09-23T14:14:44.461Z"
   },
   {
    "duration": 783,
    "start_time": "2021-09-23T14:14:44.485Z"
   },
   {
    "duration": 73,
    "start_time": "2021-09-23T14:14:45.272Z"
   },
   {
    "duration": 115,
    "start_time": "2021-09-23T14:14:45.347Z"
   },
   {
    "duration": 23,
    "start_time": "2021-09-23T14:14:45.516Z"
   },
   {
    "duration": 306,
    "start_time": "2021-09-23T14:14:45.542Z"
   },
   {
    "duration": 4,
    "start_time": "2021-09-23T14:14:45.850Z"
   },
   {
    "duration": 22,
    "start_time": "2021-09-23T14:14:45.856Z"
   },
   {
    "duration": 7,
    "start_time": "2021-09-23T14:14:45.880Z"
   },
   {
    "duration": 26,
    "start_time": "2021-09-23T14:14:45.890Z"
   },
   {
    "duration": 11,
    "start_time": "2021-09-23T14:14:45.919Z"
   },
   {
    "duration": 10,
    "start_time": "2021-09-23T14:14:45.932Z"
   },
   {
    "duration": 7,
    "start_time": "2021-09-23T14:14:45.945Z"
   },
   {
    "duration": 9,
    "start_time": "2021-09-23T14:14:45.954Z"
   },
   {
    "duration": 11,
    "start_time": "2021-09-23T14:14:45.965Z"
   },
   {
    "duration": 40,
    "start_time": "2021-09-23T14:14:45.978Z"
   },
   {
    "duration": 14,
    "start_time": "2021-09-23T14:14:46.021Z"
   },
   {
    "duration": 15,
    "start_time": "2021-09-23T14:14:46.038Z"
   },
   {
    "duration": 18,
    "start_time": "2021-09-23T14:14:46.056Z"
   },
   {
    "duration": 15,
    "start_time": "2021-09-23T14:14:46.077Z"
   },
   {
    "duration": 13,
    "start_time": "2021-09-23T14:14:46.095Z"
   },
   {
    "duration": 25,
    "start_time": "2021-09-23T14:14:46.110Z"
   },
   {
    "duration": 10,
    "start_time": "2021-09-23T14:14:46.138Z"
   },
   {
    "duration": 15,
    "start_time": "2021-09-23T14:14:46.151Z"
   },
   {
    "duration": 16,
    "start_time": "2021-09-23T14:14:46.168Z"
   },
   {
    "duration": 32,
    "start_time": "2021-09-23T14:14:46.187Z"
   },
   {
    "duration": 10,
    "start_time": "2021-09-23T14:14:46.221Z"
   },
   {
    "duration": 20,
    "start_time": "2021-09-23T14:14:46.233Z"
   },
   {
    "duration": 15,
    "start_time": "2021-09-23T14:14:46.255Z"
   },
   {
    "duration": 18,
    "start_time": "2021-09-23T14:14:46.272Z"
   },
   {
    "duration": 18,
    "start_time": "2021-09-23T14:14:46.293Z"
   },
   {
    "duration": 10,
    "start_time": "2021-09-23T14:14:46.313Z"
   }
  ],
  "kernelspec": {
   "display_name": "Python 3",
   "language": "python",
   "name": "python3"
  },
  "language_info": {
   "codemirror_mode": {
    "name": "ipython",
    "version": 3
   },
   "file_extension": ".py",
   "mimetype": "text/x-python",
   "name": "python",
   "nbconvert_exporter": "python",
   "pygments_lexer": "ipython3",
   "version": "3.8.5"
  },
  "toc": {
   "base_numbering": 1,
   "nav_menu": {},
   "number_sections": true,
   "sideBar": true,
   "skip_h1_title": true,
   "title_cell": "Table of Contents",
   "title_sidebar": "Contents",
   "toc_cell": false,
   "toc_position": {},
   "toc_section_display": true,
   "toc_window_display": true
  }
 },
 "nbformat": 4,
 "nbformat_minor": 2
}

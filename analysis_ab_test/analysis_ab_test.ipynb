{
 "cells": [
  {
   "cell_type": "markdown",
   "metadata": {},
   "source": [
    "# Увеличение выручки интернет-магазина"
   ]
  },
  {
   "cell_type": "markdown",
   "metadata": {},
   "source": [
    " Отдел маркетинга подготовил список гипотез для увеличения выручки крупного интернет-магазина."
   ]
  },
  {
   "cell_type": "markdown",
   "metadata": {},
   "source": [
    "Цель проекта:\n",
    "    \n",
    "  - приоритизация гипотез\n",
    "  - анализ результатов А/В теста"
   ]
  },
  {
   "cell_type": "markdown",
   "metadata": {},
   "source": [
    "Для выполнения первой части в работе мы имеем файл с 9 гипотезами по увеличению выручки интернет-магазина с указанными параметрами:\n",
    "  - Reach \n",
    "  - Impact \n",
    "  - Confidence \n",
    "  - Effort"
   ]
  },
  {
   "cell_type": "markdown",
   "metadata": {},
   "source": [
    "Для выполнения 2 части мы имеем результаты  A/B-теста, которые описаны в файлах\n",
    " - orders:\n",
    "   - transactionId — идентификатор заказа\n",
    "   - visitorId — идентификатор пользователя, совершившего заказ\n",
    "   - date — дата, когда был совершён заказ\n",
    "   - revenue — выручка заказа\n",
    "   - group — группа A/B-теста, в которую попал заказ\n",
    " - visitors:\n",
    "   - date — дата;\n",
    "   - group — группа A/B-теста;\n",
    "   - visitors — количество пользователей в указанную дату в указанной группе A/B-теста."
   ]
  },
  {
   "cell_type": "markdown",
   "metadata": {},
   "source": [
    "План выполнения"
   ]
  },
  {
   "cell_type": "markdown",
   "metadata": {},
   "source": [
    "1. [Приоритизация гипотез](#Prioritization)\n",
    "2. [Анализ A/B-теста](#a_b_test)\n",
    "3. [График кумулятивной выручки по группам](#cumul_revenue)\n",
    "4. [График кумулятивного среднего чека по группам](#cumul_average_check)\n",
    "5. [График относительного изменения кумулятивного среднего чека группы B к группе A](#cumul_change_average_check)\n",
    "6. [График кумулятивной конверсии по группам](#cumul_conversion)\n",
    "7. [График относительного изменения кумулятивной конверсии группы B к группе A](#cumul_change_conversion)\n",
    "8. [Точечный график количества заказов по пользователям](#chart_count_orders)\n",
    "9. [95-й и 99-й перцентили количества заказов на пользователя](#percentile_count_orders)\n",
    "10. [Точечный график стоимостей заказов](#chart_cost_orders)\n",
    "11. [95-й и 99-й перцентили стоимости заказов](#percentile_cost_orders)\n",
    "12. [Статистическая значимость различий в конверсии между группами по «очищенным» данным](#stat_conversion)\n",
    "13. [Статистическая значимость различий в среднем чеке заказа между группами по «сырым» данным](#stat_average_check)\n",
    "14. [Статистическая значимость различий в конверсии между группами по «очищенным» данным](#stat_conversion_clean)\n",
    "15. [Статистическуя значимость различий в среднем чеке заказа между группами по «очищенным» данным](#stat_average_check_clean)\n",
    "16. [Вывод](#end)"
   ]
  },
  {
   "cell_type": "markdown",
   "metadata": {},
   "source": [
    "## Приоритизация гипотез\n",
    "<a id=\"Prioritization\"></a>"
   ]
  },
  {
   "cell_type": "markdown",
   "metadata": {},
   "source": [
    "Импортируем библиотеку pandas, scipy, numpy, math, matplotlib"
   ]
  },
  {
   "cell_type": "code",
   "execution_count": 1,
   "metadata": {},
   "outputs": [],
   "source": [
    "import pandas as pd\n",
    "import scipy.stats as stats\n",
    "import numpy as np\n",
    "import math as mth\n",
    "import matplotlib.pyplot as plt\n",
    "pd.set_option('max_colwidth', 110)"
   ]
  },
  {
   "cell_type": "markdown",
   "metadata": {},
   "source": [
    "Откроем и посмотрим общую информацию файла hypothesis"
   ]
  },
  {
   "cell_type": "code",
   "execution_count": 2,
   "metadata": {},
   "outputs": [],
   "source": [
    "data = pd.read_csv('/datasets/.csv')"
   ]
  },
  {
   "cell_type": "code",
   "execution_count": 3,
   "metadata": {},
   "outputs": [
    {
     "data": {
      "text/html": [
       "<div>\n",
       "<style scoped>\n",
       "    .dataframe tbody tr th:only-of-type {\n",
       "        vertical-align: middle;\n",
       "    }\n",
       "\n",
       "    .dataframe tbody tr th {\n",
       "        vertical-align: top;\n",
       "    }\n",
       "\n",
       "    .dataframe thead th {\n",
       "        text-align: right;\n",
       "    }\n",
       "</style>\n",
       "<table border=\"1\" class=\"dataframe\">\n",
       "  <thead>\n",
       "    <tr style=\"text-align: right;\">\n",
       "      <th></th>\n",
       "      <th>Hypothesis</th>\n",
       "      <th>Reach</th>\n",
       "      <th>Impact</th>\n",
       "      <th>Confidence</th>\n",
       "      <th>Efforts</th>\n",
       "    </tr>\n",
       "  </thead>\n",
       "  <tbody>\n",
       "    <tr>\n",
       "      <th>0</th>\n",
       "      <td>Добавить два новых канала привлечения трафика, что позволит привлекать на 30% больше пользователей</td>\n",
       "      <td>3</td>\n",
       "      <td>10</td>\n",
       "      <td>8</td>\n",
       "      <td>6</td>\n",
       "    </tr>\n",
       "    <tr>\n",
       "      <th>1</th>\n",
       "      <td>Запустить собственную службу доставки, что сократит срок доставки заказов</td>\n",
       "      <td>2</td>\n",
       "      <td>5</td>\n",
       "      <td>4</td>\n",
       "      <td>10</td>\n",
       "    </tr>\n",
       "    <tr>\n",
       "      <th>2</th>\n",
       "      <td>Добавить блоки рекомендаций товаров на сайт интернет магазина, чтобы повысить конверсию и средний чек заказа</td>\n",
       "      <td>8</td>\n",
       "      <td>3</td>\n",
       "      <td>7</td>\n",
       "      <td>3</td>\n",
       "    </tr>\n",
       "    <tr>\n",
       "      <th>3</th>\n",
       "      <td>Изменить структура категорий, что увеличит конверсию, т.к. пользователи быстрее найдут нужный товар</td>\n",
       "      <td>8</td>\n",
       "      <td>3</td>\n",
       "      <td>3</td>\n",
       "      <td>8</td>\n",
       "    </tr>\n",
       "    <tr>\n",
       "      <th>4</th>\n",
       "      <td>Изменить цвет фона главной страницы, чтобы увеличить вовлеченность пользователей</td>\n",
       "      <td>3</td>\n",
       "      <td>1</td>\n",
       "      <td>1</td>\n",
       "      <td>1</td>\n",
       "    </tr>\n",
       "    <tr>\n",
       "      <th>5</th>\n",
       "      <td>Добавить страницу отзывов клиентов о магазине, что позволит увеличить количество заказов</td>\n",
       "      <td>3</td>\n",
       "      <td>2</td>\n",
       "      <td>2</td>\n",
       "      <td>3</td>\n",
       "    </tr>\n",
       "    <tr>\n",
       "      <th>6</th>\n",
       "      <td>Показать на главной странице баннеры с актуальными акциями и распродажами, чтобы увеличить конверсию</td>\n",
       "      <td>5</td>\n",
       "      <td>3</td>\n",
       "      <td>8</td>\n",
       "      <td>3</td>\n",
       "    </tr>\n",
       "    <tr>\n",
       "      <th>7</th>\n",
       "      <td>Добавить форму подписки на все основные страницы, чтобы собрать базу клиентов для email-рассылок</td>\n",
       "      <td>10</td>\n",
       "      <td>7</td>\n",
       "      <td>8</td>\n",
       "      <td>5</td>\n",
       "    </tr>\n",
       "    <tr>\n",
       "      <th>8</th>\n",
       "      <td>Запустить акцию, дающую скидку на товар в день рождения</td>\n",
       "      <td>1</td>\n",
       "      <td>9</td>\n",
       "      <td>9</td>\n",
       "      <td>5</td>\n",
       "    </tr>\n",
       "  </tbody>\n",
       "</table>\n",
       "</div>"
      ],
      "text/plain": [
       "                                                                                                     Hypothesis  \\\n",
       "0            Добавить два новых канала привлечения трафика, что позволит привлекать на 30% больше пользователей   \n",
       "1                                     Запустить собственную службу доставки, что сократит срок доставки заказов   \n",
       "2  Добавить блоки рекомендаций товаров на сайт интернет магазина, чтобы повысить конверсию и средний чек заказа   \n",
       "3           Изменить структура категорий, что увеличит конверсию, т.к. пользователи быстрее найдут нужный товар   \n",
       "4                              Изменить цвет фона главной страницы, чтобы увеличить вовлеченность пользователей   \n",
       "5                      Добавить страницу отзывов клиентов о магазине, что позволит увеличить количество заказов   \n",
       "6          Показать на главной странице баннеры с актуальными акциями и распродажами, чтобы увеличить конверсию   \n",
       "7              Добавить форму подписки на все основные страницы, чтобы собрать базу клиентов для email-рассылок   \n",
       "8                                                       Запустить акцию, дающую скидку на товар в день рождения   \n",
       "\n",
       "   Reach  Impact  Confidence  Efforts  \n",
       "0      3      10           8        6  \n",
       "1      2       5           4       10  \n",
       "2      8       3           7        3  \n",
       "3      8       3           3        8  \n",
       "4      3       1           1        1  \n",
       "5      3       2           2        3  \n",
       "6      5       3           8        3  \n",
       "7     10       7           8        5  \n",
       "8      1       9           9        5  "
      ]
     },
     "execution_count": 3,
     "metadata": {},
     "output_type": "execute_result"
    }
   ],
   "source": [
    "data"
   ]
  },
  {
   "cell_type": "markdown",
   "metadata": {},
   "source": [
    "### Применение фреймворка ICE"
   ]
  },
  {
   "cell_type": "markdown",
   "metadata": {},
   "source": [
    "Фреймворк ICE рассчитывается по формуле:\n",
    "\n",
    "$$ ICE = \\frac { IMPACT * CONFIDENCE } { EFFORTS } $$"
   ]
  },
  {
   "cell_type": "code",
   "execution_count": 4,
   "metadata": {},
   "outputs": [],
   "source": [
    "data['ICE'] = data['Impact'] * data['Confidence'] / data['Efforts']"
   ]
  },
  {
   "cell_type": "code",
   "execution_count": 5,
   "metadata": {},
   "outputs": [
    {
     "data": {
      "text/html": [
       "<div>\n",
       "<style scoped>\n",
       "    .dataframe tbody tr th:only-of-type {\n",
       "        vertical-align: middle;\n",
       "    }\n",
       "\n",
       "    .dataframe tbody tr th {\n",
       "        vertical-align: top;\n",
       "    }\n",
       "\n",
       "    .dataframe thead th {\n",
       "        text-align: right;\n",
       "    }\n",
       "</style>\n",
       "<table border=\"1\" class=\"dataframe\">\n",
       "  <thead>\n",
       "    <tr style=\"text-align: right;\">\n",
       "      <th></th>\n",
       "      <th>Hypothesis</th>\n",
       "      <th>ICE</th>\n",
       "    </tr>\n",
       "  </thead>\n",
       "  <tbody>\n",
       "    <tr>\n",
       "      <th>8</th>\n",
       "      <td>Запустить акцию, дающую скидку на товар в день рождения</td>\n",
       "      <td>16.200000</td>\n",
       "    </tr>\n",
       "    <tr>\n",
       "      <th>0</th>\n",
       "      <td>Добавить два новых канала привлечения трафика, что позволит привлекать на 30% больше пользователей</td>\n",
       "      <td>13.333333</td>\n",
       "    </tr>\n",
       "    <tr>\n",
       "      <th>7</th>\n",
       "      <td>Добавить форму подписки на все основные страницы, чтобы собрать базу клиентов для email-рассылок</td>\n",
       "      <td>11.200000</td>\n",
       "    </tr>\n",
       "    <tr>\n",
       "      <th>6</th>\n",
       "      <td>Показать на главной странице баннеры с актуальными акциями и распродажами, чтобы увеличить конверсию</td>\n",
       "      <td>8.000000</td>\n",
       "    </tr>\n",
       "    <tr>\n",
       "      <th>2</th>\n",
       "      <td>Добавить блоки рекомендаций товаров на сайт интернет магазина, чтобы повысить конверсию и средний чек заказа</td>\n",
       "      <td>7.000000</td>\n",
       "    </tr>\n",
       "    <tr>\n",
       "      <th>1</th>\n",
       "      <td>Запустить собственную службу доставки, что сократит срок доставки заказов</td>\n",
       "      <td>2.000000</td>\n",
       "    </tr>\n",
       "    <tr>\n",
       "      <th>5</th>\n",
       "      <td>Добавить страницу отзывов клиентов о магазине, что позволит увеличить количество заказов</td>\n",
       "      <td>1.333333</td>\n",
       "    </tr>\n",
       "    <tr>\n",
       "      <th>3</th>\n",
       "      <td>Изменить структура категорий, что увеличит конверсию, т.к. пользователи быстрее найдут нужный товар</td>\n",
       "      <td>1.125000</td>\n",
       "    </tr>\n",
       "    <tr>\n",
       "      <th>4</th>\n",
       "      <td>Изменить цвет фона главной страницы, чтобы увеличить вовлеченность пользователей</td>\n",
       "      <td>1.000000</td>\n",
       "    </tr>\n",
       "  </tbody>\n",
       "</table>\n",
       "</div>"
      ],
      "text/plain": [
       "                                                                                                     Hypothesis  \\\n",
       "8                                                       Запустить акцию, дающую скидку на товар в день рождения   \n",
       "0            Добавить два новых канала привлечения трафика, что позволит привлекать на 30% больше пользователей   \n",
       "7              Добавить форму подписки на все основные страницы, чтобы собрать базу клиентов для email-рассылок   \n",
       "6          Показать на главной странице баннеры с актуальными акциями и распродажами, чтобы увеличить конверсию   \n",
       "2  Добавить блоки рекомендаций товаров на сайт интернет магазина, чтобы повысить конверсию и средний чек заказа   \n",
       "1                                     Запустить собственную службу доставки, что сократит срок доставки заказов   \n",
       "5                      Добавить страницу отзывов клиентов о магазине, что позволит увеличить количество заказов   \n",
       "3           Изменить структура категорий, что увеличит конверсию, т.к. пользователи быстрее найдут нужный товар   \n",
       "4                              Изменить цвет фона главной страницы, чтобы увеличить вовлеченность пользователей   \n",
       "\n",
       "         ICE  \n",
       "8  16.200000  \n",
       "0  13.333333  \n",
       "7  11.200000  \n",
       "6   8.000000  \n",
       "2   7.000000  \n",
       "1   2.000000  \n",
       "5   1.333333  \n",
       "3   1.125000  \n",
       "4   1.000000  "
      ]
     },
     "execution_count": 5,
     "metadata": {},
     "output_type": "execute_result"
    }
   ],
   "source": [
    "data[['Hypothesis', 'ICE']].sort_values(by='ICE', ascending=False)"
   ]
  },
  {
   "cell_type": "markdown",
   "metadata": {},
   "source": [
    "Самыми перспективными гипотезами по ICE являются: 8, 0, 7, 6, 2 "
   ]
  },
  {
   "cell_type": "markdown",
   "metadata": {},
   "source": [
    "### Применение фреймворка RICE"
   ]
  },
  {
   "cell_type": "markdown",
   "metadata": {},
   "source": [
    "Фреймворк RICE рассчитывается по формуле:\n",
    "\n",
    "$$ RICE = \\frac { REACH * IMPACT * CONFIDENCE } { EFFORTS } $$"
   ]
  },
  {
   "cell_type": "code",
   "execution_count": 6,
   "metadata": {},
   "outputs": [],
   "source": [
    "data['RICE'] = data['Reach'] * data['Impact'] * data['Confidence'] / data['Efforts']"
   ]
  },
  {
   "cell_type": "code",
   "execution_count": 7,
   "metadata": {},
   "outputs": [
    {
     "data": {
      "text/html": [
       "<div>\n",
       "<style scoped>\n",
       "    .dataframe tbody tr th:only-of-type {\n",
       "        vertical-align: middle;\n",
       "    }\n",
       "\n",
       "    .dataframe tbody tr th {\n",
       "        vertical-align: top;\n",
       "    }\n",
       "\n",
       "    .dataframe thead th {\n",
       "        text-align: right;\n",
       "    }\n",
       "</style>\n",
       "<table border=\"1\" class=\"dataframe\">\n",
       "  <thead>\n",
       "    <tr style=\"text-align: right;\">\n",
       "      <th></th>\n",
       "      <th>Hypothesis</th>\n",
       "      <th>RICE</th>\n",
       "    </tr>\n",
       "  </thead>\n",
       "  <tbody>\n",
       "    <tr>\n",
       "      <th>7</th>\n",
       "      <td>Добавить форму подписки на все основные страницы, чтобы собрать базу клиентов для email-рассылок</td>\n",
       "      <td>112.0</td>\n",
       "    </tr>\n",
       "    <tr>\n",
       "      <th>2</th>\n",
       "      <td>Добавить блоки рекомендаций товаров на сайт интернет магазина, чтобы повысить конверсию и средний чек заказа</td>\n",
       "      <td>56.0</td>\n",
       "    </tr>\n",
       "    <tr>\n",
       "      <th>0</th>\n",
       "      <td>Добавить два новых канала привлечения трафика, что позволит привлекать на 30% больше пользователей</td>\n",
       "      <td>40.0</td>\n",
       "    </tr>\n",
       "    <tr>\n",
       "      <th>6</th>\n",
       "      <td>Показать на главной странице баннеры с актуальными акциями и распродажами, чтобы увеличить конверсию</td>\n",
       "      <td>40.0</td>\n",
       "    </tr>\n",
       "    <tr>\n",
       "      <th>8</th>\n",
       "      <td>Запустить акцию, дающую скидку на товар в день рождения</td>\n",
       "      <td>16.2</td>\n",
       "    </tr>\n",
       "    <tr>\n",
       "      <th>3</th>\n",
       "      <td>Изменить структура категорий, что увеличит конверсию, т.к. пользователи быстрее найдут нужный товар</td>\n",
       "      <td>9.0</td>\n",
       "    </tr>\n",
       "    <tr>\n",
       "      <th>1</th>\n",
       "      <td>Запустить собственную службу доставки, что сократит срок доставки заказов</td>\n",
       "      <td>4.0</td>\n",
       "    </tr>\n",
       "    <tr>\n",
       "      <th>5</th>\n",
       "      <td>Добавить страницу отзывов клиентов о магазине, что позволит увеличить количество заказов</td>\n",
       "      <td>4.0</td>\n",
       "    </tr>\n",
       "    <tr>\n",
       "      <th>4</th>\n",
       "      <td>Изменить цвет фона главной страницы, чтобы увеличить вовлеченность пользователей</td>\n",
       "      <td>3.0</td>\n",
       "    </tr>\n",
       "  </tbody>\n",
       "</table>\n",
       "</div>"
      ],
      "text/plain": [
       "                                                                                                     Hypothesis  \\\n",
       "7              Добавить форму подписки на все основные страницы, чтобы собрать базу клиентов для email-рассылок   \n",
       "2  Добавить блоки рекомендаций товаров на сайт интернет магазина, чтобы повысить конверсию и средний чек заказа   \n",
       "0            Добавить два новых канала привлечения трафика, что позволит привлекать на 30% больше пользователей   \n",
       "6          Показать на главной странице баннеры с актуальными акциями и распродажами, чтобы увеличить конверсию   \n",
       "8                                                       Запустить акцию, дающую скидку на товар в день рождения   \n",
       "3           Изменить структура категорий, что увеличит конверсию, т.к. пользователи быстрее найдут нужный товар   \n",
       "1                                     Запустить собственную службу доставки, что сократит срок доставки заказов   \n",
       "5                      Добавить страницу отзывов клиентов о магазине, что позволит увеличить количество заказов   \n",
       "4                              Изменить цвет фона главной страницы, чтобы увеличить вовлеченность пользователей   \n",
       "\n",
       "    RICE  \n",
       "7  112.0  \n",
       "2   56.0  \n",
       "0   40.0  \n",
       "6   40.0  \n",
       "8   16.2  \n",
       "3    9.0  \n",
       "1    4.0  \n",
       "5    4.0  \n",
       "4    3.0  "
      ]
     },
     "execution_count": 7,
     "metadata": {},
     "output_type": "execute_result"
    }
   ],
   "source": [
    "data[['Hypothesis', 'RICE']].sort_values(by='RICE', ascending=False)"
   ]
  },
  {
   "cell_type": "markdown",
   "metadata": {},
   "source": [
    "Самыми перспективными гипотезами по RICE являются: 7, 2, 0, 6, 8"
   ]
  },
  {
   "cell_type": "code",
   "execution_count": 8,
   "metadata": {},
   "outputs": [
    {
     "data": {
      "text/html": [
       "<style  type=\"text/css\" >\n",
       "#T_bb573e2b_30ff_11ec_9a04_40b0763bd62drow0_col1,#T_bb573e2b_30ff_11ec_9a04_40b0763bd62drow4_col2{\n",
       "            background-color:  #b40426;\n",
       "            color:  #f1f1f1;\n",
       "        }#T_bb573e2b_30ff_11ec_9a04_40b0763bd62drow0_col2{\n",
       "            background-color:  #f7b79b;\n",
       "            color:  #000000;\n",
       "        }#T_bb573e2b_30ff_11ec_9a04_40b0763bd62drow1_col1{\n",
       "            background-color:  #d9dce1;\n",
       "            color:  #000000;\n",
       "        }#T_bb573e2b_30ff_11ec_9a04_40b0763bd62drow1_col2{\n",
       "            background-color:  #bfd3f6;\n",
       "            color:  #000000;\n",
       "        }#T_bb573e2b_30ff_11ec_9a04_40b0763bd62drow2_col1,#T_bb573e2b_30ff_11ec_9a04_40b0763bd62drow3_col1{\n",
       "            background-color:  #abc8fd;\n",
       "            color:  #000000;\n",
       "        }#T_bb573e2b_30ff_11ec_9a04_40b0763bd62drow2_col2{\n",
       "            background-color:  #ec7f63;\n",
       "            color:  #000000;\n",
       "        }#T_bb573e2b_30ff_11ec_9a04_40b0763bd62drow3_col2{\n",
       "            background-color:  #d2dbe8;\n",
       "            color:  #000000;\n",
       "        }#T_bb573e2b_30ff_11ec_9a04_40b0763bd62drow4_col1{\n",
       "            background-color:  #6180e9;\n",
       "            color:  #000000;\n",
       "        }#T_bb573e2b_30ff_11ec_9a04_40b0763bd62drow5_col1{\n",
       "            background-color:  #4b64d5;\n",
       "            color:  #f1f1f1;\n",
       "        }#T_bb573e2b_30ff_11ec_9a04_40b0763bd62drow5_col2,#T_bb573e2b_30ff_11ec_9a04_40b0763bd62drow6_col1,#T_bb573e2b_30ff_11ec_9a04_40b0763bd62drow7_col1{\n",
       "            background-color:  #3d50c3;\n",
       "            color:  #f1f1f1;\n",
       "        }#T_bb573e2b_30ff_11ec_9a04_40b0763bd62drow6_col2{\n",
       "            background-color:  #4e68d8;\n",
       "            color:  #000000;\n",
       "        }#T_bb573e2b_30ff_11ec_9a04_40b0763bd62drow7_col2{\n",
       "            background-color:  #4055c8;\n",
       "            color:  #f1f1f1;\n",
       "        }#T_bb573e2b_30ff_11ec_9a04_40b0763bd62drow8_col1,#T_bb573e2b_30ff_11ec_9a04_40b0763bd62drow8_col2{\n",
       "            background-color:  #3b4cc0;\n",
       "            color:  #f1f1f1;\n",
       "        }</style><table id=\"T_bb573e2b_30ff_11ec_9a04_40b0763bd62d\" ><thead>    <tr>        <th class=\"blank level0\" ></th>        <th class=\"col_heading level0 col0\" >Hypothesis</th>        <th class=\"col_heading level0 col1\" >RICE</th>        <th class=\"col_heading level0 col2\" >ICE</th>    </tr></thead><tbody>\n",
       "                <tr>\n",
       "                        <th id=\"T_bb573e2b_30ff_11ec_9a04_40b0763bd62dlevel0_row0\" class=\"row_heading level0 row0\" >7</th>\n",
       "                        <td id=\"T_bb573e2b_30ff_11ec_9a04_40b0763bd62drow0_col0\" class=\"data row0 col0\" >Добавить форму подписки на все основные страницы, чтобы собрать базу клиентов для email-рассылок</td>\n",
       "                        <td id=\"T_bb573e2b_30ff_11ec_9a04_40b0763bd62drow0_col1\" class=\"data row0 col1\" >112.000000</td>\n",
       "                        <td id=\"T_bb573e2b_30ff_11ec_9a04_40b0763bd62drow0_col2\" class=\"data row0 col2\" >11.200000</td>\n",
       "            </tr>\n",
       "            <tr>\n",
       "                        <th id=\"T_bb573e2b_30ff_11ec_9a04_40b0763bd62dlevel0_row1\" class=\"row_heading level0 row1\" >2</th>\n",
       "                        <td id=\"T_bb573e2b_30ff_11ec_9a04_40b0763bd62drow1_col0\" class=\"data row1 col0\" >Добавить блоки рекомендаций товаров на сайт интернет магазина, чтобы повысить конверсию и средний чек заказа</td>\n",
       "                        <td id=\"T_bb573e2b_30ff_11ec_9a04_40b0763bd62drow1_col1\" class=\"data row1 col1\" >56.000000</td>\n",
       "                        <td id=\"T_bb573e2b_30ff_11ec_9a04_40b0763bd62drow1_col2\" class=\"data row1 col2\" >7.000000</td>\n",
       "            </tr>\n",
       "            <tr>\n",
       "                        <th id=\"T_bb573e2b_30ff_11ec_9a04_40b0763bd62dlevel0_row2\" class=\"row_heading level0 row2\" >0</th>\n",
       "                        <td id=\"T_bb573e2b_30ff_11ec_9a04_40b0763bd62drow2_col0\" class=\"data row2 col0\" >Добавить два новых канала привлечения трафика, что позволит привлекать на 30% больше пользователей</td>\n",
       "                        <td id=\"T_bb573e2b_30ff_11ec_9a04_40b0763bd62drow2_col1\" class=\"data row2 col1\" >40.000000</td>\n",
       "                        <td id=\"T_bb573e2b_30ff_11ec_9a04_40b0763bd62drow2_col2\" class=\"data row2 col2\" >13.333333</td>\n",
       "            </tr>\n",
       "            <tr>\n",
       "                        <th id=\"T_bb573e2b_30ff_11ec_9a04_40b0763bd62dlevel0_row3\" class=\"row_heading level0 row3\" >6</th>\n",
       "                        <td id=\"T_bb573e2b_30ff_11ec_9a04_40b0763bd62drow3_col0\" class=\"data row3 col0\" >Показать на главной странице баннеры с актуальными акциями и распродажами, чтобы увеличить конверсию</td>\n",
       "                        <td id=\"T_bb573e2b_30ff_11ec_9a04_40b0763bd62drow3_col1\" class=\"data row3 col1\" >40.000000</td>\n",
       "                        <td id=\"T_bb573e2b_30ff_11ec_9a04_40b0763bd62drow3_col2\" class=\"data row3 col2\" >8.000000</td>\n",
       "            </tr>\n",
       "            <tr>\n",
       "                        <th id=\"T_bb573e2b_30ff_11ec_9a04_40b0763bd62dlevel0_row4\" class=\"row_heading level0 row4\" >8</th>\n",
       "                        <td id=\"T_bb573e2b_30ff_11ec_9a04_40b0763bd62drow4_col0\" class=\"data row4 col0\" >Запустить акцию, дающую скидку на товар в день рождения</td>\n",
       "                        <td id=\"T_bb573e2b_30ff_11ec_9a04_40b0763bd62drow4_col1\" class=\"data row4 col1\" >16.200000</td>\n",
       "                        <td id=\"T_bb573e2b_30ff_11ec_9a04_40b0763bd62drow4_col2\" class=\"data row4 col2\" >16.200000</td>\n",
       "            </tr>\n",
       "            <tr>\n",
       "                        <th id=\"T_bb573e2b_30ff_11ec_9a04_40b0763bd62dlevel0_row5\" class=\"row_heading level0 row5\" >3</th>\n",
       "                        <td id=\"T_bb573e2b_30ff_11ec_9a04_40b0763bd62drow5_col0\" class=\"data row5 col0\" >Изменить структура категорий, что увеличит конверсию, т.к. пользователи быстрее найдут нужный товар</td>\n",
       "                        <td id=\"T_bb573e2b_30ff_11ec_9a04_40b0763bd62drow5_col1\" class=\"data row5 col1\" >9.000000</td>\n",
       "                        <td id=\"T_bb573e2b_30ff_11ec_9a04_40b0763bd62drow5_col2\" class=\"data row5 col2\" >1.125000</td>\n",
       "            </tr>\n",
       "            <tr>\n",
       "                        <th id=\"T_bb573e2b_30ff_11ec_9a04_40b0763bd62dlevel0_row6\" class=\"row_heading level0 row6\" >1</th>\n",
       "                        <td id=\"T_bb573e2b_30ff_11ec_9a04_40b0763bd62drow6_col0\" class=\"data row6 col0\" >Запустить собственную службу доставки, что сократит срок доставки заказов</td>\n",
       "                        <td id=\"T_bb573e2b_30ff_11ec_9a04_40b0763bd62drow6_col1\" class=\"data row6 col1\" >4.000000</td>\n",
       "                        <td id=\"T_bb573e2b_30ff_11ec_9a04_40b0763bd62drow6_col2\" class=\"data row6 col2\" >2.000000</td>\n",
       "            </tr>\n",
       "            <tr>\n",
       "                        <th id=\"T_bb573e2b_30ff_11ec_9a04_40b0763bd62dlevel0_row7\" class=\"row_heading level0 row7\" >5</th>\n",
       "                        <td id=\"T_bb573e2b_30ff_11ec_9a04_40b0763bd62drow7_col0\" class=\"data row7 col0\" >Добавить страницу отзывов клиентов о магазине, что позволит увеличить количество заказов</td>\n",
       "                        <td id=\"T_bb573e2b_30ff_11ec_9a04_40b0763bd62drow7_col1\" class=\"data row7 col1\" >4.000000</td>\n",
       "                        <td id=\"T_bb573e2b_30ff_11ec_9a04_40b0763bd62drow7_col2\" class=\"data row7 col2\" >1.333333</td>\n",
       "            </tr>\n",
       "            <tr>\n",
       "                        <th id=\"T_bb573e2b_30ff_11ec_9a04_40b0763bd62dlevel0_row8\" class=\"row_heading level0 row8\" >4</th>\n",
       "                        <td id=\"T_bb573e2b_30ff_11ec_9a04_40b0763bd62drow8_col0\" class=\"data row8 col0\" >Изменить цвет фона главной страницы, чтобы увеличить вовлеченность пользователей</td>\n",
       "                        <td id=\"T_bb573e2b_30ff_11ec_9a04_40b0763bd62drow8_col1\" class=\"data row8 col1\" >3.000000</td>\n",
       "                        <td id=\"T_bb573e2b_30ff_11ec_9a04_40b0763bd62drow8_col2\" class=\"data row8 col2\" >1.000000</td>\n",
       "            </tr>\n",
       "    </tbody></table>"
      ],
      "text/plain": [
       "<pandas.io.formats.style.Styler at 0x225a145b1c0>"
      ]
     },
     "execution_count": 8,
     "metadata": {},
     "output_type": "execute_result"
    }
   ],
   "source": [
    "data[['Hypothesis', 'RICE', 'ICE']].sort_values(by=['RICE', 'ICE'], ascending=False).style.background_gradient('coolwarm')"
   ]
  },
  {
   "cell_type": "markdown",
   "metadata": {},
   "source": [
    "### Вывод"
   ]
  },
  {
   "cell_type": "markdown",
   "metadata": {},
   "source": [
    "Номера перспективных гипотез при применении фреймворков ICE и RICE совпадают, но меняется их приоритизация. При фреймворке ICE лидеры - 8, 0. При фреймворке RICE лидеры - 7, 2. При применении фреймворка RICE появился новый(и важный) компонент \"Reach\". Он позволяет оценить скольких пользователей затронет изменение, которое рассматривается для внесения."
   ]
  },
  {
   "cell_type": "markdown",
   "metadata": {},
   "source": [
    "## Анализ A/B-теста\n",
    "<a id=\"a_b_test\"></a>"
   ]
  },
  {
   "cell_type": "markdown",
   "metadata": {},
   "source": [
    "Откроем и посмотрим общую информацию файлов 'orders' и 'visitors'"
   ]
  },
  {
   "cell_type": "code",
   "execution_count": 9,
   "metadata": {},
   "outputs": [],
   "source": [
    "orders = pd.read_csv('https://code.s3.yandex.net/datasets/orders.csv')\n",
    "visitors = pd.read_csv('https://code.s3.yandex.net/datasets/visitors.csv') "
   ]
  },
  {
   "cell_type": "code",
   "execution_count": 10,
   "metadata": {},
   "outputs": [
    {
     "data": {
      "text/html": [
       "<div>\n",
       "<style scoped>\n",
       "    .dataframe tbody tr th:only-of-type {\n",
       "        vertical-align: middle;\n",
       "    }\n",
       "\n",
       "    .dataframe tbody tr th {\n",
       "        vertical-align: top;\n",
       "    }\n",
       "\n",
       "    .dataframe thead th {\n",
       "        text-align: right;\n",
       "    }\n",
       "</style>\n",
       "<table border=\"1\" class=\"dataframe\">\n",
       "  <thead>\n",
       "    <tr style=\"text-align: right;\">\n",
       "      <th></th>\n",
       "      <th>transactionId</th>\n",
       "      <th>visitorId</th>\n",
       "      <th>date</th>\n",
       "      <th>revenue</th>\n",
       "      <th>group</th>\n",
       "    </tr>\n",
       "  </thead>\n",
       "  <tbody>\n",
       "    <tr>\n",
       "      <th>0</th>\n",
       "      <td>3667963787</td>\n",
       "      <td>3312258926</td>\n",
       "      <td>2019-08-15</td>\n",
       "      <td>1650</td>\n",
       "      <td>B</td>\n",
       "    </tr>\n",
       "    <tr>\n",
       "      <th>1</th>\n",
       "      <td>2804400009</td>\n",
       "      <td>3642806036</td>\n",
       "      <td>2019-08-15</td>\n",
       "      <td>730</td>\n",
       "      <td>B</td>\n",
       "    </tr>\n",
       "    <tr>\n",
       "      <th>2</th>\n",
       "      <td>2961555356</td>\n",
       "      <td>4069496402</td>\n",
       "      <td>2019-08-15</td>\n",
       "      <td>400</td>\n",
       "      <td>A</td>\n",
       "    </tr>\n",
       "    <tr>\n",
       "      <th>3</th>\n",
       "      <td>3797467345</td>\n",
       "      <td>1196621759</td>\n",
       "      <td>2019-08-15</td>\n",
       "      <td>9759</td>\n",
       "      <td>B</td>\n",
       "    </tr>\n",
       "    <tr>\n",
       "      <th>4</th>\n",
       "      <td>2282983706</td>\n",
       "      <td>2322279887</td>\n",
       "      <td>2019-08-15</td>\n",
       "      <td>2308</td>\n",
       "      <td>B</td>\n",
       "    </tr>\n",
       "  </tbody>\n",
       "</table>\n",
       "</div>"
      ],
      "text/plain": [
       "   transactionId   visitorId        date  revenue group\n",
       "0     3667963787  3312258926  2019-08-15     1650     B\n",
       "1     2804400009  3642806036  2019-08-15      730     B\n",
       "2     2961555356  4069496402  2019-08-15      400     A\n",
       "3     3797467345  1196621759  2019-08-15     9759     B\n",
       "4     2282983706  2322279887  2019-08-15     2308     B"
      ]
     },
     "metadata": {},
     "output_type": "display_data"
    },
    {
     "name": "stdout",
     "output_type": "stream",
     "text": [
      "<class 'pandas.core.frame.DataFrame'>\n",
      "RangeIndex: 1197 entries, 0 to 1196\n",
      "Data columns (total 5 columns):\n",
      " #   Column         Non-Null Count  Dtype \n",
      "---  ------         --------------  ----- \n",
      " 0   transactionId  1197 non-null   int64 \n",
      " 1   visitorId      1197 non-null   int64 \n",
      " 2   date           1197 non-null   object\n",
      " 3   revenue        1197 non-null   int64 \n",
      " 4   group          1197 non-null   object\n",
      "dtypes: int64(3), object(2)\n",
      "memory usage: 46.9+ KB\n"
     ]
    }
   ],
   "source": [
    "display(orders.head())\n",
    "orders.info()"
   ]
  },
  {
   "cell_type": "code",
   "execution_count": 11,
   "metadata": {},
   "outputs": [
    {
     "data": {
      "text/html": [
       "<div>\n",
       "<style scoped>\n",
       "    .dataframe tbody tr th:only-of-type {\n",
       "        vertical-align: middle;\n",
       "    }\n",
       "\n",
       "    .dataframe tbody tr th {\n",
       "        vertical-align: top;\n",
       "    }\n",
       "\n",
       "    .dataframe thead th {\n",
       "        text-align: right;\n",
       "    }\n",
       "</style>\n",
       "<table border=\"1\" class=\"dataframe\">\n",
       "  <thead>\n",
       "    <tr style=\"text-align: right;\">\n",
       "      <th></th>\n",
       "      <th>date</th>\n",
       "      <th>group</th>\n",
       "      <th>visitors</th>\n",
       "    </tr>\n",
       "  </thead>\n",
       "  <tbody>\n",
       "    <tr>\n",
       "      <th>0</th>\n",
       "      <td>2019-08-01</td>\n",
       "      <td>A</td>\n",
       "      <td>719</td>\n",
       "    </tr>\n",
       "    <tr>\n",
       "      <th>1</th>\n",
       "      <td>2019-08-02</td>\n",
       "      <td>A</td>\n",
       "      <td>619</td>\n",
       "    </tr>\n",
       "    <tr>\n",
       "      <th>2</th>\n",
       "      <td>2019-08-03</td>\n",
       "      <td>A</td>\n",
       "      <td>507</td>\n",
       "    </tr>\n",
       "    <tr>\n",
       "      <th>3</th>\n",
       "      <td>2019-08-04</td>\n",
       "      <td>A</td>\n",
       "      <td>717</td>\n",
       "    </tr>\n",
       "    <tr>\n",
       "      <th>4</th>\n",
       "      <td>2019-08-05</td>\n",
       "      <td>A</td>\n",
       "      <td>756</td>\n",
       "    </tr>\n",
       "  </tbody>\n",
       "</table>\n",
       "</div>"
      ],
      "text/plain": [
       "         date group  visitors\n",
       "0  2019-08-01     A       719\n",
       "1  2019-08-02     A       619\n",
       "2  2019-08-03     A       507\n",
       "3  2019-08-04     A       717\n",
       "4  2019-08-05     A       756"
      ]
     },
     "metadata": {},
     "output_type": "display_data"
    },
    {
     "name": "stdout",
     "output_type": "stream",
     "text": [
      "<class 'pandas.core.frame.DataFrame'>\n",
      "RangeIndex: 62 entries, 0 to 61\n",
      "Data columns (total 3 columns):\n",
      " #   Column    Non-Null Count  Dtype \n",
      "---  ------    --------------  ----- \n",
      " 0   date      62 non-null     object\n",
      " 1   group     62 non-null     object\n",
      " 2   visitors  62 non-null     int64 \n",
      "dtypes: int64(1), object(2)\n",
      "memory usage: 1.6+ KB\n"
     ]
    }
   ],
   "source": [
    "display(visitors.head())\n",
    "visitors.info()"
   ]
  },
  {
   "cell_type": "markdown",
   "metadata": {},
   "source": [
    "Столбцы \"date\" в обоих датасетах имеет тип данных \"object\". Приведем к нужному типу."
   ]
  },
  {
   "cell_type": "code",
   "execution_count": 12,
   "metadata": {},
   "outputs": [],
   "source": [
    "orders['date'] = pd.to_datetime(orders['date'])\n",
    "visitors['date'] = pd.to_datetime(visitors['date'])"
   ]
  },
  {
   "cell_type": "markdown",
   "metadata": {},
   "source": [
    "Найдем распределение пользователей по группам"
   ]
  },
  {
   "cell_type": "code",
   "execution_count": 13,
   "metadata": {},
   "outputs": [
    {
     "data": {
      "text/plain": [
       "group\n",
       "A    503\n",
       "B    586\n",
       "Name: visitorId, dtype: int64"
      ]
     },
     "execution_count": 13,
     "metadata": {},
     "output_type": "execute_result"
    }
   ],
   "source": [
    "orders.groupby('group')['visitorId'].nunique()"
   ]
  },
  {
   "cell_type": "code",
   "execution_count": 14,
   "metadata": {},
   "outputs": [
    {
     "data": {
      "text/plain": [
       "group\n",
       "A    31\n",
       "B    30\n",
       "Name: visitors, dtype: int64"
      ]
     },
     "execution_count": 14,
     "metadata": {},
     "output_type": "execute_result"
    }
   ],
   "source": [
    "visitors.groupby('group')['visitors'].nunique()"
   ]
  },
  {
   "cell_type": "markdown",
   "metadata": {},
   "source": [
    "Распределение пользователей по группам неравномерно, особенно это касается файла 'orders'."
   ]
  },
  {
   "cell_type": "markdown",
   "metadata": {},
   "source": [
    "Переименуем столбцы файла 'orders'"
   ]
  },
  {
   "cell_type": "code",
   "execution_count": 15,
   "metadata": {},
   "outputs": [],
   "source": [
    "orders = orders.rename(columns={'transactionId': 'orderId', 'visitorId': 'userId'})"
   ]
  },
  {
   "cell_type": "markdown",
   "metadata": {},
   "source": [
    "Найдем количество дубликатов"
   ]
  },
  {
   "cell_type": "code",
   "execution_count": 16,
   "metadata": {},
   "outputs": [
    {
     "data": {
      "text/plain": [
       "4"
      ]
     },
     "execution_count": 16,
     "metadata": {},
     "output_type": "execute_result"
    }
   ],
   "source": [
    "visitors['visitors'].duplicated().sum()"
   ]
  },
  {
   "cell_type": "code",
   "execution_count": 17,
   "metadata": {},
   "outputs": [
    {
     "data": {
      "text/plain": [
       "166"
      ]
     },
     "execution_count": 17,
     "metadata": {},
     "output_type": "execute_result"
    }
   ],
   "source": [
    "orders['userId'].duplicated().sum()"
   ]
  },
  {
   "cell_type": "code",
   "execution_count": 18,
   "metadata": {},
   "outputs": [
    {
     "data": {
      "text/plain": [
       "0"
      ]
     },
     "execution_count": 18,
     "metadata": {},
     "output_type": "execute_result"
    }
   ],
   "source": [
    "orders['orderId'].duplicated().sum()"
   ]
  },
  {
   "cell_type": "markdown",
   "metadata": {},
   "source": [
    "В обоих файлах в столбцах 'visitors', 'orders' найдены дубликаты. Для файла 'visitors'  дубликаты присутствуют в пользователях 'visitors' -  количество пользователей в указанную дату в указанной группе A/B-теста.  Согласно условию задачи, деление на группы происходит по номеру заказа, а не по пользователям. Поэтому удалим дубликаты из файла 'visitors'."
   ]
  },
  {
   "cell_type": "code",
   "execution_count": 19,
   "metadata": {},
   "outputs": [],
   "source": [
    "visitors = visitors.drop_duplicates(subset = 'visitors').reset_index(drop=True)"
   ]
  },
  {
   "cell_type": "markdown",
   "metadata": {},
   "source": [
    "Проверим на пересечение заказов пользователей по группам."
   ]
  },
  {
   "cell_type": "code",
   "execution_count": 20,
   "metadata": {},
   "outputs": [],
   "source": [
    "ordersA = orders.query('group == \"A\"')\n",
    "ordersB = orders.query('group == \"B\"')"
   ]
  },
  {
   "cell_type": "code",
   "execution_count": 21,
   "metadata": {},
   "outputs": [],
   "source": [
    "id_a = ordersA['userId'].tolist()\n",
    "id_b = ordersB['userId'].tolist()"
   ]
  },
  {
   "cell_type": "code",
   "execution_count": 22,
   "metadata": {},
   "outputs": [],
   "source": [
    "dublicate = ordersB[ordersB['userId'].isin(ordersA['userId'])]"
   ]
  },
  {
   "cell_type": "code",
   "execution_count": 23,
   "metadata": {},
   "outputs": [
    {
     "data": {
      "text/plain": [
       "58"
      ]
     },
     "execution_count": 23,
     "metadata": {},
     "output_type": "execute_result"
    }
   ],
   "source": [
    "dublicate['userId'].nunique()"
   ]
  },
  {
   "cell_type": "markdown",
   "metadata": {},
   "source": [
    "Такие пользователи обранужены, их 58. Их следует исключить для дальнейшего анализа."
   ]
  },
  {
   "cell_type": "code",
   "execution_count": 24,
   "metadata": {},
   "outputs": [],
   "source": [
    "usersId = dublicate['userId'].unique().tolist()"
   ]
  },
  {
   "cell_type": "code",
   "execution_count": 25,
   "metadata": {},
   "outputs": [],
   "source": [
    "orders = orders.query('userId not in @usersId')"
   ]
  },
  {
   "cell_type": "markdown",
   "metadata": {},
   "source": [
    "### График кумулятивной выручки по группам\n",
    "<a id=\"cumul_revenue\"></a>"
   ]
  },
  {
   "cell_type": "markdown",
   "metadata": {},
   "source": [
    "Создадим массив уникальных пар значений дат и групп теста"
   ]
  },
  {
   "cell_type": "code",
   "execution_count": 26,
   "metadata": {},
   "outputs": [],
   "source": [
    "datesGroups = orders[['date','group']].drop_duplicates()"
   ]
  },
  {
   "cell_type": "code",
   "execution_count": 27,
   "metadata": {},
   "outputs": [
    {
     "data": {
      "text/html": [
       "<div>\n",
       "<style scoped>\n",
       "    .dataframe tbody tr th:only-of-type {\n",
       "        vertical-align: middle;\n",
       "    }\n",
       "\n",
       "    .dataframe tbody tr th {\n",
       "        vertical-align: top;\n",
       "    }\n",
       "\n",
       "    .dataframe thead th {\n",
       "        text-align: right;\n",
       "    }\n",
       "</style>\n",
       "<table border=\"1\" class=\"dataframe\">\n",
       "  <thead>\n",
       "    <tr style=\"text-align: right;\">\n",
       "      <th></th>\n",
       "      <th>date</th>\n",
       "      <th>group</th>\n",
       "    </tr>\n",
       "  </thead>\n",
       "  <tbody>\n",
       "    <tr>\n",
       "      <th>0</th>\n",
       "      <td>2019-08-15</td>\n",
       "      <td>B</td>\n",
       "    </tr>\n",
       "    <tr>\n",
       "      <th>7</th>\n",
       "      <td>2019-08-15</td>\n",
       "      <td>A</td>\n",
       "    </tr>\n",
       "    <tr>\n",
       "      <th>45</th>\n",
       "      <td>2019-08-16</td>\n",
       "      <td>A</td>\n",
       "    </tr>\n",
       "    <tr>\n",
       "      <th>47</th>\n",
       "      <td>2019-08-16</td>\n",
       "      <td>B</td>\n",
       "    </tr>\n",
       "    <tr>\n",
       "      <th>55</th>\n",
       "      <td>2019-08-01</td>\n",
       "      <td>A</td>\n",
       "    </tr>\n",
       "  </tbody>\n",
       "</table>\n",
       "</div>"
      ],
      "text/plain": [
       "         date group\n",
       "0  2019-08-15     B\n",
       "7  2019-08-15     A\n",
       "45 2019-08-16     A\n",
       "47 2019-08-16     B\n",
       "55 2019-08-01     A"
      ]
     },
     "execution_count": 27,
     "metadata": {},
     "output_type": "execute_result"
    }
   ],
   "source": [
    "datesGroups.head()"
   ]
  },
  {
   "cell_type": "markdown",
   "metadata": {},
   "source": [
    "Получаем агрегированные кумулятивные по дням данные о заказах"
   ]
  },
  {
   "cell_type": "code",
   "execution_count": 28,
   "metadata": {},
   "outputs": [],
   "source": [
    "ordersAggregated = datesGroups.apply(lambda x: \n",
    "                    orders[np.logical_and(orders['date'] <= x['date'], orders['group'] == x['group'])]\n",
    "                                     .agg({'date' : 'max', 'group' : 'max', 'orderId' : pd.Series.nunique, \n",
    "                                           'userId' : pd.Series.nunique, 'revenue' : 'sum'}), \n",
    "                                     axis=1).sort_values(by=['date','group'])"
   ]
  },
  {
   "cell_type": "code",
   "execution_count": 29,
   "metadata": {},
   "outputs": [
    {
     "data": {
      "text/html": [
       "<div>\n",
       "<style scoped>\n",
       "    .dataframe tbody tr th:only-of-type {\n",
       "        vertical-align: middle;\n",
       "    }\n",
       "\n",
       "    .dataframe tbody tr th {\n",
       "        vertical-align: top;\n",
       "    }\n",
       "\n",
       "    .dataframe thead th {\n",
       "        text-align: right;\n",
       "    }\n",
       "</style>\n",
       "<table border=\"1\" class=\"dataframe\">\n",
       "  <thead>\n",
       "    <tr style=\"text-align: right;\">\n",
       "      <th></th>\n",
       "      <th>date</th>\n",
       "      <th>group</th>\n",
       "      <th>orderId</th>\n",
       "      <th>userId</th>\n",
       "      <th>revenue</th>\n",
       "    </tr>\n",
       "  </thead>\n",
       "  <tbody>\n",
       "    <tr>\n",
       "      <th>55</th>\n",
       "      <td>2019-08-01</td>\n",
       "      <td>A</td>\n",
       "      <td>23</td>\n",
       "      <td>19</td>\n",
       "      <td>142779</td>\n",
       "    </tr>\n",
       "    <tr>\n",
       "      <th>66</th>\n",
       "      <td>2019-08-01</td>\n",
       "      <td>B</td>\n",
       "      <td>17</td>\n",
       "      <td>17</td>\n",
       "      <td>59758</td>\n",
       "    </tr>\n",
       "    <tr>\n",
       "      <th>175</th>\n",
       "      <td>2019-08-02</td>\n",
       "      <td>A</td>\n",
       "      <td>42</td>\n",
       "      <td>36</td>\n",
       "      <td>234381</td>\n",
       "    </tr>\n",
       "    <tr>\n",
       "      <th>173</th>\n",
       "      <td>2019-08-02</td>\n",
       "      <td>B</td>\n",
       "      <td>40</td>\n",
       "      <td>39</td>\n",
       "      <td>221801</td>\n",
       "    </tr>\n",
       "    <tr>\n",
       "      <th>291</th>\n",
       "      <td>2019-08-03</td>\n",
       "      <td>A</td>\n",
       "      <td>66</td>\n",
       "      <td>60</td>\n",
       "      <td>346854</td>\n",
       "    </tr>\n",
       "  </tbody>\n",
       "</table>\n",
       "</div>"
      ],
      "text/plain": [
       "          date group  orderId  userId  revenue\n",
       "55  2019-08-01     A       23      19   142779\n",
       "66  2019-08-01     B       17      17    59758\n",
       "175 2019-08-02     A       42      36   234381\n",
       "173 2019-08-02     B       40      39   221801\n",
       "291 2019-08-03     A       66      60   346854"
      ]
     },
     "execution_count": 29,
     "metadata": {},
     "output_type": "execute_result"
    }
   ],
   "source": [
    "ordersAggregated.head()"
   ]
  },
  {
   "cell_type": "markdown",
   "metadata": {},
   "source": [
    "Получаем агрегированные кумулятивные по дням данные о посетителям"
   ]
  },
  {
   "cell_type": "code",
   "execution_count": 30,
   "metadata": {},
   "outputs": [],
   "source": [
    "visitorsAggregated = datesGroups.apply(lambda x: \n",
    "                    visitors[np.logical_and(visitors['date'] <= x['date'], visitors['group'] == x['group'])]\n",
    "                                       .agg({'date' : 'max', 'group' : 'max', 'visitors' : 'sum'}), \n",
    "                                       axis=1).sort_values(by=['date','group'])"
   ]
  },
  {
   "cell_type": "code",
   "execution_count": 31,
   "metadata": {},
   "outputs": [
    {
     "data": {
      "text/html": [
       "<div>\n",
       "<style scoped>\n",
       "    .dataframe tbody tr th:only-of-type {\n",
       "        vertical-align: middle;\n",
       "    }\n",
       "\n",
       "    .dataframe tbody tr th {\n",
       "        vertical-align: top;\n",
       "    }\n",
       "\n",
       "    .dataframe thead th {\n",
       "        text-align: right;\n",
       "    }\n",
       "</style>\n",
       "<table border=\"1\" class=\"dataframe\">\n",
       "  <thead>\n",
       "    <tr style=\"text-align: right;\">\n",
       "      <th></th>\n",
       "      <th>date</th>\n",
       "      <th>group</th>\n",
       "      <th>visitors</th>\n",
       "    </tr>\n",
       "  </thead>\n",
       "  <tbody>\n",
       "    <tr>\n",
       "      <th>55</th>\n",
       "      <td>2019-08-01</td>\n",
       "      <td>A</td>\n",
       "      <td>719</td>\n",
       "    </tr>\n",
       "    <tr>\n",
       "      <th>66</th>\n",
       "      <td>2019-08-01</td>\n",
       "      <td>B</td>\n",
       "      <td>713</td>\n",
       "    </tr>\n",
       "    <tr>\n",
       "      <th>175</th>\n",
       "      <td>2019-08-02</td>\n",
       "      <td>A</td>\n",
       "      <td>1338</td>\n",
       "    </tr>\n",
       "    <tr>\n",
       "      <th>173</th>\n",
       "      <td>2019-08-02</td>\n",
       "      <td>B</td>\n",
       "      <td>1294</td>\n",
       "    </tr>\n",
       "    <tr>\n",
       "      <th>291</th>\n",
       "      <td>2019-08-03</td>\n",
       "      <td>A</td>\n",
       "      <td>1845</td>\n",
       "    </tr>\n",
       "  </tbody>\n",
       "</table>\n",
       "</div>"
      ],
      "text/plain": [
       "          date group  visitors\n",
       "55  2019-08-01     A       719\n",
       "66  2019-08-01     B       713\n",
       "175 2019-08-02     A      1338\n",
       "173 2019-08-02     B      1294\n",
       "291 2019-08-03     A      1845"
      ]
     },
     "execution_count": 31,
     "metadata": {},
     "output_type": "execute_result"
    }
   ],
   "source": [
    "visitorsAggregated.head()"
   ]
  },
  {
   "cell_type": "markdown",
   "metadata": {},
   "source": [
    "Объединяем кумулятивные данные в одной таблице"
   ]
  },
  {
   "cell_type": "code",
   "execution_count": 32,
   "metadata": {},
   "outputs": [],
   "source": [
    "cumulativeData = ordersAggregated.merge(visitorsAggregated, left_on=['date', 'group'], right_on=['date', 'group'])"
   ]
  },
  {
   "cell_type": "code",
   "execution_count": 33,
   "metadata": {},
   "outputs": [],
   "source": [
    "cumulativeData.columns = ['date', 'group', 'orders', 'buyers', 'revenue', 'visitors']"
   ]
  },
  {
   "cell_type": "code",
   "execution_count": 34,
   "metadata": {},
   "outputs": [
    {
     "data": {
      "text/html": [
       "<div>\n",
       "<style scoped>\n",
       "    .dataframe tbody tr th:only-of-type {\n",
       "        vertical-align: middle;\n",
       "    }\n",
       "\n",
       "    .dataframe tbody tr th {\n",
       "        vertical-align: top;\n",
       "    }\n",
       "\n",
       "    .dataframe thead th {\n",
       "        text-align: right;\n",
       "    }\n",
       "</style>\n",
       "<table border=\"1\" class=\"dataframe\">\n",
       "  <thead>\n",
       "    <tr style=\"text-align: right;\">\n",
       "      <th></th>\n",
       "      <th>date</th>\n",
       "      <th>group</th>\n",
       "      <th>orders</th>\n",
       "      <th>buyers</th>\n",
       "      <th>revenue</th>\n",
       "      <th>visitors</th>\n",
       "    </tr>\n",
       "  </thead>\n",
       "  <tbody>\n",
       "    <tr>\n",
       "      <th>0</th>\n",
       "      <td>2019-08-01</td>\n",
       "      <td>A</td>\n",
       "      <td>23</td>\n",
       "      <td>19</td>\n",
       "      <td>142779</td>\n",
       "      <td>719</td>\n",
       "    </tr>\n",
       "    <tr>\n",
       "      <th>1</th>\n",
       "      <td>2019-08-01</td>\n",
       "      <td>B</td>\n",
       "      <td>17</td>\n",
       "      <td>17</td>\n",
       "      <td>59758</td>\n",
       "      <td>713</td>\n",
       "    </tr>\n",
       "    <tr>\n",
       "      <th>2</th>\n",
       "      <td>2019-08-02</td>\n",
       "      <td>A</td>\n",
       "      <td>42</td>\n",
       "      <td>36</td>\n",
       "      <td>234381</td>\n",
       "      <td>1338</td>\n",
       "    </tr>\n",
       "    <tr>\n",
       "      <th>3</th>\n",
       "      <td>2019-08-02</td>\n",
       "      <td>B</td>\n",
       "      <td>40</td>\n",
       "      <td>39</td>\n",
       "      <td>221801</td>\n",
       "      <td>1294</td>\n",
       "    </tr>\n",
       "    <tr>\n",
       "      <th>4</th>\n",
       "      <td>2019-08-03</td>\n",
       "      <td>A</td>\n",
       "      <td>66</td>\n",
       "      <td>60</td>\n",
       "      <td>346854</td>\n",
       "      <td>1845</td>\n",
       "    </tr>\n",
       "  </tbody>\n",
       "</table>\n",
       "</div>"
      ],
      "text/plain": [
       "        date group  orders  buyers  revenue  visitors\n",
       "0 2019-08-01     A      23      19   142779       719\n",
       "1 2019-08-01     B      17      17    59758       713\n",
       "2 2019-08-02     A      42      36   234381      1338\n",
       "3 2019-08-02     B      40      39   221801      1294\n",
       "4 2019-08-03     A      66      60   346854      1845"
      ]
     },
     "execution_count": 34,
     "metadata": {},
     "output_type": "execute_result"
    }
   ],
   "source": [
    "cumulativeData.head()"
   ]
  },
  {
   "cell_type": "markdown",
   "metadata": {},
   "source": [
    "Создадим датафрейм с кумулятивным количеством заказов и кумулятивной выручкой по дням в группе А"
   ]
  },
  {
   "cell_type": "code",
   "execution_count": 35,
   "metadata": {},
   "outputs": [],
   "source": [
    "cumulativeRevenueA = cumulativeData[cumulativeData['group']=='A'][['date','revenue', 'orders']]"
   ]
  },
  {
   "cell_type": "code",
   "execution_count": 36,
   "metadata": {},
   "outputs": [
    {
     "data": {
      "text/html": [
       "<div>\n",
       "<style scoped>\n",
       "    .dataframe tbody tr th:only-of-type {\n",
       "        vertical-align: middle;\n",
       "    }\n",
       "\n",
       "    .dataframe tbody tr th {\n",
       "        vertical-align: top;\n",
       "    }\n",
       "\n",
       "    .dataframe thead th {\n",
       "        text-align: right;\n",
       "    }\n",
       "</style>\n",
       "<table border=\"1\" class=\"dataframe\">\n",
       "  <thead>\n",
       "    <tr style=\"text-align: right;\">\n",
       "      <th></th>\n",
       "      <th>date</th>\n",
       "      <th>revenue</th>\n",
       "      <th>orders</th>\n",
       "    </tr>\n",
       "  </thead>\n",
       "  <tbody>\n",
       "    <tr>\n",
       "      <th>0</th>\n",
       "      <td>2019-08-01</td>\n",
       "      <td>142779</td>\n",
       "      <td>23</td>\n",
       "    </tr>\n",
       "    <tr>\n",
       "      <th>2</th>\n",
       "      <td>2019-08-02</td>\n",
       "      <td>234381</td>\n",
       "      <td>42</td>\n",
       "    </tr>\n",
       "    <tr>\n",
       "      <th>4</th>\n",
       "      <td>2019-08-03</td>\n",
       "      <td>346854</td>\n",
       "      <td>66</td>\n",
       "    </tr>\n",
       "    <tr>\n",
       "      <th>6</th>\n",
       "      <td>2019-08-04</td>\n",
       "      <td>388030</td>\n",
       "      <td>77</td>\n",
       "    </tr>\n",
       "    <tr>\n",
       "      <th>8</th>\n",
       "      <td>2019-08-05</td>\n",
       "      <td>474413</td>\n",
       "      <td>99</td>\n",
       "    </tr>\n",
       "  </tbody>\n",
       "</table>\n",
       "</div>"
      ],
      "text/plain": [
       "        date  revenue  orders\n",
       "0 2019-08-01   142779      23\n",
       "2 2019-08-02   234381      42\n",
       "4 2019-08-03   346854      66\n",
       "6 2019-08-04   388030      77\n",
       "8 2019-08-05   474413      99"
      ]
     },
     "execution_count": 36,
     "metadata": {},
     "output_type": "execute_result"
    }
   ],
   "source": [
    "cumulativeRevenueA.head()"
   ]
  },
  {
   "cell_type": "markdown",
   "metadata": {},
   "source": [
    "Создадим датафрейм с кумулятивным количеством заказов и кумулятивной выручкой по дням в группе В"
   ]
  },
  {
   "cell_type": "code",
   "execution_count": 37,
   "metadata": {},
   "outputs": [],
   "source": [
    "cumulativeRevenueB = cumulativeData[cumulativeData['group']=='B'][['date','revenue', 'orders']]"
   ]
  },
  {
   "cell_type": "code",
   "execution_count": 38,
   "metadata": {},
   "outputs": [
    {
     "data": {
      "text/html": [
       "<div>\n",
       "<style scoped>\n",
       "    .dataframe tbody tr th:only-of-type {\n",
       "        vertical-align: middle;\n",
       "    }\n",
       "\n",
       "    .dataframe tbody tr th {\n",
       "        vertical-align: top;\n",
       "    }\n",
       "\n",
       "    .dataframe thead th {\n",
       "        text-align: right;\n",
       "    }\n",
       "</style>\n",
       "<table border=\"1\" class=\"dataframe\">\n",
       "  <thead>\n",
       "    <tr style=\"text-align: right;\">\n",
       "      <th></th>\n",
       "      <th>date</th>\n",
       "      <th>revenue</th>\n",
       "      <th>orders</th>\n",
       "    </tr>\n",
       "  </thead>\n",
       "  <tbody>\n",
       "    <tr>\n",
       "      <th>1</th>\n",
       "      <td>2019-08-01</td>\n",
       "      <td>59758</td>\n",
       "      <td>17</td>\n",
       "    </tr>\n",
       "    <tr>\n",
       "      <th>3</th>\n",
       "      <td>2019-08-02</td>\n",
       "      <td>221801</td>\n",
       "      <td>40</td>\n",
       "    </tr>\n",
       "    <tr>\n",
       "      <th>5</th>\n",
       "      <td>2019-08-03</td>\n",
       "      <td>288850</td>\n",
       "      <td>54</td>\n",
       "    </tr>\n",
       "    <tr>\n",
       "      <th>7</th>\n",
       "      <td>2019-08-04</td>\n",
       "      <td>385740</td>\n",
       "      <td>68</td>\n",
       "    </tr>\n",
       "    <tr>\n",
       "      <th>9</th>\n",
       "      <td>2019-08-05</td>\n",
       "      <td>475648</td>\n",
       "      <td>89</td>\n",
       "    </tr>\n",
       "  </tbody>\n",
       "</table>\n",
       "</div>"
      ],
      "text/plain": [
       "        date  revenue  orders\n",
       "1 2019-08-01    59758      17\n",
       "3 2019-08-02   221801      40\n",
       "5 2019-08-03   288850      54\n",
       "7 2019-08-04   385740      68\n",
       "9 2019-08-05   475648      89"
      ]
     },
     "execution_count": 38,
     "metadata": {},
     "output_type": "execute_result"
    }
   ],
   "source": [
    "cumulativeRevenueB.head()"
   ]
  },
  {
   "cell_type": "markdown",
   "metadata": {},
   "source": [
    "Строим график кумулятивной выручки по группам"
   ]
  },
  {
   "cell_type": "code",
   "execution_count": 39,
   "metadata": {},
   "outputs": [
    {
     "data": {
      "image/png": "[encoded data removed]",
      "text/plain": [
       "<Figure size 432x288 with 1 Axes>"
      ]
     },
     "metadata": {
      "needs_background": "light"
     },
     "output_type": "display_data"
    }
   ],
   "source": [
    "plt.plot(cumulativeRevenueA['date'], cumulativeRevenueA['revenue'], label='A')\n",
    "plt.plot(cumulativeRevenueB['date'], cumulativeRevenueB['revenue'], label='B')\n",
    "plt.title('Кумулятивная выручка по группам')\n",
    "plt.xticks(rotation=60)\n",
    "plt.xlabel('Период')\n",
    "plt.ylabel('Выручка')\n",
    "plt.legend()\n",
    "plt.show()"
   ]
  },
  {
   "cell_type": "markdown",
   "metadata": {},
   "source": [
    "Выручка практически равномерно растет по группам. Но после 17 августа в группе В видим резкий скачок, возможно были оплачены крупные заказы, либо было оплачено очень много заказов. Далее более плавный рост."
   ]
  },
  {
   "cell_type": "markdown",
   "metadata": {},
   "source": [
    "### График кумулятивного среднего чека по группам\n",
    "<a id=\"cumul_average_check\"></a>"
   ]
  },
  {
   "cell_type": "code",
   "execution_count": 40,
   "metadata": {},
   "outputs": [
    {
     "data": {
      "image/png": "[encoded data removed]",
      "text/plain": [
       "<Figure size 432x288 with 1 Axes>"
      ]
     },
     "metadata": {
      "needs_background": "light"
     },
     "output_type": "display_data"
    }
   ],
   "source": [
    "plt.plot(cumulativeRevenueA['date'], cumulativeRevenueA['revenue']/cumulativeRevenueA['orders'], label='A')\n",
    "plt.plot(cumulativeRevenueB['date'], cumulativeRevenueB['revenue']/cumulativeRevenueB['orders'], label='B')\n",
    "plt.title('Кумулятивный средний чек по группам')\n",
    "plt.xticks(rotation=60)\n",
    "plt.xlabel('Период')\n",
    "plt.ylabel('Средняя стоимость заказа')\n",
    "plt.legend()\n",
    "plt.show()"
   ]
  },
  {
   "cell_type": "markdown",
   "metadata": {},
   "source": [
    "Опять же наблюдаем резкий рост для среднего чека группы В после 17 августа. Вероятнее всего былт совершены крупные покупки. После можем наблюдать постепенный спад. Для выручки группы А было падение и сразу резкий рост в начале августа, после наблюдаем постепенное выравнивание. Отталкиваясь от увиденной картины на этом графике, средний чек для группы В выше среднего чека для группы А."
   ]
  },
  {
   "cell_type": "markdown",
   "metadata": {},
   "source": [
    "### График относительного изменения кумулятивного среднего чека группы B к группе A\n",
    "<a id=\"cumul_change_average_check\"></a>"
   ]
  },
  {
   "cell_type": "markdown",
   "metadata": {},
   "source": [
    "Объединяем данные в одном датафрейме"
   ]
  },
  {
   "cell_type": "code",
   "execution_count": 41,
   "metadata": {},
   "outputs": [],
   "source": [
    "mergedCumulativeRevenue = cumulativeRevenueA.merge(cumulativeRevenueB, left_on='date', right_on='date', \n",
    "                                                   how='left', suffixes=['A', 'B'])"
   ]
  },
  {
   "cell_type": "markdown",
   "metadata": {},
   "source": [
    "Построим график"
   ]
  },
  {
   "cell_type": "code",
   "execution_count": 42,
   "metadata": {},
   "outputs": [
    {
     "data": {
      "image/png": "[encoded data removed]",
      "text/plain": [
       "<Figure size 432x288 with 1 Axes>"
      ]
     },
     "metadata": {
      "needs_background": "light"
     },
     "output_type": "display_data"
    }
   ],
   "source": [
    "plt.plot(mergedCumulativeRevenue['date'], \n",
    "(mergedCumulativeRevenue['revenueB']/mergedCumulativeRevenue['ordersB'])/(mergedCumulativeRevenue['revenueA']/mergedCumulativeRevenue['ordersA'])-1)\n",
    "plt.axhline(y=0, color='black', linestyle='--')\n",
    "plt.title('Относительное изменение кумулятивного среднего чека группы B к группе A')\n",
    "plt.xticks(rotation=60)\n",
    "plt.xlabel('Период')\n",
    "plt.ylabel('Относительная разница среднего чека')\n",
    "plt.show()"
   ]
  },
  {
   "cell_type": "markdown",
   "metadata": {},
   "source": [
    "На графике наблюдаем 'скачки', довольно большие. Если  рассматривать динамику после 17 августа, видим, что средний чек группы В превышает средний чек группы А."
   ]
  },
  {
   "cell_type": "markdown",
   "metadata": {},
   "source": [
    "### График кумулятивной конверсии по группам\n",
    "<a id=\"cumul_conversion\"></a>"
   ]
  },
  {
   "cell_type": "markdown",
   "metadata": {},
   "source": [
    "Найдем кумулятивную конверсию"
   ]
  },
  {
   "cell_type": "code",
   "execution_count": 43,
   "metadata": {},
   "outputs": [],
   "source": [
    "cumulativeData['conversion'] = cumulativeData['orders']/cumulativeData['visitors']"
   ]
  },
  {
   "cell_type": "markdown",
   "metadata": {},
   "source": [
    "Данные по группе A"
   ]
  },
  {
   "cell_type": "code",
   "execution_count": 44,
   "metadata": {},
   "outputs": [],
   "source": [
    "cumulativeDataA = cumulativeData[cumulativeData['group']=='A']"
   ]
  },
  {
   "cell_type": "markdown",
   "metadata": {},
   "source": [
    "Данные по группе В"
   ]
  },
  {
   "cell_type": "code",
   "execution_count": 45,
   "metadata": {},
   "outputs": [],
   "source": [
    "cumulativeDataB = cumulativeData[cumulativeData['group']=='B']"
   ]
  },
  {
   "cell_type": "markdown",
   "metadata": {},
   "source": [
    "Построим график"
   ]
  },
  {
   "cell_type": "code",
   "execution_count": 46,
   "metadata": {},
   "outputs": [
    {
     "data": {
      "image/png": "[encoded data removed]",
      "text/plain": [
       "<Figure size 432x288 with 1 Axes>"
      ]
     },
     "metadata": {
      "needs_background": "light"
     },
     "output_type": "display_data"
    }
   ],
   "source": [
    "plt.plot(cumulativeDataA['date'], cumulativeDataA['conversion'], label='A')\n",
    "plt.plot(cumulativeDataB['date'], cumulativeDataB['conversion'], label='B')\n",
    "plt.legend()\n",
    "plt.title('Кумулятивная конверсия по группам')\n",
    "plt.xticks(rotation=60)\n",
    "plt.xlabel('Период')\n",
    "plt.ylabel('Значение кумулятивной конверсии')\n",
    "plt.show()"
   ]
  },
  {
   "cell_type": "markdown",
   "metadata": {},
   "source": [
    "На графике видим, что в начале рассматриваемого периода у конверсии обеих групп был резкий рост. Далее наблюдаем падение коверсии у обеих групп, еще дальше рост конверсии группы В. Постепенно \"скачки\" конверсии в обеих группах немного уменьшились, но все еще мы продолжаем их наблюдать. При таких данных конверсия группы В на конец августа выглядет лучше."
   ]
  },
  {
   "cell_type": "markdown",
   "metadata": {},
   "source": [
    "### График относительного изменения кумулятивной конверсии группы B к группе A\n",
    "<a id=\"cumul_change_conversion\"></a>"
   ]
  },
  {
   "cell_type": "markdown",
   "metadata": {},
   "source": [
    "Объединяем данные в одном датафрейме"
   ]
  },
  {
   "cell_type": "code",
   "execution_count": 47,
   "metadata": {},
   "outputs": [],
   "source": [
    "mergedCumulativeConversions = cumulativeDataA[['date','conversion']].merge(cumulativeDataB[['date','conversion']], \n",
    "                                                    left_on='date', right_on='date', how='left', suffixes=['A', 'B'])"
   ]
  },
  {
   "cell_type": "code",
   "execution_count": 48,
   "metadata": {},
   "outputs": [
    {
     "data": {
      "image/png": "[encoded data removed]",
      "text/plain": [
       "<Figure size 432x288 with 1 Axes>"
      ]
     },
     "metadata": {
      "needs_background": "light"
     },
     "output_type": "display_data"
    }
   ],
   "source": [
    "plt.plot(mergedCumulativeConversions['date'], \n",
    "         mergedCumulativeConversions['conversionB']/mergedCumulativeConversions['conversionA']-1)\n",
    "plt.axhline(y=0, color='black', linestyle='--')\n",
    "plt.title('Относительный прирост конверсии группы B относительно группы A')\n",
    "plt.xticks(rotation=60)\n",
    "plt.xlabel('Период')\n",
    "plt.ylabel('Относительная разница конверсии')\n",
    "plt.show()"
   ]
  },
  {
   "cell_type": "markdown",
   "metadata": {},
   "source": [
    "В начале теста наблюдаем падение конверсии в группе B, затем видим большой рост, и далее следует падение. "
   ]
  },
  {
   "cell_type": "markdown",
   "metadata": {},
   "source": [
    "### Точечный график количества заказов по пользователям\n",
    "<a id=\"chart_count_orders\"></a>"
   ]
  },
  {
   "cell_type": "markdown",
   "metadata": {},
   "source": [
    "Создадим датасет по количеству заказов по пользователям"
   ]
  },
  {
   "cell_type": "code",
   "execution_count": 49,
   "metadata": {},
   "outputs": [],
   "source": [
    "ordersByUsers = (\n",
    "    ordersAggregated.drop(['group', 'revenue', 'date'], axis=1)\n",
    "    .groupby('userId', as_index=False)\n",
    "    .agg({'orderId': pd.Series.nunique})\n",
    ")"
   ]
  },
  {
   "cell_type": "code",
   "execution_count": 50,
   "metadata": {},
   "outputs": [],
   "source": [
    "ordersByUsers.columns = ['user_id', 'orders']"
   ]
  },
  {
   "cell_type": "code",
   "execution_count": 51,
   "metadata": {},
   "outputs": [
    {
     "data": {
      "image/png": "[encoded data removed]",
      "text/plain": [
       "<Figure size 432x288 with 1 Axes>"
      ]
     },
     "metadata": {
      "needs_background": "light"
     },
     "output_type": "display_data"
    }
   ],
   "source": [
    "x_1_values = pd.Series(range(0, len(ordersByUsers)))\n",
    "\n",
    "plt.scatter(x_1_values, ordersByUsers['orders'], color = 'green')\n",
    "plt.title('Количество заказов по пользователям')\n",
    "plt.xlabel('Пользователи')\n",
    "plt.ylabel('Заказы');"
   ]
  },
  {
   "cell_type": "markdown",
   "metadata": {},
   "source": [
    "Согласно полученному графику, наибольшее количество заказов по пользователям представлено в виде 1 заказа."
   ]
  },
  {
   "cell_type": "markdown",
   "metadata": {},
   "source": [
    "### 95-й и 99-й перцентили количества заказов на пользователя\n",
    "<a id=\"percentile_count_orders\"></a>"
   ]
  },
  {
   "cell_type": "code",
   "execution_count": 52,
   "metadata": {},
   "outputs": [
    {
     "data": {
      "text/plain": [
       "array([1.1, 2. ])"
      ]
     },
     "execution_count": 52,
     "metadata": {},
     "output_type": "execute_result"
    }
   ],
   "source": [
    "np.percentile(ordersByUsers['orders'], [95, 99])"
   ]
  },
  {
   "cell_type": "markdown",
   "metadata": {},
   "source": [
    "Не более 5% пользователей совершали больше 1 заказов. Не более 1% пользователи совершали больше 2 заказов. За границу для определения аномальных пользователей принимаем пользователей, совершивших более 1 заказов."
   ]
  },
  {
   "cell_type": "markdown",
   "metadata": {},
   "source": [
    "### Точечный график стоимостей заказов\n",
    "<a id=\"chart_cost_orders\"></a>"
   ]
  },
  {
   "cell_type": "code",
   "execution_count": 53,
   "metadata": {},
   "outputs": [
    {
     "data": {
      "image/png": "[encoded data removed]",
      "text/plain": [
       "<Figure size 432x288 with 1 Axes>"
      ]
     },
     "metadata": {
      "needs_background": "light"
     },
     "output_type": "display_data"
    }
   ],
   "source": [
    "x_values = pd.Series(range(0,len(orders['revenue'])))\n",
    "plt.scatter(x_values, orders['revenue'], color = 'green')\n",
    "plt.ylim([0, 100000])\n",
    "plt.title('Стоимость заказов по пользователям')\n",
    "plt.xlabel('Пользователи')\n",
    "plt.ylabel('Стоимость');"
   ]
  },
  {
   "cell_type": "markdown",
   "metadata": {},
   "source": [
    "Согласно полученному графику, большинство заказов сосредоточено в диапазоне 0-10000 у.е. В другом ценновом диапазоне заказов меньше, их количество уменьшается с ростом стоимости."
   ]
  },
  {
   "cell_type": "markdown",
   "metadata": {},
   "source": [
    "### 95-й и 99-й перцентили стоимости заказов\n",
    "<a id=\"percentile_cost_orders\"></a>"
   ]
  },
  {
   "cell_type": "code",
   "execution_count": 54,
   "metadata": {},
   "outputs": [
    {
     "data": {
      "text/plain": [
       "array([26785., 53904.])"
      ]
     },
     "execution_count": 54,
     "metadata": {},
     "output_type": "execute_result"
    }
   ],
   "source": [
    "np.percentile(orders['revenue'], [95, 99])"
   ]
  },
  {
   "cell_type": "markdown",
   "metadata": {},
   "source": [
    "Заказы стоимостью более 26785 у.е совершали не более 5% пользователей. Заказы стоимостью более 54000 у.е совершали не более 1% пользователей. За границу для определения аномальных пользователей принимаем пользователей, совершивших совершивших заказ стоимостью более 26785 у.е."
   ]
  },
  {
   "cell_type": "markdown",
   "metadata": {},
   "source": [
    "### Статистическая значимость различий в конверсии между группами по «сырым» данным.\n",
    "<a id=\"stat_conversion\"></a>"
   ]
  },
  {
   "cell_type": "markdown",
   "metadata": {},
   "source": [
    "Найдем количество пользователей в указанную дату по группам"
   ]
  },
  {
   "cell_type": "code",
   "execution_count": 55,
   "metadata": {},
   "outputs": [],
   "source": [
    "visitorsADaily = visitors[visitors['group'] == 'A'][['date', 'visitors']]\n",
    "visitorsBDaily = visitors[visitors['group'] == 'B'][['date', 'visitors']]"
   ]
  },
  {
   "cell_type": "code",
   "execution_count": 56,
   "metadata": {},
   "outputs": [],
   "source": [
    "visitorsADaily.columns = ['date', 'visitorsPerDateA']\n",
    "visitorsBDaily.columns = ['date', 'visitorsPerDateB']"
   ]
  },
  {
   "cell_type": "markdown",
   "metadata": {},
   "source": [
    "Найдем кумулятивное количество пользователей в указанную дату по группам"
   ]
  },
  {
   "cell_type": "code",
   "execution_count": 57,
   "metadata": {},
   "outputs": [],
   "source": [
    "visitorsACummulative = visitorsADaily.apply(\n",
    "    lambda x: visitorsADaily[visitorsADaily['date'] <= x['date']].agg(\n",
    "        {'date': 'max', 'visitorsPerDateA': 'sum'}), axis=1)"
   ]
  },
  {
   "cell_type": "code",
   "execution_count": 58,
   "metadata": {},
   "outputs": [],
   "source": [
    "visitorsBCummulative = visitorsBDaily.apply(\n",
    "    lambda x: visitorsBDaily[visitorsBDaily['date'] <= x['date']].agg(\n",
    "        {'date': 'max', 'visitorsPerDateB': 'sum'}), axis=1)"
   ]
  },
  {
   "cell_type": "code",
   "execution_count": 59,
   "metadata": {},
   "outputs": [],
   "source": [
    "visitorsACummulative.columns = ['date', 'visitorsCummulativeA']\n",
    "visitorsBCummulative.columns = ['date', 'visitorsCummulativeB']"
   ]
  },
  {
   "cell_type": "markdown",
   "metadata": {},
   "source": [
    "Найдем количество заказов и выручку по ним в указанную по группам"
   ]
  },
  {
   "cell_type": "code",
   "execution_count": 60,
   "metadata": {},
   "outputs": [],
   "source": [
    "ordersADaily = (\n",
    "    orders[orders['group'] == 'A'][['date', 'orderId', 'userId', 'revenue']]\n",
    "    .groupby('date', as_index=False)\n",
    "    .agg({'orderId': pd.Series.nunique, 'revenue': 'sum'})\n",
    ")"
   ]
  },
  {
   "cell_type": "code",
   "execution_count": 61,
   "metadata": {},
   "outputs": [],
   "source": [
    "ordersADaily.columns = ['date', 'ordersPerDateA', 'revenuePerDateA']"
   ]
  },
  {
   "cell_type": "code",
   "execution_count": 62,
   "metadata": {},
   "outputs": [],
   "source": [
    "ordersBDaily = (\n",
    "    orders[orders['group'] == 'B'][['date', 'orderId', 'userId', 'revenue']]\n",
    "    .groupby('date', as_index=False)\n",
    "    .agg({'orderId': pd.Series.nunique, 'revenue': 'sum'})\n",
    ")"
   ]
  },
  {
   "cell_type": "code",
   "execution_count": 63,
   "metadata": {},
   "outputs": [],
   "source": [
    "ordersBDaily.columns = ['date', 'ordersPerDateB', 'revenuePerDateB']"
   ]
  },
  {
   "cell_type": "markdown",
   "metadata": {},
   "source": [
    "Найдем кумулятивное количество заказов и кумулятивную выручку по ним в указанную дату по группам"
   ]
  },
  {
   "cell_type": "code",
   "execution_count": 64,
   "metadata": {},
   "outputs": [],
   "source": [
    "ordersACummulative = ordersADaily.apply(\n",
    "    lambda x: ordersADaily[ordersADaily['date'] <= x['date']].agg(\n",
    "        {'date': 'max', 'ordersPerDateA': 'sum', 'revenuePerDateA': 'sum'}), axis=1).sort_values(by=['date'])"
   ]
  },
  {
   "cell_type": "code",
   "execution_count": 65,
   "metadata": {},
   "outputs": [],
   "source": [
    "ordersBCummulative = ordersBDaily.apply(\n",
    "    lambda x: ordersBDaily[ordersBDaily['date'] <= x['date']].agg(\n",
    "        {'date': 'max', 'ordersPerDateB': 'sum', 'revenuePerDateB': 'sum'}), axis=1).sort_values(by=['date'])"
   ]
  },
  {
   "cell_type": "code",
   "execution_count": 66,
   "metadata": {},
   "outputs": [],
   "source": [
    "ordersACummulative.columns = ['date', 'ordersCummulativeA', 'revenueCummulativeA']\n",
    "ordersBCummulative.columns = ['date', 'ordersCummulativeB', 'revenueCummulativeB']"
   ]
  },
  {
   "cell_type": "markdown",
   "metadata": {},
   "source": [
    "Объединим все датасеты"
   ]
  },
  {
   "cell_type": "code",
   "execution_count": 67,
   "metadata": {},
   "outputs": [],
   "source": [
    "df = (\n",
    "    ordersADaily.merge(\n",
    "        ordersBDaily, left_on='date', right_on='date', how='left')\n",
    "    .merge(ordersACummulative, left_on='date', right_on='date', how='left')\n",
    "    .merge(ordersBCummulative, left_on='date', right_on='date', how='left')\n",
    "    .merge(visitorsADaily, left_on='date', right_on='date', how='left')\n",
    "    .merge(visitorsBDaily, left_on='date', right_on='date', how='left')\n",
    "    .merge(visitorsACummulative, left_on='date', right_on='date', how='left')\n",
    "    .merge(visitorsBCummulative, left_on='date', right_on='date', how='left'))"
   ]
  },
  {
   "cell_type": "code",
   "execution_count": 68,
   "metadata": {},
   "outputs": [
    {
     "data": {
      "text/html": [
       "<div>\n",
       "<style scoped>\n",
       "    .dataframe tbody tr th:only-of-type {\n",
       "        vertical-align: middle;\n",
       "    }\n",
       "\n",
       "    .dataframe tbody tr th {\n",
       "        vertical-align: top;\n",
       "    }\n",
       "\n",
       "    .dataframe thead th {\n",
       "        text-align: right;\n",
       "    }\n",
       "</style>\n",
       "<table border=\"1\" class=\"dataframe\">\n",
       "  <thead>\n",
       "    <tr style=\"text-align: right;\">\n",
       "      <th></th>\n",
       "      <th>date</th>\n",
       "      <th>ordersPerDateA</th>\n",
       "      <th>revenuePerDateA</th>\n",
       "      <th>ordersPerDateB</th>\n",
       "      <th>revenuePerDateB</th>\n",
       "      <th>ordersCummulativeA</th>\n",
       "      <th>revenueCummulativeA</th>\n",
       "      <th>ordersCummulativeB</th>\n",
       "      <th>revenueCummulativeB</th>\n",
       "      <th>visitorsPerDateA</th>\n",
       "      <th>visitorsPerDateB</th>\n",
       "      <th>visitorsCummulativeA</th>\n",
       "      <th>visitorsCummulativeB</th>\n",
       "    </tr>\n",
       "  </thead>\n",
       "  <tbody>\n",
       "    <tr>\n",
       "      <th>0</th>\n",
       "      <td>2019-08-01</td>\n",
       "      <td>23</td>\n",
       "      <td>142779</td>\n",
       "      <td>17</td>\n",
       "      <td>59758</td>\n",
       "      <td>23</td>\n",
       "      <td>142779</td>\n",
       "      <td>17</td>\n",
       "      <td>59758</td>\n",
       "      <td>719</td>\n",
       "      <td>713.0</td>\n",
       "      <td>719</td>\n",
       "      <td>713.0</td>\n",
       "    </tr>\n",
       "    <tr>\n",
       "      <th>1</th>\n",
       "      <td>2019-08-02</td>\n",
       "      <td>19</td>\n",
       "      <td>91602</td>\n",
       "      <td>23</td>\n",
       "      <td>162043</td>\n",
       "      <td>42</td>\n",
       "      <td>234381</td>\n",
       "      <td>40</td>\n",
       "      <td>221801</td>\n",
       "      <td>619</td>\n",
       "      <td>581.0</td>\n",
       "      <td>1338</td>\n",
       "      <td>1294.0</td>\n",
       "    </tr>\n",
       "    <tr>\n",
       "      <th>2</th>\n",
       "      <td>2019-08-03</td>\n",
       "      <td>24</td>\n",
       "      <td>112473</td>\n",
       "      <td>14</td>\n",
       "      <td>67049</td>\n",
       "      <td>66</td>\n",
       "      <td>346854</td>\n",
       "      <td>54</td>\n",
       "      <td>288850</td>\n",
       "      <td>507</td>\n",
       "      <td>509.0</td>\n",
       "      <td>1845</td>\n",
       "      <td>1803.0</td>\n",
       "    </tr>\n",
       "    <tr>\n",
       "      <th>3</th>\n",
       "      <td>2019-08-04</td>\n",
       "      <td>11</td>\n",
       "      <td>41176</td>\n",
       "      <td>14</td>\n",
       "      <td>96890</td>\n",
       "      <td>77</td>\n",
       "      <td>388030</td>\n",
       "      <td>68</td>\n",
       "      <td>385740</td>\n",
       "      <td>717</td>\n",
       "      <td>770.0</td>\n",
       "      <td>2562</td>\n",
       "      <td>2573.0</td>\n",
       "    </tr>\n",
       "    <tr>\n",
       "      <th>4</th>\n",
       "      <td>2019-08-05</td>\n",
       "      <td>22</td>\n",
       "      <td>86383</td>\n",
       "      <td>21</td>\n",
       "      <td>89908</td>\n",
       "      <td>99</td>\n",
       "      <td>474413</td>\n",
       "      <td>89</td>\n",
       "      <td>475648</td>\n",
       "      <td>756</td>\n",
       "      <td>707.0</td>\n",
       "      <td>3318</td>\n",
       "      <td>3280.0</td>\n",
       "    </tr>\n",
       "  </tbody>\n",
       "</table>\n",
       "</div>"
      ],
      "text/plain": [
       "        date  ordersPerDateA  revenuePerDateA  ordersPerDateB  \\\n",
       "0 2019-08-01              23           142779              17   \n",
       "1 2019-08-02              19            91602              23   \n",
       "2 2019-08-03              24           112473              14   \n",
       "3 2019-08-04              11            41176              14   \n",
       "4 2019-08-05              22            86383              21   \n",
       "\n",
       "   revenuePerDateB  ordersCummulativeA  revenueCummulativeA  \\\n",
       "0            59758                  23               142779   \n",
       "1           162043                  42               234381   \n",
       "2            67049                  66               346854   \n",
       "3            96890                  77               388030   \n",
       "4            89908                  99               474413   \n",
       "\n",
       "   ordersCummulativeB  revenueCummulativeB  visitorsPerDateA  \\\n",
       "0                  17                59758               719   \n",
       "1                  40               221801               619   \n",
       "2                  54               288850               507   \n",
       "3                  68               385740               717   \n",
       "4                  89               475648               756   \n",
       "\n",
       "   visitorsPerDateB  visitorsCummulativeA  visitorsCummulativeB  \n",
       "0             713.0                   719                 713.0  \n",
       "1             581.0                  1338                1294.0  \n",
       "2             509.0                  1845                1803.0  \n",
       "3             770.0                  2562                2573.0  \n",
       "4             707.0                  3318                3280.0  "
      ]
     },
     "execution_count": 68,
     "metadata": {},
     "output_type": "execute_result"
    }
   ],
   "source": [
    "df.head()"
   ]
  },
  {
   "cell_type": "markdown",
   "metadata": {},
   "source": [
    "Найдем количество совершённых заказов для пользователей по группам"
   ]
  },
  {
   "cell_type": "code",
   "execution_count": 69,
   "metadata": {},
   "outputs": [],
   "source": [
    "ordersByUsersA = (orders[orders['group'] == 'A'].groupby('userId', as_index=False).agg({'orderId': pd.Series.nunique}))"
   ]
  },
  {
   "cell_type": "code",
   "execution_count": 70,
   "metadata": {},
   "outputs": [],
   "source": [
    "ordersByUsersB = (orders[orders['group'] == 'B'].groupby('userId', as_index=False).agg({'orderId': pd.Series.nunique}))"
   ]
  },
  {
   "cell_type": "code",
   "execution_count": 71,
   "metadata": {},
   "outputs": [],
   "source": [
    "ordersByUsersA.columns = ['userId', 'orders']\n",
    "ordersByUsersB.columns = ['userId', 'orders'] "
   ]
  },
  {
   "cell_type": "markdown",
   "metadata": {},
   "source": [
    "Объявим переменные sampleA и sampleB, в которых пользователям из разных групп будет соответствовать количество заказов. Тем, кто ничего не заказал, будут соответствовать нули. "
   ]
  },
  {
   "cell_type": "code",
   "execution_count": 72,
   "metadata": {},
   "outputs": [],
   "source": [
    "sampleA = pd.concat([ordersByUsersA['orders'],\n",
    "    pd.Series(0, index=np.arange(df['visitorsPerDateA'].sum() - len(ordersByUsersA['orders'])), name='orders')],axis=0)"
   ]
  },
  {
   "cell_type": "code",
   "execution_count": 73,
   "metadata": {},
   "outputs": [],
   "source": [
    "sampleB = pd.concat([ordersByUsersB['orders'],\n",
    "    pd.Series(0, index=np.arange(df['visitorsPerDateB'].sum() - len(ordersByUsersB['orders'])), name='orders')],axis=0)"
   ]
  },
  {
   "cell_type": "markdown",
   "metadata": {},
   "source": [
    "Посчитаем статистическую значимость различий в конверсии между группами\n",
    "\n",
    "Сформируем гипотезы:\n",
    "   - Н0 - статистически значимых различий в конверсии по \"сырым \" данным между группами нет\n",
    "   - Н1 - статистически значимые различия в конверсии по \"сырым \" данным между группами есть"
   ]
  },
  {
   "cell_type": "code",
   "execution_count": 74,
   "metadata": {},
   "outputs": [
    {
     "data": {
      "text/plain": [
       "'0.000002'"
      ]
     },
     "execution_count": 74,
     "metadata": {},
     "output_type": "execute_result"
    }
   ],
   "source": [
    "'{0:.6f}'.format(stats.mannwhitneyu(sampleA, sampleB, alternative='two-sided')[1])"
   ]
  },
  {
   "cell_type": "markdown",
   "metadata": {},
   "source": [
    "P_value значиельно меньше 0.05, поэтому мы отвергаем нулевую гипотезу. По «сырым» данным в конверсии групп A и B присутствуют статистически значимые различия. "
   ]
  },
  {
   "cell_type": "markdown",
   "metadata": {},
   "source": [
    "Найдем относительное различие конверсии группы B"
   ]
  },
  {
   "cell_type": "code",
   "execution_count": 75,
   "metadata": {},
   "outputs": [
    {
     "data": {
      "text/plain": [
       "'33.415%'"
      ]
     },
     "execution_count": 75,
     "metadata": {},
     "output_type": "execute_result"
    }
   ],
   "source": [
    "\"{0:.3%}\".format(sampleB.mean() / sampleA.mean() - 1)"
   ]
  },
  {
   "cell_type": "markdown",
   "metadata": {},
   "source": [
    "Относительный прирост конверсии группы В к группе А составляет 33%"
   ]
  },
  {
   "cell_type": "markdown",
   "metadata": {},
   "source": [
    "### Статистическая значимость различий в среднем чеке заказа между группами по «сырым» данным\n",
    "<a id=\"stat_average_check\"></a>"
   ]
  },
  {
   "cell_type": "markdown",
   "metadata": {},
   "source": [
    "Сформируем гипотезы:\n",
    "\n",
    "  - Н0 - статистически значимых различий в среднем чеке заказа по \"сырым \" данным между группами нет\n",
    "  - Н1 - статистически значимые различия в среднем чеке заказа по \"сырым \" данным между группами есть"
   ]
  },
  {
   "cell_type": "code",
   "execution_count": 76,
   "metadata": {},
   "outputs": [
    {
     "data": {
      "text/plain": [
       "'0.829'"
      ]
     },
     "execution_count": 76,
     "metadata": {},
     "output_type": "execute_result"
    }
   ],
   "source": [
    "'{0:.3f}'.format(stats.mannwhitneyu(orders[orders['group']=='A']['revenue'], orders[orders['group']=='B']['revenue'], \n",
    "                                    alternative='two-sided')[1])"
   ]
  },
  {
   "cell_type": "markdown",
   "metadata": {},
   "source": [
    "P_value больше 0.05, статистически значимых различий в среднем чеке между группами А и В нет."
   ]
  },
  {
   "cell_type": "code",
   "execution_count": 77,
   "metadata": {},
   "outputs": [
    {
     "data": {
      "text/plain": [
       "'28.660%'"
      ]
     },
     "execution_count": 77,
     "metadata": {},
     "output_type": "execute_result"
    }
   ],
   "source": [
    "'{0:.3%}'.format(orders[orders['group']=='B']['revenue'].mean()/orders[orders['group']=='A']['revenue'].mean()-1)"
   ]
  },
  {
   "cell_type": "markdown",
   "metadata": {},
   "source": [
    "Относительное различие между средним чеком группы В к группе А составляет 28,8%."
   ]
  },
  {
   "cell_type": "markdown",
   "metadata": {},
   "source": [
    "### Статистическая значимость различий в конверсии между группами по «очищенным» данным\n",
    "<a id=\"stat_conversion_clean\"></a>"
   ]
  },
  {
   "cell_type": "markdown",
   "metadata": {},
   "source": [
    "Ранее в п. 2.7, 2.9  было указано, что за аномальных пользователей принимаем тех, кто совершил более 1 заказов или совершил заказ дороже 28 000 у.е. Сделаем срезы пользователей с этими параметрами. "
   ]
  },
  {
   "cell_type": "code",
   "execution_count": 78,
   "metadata": {},
   "outputs": [],
   "source": [
    "usersWithManyOrders = pd.concat(\n",
    "    [\n",
    "        ordersByUsersA[ordersByUsersA['orders'] > 1]['userId'],\n",
    "        ordersByUsersB[ordersByUsersB['orders'] > 1]['userId']], axis=0)\n",
    "usersWithExpensiveOrders = orders[orders['revenue'] > 26785]['userId']\n",
    "abnormalUsers = (\n",
    "    pd.concat([usersWithManyOrders, usersWithExpensiveOrders], axis=0)\n",
    "    .drop_duplicates()\n",
    "    .sort_values())"
   ]
  },
  {
   "cell_type": "code",
   "execution_count": 79,
   "metadata": {},
   "outputs": [
    {
     "data": {
      "text/plain": [
       "568     113298937\n",
       "1099    148427295\n",
       "928     204675465\n",
       "33      249864742\n",
       "684     358944393\n",
       "Name: userId, dtype: int64"
      ]
     },
     "execution_count": 79,
     "metadata": {},
     "output_type": "execute_result"
    }
   ],
   "source": [
    "abnormalUsers.head()"
   ]
  },
  {
   "cell_type": "markdown",
   "metadata": {},
   "source": [
    "Найдем очищенные данные по группам"
   ]
  },
  {
   "cell_type": "code",
   "execution_count": 80,
   "metadata": {},
   "outputs": [],
   "source": [
    "sampleAFiltered = pd.concat(\n",
    "    [ ordersByUsersA[np.logical_not(ordersByUsersA['userId'].isin(abnormalUsers))]['orders'],\n",
    "        pd.Series(0, index=np.arange(df['visitorsPerDateA'].sum() - len(ordersByUsersA['orders'])), name='orders')],\n",
    "    axis=0)\n",
    "sampleBFiltered = pd.concat(\n",
    "    [ordersByUsersB[ np.logical_not(ordersByUsersB['userId'].isin(abnormalUsers))]['orders'],\n",
    "        pd.Series(0, index=np.arange(df['visitorsPerDateB'].sum() - len(ordersByUsersB['orders'])), name='orders')],\n",
    "    axis=0) "
   ]
  },
  {
   "cell_type": "markdown",
   "metadata": {},
   "source": [
    "Сформируем гипотезы:\n",
    "\n",
    "  - Н0 - статистически значимых различий в конверсии по \"очищенным\" данным между группами нет\n",
    "  - Н1 - статистически значимые различия в конверсии по \"очищенным\" данным между группами есть"
   ]
  },
  {
   "cell_type": "code",
   "execution_count": 81,
   "metadata": {},
   "outputs": [
    {
     "data": {
      "text/plain": [
       "'0.000006'"
      ]
     },
     "execution_count": 81,
     "metadata": {},
     "output_type": "execute_result"
    }
   ],
   "source": [
    "'{0:.6f}'.format(stats.mannwhitneyu(sampleAFiltered, sampleBFiltered, alternative='two-sided')[1])"
   ]
  },
  {
   "cell_type": "markdown",
   "metadata": {},
   "source": [
    "И по «очищенным» данным P_value меньше 0.05, мы отвергаем нулевую гипотезу. Статистически значимые различия в конверсии между группами A и B есть."
   ]
  },
  {
   "cell_type": "code",
   "execution_count": 82,
   "metadata": {},
   "outputs": [
    {
     "data": {
      "text/plain": [
       "'35.091%'"
      ]
     },
     "execution_count": 82,
     "metadata": {},
     "output_type": "execute_result"
    }
   ],
   "source": [
    "'{0:.3%}'.format(sampleBFiltered.mean()/sampleAFiltered.mean()-1)"
   ]
  },
  {
   "cell_type": "markdown",
   "metadata": {},
   "source": [
    "Относительный прирост конверсии группы В к группе А составляет 35,9% по по «очищенным» данным."
   ]
  },
  {
   "cell_type": "markdown",
   "metadata": {},
   "source": [
    "### Статистическуя значимость различий в среднем чеке заказа между группами по «очищенным» данным\n",
    "<a id=\"stat_average_check_clean\"></a>"
   ]
  },
  {
   "cell_type": "markdown",
   "metadata": {},
   "source": [
    "Сформируем гипотезы:\n",
    "\n",
    "  - Н0 - статистически значимых различий в среднем чеке заказа по \"очищенным\" данным между группами нет\n",
    "  - Н1 - статистически значимые различия в среднем чеке заказа по \"очищенным\" данным между группами есть"
   ]
  },
  {
   "cell_type": "code",
   "execution_count": 83,
   "metadata": {},
   "outputs": [
    {
     "data": {
      "text/plain": [
       "'0.727'"
      ]
     },
     "execution_count": 83,
     "metadata": {},
     "output_type": "execute_result"
    }
   ],
   "source": [
    "'{0:.3f}'.format(stats.mannwhitneyu(orders[np.logical_and(orders['group'] == 'A',\n",
    "        np.logical_not(orders['userId'].isin(abnormalUsers)))]['revenue'], orders[np.logical_and(orders['group'] == 'B',\n",
    "                    np.logical_not(orders['userId'].isin(abnormalUsers)))]['revenue'], alternative='two-sided')[1])"
   ]
  },
  {
   "cell_type": "markdown",
   "metadata": {},
   "source": [
    "P_value больше 0.05, статистически значимых различий в среднем чеке между группами А и В нет и для «очищенных» данных."
   ]
  },
  {
   "cell_type": "code",
   "execution_count": 84,
   "metadata": {},
   "outputs": [
    {
     "data": {
      "text/plain": [
       "'-3.373%'"
      ]
     },
     "execution_count": 84,
     "metadata": {},
     "output_type": "execute_result"
    }
   ],
   "source": [
    "'{0:.3%}'.format(orders[np.logical_and(orders['group'] == 'B', np.logical_not(orders['userId'].isin(abnormalUsers)))\n",
    "                       ]['revenue'].mean() / orders[np.logical_and(orders['group'] == 'A',\n",
    "                        np.logical_not(orders['userId'].isin(abnormalUsers)))]['revenue'].mean() - 1)"
   ]
  },
  {
   "cell_type": "markdown",
   "metadata": {},
   "source": [
    "Но относительное различие в среднем чеке  группы В к группе А изменилось, по «очищенным» данным средний чек группы В уступает среднему чеку группы А на 3%."
   ]
  },
  {
   "cell_type": "markdown",
   "metadata": {},
   "source": [
    "## Вывод\n",
    "<a id=\"end\"></a>"
   ]
  },
  {
   "cell_type": "markdown",
   "metadata": {},
   "source": [
    "Проведя анализ А/В-теста, мы получили следующие результаты:\n",
    "1. Для \"сырых данных\":\n",
    "  - в конверсии групп A и B статистически значимых различия есть \n",
    "  - в среднем чеке между группами А и В статистически значимых различий нет\n",
    "2. Для \"очищенных данных\":\n",
    "  - в конверсии групп A и B статистически значимые различия есть \n",
    "  - в среднем чеке между группами А и В статистически значимых различий нет\n",
    "\n",
    "При оценке:\n",
    "   - кумулятивной выручки, \n",
    "   - кумулятивного среднего чека, \n",
    "   - относительного изменения кумулятивного среднего чека группы B к группе A, \n",
    "   - кумулятивной конверсии, \n",
    "   - относительного изменения кумулятивной конверсии группы B к группе A \n",
    "\n",
    "результаты группы В всегда были выше, т. е. лучше.\n",
    "\n",
    "Подводя итог, тест следует остановить и зафиксировать победу группы В."
   ]
  }
 ],
 "metadata": {
  "ExecuteTimeLog": [
   {
    "duration": 90,
    "start_time": "2021-07-13T07:13:34.112Z"
   },
   {
    "duration": 640,
    "start_time": "2021-07-13T07:20:56.230Z"
   },
   {
    "duration": 18,
    "start_time": "2021-07-13T07:20:58.309Z"
   },
   {
    "duration": 13,
    "start_time": "2021-07-13T07:22:11.537Z"
   },
   {
    "duration": 7,
    "start_time": "2021-07-13T07:23:18.631Z"
   },
   {
    "duration": 21,
    "start_time": "2021-07-13T07:43:14.752Z"
   },
   {
    "duration": 9,
    "start_time": "2021-07-13T07:44:11.116Z"
   },
   {
    "duration": 6,
    "start_time": "2021-07-13T07:47:06.629Z"
   },
   {
    "duration": 5,
    "start_time": "2021-07-13T07:50:43.607Z"
   },
   {
    "duration": 10,
    "start_time": "2021-07-13T07:51:30.295Z"
   },
   {
    "duration": 87,
    "start_time": "2021-07-13T07:52:18.933Z"
   },
   {
    "duration": 373,
    "start_time": "2021-07-13T07:53:13.752Z"
   },
   {
    "duration": 10,
    "start_time": "2021-07-13T07:53:18.767Z"
   },
   {
    "duration": 466,
    "start_time": "2021-07-13T08:14:48.716Z"
   },
   {
    "duration": 49,
    "start_time": "2021-07-13T08:16:51.171Z"
   },
   {
    "duration": 86,
    "start_time": "2021-07-13T08:17:29.514Z"
   },
   {
    "duration": 3,
    "start_time": "2021-07-13T08:32:59.266Z"
   },
   {
    "duration": 2,
    "start_time": "2021-07-13T08:33:01.498Z"
   },
   {
    "duration": 278,
    "start_time": "2021-07-13T08:33:10.967Z"
   },
   {
    "duration": 259,
    "start_time": "2021-07-13T08:33:29.713Z"
   },
   {
    "duration": 266,
    "start_time": "2021-07-13T08:33:48.336Z"
   },
   {
    "duration": 2,
    "start_time": "2021-07-13T08:33:54.710Z"
   },
   {
    "duration": 362,
    "start_time": "2021-07-13T08:33:56.598Z"
   },
   {
    "duration": 3,
    "start_time": "2021-07-13T08:34:03.103Z"
   },
   {
    "duration": 256,
    "start_time": "2021-07-13T08:34:04.751Z"
   },
   {
    "duration": 2,
    "start_time": "2021-07-13T08:34:12.862Z"
   },
   {
    "duration": 426,
    "start_time": "2021-07-13T08:34:13.487Z"
   },
   {
    "duration": 17,
    "start_time": "2021-07-13T08:34:20.239Z"
   },
   {
    "duration": 8,
    "start_time": "2021-07-13T08:34:21.909Z"
   },
   {
    "duration": 3,
    "start_time": "2021-07-13T08:34:31.816Z"
   },
   {
    "duration": 8,
    "start_time": "2021-07-13T08:34:34.177Z"
   },
   {
    "duration": 5,
    "start_time": "2021-07-13T08:34:40.303Z"
   },
   {
    "duration": 10,
    "start_time": "2021-07-13T08:34:41.036Z"
   },
   {
    "duration": 4,
    "start_time": "2021-07-13T08:34:58.639Z"
   },
   {
    "duration": 21,
    "start_time": "2021-07-13T08:34:58.646Z"
   },
   {
    "duration": 14,
    "start_time": "2021-07-13T08:34:58.669Z"
   },
   {
    "duration": 12,
    "start_time": "2021-07-13T08:34:58.685Z"
   },
   {
    "duration": 24,
    "start_time": "2021-07-13T08:34:58.699Z"
   },
   {
    "duration": 5,
    "start_time": "2021-07-13T08:34:58.725Z"
   },
   {
    "duration": 12,
    "start_time": "2021-07-13T08:34:58.732Z"
   },
   {
    "duration": 4,
    "start_time": "2021-07-13T08:34:58.746Z"
   },
   {
    "duration": 89,
    "start_time": "2021-07-13T08:34:58.751Z"
   },
   {
    "duration": 11,
    "start_time": "2021-07-13T08:46:54.114Z"
   },
   {
    "duration": 505,
    "start_time": "2021-07-13T08:52:34.260Z"
   },
   {
    "duration": 19,
    "start_time": "2021-07-13T08:52:43.867Z"
   },
   {
    "duration": 49,
    "start_time": "2021-07-13T09:07:10.368Z"
   },
   {
    "duration": 7,
    "start_time": "2021-07-13T09:07:22.796Z"
   },
   {
    "duration": 8,
    "start_time": "2021-07-13T09:10:08.876Z"
   },
   {
    "duration": 7,
    "start_time": "2021-07-13T09:23:46.982Z"
   },
   {
    "duration": 6,
    "start_time": "2021-07-13T09:24:00.487Z"
   },
   {
    "duration": 85,
    "start_time": "2021-07-13T09:29:42.086Z"
   },
   {
    "duration": 1263,
    "start_time": "2021-07-13T09:29:59.849Z"
   },
   {
    "duration": 1192,
    "start_time": "2021-07-13T09:30:25.627Z"
   },
   {
    "duration": 6,
    "start_time": "2021-07-13T09:34:00.410Z"
   },
   {
    "duration": 9,
    "start_time": "2021-07-13T09:34:09.991Z"
   },
   {
    "duration": 8,
    "start_time": "2021-07-13T09:34:19.141Z"
   },
   {
    "duration": 8,
    "start_time": "2021-07-13T09:34:35.316Z"
   },
   {
    "duration": 6,
    "start_time": "2021-07-13T09:35:30.737Z"
   },
   {
    "duration": 10,
    "start_time": "2021-07-13T13:24:10.823Z"
   },
   {
    "duration": 6,
    "start_time": "2021-07-13T13:24:19.591Z"
   },
   {
    "duration": 7,
    "start_time": "2021-07-13T13:25:28.272Z"
   },
   {
    "duration": 6,
    "start_time": "2021-07-13T13:25:35.240Z"
   },
   {
    "duration": 6,
    "start_time": "2021-07-13T13:25:47.618Z"
   },
   {
    "duration": 6,
    "start_time": "2021-07-13T13:25:57.042Z"
   },
   {
    "duration": 6,
    "start_time": "2021-07-13T13:26:04.348Z"
   },
   {
    "duration": 6,
    "start_time": "2021-07-13T13:26:13.372Z"
   },
   {
    "duration": 6,
    "start_time": "2021-07-13T13:27:14.820Z"
   },
   {
    "duration": 11,
    "start_time": "2021-07-13T13:30:05.228Z"
   },
   {
    "duration": 6,
    "start_time": "2021-07-13T13:31:39.476Z"
   },
   {
    "duration": 86,
    "start_time": "2021-07-13T13:32:35.483Z"
   },
   {
    "duration": 650,
    "start_time": "2021-07-13T13:45:21.049Z"
   },
   {
    "duration": 696,
    "start_time": "2021-07-13T13:46:58.769Z"
   },
   {
    "duration": 1329,
    "start_time": "2021-07-13T13:47:07.905Z"
   },
   {
    "duration": 710,
    "start_time": "2021-07-13T13:47:41.873Z"
   },
   {
    "duration": 273,
    "start_time": "2021-07-13T13:53:48.985Z"
   },
   {
    "duration": 450,
    "start_time": "2021-07-13T13:54:31.595Z"
   },
   {
    "duration": 199,
    "start_time": "2021-07-13T13:55:57.017Z"
   },
   {
    "duration": 193,
    "start_time": "2021-07-13T14:13:48.543Z"
   },
   {
    "duration": 7,
    "start_time": "2021-07-13T14:14:44.233Z"
   },
   {
    "duration": 168,
    "start_time": "2021-07-13T14:15:32.043Z"
   },
   {
    "duration": 8,
    "start_time": "2021-07-13T14:15:47.053Z"
   },
   {
    "duration": 193,
    "start_time": "2021-07-13T14:22:36.819Z"
   },
   {
    "duration": 252,
    "start_time": "2021-07-13T14:22:48.122Z"
   },
   {
    "duration": 152,
    "start_time": "2021-07-13T14:22:58.884Z"
   },
   {
    "duration": 7,
    "start_time": "2021-07-13T14:23:14.880Z"
   },
   {
    "duration": 7,
    "start_time": "2021-07-13T14:35:40.195Z"
   },
   {
    "duration": 8,
    "start_time": "2021-07-13T14:35:51.527Z"
   },
   {
    "duration": 6,
    "start_time": "2021-07-13T14:36:22.018Z"
   },
   {
    "duration": 11,
    "start_time": "2021-07-13T14:36:34.256Z"
   },
   {
    "duration": 13,
    "start_time": "2021-07-13T14:36:47.343Z"
   },
   {
    "duration": 3,
    "start_time": "2021-07-13T14:38:07.467Z"
   },
   {
    "duration": 9,
    "start_time": "2021-07-13T14:38:23.249Z"
   },
   {
    "duration": 289,
    "start_time": "2021-07-13T14:41:42.101Z"
   },
   {
    "duration": 4,
    "start_time": "2021-07-13T14:41:53.392Z"
   },
   {
    "duration": 7,
    "start_time": "2021-07-13T14:42:07.985Z"
   },
   {
    "duration": 4,
    "start_time": "2021-07-13T14:42:31.760Z"
   },
   {
    "duration": 7,
    "start_time": "2021-07-13T14:42:45.155Z"
   },
   {
    "duration": 163,
    "start_time": "2021-07-13T14:44:35.890Z"
   },
   {
    "duration": 156,
    "start_time": "2021-07-13T14:44:42.094Z"
   },
   {
    "duration": 166,
    "start_time": "2021-07-13T14:49:16.771Z"
   },
   {
    "duration": 178,
    "start_time": "2021-07-13T14:50:27.808Z"
   },
   {
    "duration": 182,
    "start_time": "2021-07-13T14:51:23.824Z"
   },
   {
    "duration": 243,
    "start_time": "2021-07-13T14:51:30.805Z"
   },
   {
    "duration": 173,
    "start_time": "2021-07-13T15:00:40.504Z"
   },
   {
    "duration": 179,
    "start_time": "2021-07-13T15:08:03.311Z"
   },
   {
    "duration": 258,
    "start_time": "2021-07-13T15:25:57.839Z"
   },
   {
    "duration": 6,
    "start_time": "2021-07-13T15:26:42.617Z"
   },
   {
    "duration": 8,
    "start_time": "2021-07-13T15:27:00.305Z"
   },
   {
    "duration": 92,
    "start_time": "2021-07-13T15:30:45.592Z"
   },
   {
    "duration": 84,
    "start_time": "2021-07-13T15:30:56.629Z"
   },
   {
    "duration": 97,
    "start_time": "2021-07-13T15:31:06.641Z"
   },
   {
    "duration": 79,
    "start_time": "2021-07-13T15:31:21.441Z"
   },
   {
    "duration": 342,
    "start_time": "2021-07-13T15:31:50.962Z"
   },
   {
    "duration": 307,
    "start_time": "2021-07-13T15:32:27.827Z"
   },
   {
    "duration": 6676,
    "start_time": "2021-07-13T15:32:58.752Z"
   },
   {
    "duration": 9,
    "start_time": "2021-07-13T15:33:32.845Z"
   },
   {
    "duration": 6982,
    "start_time": "2021-07-13T15:33:48.596Z"
   },
   {
    "duration": 272,
    "start_time": "2021-07-13T15:34:05.979Z"
   },
   {
    "duration": 278,
    "start_time": "2021-07-13T15:34:20.164Z"
   },
   {
    "duration": 279,
    "start_time": "2021-07-13T15:36:20.365Z"
   },
   {
    "duration": 3,
    "start_time": "2021-07-13T15:57:54.620Z"
   },
   {
    "duration": 21,
    "start_time": "2021-07-13T15:57:54.625Z"
   },
   {
    "duration": 13,
    "start_time": "2021-07-13T15:57:54.648Z"
   },
   {
    "duration": 8,
    "start_time": "2021-07-13T15:57:54.663Z"
   },
   {
    "duration": 12,
    "start_time": "2021-07-13T15:57:54.672Z"
   },
   {
    "duration": 5,
    "start_time": "2021-07-13T15:57:54.686Z"
   },
   {
    "duration": 11,
    "start_time": "2021-07-13T15:57:54.693Z"
   },
   {
    "duration": 36,
    "start_time": "2021-07-13T15:57:54.706Z"
   },
   {
    "duration": 49,
    "start_time": "2021-07-13T15:57:54.746Z"
   },
   {
    "duration": 8,
    "start_time": "2021-07-13T15:57:54.797Z"
   },
   {
    "duration": 7,
    "start_time": "2021-07-13T15:57:54.807Z"
   },
   {
    "duration": 13,
    "start_time": "2021-07-13T15:57:54.816Z"
   },
   {
    "duration": 7,
    "start_time": "2021-07-13T15:57:54.830Z"
   },
   {
    "duration": 7,
    "start_time": "2021-07-13T15:57:54.839Z"
   },
   {
    "duration": 7,
    "start_time": "2021-07-13T15:57:54.848Z"
   },
   {
    "duration": 219,
    "start_time": "2021-07-13T15:57:54.856Z"
   },
   {
    "duration": 8,
    "start_time": "2021-07-13T15:57:55.077Z"
   },
   {
    "duration": 163,
    "start_time": "2021-07-13T15:57:55.087Z"
   },
   {
    "duration": 8,
    "start_time": "2021-07-13T15:57:55.252Z"
   },
   {
    "duration": 8,
    "start_time": "2021-07-13T15:57:55.261Z"
   },
   {
    "duration": 5,
    "start_time": "2021-07-13T15:57:55.270Z"
   },
   {
    "duration": 11,
    "start_time": "2021-07-13T15:57:55.277Z"
   },
   {
    "duration": 6,
    "start_time": "2021-07-13T15:57:55.289Z"
   },
   {
    "duration": 6,
    "start_time": "2021-07-13T15:57:55.297Z"
   },
   {
    "duration": 226,
    "start_time": "2021-07-13T15:57:55.304Z"
   },
   {
    "duration": 211,
    "start_time": "2021-07-13T15:57:55.532Z"
   },
   {
    "duration": 6,
    "start_time": "2021-07-13T15:57:55.746Z"
   },
   {
    "duration": 313,
    "start_time": "2021-07-13T15:57:55.753Z"
   },
   {
    "duration": 4,
    "start_time": "2021-07-13T15:59:37.272Z"
   },
   {
    "duration": 9,
    "start_time": "2021-07-13T16:00:30.700Z"
   },
   {
    "duration": 1069,
    "start_time": "2021-07-13T16:01:07.912Z"
   },
   {
    "duration": 17,
    "start_time": "2021-07-13T16:01:08.982Z"
   },
   {
    "duration": 18,
    "start_time": "2021-07-13T16:01:09.001Z"
   },
   {
    "duration": 4,
    "start_time": "2021-07-13T16:01:09.021Z"
   },
   {
    "duration": 24,
    "start_time": "2021-07-13T16:01:09.026Z"
   },
   {
    "duration": 5,
    "start_time": "2021-07-13T16:01:09.052Z"
   },
   {
    "duration": 17,
    "start_time": "2021-07-13T16:01:09.059Z"
   },
   {
    "duration": 1174,
    "start_time": "2021-07-13T16:01:09.079Z"
   },
   {
    "duration": 50,
    "start_time": "2021-07-13T16:01:10.256Z"
   },
   {
    "duration": 8,
    "start_time": "2021-07-13T16:01:10.307Z"
   },
   {
    "duration": 9,
    "start_time": "2021-07-13T16:01:10.317Z"
   },
   {
    "duration": 9,
    "start_time": "2021-07-13T16:01:10.327Z"
   },
   {
    "duration": 12,
    "start_time": "2021-07-13T16:01:10.337Z"
   },
   {
    "duration": 7,
    "start_time": "2021-07-13T16:01:10.350Z"
   },
   {
    "duration": 9,
    "start_time": "2021-07-13T16:01:10.358Z"
   },
   {
    "duration": 207,
    "start_time": "2021-07-13T16:01:10.368Z"
   },
   {
    "duration": 8,
    "start_time": "2021-07-13T16:01:10.577Z"
   },
   {
    "duration": 144,
    "start_time": "2021-07-13T16:01:10.587Z"
   },
   {
    "duration": 13,
    "start_time": "2021-07-13T16:01:10.732Z"
   },
   {
    "duration": 27,
    "start_time": "2021-07-13T16:01:10.746Z"
   },
   {
    "duration": 16,
    "start_time": "2021-07-13T16:01:10.774Z"
   },
   {
    "duration": 14,
    "start_time": "2021-07-13T16:01:10.792Z"
   },
   {
    "duration": 7,
    "start_time": "2021-07-13T16:01:10.809Z"
   },
   {
    "duration": 16,
    "start_time": "2021-07-13T16:01:10.817Z"
   },
   {
    "duration": 196,
    "start_time": "2021-07-13T16:01:10.834Z"
   },
   {
    "duration": 185,
    "start_time": "2021-07-13T16:01:11.031Z"
   },
   {
    "duration": 5,
    "start_time": "2021-07-13T16:01:11.218Z"
   },
   {
    "duration": 369,
    "start_time": "2021-07-13T16:01:11.225Z"
   },
   {
    "duration": 403,
    "start_time": "2021-07-13T16:01:11.596Z"
   },
   {
    "duration": 406,
    "start_time": "2021-07-13T16:01:11.595Z"
   },
   {
    "duration": 1128,
    "start_time": "2021-07-13T16:03:06.261Z"
   },
   {
    "duration": 16,
    "start_time": "2021-07-13T16:03:07.391Z"
   },
   {
    "duration": 15,
    "start_time": "2021-07-13T16:03:07.409Z"
   },
   {
    "duration": 11,
    "start_time": "2021-07-13T16:03:07.426Z"
   },
   {
    "duration": 11,
    "start_time": "2021-07-13T16:03:07.439Z"
   },
   {
    "duration": 8,
    "start_time": "2021-07-13T16:03:07.452Z"
   },
   {
    "duration": 11,
    "start_time": "2021-07-13T16:03:07.462Z"
   },
   {
    "duration": 1105,
    "start_time": "2021-07-13T16:03:07.476Z"
   },
   {
    "duration": 48,
    "start_time": "2021-07-13T16:03:08.584Z"
   },
   {
    "duration": 7,
    "start_time": "2021-07-13T16:03:08.634Z"
   },
   {
    "duration": 9,
    "start_time": "2021-07-13T16:03:08.643Z"
   },
   {
    "duration": 9,
    "start_time": "2021-07-13T16:03:08.653Z"
   },
   {
    "duration": 10,
    "start_time": "2021-07-13T16:03:08.663Z"
   },
   {
    "duration": 8,
    "start_time": "2021-07-13T16:03:08.674Z"
   },
   {
    "duration": 8,
    "start_time": "2021-07-13T16:03:08.684Z"
   },
   {
    "duration": 248,
    "start_time": "2021-07-13T16:03:08.694Z"
   },
   {
    "duration": 9,
    "start_time": "2021-07-13T16:03:08.943Z"
   },
   {
    "duration": 159,
    "start_time": "2021-07-13T16:03:08.955Z"
   },
   {
    "duration": 7,
    "start_time": "2021-07-13T16:03:09.116Z"
   },
   {
    "duration": 16,
    "start_time": "2021-07-13T16:03:09.125Z"
   },
   {
    "duration": 11,
    "start_time": "2021-07-13T16:03:09.143Z"
   },
   {
    "duration": 11,
    "start_time": "2021-07-13T16:03:09.156Z"
   },
   {
    "duration": 6,
    "start_time": "2021-07-13T16:03:09.170Z"
   },
   {
    "duration": 6,
    "start_time": "2021-07-13T16:03:09.177Z"
   },
   {
    "duration": 210,
    "start_time": "2021-07-13T16:03:09.185Z"
   },
   {
    "duration": 191,
    "start_time": "2021-07-13T16:03:09.396Z"
   },
   {
    "duration": 8,
    "start_time": "2021-07-13T16:03:09.589Z"
   },
   {
    "duration": 376,
    "start_time": "2021-07-13T16:03:09.598Z"
   },
   {
    "duration": 5,
    "start_time": "2021-07-13T16:03:09.975Z"
   },
   {
    "duration": 12,
    "start_time": "2021-07-13T16:03:09.981Z"
   },
   {
    "duration": 196,
    "start_time": "2021-07-13T16:03:54.671Z"
   },
   {
    "duration": 4,
    "start_time": "2021-07-13T16:19:36.502Z"
   },
   {
    "duration": 504,
    "start_time": "2021-07-13T16:20:20.028Z"
   },
   {
    "duration": 4,
    "start_time": "2021-07-13T16:20:42.722Z"
   },
   {
    "duration": 179,
    "start_time": "2021-07-13T16:20:43.974Z"
   },
   {
    "duration": 467,
    "start_time": "2021-07-13T16:43:17.875Z"
   },
   {
    "duration": 1205,
    "start_time": "2021-07-13T16:43:32.274Z"
   },
   {
    "duration": 17,
    "start_time": "2021-07-13T16:43:33.480Z"
   },
   {
    "duration": 32,
    "start_time": "2021-07-13T16:43:33.499Z"
   },
   {
    "duration": 16,
    "start_time": "2021-07-13T16:43:33.533Z"
   },
   {
    "duration": 13,
    "start_time": "2021-07-13T16:43:33.551Z"
   },
   {
    "duration": 19,
    "start_time": "2021-07-13T16:43:33.565Z"
   },
   {
    "duration": 22,
    "start_time": "2021-07-13T16:43:33.586Z"
   },
   {
    "duration": 1217,
    "start_time": "2021-07-13T16:43:33.611Z"
   },
   {
    "duration": 49,
    "start_time": "2021-07-13T16:43:34.830Z"
   },
   {
    "duration": 7,
    "start_time": "2021-07-13T16:43:34.881Z"
   },
   {
    "duration": 19,
    "start_time": "2021-07-13T16:43:34.889Z"
   },
   {
    "duration": 18,
    "start_time": "2021-07-13T16:43:34.909Z"
   },
   {
    "duration": 15,
    "start_time": "2021-07-13T16:43:34.928Z"
   },
   {
    "duration": 16,
    "start_time": "2021-07-13T16:43:34.945Z"
   },
   {
    "duration": 8,
    "start_time": "2021-07-13T16:43:34.962Z"
   },
   {
    "duration": 205,
    "start_time": "2021-07-13T16:43:34.972Z"
   },
   {
    "duration": 7,
    "start_time": "2021-07-13T16:43:35.178Z"
   },
   {
    "duration": 170,
    "start_time": "2021-07-13T16:43:35.187Z"
   },
   {
    "duration": 9,
    "start_time": "2021-07-13T16:43:35.359Z"
   },
   {
    "duration": 8,
    "start_time": "2021-07-13T16:43:35.370Z"
   },
   {
    "duration": 11,
    "start_time": "2021-07-13T16:43:35.380Z"
   },
   {
    "duration": 20,
    "start_time": "2021-07-13T16:43:35.393Z"
   },
   {
    "duration": 6,
    "start_time": "2021-07-13T16:43:35.417Z"
   },
   {
    "duration": 16,
    "start_time": "2021-07-13T16:43:35.425Z"
   },
   {
    "duration": 221,
    "start_time": "2021-07-13T16:43:35.443Z"
   },
   {
    "duration": 199,
    "start_time": "2021-07-13T16:43:35.666Z"
   },
   {
    "duration": 7,
    "start_time": "2021-07-13T16:43:35.867Z"
   },
   {
    "duration": 403,
    "start_time": "2021-07-13T16:43:35.876Z"
   },
   {
    "duration": 4,
    "start_time": "2021-07-13T16:43:36.281Z"
   },
   {
    "duration": 616,
    "start_time": "2021-07-13T16:43:36.287Z"
   },
   {
    "duration": 428,
    "start_time": "2021-07-13T16:43:36.477Z"
   },
   {
    "duration": 425,
    "start_time": "2021-07-13T16:43:36.481Z"
   },
   {
    "duration": 4,
    "start_time": "2021-07-13T16:44:10.305Z"
   },
   {
    "duration": 5,
    "start_time": "2021-07-13T16:44:12.209Z"
   },
   {
    "duration": 185,
    "start_time": "2021-07-13T16:44:13.706Z"
   },
   {
    "duration": 198,
    "start_time": "2021-07-13T16:51:02.938Z"
   },
   {
    "duration": 192,
    "start_time": "2021-07-13T17:02:36.137Z"
   },
   {
    "duration": 237,
    "start_time": "2021-07-13T17:06:57.916Z"
   },
   {
    "duration": 190,
    "start_time": "2021-07-13T17:07:06.140Z"
   },
   {
    "duration": 9,
    "start_time": "2021-07-13T17:12:58.682Z"
   },
   {
    "duration": 311,
    "start_time": "2021-07-13T17:15:29.445Z"
   },
   {
    "duration": 333,
    "start_time": "2021-07-13T17:16:54.242Z"
   },
   {
    "duration": 297,
    "start_time": "2021-07-13T17:17:02.271Z"
   },
   {
    "duration": 7867,
    "start_time": "2021-07-13T17:45:51.527Z"
   },
   {
    "duration": 6560,
    "start_time": "2021-07-13T17:47:46.136Z"
   },
   {
    "duration": 385,
    "start_time": "2021-07-13T17:48:16.455Z"
   },
   {
    "duration": 260,
    "start_time": "2021-07-13T17:48:27.790Z"
   },
   {
    "duration": 407,
    "start_time": "2021-07-13T17:48:57.300Z"
   },
   {
    "duration": 214,
    "start_time": "2021-07-13T19:39:59.317Z"
   },
   {
    "duration": 1062,
    "start_time": "2021-07-13T19:40:11.868Z"
   },
   {
    "duration": 17,
    "start_time": "2021-07-13T19:40:12.932Z"
   },
   {
    "duration": 23,
    "start_time": "2021-07-13T19:40:12.951Z"
   },
   {
    "duration": 13,
    "start_time": "2021-07-13T19:40:12.976Z"
   },
   {
    "duration": 14,
    "start_time": "2021-07-13T19:40:12.990Z"
   },
   {
    "duration": 13,
    "start_time": "2021-07-13T19:40:13.006Z"
   },
   {
    "duration": 18,
    "start_time": "2021-07-13T19:40:13.020Z"
   },
   {
    "duration": 279,
    "start_time": "2021-07-13T19:40:13.040Z"
   },
   {
    "duration": 70,
    "start_time": "2021-07-13T19:40:13.322Z"
   },
   {
    "duration": 8,
    "start_time": "2021-07-13T19:40:13.393Z"
   },
   {
    "duration": 13,
    "start_time": "2021-07-13T19:40:13.403Z"
   },
   {
    "duration": 19,
    "start_time": "2021-07-13T19:40:13.417Z"
   },
   {
    "duration": 17,
    "start_time": "2021-07-13T19:40:13.437Z"
   },
   {
    "duration": 14,
    "start_time": "2021-07-13T19:40:13.455Z"
   },
   {
    "duration": 14,
    "start_time": "2021-07-13T19:40:13.471Z"
   },
   {
    "duration": 211,
    "start_time": "2021-07-13T19:40:13.487Z"
   },
   {
    "duration": 8,
    "start_time": "2021-07-13T19:40:13.700Z"
   },
   {
    "duration": 154,
    "start_time": "2021-07-13T19:40:13.709Z"
   },
   {
    "duration": 7,
    "start_time": "2021-07-13T19:40:13.864Z"
   },
   {
    "duration": 23,
    "start_time": "2021-07-13T19:40:13.872Z"
   },
   {
    "duration": 17,
    "start_time": "2021-07-13T19:40:13.896Z"
   },
   {
    "duration": 24,
    "start_time": "2021-07-13T19:40:13.914Z"
   },
   {
    "duration": 15,
    "start_time": "2021-07-13T19:40:13.941Z"
   },
   {
    "duration": 31,
    "start_time": "2021-07-13T19:40:13.957Z"
   },
   {
    "duration": 226,
    "start_time": "2021-07-13T19:40:13.990Z"
   },
   {
    "duration": 216,
    "start_time": "2021-07-13T19:40:14.218Z"
   },
   {
    "duration": 6,
    "start_time": "2021-07-13T19:40:14.435Z"
   },
   {
    "duration": 402,
    "start_time": "2021-07-13T19:40:14.442Z"
   },
   {
    "duration": 3,
    "start_time": "2021-07-13T19:40:14.846Z"
   },
   {
    "duration": 23,
    "start_time": "2021-07-13T19:40:14.851Z"
   },
   {
    "duration": 20,
    "start_time": "2021-07-13T19:40:14.875Z"
   },
   {
    "duration": 232,
    "start_time": "2021-07-13T19:40:14.897Z"
   },
   {
    "duration": 8,
    "start_time": "2021-07-13T19:40:15.131Z"
   },
   {
    "duration": 338,
    "start_time": "2021-07-13T19:40:15.141Z"
   },
   {
    "duration": 337,
    "start_time": "2021-07-13T19:40:15.480Z"
   },
   {
    "duration": 300,
    "start_time": "2021-07-13T19:43:40.988Z"
   },
   {
    "duration": 259,
    "start_time": "2021-07-13T19:43:56.741Z"
   },
   {
    "duration": 293,
    "start_time": "2021-07-13T19:44:11.894Z"
   },
   {
    "duration": 282,
    "start_time": "2021-07-13T19:45:34.809Z"
   },
   {
    "duration": 319,
    "start_time": "2021-07-13T19:45:45.867Z"
   },
   {
    "duration": 280,
    "start_time": "2021-07-13T19:45:55.117Z"
   },
   {
    "duration": 264,
    "start_time": "2021-07-13T19:46:06.622Z"
   },
   {
    "duration": 284,
    "start_time": "2021-07-13T19:46:19.518Z"
   },
   {
    "duration": 285,
    "start_time": "2021-07-13T19:46:31.320Z"
   },
   {
    "duration": 264,
    "start_time": "2021-07-14T04:36:24.333Z"
   },
   {
    "duration": 1050,
    "start_time": "2021-07-14T04:36:43.176Z"
   },
   {
    "duration": 16,
    "start_time": "2021-07-14T04:36:44.228Z"
   },
   {
    "duration": 9,
    "start_time": "2021-07-14T04:36:44.246Z"
   },
   {
    "duration": 7,
    "start_time": "2021-07-14T04:36:44.257Z"
   },
   {
    "duration": 7,
    "start_time": "2021-07-14T04:36:44.266Z"
   },
   {
    "duration": 5,
    "start_time": "2021-07-14T04:36:44.274Z"
   },
   {
    "duration": 17,
    "start_time": "2021-07-14T04:36:44.280Z"
   },
   {
    "duration": 458,
    "start_time": "2021-07-14T04:36:44.299Z"
   },
   {
    "duration": 76,
    "start_time": "2021-07-14T04:36:44.759Z"
   },
   {
    "duration": 8,
    "start_time": "2021-07-14T04:36:44.836Z"
   },
   {
    "duration": 7,
    "start_time": "2021-07-14T04:36:44.845Z"
   },
   {
    "duration": 9,
    "start_time": "2021-07-14T04:36:44.854Z"
   },
   {
    "duration": 5,
    "start_time": "2021-07-14T04:36:44.865Z"
   },
   {
    "duration": 9,
    "start_time": "2021-07-14T04:36:44.872Z"
   },
   {
    "duration": 6,
    "start_time": "2021-07-14T04:36:44.882Z"
   },
   {
    "duration": 187,
    "start_time": "2021-07-14T04:36:44.890Z"
   },
   {
    "duration": 16,
    "start_time": "2021-07-14T04:36:45.078Z"
   },
   {
    "duration": 137,
    "start_time": "2021-07-14T04:36:45.095Z"
   },
   {
    "duration": 7,
    "start_time": "2021-07-14T04:36:45.235Z"
   },
   {
    "duration": 5,
    "start_time": "2021-07-14T04:36:45.244Z"
   },
   {
    "duration": 4,
    "start_time": "2021-07-14T04:36:45.250Z"
   },
   {
    "duration": 8,
    "start_time": "2021-07-14T04:36:45.256Z"
   },
   {
    "duration": 26,
    "start_time": "2021-07-14T04:36:45.265Z"
   },
   {
    "duration": 5,
    "start_time": "2021-07-14T04:36:45.292Z"
   },
   {
    "duration": 185,
    "start_time": "2021-07-14T04:36:45.298Z"
   },
   {
    "duration": 189,
    "start_time": "2021-07-14T04:36:45.484Z"
   },
   {
    "duration": 6,
    "start_time": "2021-07-14T04:36:45.674Z"
   },
   {
    "duration": 373,
    "start_time": "2021-07-14T04:36:45.682Z"
   },
   {
    "duration": 3,
    "start_time": "2021-07-14T04:36:46.057Z"
   },
   {
    "duration": 7,
    "start_time": "2021-07-14T04:36:46.061Z"
   },
   {
    "duration": 7,
    "start_time": "2021-07-14T04:36:46.069Z"
   },
   {
    "duration": 184,
    "start_time": "2021-07-14T04:36:46.077Z"
   },
   {
    "duration": 8,
    "start_time": "2021-07-14T04:36:46.263Z"
   },
   {
    "duration": 301,
    "start_time": "2021-07-14T04:36:46.273Z"
   },
   {
    "duration": 332,
    "start_time": "2021-07-14T04:36:46.576Z"
   },
   {
    "duration": 3,
    "start_time": "2021-07-14T04:36:46.910Z"
   },
   {
    "duration": 72,
    "start_time": "2021-07-14T04:38:53.166Z"
   },
   {
    "duration": 177,
    "start_time": "2021-07-14T04:42:00.398Z"
   },
   {
    "duration": 105,
    "start_time": "2021-07-14T04:49:51.374Z"
   },
   {
    "duration": 8,
    "start_time": "2021-07-14T04:49:53.604Z"
   },
   {
    "duration": 276,
    "start_time": "2021-07-14T04:50:52.162Z"
   },
   {
    "duration": 414,
    "start_time": "2021-07-14T04:53:37.171Z"
   },
   {
    "duration": 90,
    "start_time": "2021-07-14T04:53:49.659Z"
   },
   {
    "duration": 5301,
    "start_time": "2021-07-14T04:53:54.331Z"
   },
   {
    "duration": 474,
    "start_time": "2021-07-14T04:53:59.160Z"
   },
   {
    "duration": 3,
    "start_time": "2021-07-14T04:54:01.665Z"
   },
   {
    "duration": 265,
    "start_time": "2021-07-14T04:54:03.208Z"
   },
   {
    "duration": 239,
    "start_time": "2021-07-14T04:55:25.841Z"
   },
   {
    "duration": 4,
    "start_time": "2021-07-14T04:56:14.553Z"
   },
   {
    "duration": 3,
    "start_time": "2021-07-14T04:56:31.778Z"
   },
   {
    "duration": 394,
    "start_time": "2021-07-14T04:57:56.102Z"
   },
   {
    "duration": 262,
    "start_time": "2021-07-14T04:58:10.095Z"
   },
   {
    "duration": 221,
    "start_time": "2021-07-14T04:58:43.933Z"
   },
   {
    "duration": 4,
    "start_time": "2021-07-14T05:03:21.608Z"
   },
   {
    "duration": 5,
    "start_time": "2021-07-14T05:03:34.610Z"
   },
   {
    "duration": 4,
    "start_time": "2021-07-14T05:03:40.289Z"
   },
   {
    "duration": 369,
    "start_time": "2021-07-14T05:10:57.706Z"
   },
   {
    "duration": 5,
    "start_time": "2021-07-14T05:11:05.541Z"
   },
   {
    "duration": 6,
    "start_time": "2021-07-14T05:11:20.478Z"
   },
   {
    "duration": 6,
    "start_time": "2021-07-14T05:11:48.578Z"
   },
   {
    "duration": 5,
    "start_time": "2021-07-14T05:12:03.953Z"
   },
   {
    "duration": 4,
    "start_time": "2021-07-14T05:12:09.577Z"
   },
   {
    "duration": 5,
    "start_time": "2021-07-14T05:12:15.082Z"
   },
   {
    "duration": 5,
    "start_time": "2021-07-14T05:12:28.043Z"
   },
   {
    "duration": 5,
    "start_time": "2021-07-14T05:13:25.110Z"
   },
   {
    "duration": 5,
    "start_time": "2021-07-14T05:14:14.683Z"
   },
   {
    "duration": 8,
    "start_time": "2021-07-14T05:42:05.987Z"
   },
   {
    "duration": 218,
    "start_time": "2021-07-14T05:44:12.700Z"
   },
   {
    "duration": 7,
    "start_time": "2021-07-14T05:44:22.956Z"
   },
   {
    "duration": 8,
    "start_time": "2021-07-14T05:44:32.107Z"
   },
   {
    "duration": 8,
    "start_time": "2021-07-14T05:44:39.564Z"
   },
   {
    "duration": 7,
    "start_time": "2021-07-14T05:44:45.268Z"
   },
   {
    "duration": 313,
    "start_time": "2021-07-14T12:45:42.962Z"
   },
   {
    "duration": 1428,
    "start_time": "2021-07-14T12:45:53.395Z"
   },
   {
    "duration": 28,
    "start_time": "2021-07-14T12:45:54.825Z"
   },
   {
    "duration": 23,
    "start_time": "2021-07-14T12:45:54.856Z"
   },
   {
    "duration": 10,
    "start_time": "2021-07-14T12:45:54.881Z"
   },
   {
    "duration": 12,
    "start_time": "2021-07-14T12:45:54.894Z"
   },
   {
    "duration": 12,
    "start_time": "2021-07-14T12:45:54.908Z"
   },
   {
    "duration": 40,
    "start_time": "2021-07-14T12:45:54.922Z"
   },
   {
    "duration": 629,
    "start_time": "2021-07-14T12:45:54.966Z"
   },
   {
    "duration": 97,
    "start_time": "2021-07-14T12:45:55.599Z"
   },
   {
    "duration": 12,
    "start_time": "2021-07-14T12:45:55.699Z"
   },
   {
    "duration": 13,
    "start_time": "2021-07-14T12:45:55.713Z"
   },
   {
    "duration": 14,
    "start_time": "2021-07-14T12:45:55.728Z"
   },
   {
    "duration": 11,
    "start_time": "2021-07-14T12:45:55.745Z"
   },
   {
    "duration": 14,
    "start_time": "2021-07-14T12:45:55.758Z"
   },
   {
    "duration": 13,
    "start_time": "2021-07-14T12:45:55.775Z"
   },
   {
    "duration": 364,
    "start_time": "2021-07-14T12:45:55.790Z"
   },
   {
    "duration": 12,
    "start_time": "2021-07-14T12:45:56.156Z"
   },
   {
    "duration": 442,
    "start_time": "2021-07-14T12:45:56.171Z"
   },
   {
    "duration": 34,
    "start_time": "2021-07-14T12:45:56.631Z"
   },
   {
    "duration": 10,
    "start_time": "2021-07-14T12:45:56.668Z"
   },
   {
    "duration": 8,
    "start_time": "2021-07-14T12:45:56.681Z"
   },
   {
    "duration": 20,
    "start_time": "2021-07-14T12:45:56.691Z"
   },
   {
    "duration": 10,
    "start_time": "2021-07-14T12:45:56.717Z"
   },
   {
    "duration": 29,
    "start_time": "2021-07-14T12:45:56.731Z"
   },
   {
    "duration": 513,
    "start_time": "2021-07-14T12:45:56.763Z"
   },
   {
    "duration": 479,
    "start_time": "2021-07-14T12:45:57.278Z"
   },
   {
    "duration": 11,
    "start_time": "2021-07-14T12:45:57.760Z"
   },
   {
    "duration": 500,
    "start_time": "2021-07-14T12:45:57.774Z"
   },
   {
    "duration": 5,
    "start_time": "2021-07-14T12:45:58.277Z"
   },
   {
    "duration": 9,
    "start_time": "2021-07-14T12:45:58.285Z"
   },
   {
    "duration": 15,
    "start_time": "2021-07-14T12:45:58.297Z"
   },
   {
    "duration": 361,
    "start_time": "2021-07-14T12:45:58.315Z"
   },
   {
    "duration": 12,
    "start_time": "2021-07-14T12:45:58.678Z"
   },
   {
    "duration": 399,
    "start_time": "2021-07-14T12:45:58.693Z"
   },
   {
    "duration": 466,
    "start_time": "2021-07-14T12:45:59.095Z"
   },
   {
    "duration": 218,
    "start_time": "2021-07-14T12:45:59.565Z"
   },
   {
    "duration": 4,
    "start_time": "2021-07-14T12:45:59.785Z"
   },
   {
    "duration": 379,
    "start_time": "2021-07-14T12:45:59.791Z"
   },
   {
    "duration": 7,
    "start_time": "2021-07-14T12:46:00.173Z"
   },
   {
    "duration": 27,
    "start_time": "2021-07-14T12:46:00.183Z"
   },
   {
    "duration": 19,
    "start_time": "2021-07-14T12:46:00.213Z"
   },
   {
    "duration": 7,
    "start_time": "2021-07-14T12:49:01.093Z"
   },
   {
    "duration": 6,
    "start_time": "2021-07-14T12:49:25.067Z"
   },
   {
    "duration": 7,
    "start_time": "2021-07-14T12:49:29.190Z"
   },
   {
    "duration": 7,
    "start_time": "2021-07-14T12:49:32.851Z"
   },
   {
    "duration": 7,
    "start_time": "2021-07-14T12:49:45.791Z"
   },
   {
    "duration": 6,
    "start_time": "2021-07-14T12:49:58.799Z"
   },
   {
    "duration": 11,
    "start_time": "2021-07-14T12:54:44.251Z"
   },
   {
    "duration": 12,
    "start_time": "2021-07-14T12:54:49.226Z"
   },
   {
    "duration": 11,
    "start_time": "2021-07-14T12:54:54.923Z"
   },
   {
    "duration": 12,
    "start_time": "2021-07-14T12:55:01.746Z"
   },
   {
    "duration": 11,
    "start_time": "2021-07-14T12:55:08.195Z"
   },
   {
    "duration": 8,
    "start_time": "2021-07-14T12:56:04.864Z"
   },
   {
    "duration": 365,
    "start_time": "2021-07-14T12:59:43.696Z"
   },
   {
    "duration": 373,
    "start_time": "2021-07-14T13:01:59.090Z"
   },
   {
    "duration": 379,
    "start_time": "2021-07-14T13:02:10.486Z"
   },
   {
    "duration": 391,
    "start_time": "2021-07-14T13:02:24.487Z"
   },
   {
    "duration": 415,
    "start_time": "2021-07-14T13:02:34.007Z"
   },
   {
    "duration": 8,
    "start_time": "2021-07-14T13:03:27.392Z"
   },
   {
    "duration": 8,
    "start_time": "2021-07-14T13:03:45.867Z"
   },
   {
    "duration": 7,
    "start_time": "2021-07-14T13:03:57.313Z"
   },
   {
    "duration": 8,
    "start_time": "2021-07-14T13:04:03.021Z"
   },
   {
    "duration": 7,
    "start_time": "2021-07-14T13:04:06.823Z"
   },
   {
    "duration": 7,
    "start_time": "2021-07-14T13:04:11.325Z"
   },
   {
    "duration": 7,
    "start_time": "2021-07-14T15:49:15.830Z"
   },
   {
    "duration": 7,
    "start_time": "2021-07-14T15:49:17.738Z"
   },
   {
    "duration": 319,
    "start_time": "2021-07-14T15:49:19.338Z"
   },
   {
    "duration": 7,
    "start_time": "2021-07-14T16:41:44.589Z"
   },
   {
    "duration": 12,
    "start_time": "2021-07-14T16:41:50.488Z"
   },
   {
    "duration": 9,
    "start_time": "2021-07-14T16:45:29.350Z"
   },
   {
    "duration": 10,
    "start_time": "2021-07-14T16:46:28.906Z"
   },
   {
    "duration": 4,
    "start_time": "2021-07-14T16:46:30.483Z"
   },
   {
    "duration": 91,
    "start_time": "2021-07-14T16:49:15.165Z"
   },
   {
    "duration": 92,
    "start_time": "2021-07-14T16:49:29.041Z"
   },
   {
    "duration": 11,
    "start_time": "2021-07-14T16:49:35.428Z"
   },
   {
    "duration": 12,
    "start_time": "2021-07-14T16:49:47.255Z"
   },
   {
    "duration": 90,
    "start_time": "2021-07-14T16:51:22.631Z"
   },
   {
    "duration": 93,
    "start_time": "2021-07-14T16:52:01.340Z"
   },
   {
    "duration": 4,
    "start_time": "2021-07-14T16:54:08.243Z"
   },
   {
    "duration": 94,
    "start_time": "2021-07-14T16:55:49.799Z"
   },
   {
    "duration": 20,
    "start_time": "2021-07-14T16:56:03.233Z"
   },
   {
    "duration": 12,
    "start_time": "2021-07-14T16:56:08.982Z"
   },
   {
    "duration": 20,
    "start_time": "2021-07-14T16:58:05.186Z"
   },
   {
    "duration": 400,
    "start_time": "2021-07-14T16:59:10.848Z"
   },
   {
    "duration": 273,
    "start_time": "2021-07-14T16:59:51.025Z"
   },
   {
    "duration": 21,
    "start_time": "2021-07-14T17:00:07.035Z"
   },
   {
    "duration": 23,
    "start_time": "2021-07-14T17:00:08.553Z"
   },
   {
    "duration": 4,
    "start_time": "2021-07-14T17:00:10.297Z"
   },
   {
    "duration": 100,
    "start_time": "2021-07-14T17:02:10.564Z"
   },
   {
    "duration": 12,
    "start_time": "2021-07-14T17:02:18.201Z"
   },
   {
    "duration": 106,
    "start_time": "2021-07-14T17:03:01.449Z"
   },
   {
    "duration": 13,
    "start_time": "2021-07-14T17:03:30.324Z"
   },
   {
    "duration": 4,
    "start_time": "2021-07-14T17:04:31.986Z"
   },
   {
    "duration": 34,
    "start_time": "2021-07-14T17:07:21.949Z"
   },
   {
    "duration": 17,
    "start_time": "2021-07-14T17:07:30.745Z"
   },
   {
    "duration": 10,
    "start_time": "2021-07-14T17:44:08.430Z"
   },
   {
    "duration": 92,
    "start_time": "2021-07-14T17:45:24.290Z"
   },
   {
    "duration": 132,
    "start_time": "2021-07-14T17:45:30.073Z"
   },
   {
    "duration": 9,
    "start_time": "2021-07-14T17:45:41.856Z"
   },
   {
    "duration": 13,
    "start_time": "2021-07-14T17:46:12.435Z"
   },
   {
    "duration": 105,
    "start_time": "2021-07-14T17:48:02.934Z"
   },
   {
    "duration": 4,
    "start_time": "2021-07-14T17:48:27.973Z"
   },
   {
    "duration": 123,
    "start_time": "2021-07-14T17:48:52.567Z"
   },
   {
    "duration": 4,
    "start_time": "2021-07-14T17:49:04.697Z"
   },
   {
    "duration": 7570,
    "start_time": "2021-07-14T17:53:25.035Z"
   },
   {
    "duration": 6,
    "start_time": "2021-07-14T17:54:08.345Z"
   },
   {
    "duration": 6,
    "start_time": "2021-07-14T17:54:19.965Z"
   },
   {
    "duration": 6,
    "start_time": "2021-07-14T17:54:56.323Z"
   },
   {
    "duration": 279,
    "start_time": "2021-07-14T17:55:25.321Z"
   },
   {
    "duration": 4,
    "start_time": "2021-07-14T17:55:44.249Z"
   },
   {
    "duration": 286,
    "start_time": "2021-07-14T17:55:48.775Z"
   },
   {
    "duration": 94,
    "start_time": "2021-07-14T17:56:02.462Z"
   },
   {
    "duration": 284,
    "start_time": "2021-07-14T17:56:12.950Z"
   },
   {
    "duration": 264,
    "start_time": "2021-07-14T17:56:39.085Z"
   },
   {
    "duration": 4,
    "start_time": "2021-07-14T17:57:09.651Z"
   },
   {
    "duration": 12,
    "start_time": "2021-07-14T17:57:14.657Z"
   },
   {
    "duration": 8,
    "start_time": "2021-07-14T17:57:17.143Z"
   },
   {
    "duration": 7,
    "start_time": "2021-07-14T17:57:45.081Z"
   },
   {
    "duration": 12,
    "start_time": "2021-07-14T17:59:38.211Z"
   },
   {
    "duration": 6565,
    "start_time": "2021-07-14T18:11:00.152Z"
   },
   {
    "duration": 7,
    "start_time": "2021-07-14T18:11:27.329Z"
   },
   {
    "duration": 12,
    "start_time": "2021-07-14T18:20:43.823Z"
   },
   {
    "duration": 11,
    "start_time": "2021-07-14T18:21:00.755Z"
   },
   {
    "duration": 253,
    "start_time": "2021-07-14T18:26:46.537Z"
   },
   {
    "duration": 6548,
    "start_time": "2021-07-14T18:27:00.221Z"
   },
   {
    "duration": 12,
    "start_time": "2021-07-14T18:28:02.333Z"
   },
   {
    "duration": 7,
    "start_time": "2021-07-14T18:28:08.172Z"
   },
   {
    "duration": 5,
    "start_time": "2021-07-14T18:28:16.986Z"
   },
   {
    "duration": 87,
    "start_time": "2021-07-14T18:29:05.213Z"
   },
   {
    "duration": 12,
    "start_time": "2021-07-14T18:33:36.003Z"
   },
   {
    "duration": 265,
    "start_time": "2021-07-14T18:44:27.460Z"
   },
   {
    "duration": 7366,
    "start_time": "2021-07-14T18:45:04.385Z"
   },
   {
    "duration": 13,
    "start_time": "2021-07-14T18:45:23.625Z"
   },
   {
    "duration": 11,
    "start_time": "2021-07-14T18:45:56.965Z"
   },
   {
    "duration": 97,
    "start_time": "2021-07-14T18:46:31.795Z"
   },
   {
    "duration": 7,
    "start_time": "2021-07-14T18:46:39.947Z"
   },
   {
    "duration": 13,
    "start_time": "2021-07-14T18:46:52.463Z"
   },
   {
    "duration": 13,
    "start_time": "2021-07-14T18:46:54.786Z"
   },
   {
    "duration": 9,
    "start_time": "2021-07-14T18:46:56.802Z"
   },
   {
    "duration": 12,
    "start_time": "2021-07-14T18:47:04.324Z"
   },
   {
    "duration": 11,
    "start_time": "2021-07-14T18:47:07.904Z"
   },
   {
    "duration": 9,
    "start_time": "2021-07-14T18:47:10.130Z"
   },
   {
    "duration": 141,
    "start_time": "2021-07-14T18:53:31.539Z"
   },
   {
    "duration": 6827,
    "start_time": "2021-07-14T18:53:38.528Z"
   },
   {
    "duration": 7450,
    "start_time": "2021-07-14T18:54:32.844Z"
   },
   {
    "duration": 14,
    "start_time": "2021-07-14T18:54:59.015Z"
   },
   {
    "duration": 99,
    "start_time": "2021-07-14T18:55:48.450Z"
   },
   {
    "duration": 14,
    "start_time": "2021-07-14T18:58:00.457Z"
   },
   {
    "duration": 4,
    "start_time": "2021-07-14T19:26:11.432Z"
   },
   {
    "duration": 14,
    "start_time": "2021-07-14T19:26:14.339Z"
   },
   {
    "duration": 4,
    "start_time": "2021-07-14T19:26:24.296Z"
   },
   {
    "duration": 15,
    "start_time": "2021-07-14T19:26:27.586Z"
   },
   {
    "duration": 266,
    "start_time": "2021-07-14T19:26:33.351Z"
   },
   {
    "duration": 4,
    "start_time": "2021-07-14T19:26:44.167Z"
   },
   {
    "duration": 13,
    "start_time": "2021-07-14T19:26:46.339Z"
   },
   {
    "duration": 4,
    "start_time": "2021-07-14T19:26:51.266Z"
   },
   {
    "duration": 14,
    "start_time": "2021-07-14T19:26:53.311Z"
   },
   {
    "duration": 14,
    "start_time": "2021-07-14T19:26:58.577Z"
   },
   {
    "duration": 12,
    "start_time": "2021-07-14T19:27:01.122Z"
   },
   {
    "duration": 48,
    "start_time": "2021-07-14T19:27:03.329Z"
   },
   {
    "duration": 5,
    "start_time": "2021-07-14T19:27:44.597Z"
   },
   {
    "duration": 14,
    "start_time": "2021-07-14T19:27:46.519Z"
   },
   {
    "duration": 12,
    "start_time": "2021-07-14T19:27:52.220Z"
   },
   {
    "duration": 14,
    "start_time": "2021-07-14T19:27:57.307Z"
   },
   {
    "duration": 14,
    "start_time": "2021-07-14T20:10:17.667Z"
   },
   {
    "duration": 13,
    "start_time": "2021-07-14T20:10:22.459Z"
   },
   {
    "duration": 13,
    "start_time": "2021-07-14T20:10:25.209Z"
   },
   {
    "duration": 6,
    "start_time": "2021-07-14T20:10:32.469Z"
   },
   {
    "duration": 14,
    "start_time": "2021-07-14T20:10:34.888Z"
   },
   {
    "duration": 5,
    "start_time": "2021-07-14T20:10:47.347Z"
   },
   {
    "duration": 14,
    "start_time": "2021-07-14T20:10:48.945Z"
   },
   {
    "duration": 14,
    "start_time": "2021-07-14T20:10:53.256Z"
   },
   {
    "duration": 13,
    "start_time": "2021-07-14T20:10:57.503Z"
   },
   {
    "duration": 329,
    "start_time": "2021-07-14T20:11:59.748Z"
   },
   {
    "duration": 335,
    "start_time": "2021-07-14T20:13:42.484Z"
   },
   {
    "duration": 459,
    "start_time": "2021-07-14T20:14:21.434Z"
   },
   {
    "duration": 135,
    "start_time": "2021-07-14T20:15:10.487Z"
   },
   {
    "duration": 1529,
    "start_time": "2021-07-14T21:09:34.874Z"
   },
   {
    "duration": 19,
    "start_time": "2021-07-14T21:09:36.406Z"
   },
   {
    "duration": 26,
    "start_time": "2021-07-14T21:09:36.428Z"
   },
   {
    "duration": 10,
    "start_time": "2021-07-14T21:09:36.458Z"
   },
   {
    "duration": 25,
    "start_time": "2021-07-14T21:09:36.471Z"
   },
   {
    "duration": 23,
    "start_time": "2021-07-14T21:09:36.498Z"
   },
   {
    "duration": 27,
    "start_time": "2021-07-14T21:09:36.523Z"
   },
   {
    "duration": 615,
    "start_time": "2021-07-14T21:09:36.554Z"
   },
   {
    "duration": 54,
    "start_time": "2021-07-14T21:09:37.173Z"
   },
   {
    "duration": 12,
    "start_time": "2021-07-14T21:09:37.230Z"
   },
   {
    "duration": 13,
    "start_time": "2021-07-14T21:09:37.244Z"
   },
   {
    "duration": 12,
    "start_time": "2021-07-14T21:09:37.259Z"
   },
   {
    "duration": 17,
    "start_time": "2021-07-14T21:09:37.273Z"
   },
   {
    "duration": 27,
    "start_time": "2021-07-14T21:09:37.292Z"
   },
   {
    "duration": 18,
    "start_time": "2021-07-14T21:09:37.322Z"
   },
   {
    "duration": 359,
    "start_time": "2021-07-14T21:09:37.343Z"
   },
   {
    "duration": 12,
    "start_time": "2021-07-14T21:09:37.705Z"
   },
   {
    "duration": 289,
    "start_time": "2021-07-14T21:09:37.720Z"
   },
   {
    "duration": 18,
    "start_time": "2021-07-14T21:09:38.011Z"
   },
   {
    "duration": 23,
    "start_time": "2021-07-14T21:09:38.031Z"
   },
   {
    "duration": 18,
    "start_time": "2021-07-14T21:09:38.057Z"
   },
   {
    "duration": 21,
    "start_time": "2021-07-14T21:09:38.077Z"
   },
   {
    "duration": 12,
    "start_time": "2021-07-14T21:09:38.104Z"
   },
   {
    "duration": 19,
    "start_time": "2021-07-14T21:09:38.120Z"
   },
   {
    "duration": 353,
    "start_time": "2021-07-14T21:09:38.141Z"
   },
   {
    "duration": 335,
    "start_time": "2021-07-14T21:09:38.497Z"
   },
   {
    "duration": 19,
    "start_time": "2021-07-14T21:09:38.835Z"
   },
   {
    "duration": 510,
    "start_time": "2021-07-14T21:09:38.857Z"
   },
   {
    "duration": 5,
    "start_time": "2021-07-14T21:09:39.370Z"
   },
   {
    "duration": 9,
    "start_time": "2021-07-14T21:09:39.377Z"
   },
   {
    "duration": 17,
    "start_time": "2021-07-14T21:09:39.388Z"
   },
   {
    "duration": 414,
    "start_time": "2021-07-14T21:09:39.408Z"
   },
   {
    "duration": 11,
    "start_time": "2021-07-14T21:09:39.824Z"
   },
   {
    "duration": 428,
    "start_time": "2021-07-14T21:09:39.838Z"
   },
   {
    "duration": 206,
    "start_time": "2021-07-14T21:09:40.268Z"
   },
   {
    "duration": 3,
    "start_time": "2021-07-14T21:09:40.477Z"
   },
   {
    "duration": 460,
    "start_time": "2021-07-14T21:09:40.483Z"
   },
   {
    "duration": 12,
    "start_time": "2021-07-14T21:09:40.945Z"
   },
   {
    "duration": 394,
    "start_time": "2021-07-14T21:09:40.960Z"
   },
   {
    "duration": 6,
    "start_time": "2021-07-14T21:09:41.357Z"
   },
   {
    "duration": 29,
    "start_time": "2021-07-14T21:09:41.366Z"
   },
   {
    "duration": 14,
    "start_time": "2021-07-14T21:09:41.398Z"
   },
   {
    "duration": 105,
    "start_time": "2021-07-14T21:09:41.415Z"
   },
   {
    "duration": 110,
    "start_time": "2021-07-14T21:09:41.522Z"
   },
   {
    "duration": 20,
    "start_time": "2021-07-14T21:09:41.634Z"
   },
   {
    "duration": 37,
    "start_time": "2021-07-14T21:09:41.657Z"
   },
   {
    "duration": 24,
    "start_time": "2021-07-14T21:09:41.696Z"
   },
   {
    "duration": 25,
    "start_time": "2021-07-14T21:09:41.722Z"
   },
   {
    "duration": 115,
    "start_time": "2021-07-14T21:09:41.749Z"
   },
   {
    "duration": 117,
    "start_time": "2021-07-14T21:09:41.866Z"
   },
   {
    "duration": 23,
    "start_time": "2021-07-14T21:09:41.985Z"
   },
   {
    "duration": 45,
    "start_time": "2021-07-14T21:09:42.010Z"
   },
   {
    "duration": 16,
    "start_time": "2021-07-14T21:09:42.058Z"
   },
   {
    "duration": 140,
    "start_time": "2021-07-14T21:09:42.076Z"
   },
   {
    "duration": 172,
    "start_time": "2021-07-14T21:09:42.218Z"
   },
   {
    "duration": 4,
    "start_time": "2021-07-14T21:09:42.393Z"
   },
   {
    "duration": 21,
    "start_time": "2021-07-14T21:09:42.399Z"
   },
   {
    "duration": 18,
    "start_time": "2021-07-14T21:09:42.423Z"
   },
   {
    "duration": 25,
    "start_time": "2021-07-14T21:09:42.443Z"
   },
   {
    "duration": 8,
    "start_time": "2021-07-14T21:09:42.470Z"
   },
   {
    "duration": 33,
    "start_time": "2021-07-14T21:09:42.480Z"
   },
   {
    "duration": 21,
    "start_time": "2021-07-14T21:09:42.516Z"
   },
   {
    "duration": 18,
    "start_time": "2021-07-14T21:09:42.540Z"
   },
   {
    "duration": 27,
    "start_time": "2021-07-14T21:09:42.561Z"
   },
   {
    "duration": 31,
    "start_time": "2021-07-14T21:09:42.591Z"
   },
   {
    "duration": 13,
    "start_time": "2021-07-14T21:09:42.625Z"
   },
   {
    "duration": 21,
    "start_time": "2021-07-14T21:09:42.641Z"
   },
   {
    "duration": 15,
    "start_time": "2021-07-14T21:09:42.671Z"
   },
   {
    "duration": 362,
    "start_time": "2021-07-14T21:12:05.686Z"
   },
   {
    "duration": 1312,
    "start_time": "2021-07-14T21:12:16.013Z"
   },
   {
    "duration": 19,
    "start_time": "2021-07-14T21:12:17.328Z"
   },
   {
    "duration": 35,
    "start_time": "2021-07-14T21:12:17.351Z"
   },
   {
    "duration": 18,
    "start_time": "2021-07-14T21:12:17.389Z"
   },
   {
    "duration": 28,
    "start_time": "2021-07-14T21:12:17.409Z"
   },
   {
    "duration": 23,
    "start_time": "2021-07-14T21:12:17.440Z"
   },
   {
    "duration": 35,
    "start_time": "2021-07-14T21:12:17.465Z"
   },
   {
    "duration": 824,
    "start_time": "2021-07-14T21:12:17.504Z"
   },
   {
    "duration": 54,
    "start_time": "2021-07-14T21:12:18.331Z"
   },
   {
    "duration": 17,
    "start_time": "2021-07-14T21:12:18.387Z"
   },
   {
    "duration": 35,
    "start_time": "2021-07-14T21:12:18.407Z"
   },
   {
    "duration": 20,
    "start_time": "2021-07-14T21:12:18.445Z"
   },
   {
    "duration": 29,
    "start_time": "2021-07-14T21:12:18.468Z"
   },
   {
    "duration": 32,
    "start_time": "2021-07-14T21:12:18.500Z"
   },
   {
    "duration": 26,
    "start_time": "2021-07-14T21:12:18.535Z"
   },
   {
    "duration": 367,
    "start_time": "2021-07-14T21:12:18.563Z"
   },
   {
    "duration": 12,
    "start_time": "2021-07-14T21:12:18.932Z"
   },
   {
    "duration": 281,
    "start_time": "2021-07-14T21:12:18.954Z"
   },
   {
    "duration": 26,
    "start_time": "2021-07-14T21:12:19.238Z"
   },
   {
    "duration": 19,
    "start_time": "2021-07-14T21:12:19.267Z"
   },
   {
    "duration": 17,
    "start_time": "2021-07-14T21:12:19.288Z"
   },
   {
    "duration": 27,
    "start_time": "2021-07-14T21:12:19.307Z"
   },
   {
    "duration": 21,
    "start_time": "2021-07-14T21:12:19.340Z"
   },
   {
    "duration": 21,
    "start_time": "2021-07-14T21:12:19.365Z"
   },
   {
    "duration": 396,
    "start_time": "2021-07-14T21:12:19.388Z"
   },
   {
    "duration": 357,
    "start_time": "2021-07-14T21:12:19.787Z"
   },
   {
    "duration": 13,
    "start_time": "2021-07-14T21:12:20.147Z"
   },
   {
    "duration": 632,
    "start_time": "2021-07-14T21:12:20.163Z"
   },
   {
    "duration": 5,
    "start_time": "2021-07-14T21:12:20.798Z"
   },
   {
    "duration": 31,
    "start_time": "2021-07-14T21:12:20.805Z"
   },
   {
    "duration": 44,
    "start_time": "2021-07-14T21:12:20.838Z"
   },
   {
    "duration": 363,
    "start_time": "2021-07-14T21:12:20.885Z"
   },
   {
    "duration": 15,
    "start_time": "2021-07-14T21:12:21.250Z"
   },
   {
    "duration": 478,
    "start_time": "2021-07-14T21:12:21.268Z"
   },
   {
    "duration": 355,
    "start_time": "2021-07-14T21:12:21.749Z"
   },
   {
    "duration": 4,
    "start_time": "2021-07-14T21:12:22.107Z"
   },
   {
    "duration": 519,
    "start_time": "2021-07-14T21:12:22.114Z"
   },
   {
    "duration": 18,
    "start_time": "2021-07-14T21:12:22.636Z"
   },
   {
    "duration": 436,
    "start_time": "2021-07-14T21:12:22.657Z"
   },
   {
    "duration": 7,
    "start_time": "2021-07-14T21:12:23.096Z"
   },
   {
    "duration": 41,
    "start_time": "2021-07-14T21:12:23.105Z"
   },
   {
    "duration": 29,
    "start_time": "2021-07-14T21:12:23.150Z"
   },
   {
    "duration": 112,
    "start_time": "2021-07-14T21:12:23.181Z"
   },
   {
    "duration": 124,
    "start_time": "2021-07-14T21:12:23.295Z"
   },
   {
    "duration": 30,
    "start_time": "2021-07-14T21:12:23.421Z"
   },
   {
    "duration": 42,
    "start_time": "2021-07-14T21:12:23.453Z"
   },
   {
    "duration": 36,
    "start_time": "2021-07-14T21:12:23.497Z"
   },
   {
    "duration": 13,
    "start_time": "2021-07-14T21:12:23.536Z"
   },
   {
    "duration": 115,
    "start_time": "2021-07-14T21:12:23.551Z"
   },
   {
    "duration": 120,
    "start_time": "2021-07-14T21:12:23.669Z"
   },
   {
    "duration": 27,
    "start_time": "2021-07-14T21:12:23.791Z"
   },
   {
    "duration": 56,
    "start_time": "2021-07-14T21:12:23.821Z"
   },
   {
    "duration": 20,
    "start_time": "2021-07-14T21:12:23.879Z"
   },
   {
    "duration": 130,
    "start_time": "2021-07-14T21:12:23.901Z"
   },
   {
    "duration": 165,
    "start_time": "2021-07-14T21:12:24.034Z"
   },
   {
    "duration": 4,
    "start_time": "2021-07-14T21:12:24.202Z"
   },
   {
    "duration": 23,
    "start_time": "2021-07-14T21:12:24.208Z"
   },
   {
    "duration": 32,
    "start_time": "2021-07-14T21:12:24.234Z"
   },
   {
    "duration": 22,
    "start_time": "2021-07-14T21:12:24.269Z"
   },
   {
    "duration": 23,
    "start_time": "2021-07-14T21:12:24.294Z"
   },
   {
    "duration": 32,
    "start_time": "2021-07-14T21:12:24.319Z"
   },
   {
    "duration": 25,
    "start_time": "2021-07-14T21:12:24.353Z"
   },
   {
    "duration": 30,
    "start_time": "2021-07-14T21:12:24.380Z"
   },
   {
    "duration": 47,
    "start_time": "2021-07-14T21:12:24.412Z"
   },
   {
    "duration": 24,
    "start_time": "2021-07-14T21:12:24.462Z"
   },
   {
    "duration": 20,
    "start_time": "2021-07-14T21:12:24.489Z"
   },
   {
    "duration": 29,
    "start_time": "2021-07-14T21:12:24.512Z"
   },
   {
    "duration": 16,
    "start_time": "2021-07-14T21:12:24.550Z"
   },
   {
    "duration": 1429,
    "start_time": "2021-07-15T08:07:51.712Z"
   },
   {
    "duration": 21,
    "start_time": "2021-07-15T08:07:53.144Z"
   },
   {
    "duration": 18,
    "start_time": "2021-07-15T08:07:53.169Z"
   },
   {
    "duration": 9,
    "start_time": "2021-07-15T08:07:53.191Z"
   },
   {
    "duration": 14,
    "start_time": "2021-07-15T08:07:53.203Z"
   },
   {
    "duration": 47,
    "start_time": "2021-07-15T08:07:53.220Z"
   },
   {
    "duration": 24,
    "start_time": "2021-07-15T08:07:53.271Z"
   },
   {
    "duration": 8605,
    "start_time": "2021-07-15T08:07:53.301Z"
   },
   {
    "duration": 46,
    "start_time": "2021-07-15T08:08:01.910Z"
   },
   {
    "duration": 12,
    "start_time": "2021-07-15T08:08:01.958Z"
   },
   {
    "duration": 17,
    "start_time": "2021-07-15T08:08:01.973Z"
   },
   {
    "duration": 33,
    "start_time": "2021-07-15T08:08:01.992Z"
   },
   {
    "duration": 17,
    "start_time": "2021-07-15T08:08:02.029Z"
   },
   {
    "duration": 23,
    "start_time": "2021-07-15T08:08:02.049Z"
   },
   {
    "duration": 18,
    "start_time": "2021-07-15T08:08:02.075Z"
   },
   {
    "duration": 371,
    "start_time": "2021-07-15T08:08:02.096Z"
   },
   {
    "duration": 13,
    "start_time": "2021-07-15T08:08:02.470Z"
   },
   {
    "duration": 290,
    "start_time": "2021-07-15T08:08:02.486Z"
   },
   {
    "duration": 11,
    "start_time": "2021-07-15T08:08:02.778Z"
   },
   {
    "duration": 18,
    "start_time": "2021-07-15T08:08:02.791Z"
   },
   {
    "duration": 11,
    "start_time": "2021-07-15T08:08:02.811Z"
   },
   {
    "duration": 26,
    "start_time": "2021-07-15T08:08:02.824Z"
   },
   {
    "duration": 16,
    "start_time": "2021-07-15T08:08:02.856Z"
   },
   {
    "duration": 27,
    "start_time": "2021-07-15T08:08:02.876Z"
   },
   {
    "duration": 364,
    "start_time": "2021-07-15T08:08:02.905Z"
   },
   {
    "duration": 357,
    "start_time": "2021-07-15T08:08:03.271Z"
   },
   {
    "duration": 9,
    "start_time": "2021-07-15T08:08:03.631Z"
   },
   {
    "duration": 511,
    "start_time": "2021-07-15T08:08:03.643Z"
   },
   {
    "duration": 13,
    "start_time": "2021-07-15T08:08:04.156Z"
   },
   {
    "duration": 12,
    "start_time": "2021-07-15T08:08:04.172Z"
   },
   {
    "duration": 9,
    "start_time": "2021-07-15T08:08:04.186Z"
   },
   {
    "duration": 369,
    "start_time": "2021-07-15T08:08:04.198Z"
   },
   {
    "duration": 12,
    "start_time": "2021-07-15T08:08:04.571Z"
   },
   {
    "duration": 415,
    "start_time": "2021-07-15T08:08:04.586Z"
   },
   {
    "duration": 213,
    "start_time": "2021-07-15T08:08:05.004Z"
   },
   {
    "duration": 4,
    "start_time": "2021-07-15T08:08:05.220Z"
   },
   {
    "duration": 488,
    "start_time": "2021-07-15T08:08:05.227Z"
   },
   {
    "duration": 7,
    "start_time": "2021-07-15T08:08:05.717Z"
   },
   {
    "duration": 443,
    "start_time": "2021-07-15T08:08:05.726Z"
   },
   {
    "duration": 7,
    "start_time": "2021-07-15T08:08:06.172Z"
   },
   {
    "duration": 23,
    "start_time": "2021-07-15T08:08:06.182Z"
   },
   {
    "duration": 18,
    "start_time": "2021-07-15T08:08:06.207Z"
   },
   {
    "duration": 111,
    "start_time": "2021-07-15T08:08:06.227Z"
   },
   {
    "duration": 99,
    "start_time": "2021-07-15T08:08:06.341Z"
   },
   {
    "duration": 22,
    "start_time": "2021-07-15T08:08:06.442Z"
   },
   {
    "duration": 30,
    "start_time": "2021-07-15T08:08:06.466Z"
   },
   {
    "duration": 25,
    "start_time": "2021-07-15T08:08:06.498Z"
   },
   {
    "duration": 9,
    "start_time": "2021-07-15T08:08:06.526Z"
   },
   {
    "duration": 111,
    "start_time": "2021-07-15T08:08:06.537Z"
   },
   {
    "duration": 126,
    "start_time": "2021-07-15T08:08:06.651Z"
   },
   {
    "duration": 16,
    "start_time": "2021-07-15T08:08:06.780Z"
   },
   {
    "duration": 50,
    "start_time": "2021-07-15T08:08:06.799Z"
   },
   {
    "duration": 16,
    "start_time": "2021-07-15T08:08:06.851Z"
   },
   {
    "duration": 114,
    "start_time": "2021-07-15T08:08:06.869Z"
   },
   {
    "duration": 120,
    "start_time": "2021-07-15T08:08:06.985Z"
   },
   {
    "duration": 5,
    "start_time": "2021-07-15T08:08:07.107Z"
   },
   {
    "duration": 14,
    "start_time": "2021-07-15T08:08:07.114Z"
   },
   {
    "duration": 13,
    "start_time": "2021-07-15T08:08:07.131Z"
   },
   {
    "duration": 31,
    "start_time": "2021-07-15T08:08:07.146Z"
   },
   {
    "duration": 10,
    "start_time": "2021-07-15T08:08:07.179Z"
   },
   {
    "duration": 24,
    "start_time": "2021-07-15T08:08:07.191Z"
   },
   {
    "duration": 22,
    "start_time": "2021-07-15T08:08:07.217Z"
   },
   {
    "duration": 15,
    "start_time": "2021-07-15T08:08:07.242Z"
   },
   {
    "duration": 23,
    "start_time": "2021-07-15T08:08:07.259Z"
   },
   {
    "duration": 20,
    "start_time": "2021-07-15T08:08:07.284Z"
   },
   {
    "duration": 8,
    "start_time": "2021-07-15T08:08:07.306Z"
   },
   {
    "duration": 25,
    "start_time": "2021-07-15T08:08:07.317Z"
   },
   {
    "duration": 27,
    "start_time": "2021-07-15T08:08:07.350Z"
   },
   {
    "duration": 1334,
    "start_time": "2021-07-16T08:39:14.710Z"
   },
   {
    "duration": 20,
    "start_time": "2021-07-16T08:39:16.047Z"
   },
   {
    "duration": 22,
    "start_time": "2021-07-16T08:39:16.071Z"
   },
   {
    "duration": 8,
    "start_time": "2021-07-16T08:39:16.096Z"
   },
   {
    "duration": 16,
    "start_time": "2021-07-16T08:39:16.106Z"
   },
   {
    "duration": 14,
    "start_time": "2021-07-16T08:39:16.125Z"
   },
   {
    "duration": 45,
    "start_time": "2021-07-16T08:39:16.142Z"
   },
   {
    "duration": 674,
    "start_time": "2021-07-16T08:39:16.193Z"
   },
   {
    "duration": 56,
    "start_time": "2021-07-16T08:39:16.870Z"
   },
   {
    "duration": 12,
    "start_time": "2021-07-16T08:39:16.928Z"
   },
   {
    "duration": 14,
    "start_time": "2021-07-16T08:39:16.942Z"
   },
   {
    "duration": 16,
    "start_time": "2021-07-16T08:39:16.959Z"
   },
   {
    "duration": 12,
    "start_time": "2021-07-16T08:39:16.977Z"
   },
   {
    "duration": 13,
    "start_time": "2021-07-16T08:39:16.992Z"
   },
   {
    "duration": 15,
    "start_time": "2021-07-16T08:39:17.007Z"
   },
   {
    "duration": 340,
    "start_time": "2021-07-16T08:39:17.024Z"
   },
   {
    "duration": 20,
    "start_time": "2021-07-16T08:39:17.366Z"
   },
   {
    "duration": 270,
    "start_time": "2021-07-16T08:39:17.389Z"
   },
   {
    "duration": 27,
    "start_time": "2021-07-16T08:39:17.662Z"
   },
   {
    "duration": 12,
    "start_time": "2021-07-16T08:39:17.692Z"
   },
   {
    "duration": 69,
    "start_time": "2021-07-16T08:39:17.706Z"
   },
   {
    "duration": 28,
    "start_time": "2021-07-16T08:39:17.778Z"
   },
   {
    "duration": 9,
    "start_time": "2021-07-16T08:39:17.811Z"
   },
   {
    "duration": 47,
    "start_time": "2021-07-16T08:39:17.825Z"
   },
   {
    "duration": 399,
    "start_time": "2021-07-16T08:39:17.875Z"
   },
   {
    "duration": 357,
    "start_time": "2021-07-16T08:39:18.277Z"
   },
   {
    "duration": 9,
    "start_time": "2021-07-16T08:39:18.637Z"
   },
   {
    "duration": 517,
    "start_time": "2021-07-16T08:39:18.649Z"
   },
   {
    "duration": 5,
    "start_time": "2021-07-16T08:39:19.169Z"
   },
   {
    "duration": 5,
    "start_time": "2021-07-16T08:39:19.186Z"
   },
   {
    "duration": 15,
    "start_time": "2021-07-16T08:39:19.194Z"
   },
   {
    "duration": 352,
    "start_time": "2021-07-16T08:39:19.212Z"
   },
   {
    "duration": 26,
    "start_time": "2021-07-16T08:39:19.567Z"
   },
   {
    "duration": 424,
    "start_time": "2021-07-16T08:39:19.596Z"
   },
   {
    "duration": 199,
    "start_time": "2021-07-16T08:39:20.024Z"
   },
   {
    "duration": 4,
    "start_time": "2021-07-16T08:39:20.226Z"
   },
   {
    "duration": 454,
    "start_time": "2021-07-16T08:39:20.234Z"
   },
   {
    "duration": 6,
    "start_time": "2021-07-16T08:39:20.691Z"
   },
   {
    "duration": 519,
    "start_time": "2021-07-16T08:39:20.700Z"
   },
   {
    "duration": 9,
    "start_time": "2021-07-16T08:39:21.222Z"
   },
   {
    "duration": 17,
    "start_time": "2021-07-16T08:39:21.234Z"
   },
   {
    "duration": 32,
    "start_time": "2021-07-16T08:39:21.254Z"
   },
   {
    "duration": 136,
    "start_time": "2021-07-16T08:39:21.289Z"
   },
   {
    "duration": 97,
    "start_time": "2021-07-16T08:39:21.428Z"
   },
   {
    "duration": 14,
    "start_time": "2021-07-16T08:39:21.527Z"
   },
   {
    "duration": 31,
    "start_time": "2021-07-16T08:39:21.543Z"
   },
   {
    "duration": 27,
    "start_time": "2021-07-16T08:39:21.576Z"
   },
   {
    "duration": 4,
    "start_time": "2021-07-16T08:39:21.606Z"
   },
   {
    "duration": 124,
    "start_time": "2021-07-16T08:39:21.612Z"
   },
   {
    "duration": 104,
    "start_time": "2021-07-16T08:39:21.739Z"
   },
   {
    "duration": 10,
    "start_time": "2021-07-16T08:39:21.846Z"
   },
   {
    "duration": 52,
    "start_time": "2021-07-16T08:39:21.858Z"
   },
   {
    "duration": 16,
    "start_time": "2021-07-16T08:39:21.913Z"
   },
   {
    "duration": 111,
    "start_time": "2021-07-16T08:39:21.931Z"
   },
   {
    "duration": 144,
    "start_time": "2021-07-16T08:39:22.044Z"
   },
   {
    "duration": 4,
    "start_time": "2021-07-16T08:39:22.190Z"
   },
   {
    "duration": 14,
    "start_time": "2021-07-16T08:39:22.197Z"
   },
   {
    "duration": 12,
    "start_time": "2021-07-16T08:39:22.213Z"
   },
   {
    "duration": 19,
    "start_time": "2021-07-16T08:39:22.228Z"
   },
   {
    "duration": 7,
    "start_time": "2021-07-16T08:39:22.250Z"
   },
   {
    "duration": 30,
    "start_time": "2021-07-16T08:39:22.259Z"
   },
   {
    "duration": 12,
    "start_time": "2021-07-16T08:39:22.292Z"
   },
   {
    "duration": 13,
    "start_time": "2021-07-16T08:39:22.307Z"
   },
   {
    "duration": 15,
    "start_time": "2021-07-16T08:39:22.322Z"
   },
   {
    "duration": 23,
    "start_time": "2021-07-16T08:39:22.339Z"
   },
   {
    "duration": 24,
    "start_time": "2021-07-16T08:39:22.364Z"
   },
   {
    "duration": 15,
    "start_time": "2021-07-16T08:39:22.391Z"
   },
   {
    "duration": 15,
    "start_time": "2021-07-16T08:39:22.413Z"
   },
   {
    "duration": 9,
    "start_time": "2021-07-16T08:40:46.107Z"
   },
   {
    "duration": 9,
    "start_time": "2021-07-16T08:40:57.457Z"
   },
   {
    "duration": 7,
    "start_time": "2021-07-16T08:41:11.777Z"
   },
   {
    "duration": 7,
    "start_time": "2021-07-16T08:41:22.527Z"
   },
   {
    "duration": 422,
    "start_time": "2021-07-16T08:44:52.739Z"
   },
   {
    "duration": 290,
    "start_time": "2021-07-16T08:44:58.283Z"
   },
   {
    "duration": 13,
    "start_time": "2021-07-16T08:45:09.659Z"
   },
   {
    "duration": 9,
    "start_time": "2021-07-16T08:45:17.445Z"
   },
   {
    "duration": 6,
    "start_time": "2021-07-16T08:45:28.858Z"
   },
   {
    "duration": 9,
    "start_time": "2021-07-16T08:45:33.259Z"
   },
   {
    "duration": 10,
    "start_time": "2021-07-16T08:45:56.931Z"
   },
   {
    "duration": 26,
    "start_time": "2021-07-16T08:46:31.335Z"
   },
   {
    "duration": 48,
    "start_time": "2021-07-16T08:46:55.154Z"
   },
   {
    "duration": 33,
    "start_time": "2021-07-16T08:47:21.621Z"
   },
   {
    "duration": 49,
    "start_time": "2021-07-16T08:47:27.525Z"
   },
   {
    "duration": 13,
    "start_time": "2021-07-16T08:47:57.412Z"
   },
   {
    "duration": 9,
    "start_time": "2021-07-16T08:48:03.286Z"
   },
   {
    "duration": 8,
    "start_time": "2021-07-16T08:48:56.418Z"
   },
   {
    "duration": 10,
    "start_time": "2021-07-16T08:50:31.277Z"
   },
   {
    "duration": 9,
    "start_time": "2021-07-16T08:50:48.122Z"
   },
   {
    "duration": 7,
    "start_time": "2021-07-16T08:52:37.215Z"
   },
   {
    "duration": 13,
    "start_time": "2021-07-16T08:53:16.485Z"
   },
   {
    "duration": 9,
    "start_time": "2021-07-16T08:53:47.817Z"
   },
   {
    "duration": 20,
    "start_time": "2021-07-16T08:53:57.142Z"
   },
   {
    "duration": 15,
    "start_time": "2021-07-16T08:54:34.240Z"
   },
   {
    "duration": 7,
    "start_time": "2021-07-16T09:10:34.009Z"
   },
   {
    "duration": 11,
    "start_time": "2021-07-16T09:10:53.335Z"
   },
   {
    "duration": 7,
    "start_time": "2021-07-16T09:11:06.385Z"
   },
   {
    "duration": 114,
    "start_time": "2021-07-16T13:51:19.860Z"
   },
   {
    "duration": 394,
    "start_time": "2021-07-16T13:58:53.649Z"
   },
   {
    "duration": 1347,
    "start_time": "2021-07-16T13:59:03.895Z"
   },
   {
    "duration": 42,
    "start_time": "2021-07-16T13:59:10.598Z"
   },
   {
    "duration": 17,
    "start_time": "2021-07-16T13:59:13.227Z"
   },
   {
    "duration": 10,
    "start_time": "2021-07-16T13:59:14.757Z"
   },
   {
    "duration": 10,
    "start_time": "2021-07-16T13:59:20.068Z"
   },
   {
    "duration": 9,
    "start_time": "2021-07-16T13:59:21.396Z"
   },
   {
    "duration": 9,
    "start_time": "2021-07-16T13:59:25.374Z"
   },
   {
    "duration": 8,
    "start_time": "2021-07-16T13:59:27.257Z"
   },
   {
    "duration": 8,
    "start_time": "2021-07-16T13:59:28.039Z"
   },
   {
    "duration": 7,
    "start_time": "2021-07-16T13:59:32.079Z"
   },
   {
    "duration": 6,
    "start_time": "2021-07-16T13:59:32.877Z"
   },
   {
    "duration": 7,
    "start_time": "2021-07-16T13:59:33.719Z"
   },
   {
    "duration": 10,
    "start_time": "2021-07-16T13:59:45.087Z"
   },
   {
    "duration": 428,
    "start_time": "2021-07-16T14:00:16.409Z"
   },
   {
    "duration": 7,
    "start_time": "2021-07-16T14:00:36.437Z"
   },
   {
    "duration": 9,
    "start_time": "2021-07-16T14:00:38.354Z"
   },
   {
    "duration": 8,
    "start_time": "2021-07-16T14:00:45.953Z"
   },
   {
    "duration": 8,
    "start_time": "2021-07-16T14:00:57.641Z"
   },
   {
    "duration": 9,
    "start_time": "2021-07-16T14:01:22.084Z"
   },
   {
    "duration": 14,
    "start_time": "2021-07-16T14:01:23.990Z"
   },
   {
    "duration": 10,
    "start_time": "2021-07-16T14:06:54.116Z"
   },
   {
    "duration": 16,
    "start_time": "2021-07-16T14:06:54.701Z"
   },
   {
    "duration": 338,
    "start_time": "2021-07-16T14:06:57.825Z"
   },
   {
    "duration": 6,
    "start_time": "2021-07-16T14:07:27.982Z"
   },
   {
    "duration": 13,
    "start_time": "2021-07-16T14:07:36.852Z"
   },
   {
    "duration": 257,
    "start_time": "2021-07-16T14:07:51.950Z"
   },
   {
    "duration": 11,
    "start_time": "2021-07-16T14:07:56.121Z"
   },
   {
    "duration": 9,
    "start_time": "2021-07-16T14:08:00.153Z"
   },
   {
    "duration": 4,
    "start_time": "2021-07-16T14:08:03.738Z"
   },
   {
    "duration": 14,
    "start_time": "2021-07-16T14:08:08.522Z"
   },
   {
    "duration": 6,
    "start_time": "2021-07-16T14:08:28.994Z"
   },
   {
    "duration": 7,
    "start_time": "2021-07-16T14:09:04.195Z"
   },
   {
    "duration": 7,
    "start_time": "2021-07-16T14:09:08.268Z"
   },
   {
    "duration": 340,
    "start_time": "2021-07-16T14:09:11.000Z"
   },
   {
    "duration": 312,
    "start_time": "2021-07-16T14:09:35.897Z"
   },
   {
    "duration": 331,
    "start_time": "2021-07-16T14:09:53.946Z"
   },
   {
    "duration": 334,
    "start_time": "2021-07-16T14:10:05.048Z"
   },
   {
    "duration": 9,
    "start_time": "2021-07-16T14:10:54.706Z"
   },
   {
    "duration": 418,
    "start_time": "2021-07-16T14:10:56.757Z"
   },
   {
    "duration": 5,
    "start_time": "2021-07-16T14:11:09.247Z"
   },
   {
    "duration": 6,
    "start_time": "2021-07-16T14:11:10.958Z"
   },
   {
    "duration": 6,
    "start_time": "2021-07-16T14:11:12.433Z"
   },
   {
    "duration": 341,
    "start_time": "2021-07-16T14:11:15.463Z"
   },
   {
    "duration": 11,
    "start_time": "2021-07-16T14:11:36.196Z"
   },
   {
    "duration": 420,
    "start_time": "2021-07-16T14:11:37.184Z"
   },
   {
    "duration": 305,
    "start_time": "2021-07-16T14:11:41.586Z"
   },
   {
    "duration": 4,
    "start_time": "2021-07-16T14:11:46.566Z"
   },
   {
    "duration": 414,
    "start_time": "2021-07-16T14:11:47.857Z"
   },
   {
    "duration": 7,
    "start_time": "2021-07-16T14:12:02.175Z"
   },
   {
    "duration": 456,
    "start_time": "2021-07-16T14:12:18.705Z"
   },
   {
    "duration": 7,
    "start_time": "2021-07-16T14:12:23.354Z"
   },
   {
    "duration": 9,
    "start_time": "2021-07-16T15:03:39.727Z"
   },
   {
    "duration": 10,
    "start_time": "2021-07-16T15:51:25.506Z"
   },
   {
    "duration": 340,
    "start_time": "2021-07-16T15:51:33.461Z"
   },
   {
    "duration": 8,
    "start_time": "2021-07-16T15:51:40.635Z"
   },
   {
    "duration": 10,
    "start_time": "2021-07-16T15:51:46.523Z"
   },
   {
    "duration": 9,
    "start_time": "2021-07-16T16:02:17.139Z"
   },
   {
    "duration": 7,
    "start_time": "2021-07-16T16:02:19.842Z"
   },
   {
    "duration": 302,
    "start_time": "2021-07-16T16:09:03.422Z"
   },
   {
    "duration": 436,
    "start_time": "2021-07-16T16:09:09.409Z"
   },
   {
    "duration": 1396,
    "start_time": "2021-07-16T16:09:45.250Z"
   },
   {
    "duration": 19,
    "start_time": "2021-07-16T16:09:46.649Z"
   },
   {
    "duration": 21,
    "start_time": "2021-07-16T16:09:46.672Z"
   },
   {
    "duration": 8,
    "start_time": "2021-07-16T16:09:46.696Z"
   },
   {
    "duration": 13,
    "start_time": "2021-07-16T16:09:46.707Z"
   },
   {
    "duration": 11,
    "start_time": "2021-07-16T16:09:46.722Z"
   },
   {
    "duration": 54,
    "start_time": "2021-07-16T16:09:46.736Z"
   },
   {
    "duration": 677,
    "start_time": "2021-07-16T16:09:46.796Z"
   },
   {
    "duration": 44,
    "start_time": "2021-07-16T16:09:47.482Z"
   },
   {
    "duration": 13,
    "start_time": "2021-07-16T16:09:47.528Z"
   },
   {
    "duration": 12,
    "start_time": "2021-07-16T16:09:47.544Z"
   },
   {
    "duration": 13,
    "start_time": "2021-07-16T16:09:47.559Z"
   },
   {
    "duration": 8,
    "start_time": "2021-07-16T16:09:47.583Z"
   },
   {
    "duration": 12,
    "start_time": "2021-07-16T16:09:47.594Z"
   },
   {
    "duration": 11,
    "start_time": "2021-07-16T16:09:47.609Z"
   },
   {
    "duration": 8,
    "start_time": "2021-07-16T16:09:47.623Z"
   },
   {
    "duration": 51,
    "start_time": "2021-07-16T16:09:47.633Z"
   },
   {
    "duration": 8,
    "start_time": "2021-07-16T16:09:47.687Z"
   },
   {
    "duration": 4,
    "start_time": "2021-07-16T16:09:47.698Z"
   },
   {
    "duration": 5,
    "start_time": "2021-07-16T16:09:47.705Z"
   },
   {
    "duration": 10,
    "start_time": "2021-07-16T16:09:47.713Z"
   },
   {
    "duration": 58,
    "start_time": "2021-07-16T16:09:47.726Z"
   },
   {
    "duration": 354,
    "start_time": "2021-07-16T16:09:47.791Z"
   },
   {
    "duration": 12,
    "start_time": "2021-07-16T16:09:48.149Z"
   },
   {
    "duration": 274,
    "start_time": "2021-07-16T16:09:48.164Z"
   },
   {
    "duration": 10,
    "start_time": "2021-07-16T16:09:48.441Z"
   },
   {
    "duration": 11,
    "start_time": "2021-07-16T16:09:48.453Z"
   },
   {
    "duration": 17,
    "start_time": "2021-07-16T16:09:48.467Z"
   },
   {
    "duration": 16,
    "start_time": "2021-07-16T16:09:48.486Z"
   },
   {
    "duration": 7,
    "start_time": "2021-07-16T16:09:48.504Z"
   },
   {
    "duration": 9,
    "start_time": "2021-07-16T16:09:48.514Z"
   },
   {
    "duration": 376,
    "start_time": "2021-07-16T16:09:48.525Z"
   },
   {
    "duration": 343,
    "start_time": "2021-07-16T16:09:48.904Z"
   },
   {
    "duration": 9,
    "start_time": "2021-07-16T16:09:49.249Z"
   },
   {
    "duration": 486,
    "start_time": "2021-07-16T16:09:49.260Z"
   },
   {
    "duration": 5,
    "start_time": "2021-07-16T16:09:49.748Z"
   },
   {
    "duration": 12,
    "start_time": "2021-07-16T16:09:49.756Z"
   },
   {
    "duration": 15,
    "start_time": "2021-07-16T16:09:49.771Z"
   },
   {
    "duration": 356,
    "start_time": "2021-07-16T16:09:49.788Z"
   },
   {
    "duration": 13,
    "start_time": "2021-07-16T16:09:50.147Z"
   },
   {
    "duration": 428,
    "start_time": "2021-07-16T16:09:50.163Z"
   },
   {
    "duration": 206,
    "start_time": "2021-07-16T16:09:50.594Z"
   },
   {
    "duration": 4,
    "start_time": "2021-07-16T16:09:50.803Z"
   },
   {
    "duration": 468,
    "start_time": "2021-07-16T16:09:50.810Z"
   },
   {
    "duration": 6,
    "start_time": "2021-07-16T16:09:51.281Z"
   },
   {
    "duration": 401,
    "start_time": "2021-07-16T16:09:51.290Z"
   },
   {
    "duration": 6,
    "start_time": "2021-07-16T16:09:51.694Z"
   },
   {
    "duration": 11,
    "start_time": "2021-07-16T16:09:51.703Z"
   },
   {
    "duration": 8,
    "start_time": "2021-07-16T16:09:51.716Z"
   },
   {
    "duration": 120,
    "start_time": "2021-07-16T16:09:51.726Z"
   },
   {
    "duration": 101,
    "start_time": "2021-07-16T16:09:51.849Z"
   },
   {
    "duration": 8,
    "start_time": "2021-07-16T16:09:51.953Z"
   },
   {
    "duration": 33,
    "start_time": "2021-07-16T16:09:51.963Z"
   },
   {
    "duration": 29,
    "start_time": "2021-07-16T16:09:51.998Z"
   },
   {
    "duration": 4,
    "start_time": "2021-07-16T16:09:52.029Z"
   },
   {
    "duration": 108,
    "start_time": "2021-07-16T16:09:52.035Z"
   },
   {
    "duration": 101,
    "start_time": "2021-07-16T16:09:52.145Z"
   },
   {
    "duration": 9,
    "start_time": "2021-07-16T16:09:52.249Z"
   },
   {
    "duration": 47,
    "start_time": "2021-07-16T16:09:52.260Z"
   },
   {
    "duration": 16,
    "start_time": "2021-07-16T16:09:52.309Z"
   },
   {
    "duration": 119,
    "start_time": "2021-07-16T16:09:52.327Z"
   },
   {
    "duration": 115,
    "start_time": "2021-07-16T16:09:52.448Z"
   },
   {
    "duration": 3,
    "start_time": "2021-07-16T16:09:52.566Z"
   },
   {
    "duration": 12,
    "start_time": "2021-07-16T16:09:52.572Z"
   },
   {
    "duration": 7,
    "start_time": "2021-07-16T16:09:52.587Z"
   },
   {
    "duration": 21,
    "start_time": "2021-07-16T16:09:52.596Z"
   },
   {
    "duration": 7,
    "start_time": "2021-07-16T16:09:52.619Z"
   },
   {
    "duration": 9,
    "start_time": "2021-07-16T16:09:52.634Z"
   },
   {
    "duration": 45,
    "start_time": "2021-07-16T16:09:52.646Z"
   },
   {
    "duration": 15,
    "start_time": "2021-07-16T16:09:52.694Z"
   },
   {
    "duration": 14,
    "start_time": "2021-07-16T16:09:52.712Z"
   },
   {
    "duration": 14,
    "start_time": "2021-07-16T16:09:52.729Z"
   },
   {
    "duration": 41,
    "start_time": "2021-07-16T16:09:52.746Z"
   },
   {
    "duration": 8,
    "start_time": "2021-07-16T16:09:52.790Z"
   },
   {
    "duration": 17,
    "start_time": "2021-07-16T16:09:52.800Z"
   },
   {
    "duration": 12,
    "start_time": "2021-07-16T16:09:52.820Z"
   },
   {
    "duration": 7,
    "start_time": "2021-07-16T16:13:28.724Z"
   },
   {
    "duration": 6,
    "start_time": "2021-07-16T16:13:32.988Z"
   },
   {
    "duration": 7,
    "start_time": "2021-07-16T16:14:21.312Z"
   },
   {
    "duration": 10,
    "start_time": "2021-07-16T16:14:46.118Z"
   },
   {
    "duration": 15,
    "start_time": "2021-07-16T16:15:14.995Z"
   },
   {
    "duration": 14,
    "start_time": "2021-07-16T16:16:53.548Z"
   },
   {
    "duration": 7,
    "start_time": "2021-07-16T16:20:18.497Z"
   },
   {
    "duration": 7,
    "start_time": "2021-07-16T16:20:19.302Z"
   },
   {
    "duration": 9,
    "start_time": "2021-07-16T16:20:23.005Z"
   },
   {
    "duration": 16,
    "start_time": "2021-07-16T16:20:23.856Z"
   },
   {
    "duration": 11,
    "start_time": "2021-07-16T16:20:36.546Z"
   },
   {
    "duration": 554,
    "start_time": "2021-07-16T16:20:43.216Z"
   },
   {
    "duration": 17,
    "start_time": "2021-07-16T16:20:44.956Z"
   },
   {
    "duration": 416,
    "start_time": "2021-07-16T16:20:51.644Z"
   },
   {
    "duration": 15,
    "start_time": "2021-07-16T16:21:01.176Z"
   },
   {
    "duration": 10,
    "start_time": "2021-07-16T16:21:06.282Z"
   },
   {
    "duration": 5,
    "start_time": "2021-07-16T16:21:07.906Z"
   },
   {
    "duration": 19,
    "start_time": "2021-07-16T16:21:08.935Z"
   },
   {
    "duration": 10,
    "start_time": "2021-07-16T16:21:56.310Z"
   },
   {
    "duration": 13,
    "start_time": "2021-07-16T16:22:10.663Z"
   },
   {
    "duration": 7,
    "start_time": "2021-07-16T16:22:31.483Z"
   },
   {
    "duration": 8465,
    "start_time": "2021-07-16T16:22:33.266Z"
   },
   {
    "duration": 479,
    "start_time": "2021-07-16T16:22:52.349Z"
   },
   {
    "duration": 10,
    "start_time": "2021-07-16T16:23:38.009Z"
   },
   {
    "duration": 10,
    "start_time": "2021-07-16T16:23:44.862Z"
   },
   {
    "duration": 357,
    "start_time": "2021-07-16T16:23:46.364Z"
   },
   {
    "duration": 329,
    "start_time": "2021-07-16T16:24:06.344Z"
   },
   {
    "duration": 331,
    "start_time": "2021-07-16T16:24:30.086Z"
   },
   {
    "duration": 9,
    "start_time": "2021-07-16T16:24:45.593Z"
   },
   {
    "duration": 408,
    "start_time": "2021-07-16T16:24:49.764Z"
   },
   {
    "duration": 6,
    "start_time": "2021-07-16T16:24:59.475Z"
   },
   {
    "duration": 6,
    "start_time": "2021-07-16T16:25:01.387Z"
   },
   {
    "duration": 6,
    "start_time": "2021-07-16T16:25:02.881Z"
   },
   {
    "duration": 323,
    "start_time": "2021-07-16T16:25:04.559Z"
   },
   {
    "duration": 15,
    "start_time": "2021-07-16T16:27:31.989Z"
   },
   {
    "duration": 407,
    "start_time": "2021-07-16T16:27:33.610Z"
   },
   {
    "duration": 363,
    "start_time": "2021-07-16T16:32:20.733Z"
   },
   {
    "duration": 9,
    "start_time": "2021-07-16T16:32:32.032Z"
   },
   {
    "duration": 4,
    "start_time": "2021-07-16T16:32:38.785Z"
   },
   {
    "duration": 41,
    "start_time": "2021-07-16T16:32:43.063Z"
   },
   {
    "duration": 12,
    "start_time": "2021-07-16T16:32:43.876Z"
   },
   {
    "duration": 9,
    "start_time": "2021-07-16T16:32:45.225Z"
   },
   {
    "duration": 11,
    "start_time": "2021-07-16T16:32:46.497Z"
   },
   {
    "duration": 8,
    "start_time": "2021-07-16T16:32:47.408Z"
   },
   {
    "duration": 9,
    "start_time": "2021-07-16T16:32:49.564Z"
   },
   {
    "duration": 9,
    "start_time": "2021-07-16T16:32:51.127Z"
   },
   {
    "duration": 9,
    "start_time": "2021-07-16T16:32:52.566Z"
   },
   {
    "duration": 8,
    "start_time": "2021-07-16T16:32:53.912Z"
   },
   {
    "duration": 8,
    "start_time": "2021-07-16T16:33:04.009Z"
   },
   {
    "duration": 12,
    "start_time": "2021-07-16T16:33:25.546Z"
   },
   {
    "duration": 11,
    "start_time": "2021-07-16T16:33:35.113Z"
   },
   {
    "duration": 12,
    "start_time": "2021-07-16T16:33:40.477Z"
   },
   {
    "duration": 12,
    "start_time": "2021-07-16T16:33:47.406Z"
   },
   {
    "duration": 12,
    "start_time": "2021-07-16T16:34:02.373Z"
   },
   {
    "duration": 11,
    "start_time": "2021-07-16T16:34:11.722Z"
   },
   {
    "duration": 12,
    "start_time": "2021-07-16T16:34:24.062Z"
   },
   {
    "duration": 5,
    "start_time": "2021-07-16T16:34:53.258Z"
   },
   {
    "duration": 13,
    "start_time": "2021-07-16T16:34:58.247Z"
   },
   {
    "duration": 12,
    "start_time": "2021-07-16T16:36:15.959Z"
   },
   {
    "duration": 10,
    "start_time": "2021-07-16T16:37:40.386Z"
   },
   {
    "duration": 11,
    "start_time": "2021-07-16T16:37:59.265Z"
   },
   {
    "duration": 6,
    "start_time": "2021-07-16T16:38:01.794Z"
   },
   {
    "duration": 6,
    "start_time": "2021-07-16T16:38:02.515Z"
   },
   {
    "duration": 4,
    "start_time": "2021-07-16T16:38:06.708Z"
   },
   {
    "duration": 3,
    "start_time": "2021-07-16T16:38:07.262Z"
   },
   {
    "duration": 8,
    "start_time": "2021-07-16T16:38:12.204Z"
   },
   {
    "duration": 11,
    "start_time": "2021-07-16T16:38:12.838Z"
   },
   {
    "duration": 339,
    "start_time": "2021-07-16T16:38:14.396Z"
   },
   {
    "duration": 13,
    "start_time": "2021-07-16T16:38:15.487Z"
   },
   {
    "duration": 260,
    "start_time": "2021-07-16T16:38:17.167Z"
   },
   {
    "duration": 12,
    "start_time": "2021-07-16T16:38:17.850Z"
   },
   {
    "duration": 9,
    "start_time": "2021-07-16T16:38:18.853Z"
   },
   {
    "duration": 10,
    "start_time": "2021-07-16T16:38:37.445Z"
   },
   {
    "duration": 418,
    "start_time": "2021-07-19T11:10:01.128Z"
   },
   {
    "duration": 1403,
    "start_time": "2021-07-19T11:10:13.942Z"
   },
   {
    "duration": 16,
    "start_time": "2021-07-19T11:10:15.347Z"
   },
   {
    "duration": 23,
    "start_time": "2021-07-19T11:10:15.366Z"
   },
   {
    "duration": 12,
    "start_time": "2021-07-19T11:10:15.391Z"
   },
   {
    "duration": 15,
    "start_time": "2021-07-19T11:10:15.406Z"
   },
   {
    "duration": 9,
    "start_time": "2021-07-19T11:10:15.423Z"
   },
   {
    "duration": 17,
    "start_time": "2021-07-19T11:10:15.435Z"
   },
   {
    "duration": 696,
    "start_time": "2021-07-19T11:10:15.458Z"
   },
   {
    "duration": 42,
    "start_time": "2021-07-19T11:10:16.158Z"
   },
   {
    "duration": 11,
    "start_time": "2021-07-19T11:10:16.202Z"
   },
   {
    "duration": 14,
    "start_time": "2021-07-19T11:10:16.216Z"
   },
   {
    "duration": 17,
    "start_time": "2021-07-19T11:10:16.232Z"
   },
   {
    "duration": 32,
    "start_time": "2021-07-19T11:10:16.252Z"
   },
   {
    "duration": 11,
    "start_time": "2021-07-19T11:10:16.287Z"
   },
   {
    "duration": 11,
    "start_time": "2021-07-19T11:10:16.301Z"
   },
   {
    "duration": 10,
    "start_time": "2021-07-19T11:10:16.314Z"
   },
   {
    "duration": 13,
    "start_time": "2021-07-19T11:10:16.326Z"
   },
   {
    "duration": 41,
    "start_time": "2021-07-19T11:10:16.341Z"
   },
   {
    "duration": 6,
    "start_time": "2021-07-19T11:10:16.385Z"
   },
   {
    "duration": 7,
    "start_time": "2021-07-19T11:10:16.393Z"
   },
   {
    "duration": 11,
    "start_time": "2021-07-19T11:10:16.403Z"
   },
   {
    "duration": 14,
    "start_time": "2021-07-19T11:10:16.416Z"
   },
   {
    "duration": 17,
    "start_time": "2021-07-19T11:10:16.435Z"
   },
   {
    "duration": 442,
    "start_time": "2021-07-19T11:10:16.456Z"
   },
   {
    "duration": 11,
    "start_time": "2021-07-19T11:10:16.901Z"
   },
   {
    "duration": 287,
    "start_time": "2021-07-19T11:10:16.914Z"
   },
   {
    "duration": 11,
    "start_time": "2021-07-19T11:10:17.203Z"
   },
   {
    "duration": 13,
    "start_time": "2021-07-19T11:10:17.216Z"
   },
   {
    "duration": 7,
    "start_time": "2021-07-19T11:10:17.232Z"
   },
   {
    "duration": 40,
    "start_time": "2021-07-19T11:10:17.242Z"
   },
   {
    "duration": 8,
    "start_time": "2021-07-19T11:10:17.285Z"
   },
   {
    "duration": 14,
    "start_time": "2021-07-19T11:10:17.295Z"
   },
   {
    "duration": 12,
    "start_time": "2021-07-19T11:10:17.311Z"
   },
   {
    "duration": 366,
    "start_time": "2021-07-19T11:10:17.326Z"
   },
   {
    "duration": 370,
    "start_time": "2021-07-19T11:10:17.695Z"
   },
   {
    "duration": 16,
    "start_time": "2021-07-19T11:10:18.068Z"
   },
   {
    "duration": 469,
    "start_time": "2021-07-19T11:10:18.086Z"
   },
   {
    "duration": 5,
    "start_time": "2021-07-19T11:10:18.558Z"
   },
   {
    "duration": 20,
    "start_time": "2021-07-19T11:10:18.565Z"
   },
   {
    "duration": 14,
    "start_time": "2021-07-19T11:10:18.587Z"
   },
   {
    "duration": 334,
    "start_time": "2021-07-19T11:10:18.603Z"
   },
   {
    "duration": 13,
    "start_time": "2021-07-19T11:10:18.939Z"
   },
   {
    "duration": 443,
    "start_time": "2021-07-19T11:10:18.954Z"
   },
   {
    "duration": 110,
    "start_time": "2021-07-19T11:10:19.399Z"
   },
   {
    "duration": 214,
    "start_time": "2021-07-19T11:10:19.299Z"
   },
   {
    "duration": 210,
    "start_time": "2021-07-19T11:10:19.304Z"
   },
   {
    "duration": 207,
    "start_time": "2021-07-19T11:10:19.309Z"
   },
   {
    "duration": 202,
    "start_time": "2021-07-19T11:10:19.315Z"
   },
   {
    "duration": 182,
    "start_time": "2021-07-19T11:10:19.337Z"
   },
   {
    "duration": 178,
    "start_time": "2021-07-19T11:10:19.342Z"
   },
   {
    "duration": 173,
    "start_time": "2021-07-19T11:10:19.348Z"
   },
   {
    "duration": 145,
    "start_time": "2021-07-19T11:10:19.378Z"
   },
   {
    "duration": 141,
    "start_time": "2021-07-19T11:10:19.383Z"
   },
   {
    "duration": 139,
    "start_time": "2021-07-19T11:10:19.387Z"
   },
   {
    "duration": 135,
    "start_time": "2021-07-19T11:10:19.392Z"
   },
   {
    "duration": 132,
    "start_time": "2021-07-19T11:10:19.397Z"
   },
   {
    "duration": 123,
    "start_time": "2021-07-19T11:10:19.407Z"
   },
   {
    "duration": 120,
    "start_time": "2021-07-19T11:10:19.412Z"
   },
   {
    "duration": 116,
    "start_time": "2021-07-19T11:10:19.417Z"
   },
   {
    "duration": 114,
    "start_time": "2021-07-19T11:10:19.421Z"
   },
   {
    "duration": 110,
    "start_time": "2021-07-19T11:10:19.426Z"
   },
   {
    "duration": 107,
    "start_time": "2021-07-19T11:10:19.431Z"
   },
   {
    "duration": 102,
    "start_time": "2021-07-19T11:10:19.437Z"
   },
   {
    "duration": 99,
    "start_time": "2021-07-19T11:10:19.442Z"
   },
   {
    "duration": 94,
    "start_time": "2021-07-19T11:10:19.448Z"
   },
   {
    "duration": 90,
    "start_time": "2021-07-19T11:10:19.453Z"
   },
   {
    "duration": 86,
    "start_time": "2021-07-19T11:10:19.458Z"
   },
   {
    "duration": 82,
    "start_time": "2021-07-19T11:10:19.463Z"
   },
   {
    "duration": 78,
    "start_time": "2021-07-19T11:10:19.469Z"
   },
   {
    "duration": -24,
    "start_time": "2021-07-19T11:10:19.572Z"
   },
   {
    "duration": 72,
    "start_time": "2021-07-19T11:10:19.576Z"
   },
   {
    "duration": 68,
    "start_time": "2021-07-19T11:10:19.581Z"
   },
   {
    "duration": 66,
    "start_time": "2021-07-19T11:10:19.585Z"
   },
   {
    "duration": 95,
    "start_time": "2021-07-19T11:10:19.589Z"
   },
   {
    "duration": 91,
    "start_time": "2021-07-19T11:10:19.594Z"
   },
   {
    "duration": 35,
    "start_time": "2021-07-19T11:10:19.651Z"
   },
   {
    "duration": 32,
    "start_time": "2021-07-19T11:10:19.656Z"
   },
   {
    "duration": 29,
    "start_time": "2021-07-19T11:10:19.660Z"
   },
   {
    "duration": 26,
    "start_time": "2021-07-19T11:10:19.665Z"
   },
   {
    "duration": 113,
    "start_time": "2021-07-19T11:20:44.016Z"
   },
   {
    "duration": 8,
    "start_time": "2021-07-19T11:26:45.392Z"
   },
   {
    "duration": 8,
    "start_time": "2021-07-19T11:26:49.710Z"
   },
   {
    "duration": 10,
    "start_time": "2021-07-19T11:27:03.998Z"
   },
   {
    "duration": 11,
    "start_time": "2021-07-19T11:27:04.989Z"
   },
   {
    "duration": 339,
    "start_time": "2021-07-19T11:27:07.774Z"
   },
   {
    "duration": 12,
    "start_time": "2021-07-19T11:27:08.986Z"
   },
   {
    "duration": 244,
    "start_time": "2021-07-19T11:27:13.222Z"
   },
   {
    "duration": 10,
    "start_time": "2021-07-19T11:27:14.310Z"
   },
   {
    "duration": 9,
    "start_time": "2021-07-19T11:27:17.366Z"
   },
   {
    "duration": 4,
    "start_time": "2021-07-19T11:27:18.581Z"
   },
   {
    "duration": 13,
    "start_time": "2021-07-19T11:27:19.502Z"
   },
   {
    "duration": 8,
    "start_time": "2021-07-19T11:27:23.335Z"
   },
   {
    "duration": 10,
    "start_time": "2021-07-19T11:27:24.558Z"
   },
   {
    "duration": 7,
    "start_time": "2021-07-19T11:27:28.246Z"
   },
   {
    "duration": 332,
    "start_time": "2021-07-19T11:27:30.277Z"
   },
   {
    "duration": 329,
    "start_time": "2021-07-19T11:27:40.569Z"
   },
   {
    "duration": 9,
    "start_time": "2021-07-19T11:27:45.377Z"
   },
   {
    "duration": 394,
    "start_time": "2021-07-19T11:27:47.042Z"
   },
   {
    "duration": 5,
    "start_time": "2021-07-19T11:27:52.537Z"
   },
   {
    "duration": 6,
    "start_time": "2021-07-19T11:27:53.945Z"
   },
   {
    "duration": 5,
    "start_time": "2021-07-19T11:27:55.177Z"
   },
   {
    "duration": 316,
    "start_time": "2021-07-19T11:27:56.609Z"
   },
   {
    "duration": 12,
    "start_time": "2021-07-19T11:28:02.298Z"
   },
   {
    "duration": 378,
    "start_time": "2021-07-19T11:28:03.307Z"
   },
   {
    "duration": 228,
    "start_time": "2021-07-19T11:28:17.073Z"
   },
   {
    "duration": 4,
    "start_time": "2021-07-19T11:28:18.009Z"
   },
   {
    "duration": 376,
    "start_time": "2021-07-19T11:28:18.729Z"
   },
   {
    "duration": 7,
    "start_time": "2021-07-19T11:28:25.513Z"
   },
   {
    "duration": 452,
    "start_time": "2021-07-19T11:29:08.975Z"
   },
   {
    "duration": 190,
    "start_time": "2021-07-19T11:29:16.992Z"
   },
   {
    "duration": 10,
    "start_time": "2021-07-19T11:29:35.987Z"
   },
   {
    "duration": 4,
    "start_time": "2021-07-19T11:29:36.816Z"
   },
   {
    "duration": 407,
    "start_time": "2021-07-19T11:29:38.271Z"
   },
   {
    "duration": 7,
    "start_time": "2021-07-19T11:29:41.854Z"
   },
   {
    "duration": 357,
    "start_time": "2021-07-19T11:29:49.436Z"
   },
   {
    "duration": 5,
    "start_time": "2021-07-19T11:29:51.054Z"
   },
   {
    "duration": 422,
    "start_time": "2021-07-19T11:29:51.947Z"
   },
   {
    "duration": 20,
    "start_time": "2021-07-19T11:29:56.744Z"
   },
   {
    "duration": 12,
    "start_time": "2021-07-19T11:30:04.380Z"
   },
   {
    "duration": 4,
    "start_time": "2021-07-19T11:30:06.450Z"
   },
   {
    "duration": 384,
    "start_time": "2021-07-19T11:30:07.198Z"
   },
   {
    "duration": 374,
    "start_time": "2021-07-19T11:30:22.428Z"
   },
   {
    "duration": 11,
    "start_time": "2021-07-19T11:30:41.637Z"
   },
   {
    "duration": 7,
    "start_time": "2021-07-19T11:31:03.730Z"
   },
   {
    "duration": 7,
    "start_time": "2021-07-19T11:31:45.218Z"
   },
   {
    "duration": 369,
    "start_time": "2021-07-19T11:32:05.213Z"
   },
   {
    "duration": 7,
    "start_time": "2021-07-19T11:32:10.339Z"
   },
   {
    "duration": 8,
    "start_time": "2021-07-19T11:48:46.496Z"
   },
   {
    "duration": 8,
    "start_time": "2021-07-19T11:48:58.508Z"
   },
   {
    "duration": 10,
    "start_time": "2021-07-19T11:49:48.048Z"
   },
   {
    "duration": 41,
    "start_time": "2021-07-19T11:49:54.636Z"
   },
   {
    "duration": 12,
    "start_time": "2021-07-19T11:49:55.279Z"
   },
   {
    "duration": 9,
    "start_time": "2021-07-19T11:49:56.340Z"
   },
   {
    "duration": 11,
    "start_time": "2021-07-19T11:49:57.868Z"
   },
   {
    "duration": 9,
    "start_time": "2021-07-19T11:49:59.007Z"
   },
   {
    "duration": 9,
    "start_time": "2021-07-19T11:50:00.951Z"
   },
   {
    "duration": 8,
    "start_time": "2021-07-19T11:50:02.184Z"
   },
   {
    "duration": 8,
    "start_time": "2021-07-19T11:50:02.808Z"
   },
   {
    "duration": 7,
    "start_time": "2021-07-19T11:50:04.848Z"
   },
   {
    "duration": 7,
    "start_time": "2021-07-19T11:50:06.624Z"
   },
   {
    "duration": 8,
    "start_time": "2021-07-19T11:50:19.032Z"
   },
   {
    "duration": 8,
    "start_time": "2021-07-19T11:50:31.472Z"
   },
   {
    "duration": 344,
    "start_time": "2021-07-19T11:50:58.056Z"
   },
   {
    "duration": 14,
    "start_time": "2021-07-19T11:51:10.562Z"
   },
   {
    "duration": 13,
    "start_time": "2021-07-19T11:54:08.659Z"
   },
   {
    "duration": 13,
    "start_time": "2021-07-19T11:54:19.219Z"
   },
   {
    "duration": 13,
    "start_time": "2021-07-19T11:54:29.364Z"
   },
   {
    "duration": 415,
    "start_time": "2021-07-19T12:51:06.076Z"
   },
   {
    "duration": 8,
    "start_time": "2021-07-19T12:51:15.900Z"
   },
   {
    "duration": 12,
    "start_time": "2021-07-19T12:51:38.539Z"
   },
   {
    "duration": 9,
    "start_time": "2021-07-19T12:51:54.888Z"
   },
   {
    "duration": 15,
    "start_time": "2021-07-19T12:51:57.726Z"
   },
   {
    "duration": 8,
    "start_time": "2021-07-19T12:52:13.975Z"
   },
   {
    "duration": 11,
    "start_time": "2021-07-19T12:52:19.224Z"
   },
   {
    "duration": 8,
    "start_time": "2021-07-19T12:52:21.863Z"
   },
   {
    "duration": 7,
    "start_time": "2021-07-19T12:58:22.085Z"
   },
   {
    "duration": 1338,
    "start_time": "2021-07-19T13:15:48.508Z"
   },
   {
    "duration": 17,
    "start_time": "2021-07-19T13:15:49.849Z"
   },
   {
    "duration": 28,
    "start_time": "2021-07-19T13:15:49.869Z"
   },
   {
    "duration": 7,
    "start_time": "2021-07-19T13:15:49.900Z"
   },
   {
    "duration": 13,
    "start_time": "2021-07-19T13:15:49.910Z"
   },
   {
    "duration": 9,
    "start_time": "2021-07-19T13:15:49.925Z"
   },
   {
    "duration": 17,
    "start_time": "2021-07-19T13:15:49.936Z"
   },
   {
    "duration": 768,
    "start_time": "2021-07-19T13:15:49.984Z"
   },
   {
    "duration": 44,
    "start_time": "2021-07-19T13:15:50.757Z"
   },
   {
    "duration": 11,
    "start_time": "2021-07-19T13:15:50.803Z"
   },
   {
    "duration": 12,
    "start_time": "2021-07-19T13:15:50.816Z"
   },
   {
    "duration": 15,
    "start_time": "2021-07-19T13:15:50.831Z"
   },
   {
    "duration": 13,
    "start_time": "2021-07-19T13:15:50.849Z"
   },
   {
    "duration": 26,
    "start_time": "2021-07-19T13:15:50.864Z"
   },
   {
    "duration": 14,
    "start_time": "2021-07-19T13:15:50.894Z"
   },
   {
    "duration": 14,
    "start_time": "2021-07-19T13:15:50.911Z"
   },
   {
    "duration": 9,
    "start_time": "2021-07-19T13:15:50.928Z"
   },
   {
    "duration": 45,
    "start_time": "2021-07-19T13:15:50.939Z"
   },
   {
    "duration": 14,
    "start_time": "2021-07-19T13:15:50.987Z"
   },
   {
    "duration": 9,
    "start_time": "2021-07-19T13:15:51.004Z"
   },
   {
    "duration": 9,
    "start_time": "2021-07-19T13:15:51.016Z"
   },
   {
    "duration": 15,
    "start_time": "2021-07-19T13:15:51.028Z"
   },
   {
    "duration": 380,
    "start_time": "2021-07-19T13:15:51.050Z"
   },
   {
    "duration": 12,
    "start_time": "2021-07-19T13:15:51.434Z"
   },
   {
    "duration": 300,
    "start_time": "2021-07-19T13:15:51.448Z"
   },
   {
    "duration": 11,
    "start_time": "2021-07-19T13:15:51.750Z"
   },
   {
    "duration": 23,
    "start_time": "2021-07-19T13:15:51.763Z"
   },
   {
    "duration": 9,
    "start_time": "2021-07-19T13:15:51.789Z"
   },
   {
    "duration": 16,
    "start_time": "2021-07-19T13:15:51.801Z"
   },
   {
    "duration": 13,
    "start_time": "2021-07-19T13:15:51.819Z"
   },
   {
    "duration": 16,
    "start_time": "2021-07-19T13:15:51.835Z"
   },
   {
    "duration": 30,
    "start_time": "2021-07-19T13:15:51.853Z"
   },
   {
    "duration": 354,
    "start_time": "2021-07-19T13:15:51.886Z"
   },
   {
    "duration": 347,
    "start_time": "2021-07-19T13:15:52.242Z"
   },
   {
    "duration": 8,
    "start_time": "2021-07-19T13:15:52.591Z"
   },
   {
    "duration": 434,
    "start_time": "2021-07-19T13:15:52.601Z"
   },
   {
    "duration": 5,
    "start_time": "2021-07-19T13:15:53.037Z"
   },
   {
    "duration": 11,
    "start_time": "2021-07-19T13:15:53.045Z"
   },
   {
    "duration": 26,
    "start_time": "2021-07-19T13:15:53.058Z"
   },
   {
    "duration": 332,
    "start_time": "2021-07-19T13:15:53.086Z"
   },
   {
    "duration": 13,
    "start_time": "2021-07-19T13:15:53.420Z"
   },
   {
    "duration": 429,
    "start_time": "2021-07-19T13:15:53.435Z"
   },
   {
    "duration": 16,
    "start_time": "2021-07-19T13:15:53.866Z"
   },
   {
    "duration": 4,
    "start_time": "2021-07-19T13:15:53.885Z"
   },
   {
    "duration": 9,
    "start_time": "2021-07-19T13:15:53.891Z"
   },
   {
    "duration": 499,
    "start_time": "2021-07-19T13:15:53.902Z"
   },
   {
    "duration": 7,
    "start_time": "2021-07-19T13:15:54.403Z"
   },
   {
    "duration": 390,
    "start_time": "2021-07-19T13:15:54.412Z"
   },
   {
    "duration": 7,
    "start_time": "2021-07-19T13:15:54.804Z"
   },
   {
    "duration": 17,
    "start_time": "2021-07-19T13:15:54.813Z"
   },
   {
    "duration": 10,
    "start_time": "2021-07-19T13:15:54.832Z"
   },
   {
    "duration": 113,
    "start_time": "2021-07-19T13:15:54.844Z"
   },
   {
    "duration": 88,
    "start_time": "2021-07-19T13:15:54.959Z"
   },
   {
    "duration": 12,
    "start_time": "2021-07-19T13:15:55.050Z"
   },
   {
    "duration": 27,
    "start_time": "2021-07-19T13:15:55.065Z"
   },
   {
    "duration": 21,
    "start_time": "2021-07-19T13:15:55.094Z"
   },
   {
    "duration": 4,
    "start_time": "2021-07-19T13:15:55.118Z"
   },
   {
    "duration": 120,
    "start_time": "2021-07-19T13:15:55.124Z"
   },
   {
    "duration": 109,
    "start_time": "2021-07-19T13:15:55.246Z"
   },
   {
    "duration": 10,
    "start_time": "2021-07-19T13:15:55.358Z"
   },
   {
    "duration": 44,
    "start_time": "2021-07-19T13:15:55.370Z"
   },
   {
    "duration": 17,
    "start_time": "2021-07-19T13:15:55.416Z"
   },
   {
    "duration": 111,
    "start_time": "2021-07-19T13:15:55.436Z"
   },
   {
    "duration": 132,
    "start_time": "2021-07-19T13:15:55.550Z"
   },
   {
    "duration": 4,
    "start_time": "2021-07-19T13:15:55.685Z"
   },
   {
    "duration": 9,
    "start_time": "2021-07-19T13:15:55.692Z"
   },
   {
    "duration": 10,
    "start_time": "2021-07-19T13:15:55.704Z"
   },
   {
    "duration": 9,
    "start_time": "2021-07-19T13:15:55.721Z"
   },
   {
    "duration": 7,
    "start_time": "2021-07-19T13:15:55.733Z"
   },
   {
    "duration": 47,
    "start_time": "2021-07-19T13:15:55.742Z"
   },
   {
    "duration": 11,
    "start_time": "2021-07-19T13:15:55.792Z"
   },
   {
    "duration": 19,
    "start_time": "2021-07-19T13:15:55.805Z"
   },
   {
    "duration": 18,
    "start_time": "2021-07-19T13:15:55.826Z"
   },
   {
    "duration": 17,
    "start_time": "2021-07-19T13:15:55.847Z"
   },
   {
    "duration": 25,
    "start_time": "2021-07-19T13:15:55.867Z"
   },
   {
    "duration": 8,
    "start_time": "2021-07-19T13:15:55.895Z"
   },
   {
    "duration": 16,
    "start_time": "2021-07-19T13:15:55.906Z"
   },
   {
    "duration": 15,
    "start_time": "2021-07-19T13:15:55.925Z"
   },
   {
    "duration": 9,
    "start_time": "2021-07-19T14:29:36.460Z"
   },
   {
    "duration": 8,
    "start_time": "2021-07-19T14:29:47.252Z"
   },
   {
    "duration": 326,
    "start_time": "2021-07-19T14:45:03.231Z"
   },
   {
    "duration": 391,
    "start_time": "2021-07-19T14:47:52.520Z"
   },
   {
    "duration": 379,
    "start_time": "2021-07-19T14:47:56.923Z"
   },
   {
    "duration": 341,
    "start_time": "2021-07-19T14:48:56.702Z"
   },
   {
    "duration": 19,
    "start_time": "2021-07-19T14:51:06.339Z"
   },
   {
    "duration": 337,
    "start_time": "2021-07-19T14:51:51.706Z"
   },
   {
    "duration": 342,
    "start_time": "2021-07-19T14:52:00.546Z"
   },
   {
    "duration": 445,
    "start_time": "2021-07-19T14:52:30.949Z"
   },
   {
    "duration": 394,
    "start_time": "2021-07-19T14:53:54.013Z"
   },
   {
    "duration": 380,
    "start_time": "2021-07-19T14:54:04.913Z"
   },
   {
    "duration": 10,
    "start_time": "2021-07-19T15:18:28.986Z"
   },
   {
    "duration": 14,
    "start_time": "2021-07-19T15:50:14.593Z"
   },
   {
    "duration": 7,
    "start_time": "2021-07-19T15:50:16.556Z"
   },
   {
    "duration": 12,
    "start_time": "2021-07-19T15:50:19.636Z"
   },
   {
    "duration": 10,
    "start_time": "2021-07-19T15:50:20.754Z"
   },
   {
    "duration": 8,
    "start_time": "2021-07-19T15:50:23.889Z"
   },
   {
    "duration": 9,
    "start_time": "2021-07-19T15:52:34.450Z"
   },
   {
    "duration": 504,
    "start_time": "2021-07-19T15:52:39.677Z"
   },
   {
    "duration": 321,
    "start_time": "2021-07-19T15:52:45.949Z"
   },
   {
    "duration": 9,
    "start_time": "2021-07-19T15:52:53.415Z"
   },
   {
    "duration": 1375,
    "start_time": "2021-07-19T16:30:56.578Z"
   },
   {
    "duration": 17,
    "start_time": "2021-07-19T16:30:57.956Z"
   },
   {
    "duration": 18,
    "start_time": "2021-07-19T16:30:57.977Z"
   },
   {
    "duration": 9,
    "start_time": "2021-07-19T16:30:57.998Z"
   },
   {
    "duration": 14,
    "start_time": "2021-07-19T16:30:58.010Z"
   },
   {
    "duration": 9,
    "start_time": "2021-07-19T16:30:58.027Z"
   },
   {
    "duration": 54,
    "start_time": "2021-07-19T16:30:58.038Z"
   },
   {
    "duration": 692,
    "start_time": "2021-07-19T16:30:58.095Z"
   },
   {
    "duration": 46,
    "start_time": "2021-07-19T16:30:58.793Z"
   },
   {
    "duration": 12,
    "start_time": "2021-07-19T16:30:58.843Z"
   },
   {
    "duration": 13,
    "start_time": "2021-07-19T16:30:58.858Z"
   },
   {
    "duration": 14,
    "start_time": "2021-07-19T16:30:58.874Z"
   },
   {
    "duration": 11,
    "start_time": "2021-07-19T16:30:58.891Z"
   },
   {
    "duration": 13,
    "start_time": "2021-07-19T16:30:58.904Z"
   },
   {
    "duration": 8,
    "start_time": "2021-07-19T16:30:58.919Z"
   },
   {
    "duration": 8,
    "start_time": "2021-07-19T16:30:58.929Z"
   },
   {
    "duration": 45,
    "start_time": "2021-07-19T16:30:58.939Z"
   },
   {
    "duration": 11,
    "start_time": "2021-07-19T16:30:58.987Z"
   },
   {
    "duration": 6,
    "start_time": "2021-07-19T16:30:59.000Z"
   },
   {
    "duration": 9,
    "start_time": "2021-07-19T16:30:59.009Z"
   },
   {
    "duration": 11,
    "start_time": "2021-07-19T16:30:59.020Z"
   },
   {
    "duration": 9,
    "start_time": "2021-07-19T16:30:59.033Z"
   },
   {
    "duration": 8,
    "start_time": "2021-07-19T16:30:59.083Z"
   },
   {
    "duration": 13,
    "start_time": "2021-07-19T16:30:59.094Z"
   },
   {
    "duration": 355,
    "start_time": "2021-07-19T16:30:59.110Z"
   },
   {
    "duration": 16,
    "start_time": "2021-07-19T16:30:59.468Z"
   },
   {
    "duration": 270,
    "start_time": "2021-07-19T16:30:59.491Z"
   },
   {
    "duration": 19,
    "start_time": "2021-07-19T16:30:59.765Z"
   },
   {
    "duration": 12,
    "start_time": "2021-07-19T16:30:59.787Z"
   },
   {
    "duration": 6,
    "start_time": "2021-07-19T16:30:59.801Z"
   },
   {
    "duration": 15,
    "start_time": "2021-07-19T16:30:59.810Z"
   },
   {
    "duration": 6,
    "start_time": "2021-07-19T16:30:59.828Z"
   },
   {
    "duration": 47,
    "start_time": "2021-07-19T16:30:59.836Z"
   },
   {
    "duration": 7,
    "start_time": "2021-07-19T16:30:59.885Z"
   },
   {
    "duration": 366,
    "start_time": "2021-07-19T16:30:59.895Z"
   },
   {
    "duration": 336,
    "start_time": "2021-07-19T16:31:00.264Z"
   },
   {
    "duration": 9,
    "start_time": "2021-07-19T16:31:00.603Z"
   },
   {
    "duration": 557,
    "start_time": "2021-07-19T16:31:00.615Z"
   },
   {
    "duration": 10,
    "start_time": "2021-07-19T16:31:01.175Z"
   },
   {
    "duration": 26,
    "start_time": "2021-07-19T16:31:01.188Z"
   },
   {
    "duration": 21,
    "start_time": "2021-07-19T16:31:01.216Z"
   },
   {
    "duration": 405,
    "start_time": "2021-07-19T16:31:01.240Z"
   },
   {
    "duration": 14,
    "start_time": "2021-07-19T16:31:01.648Z"
   },
   {
    "duration": 440,
    "start_time": "2021-07-19T16:31:01.683Z"
   },
   {
    "duration": 10,
    "start_time": "2021-07-19T16:31:02.125Z"
   },
   {
    "duration": 8,
    "start_time": "2021-07-19T16:31:02.137Z"
   },
   {
    "duration": 465,
    "start_time": "2021-07-19T16:31:02.147Z"
   },
   {
    "duration": 7,
    "start_time": "2021-07-19T16:31:02.614Z"
   },
   {
    "duration": 392,
    "start_time": "2021-07-19T16:31:02.623Z"
   },
   {
    "duration": 6,
    "start_time": "2021-07-19T16:31:03.018Z"
   },
   {
    "duration": 11,
    "start_time": "2021-07-19T16:31:03.027Z"
   },
   {
    "duration": 7,
    "start_time": "2021-07-19T16:31:03.041Z"
   },
   {
    "duration": 114,
    "start_time": "2021-07-19T16:31:03.050Z"
   },
   {
    "duration": 97,
    "start_time": "2021-07-19T16:31:03.167Z"
   },
   {
    "duration": 4,
    "start_time": "2021-07-19T16:31:03.282Z"
   },
   {
    "duration": 23,
    "start_time": "2021-07-19T16:31:03.288Z"
   },
   {
    "duration": 20,
    "start_time": "2021-07-19T16:31:03.314Z"
   },
   {
    "duration": 7,
    "start_time": "2021-07-19T16:31:03.336Z"
   },
   {
    "duration": 140,
    "start_time": "2021-07-19T16:31:03.345Z"
   },
   {
    "duration": 107,
    "start_time": "2021-07-19T16:31:03.488Z"
   },
   {
    "duration": 15,
    "start_time": "2021-07-19T16:31:03.598Z"
   },
   {
    "duration": 36,
    "start_time": "2021-07-19T16:31:03.616Z"
   },
   {
    "duration": 30,
    "start_time": "2021-07-19T16:31:03.655Z"
   },
   {
    "duration": 118,
    "start_time": "2021-07-19T16:31:03.687Z"
   },
   {
    "duration": 147,
    "start_time": "2021-07-19T16:31:03.808Z"
   },
   {
    "duration": 4,
    "start_time": "2021-07-19T16:31:03.958Z"
   },
   {
    "duration": 22,
    "start_time": "2021-07-19T16:31:03.964Z"
   },
   {
    "duration": 11,
    "start_time": "2021-07-19T16:31:03.988Z"
   },
   {
    "duration": 13,
    "start_time": "2021-07-19T16:31:04.001Z"
   },
   {
    "duration": 7,
    "start_time": "2021-07-19T16:31:04.016Z"
   },
   {
    "duration": 16,
    "start_time": "2021-07-19T16:31:04.025Z"
   },
   {
    "duration": 45,
    "start_time": "2021-07-19T16:31:04.043Z"
   },
   {
    "duration": 12,
    "start_time": "2021-07-19T16:31:04.090Z"
   },
   {
    "duration": 10,
    "start_time": "2021-07-19T16:31:04.104Z"
   },
   {
    "duration": 17,
    "start_time": "2021-07-19T16:31:04.116Z"
   },
   {
    "duration": 10,
    "start_time": "2021-07-19T16:31:04.135Z"
   },
   {
    "duration": 36,
    "start_time": "2021-07-19T16:31:04.147Z"
   },
   {
    "duration": 14,
    "start_time": "2021-07-19T16:31:04.185Z"
   },
   {
    "duration": 20,
    "start_time": "2021-07-19T16:31:04.201Z"
   },
   {
    "duration": 320,
    "start_time": "2021-07-19T16:31:47.803Z"
   },
   {
    "duration": 10,
    "start_time": "2021-07-19T19:55:50.933Z"
   },
   {
    "duration": 20,
    "start_time": "2021-07-19T19:57:12.889Z"
   },
   {
    "duration": 11,
    "start_time": "2021-07-19T19:57:15.680Z"
   },
   {
    "duration": 10,
    "start_time": "2021-07-19T19:57:16.389Z"
   },
   {
    "duration": 9,
    "start_time": "2021-07-19T19:57:36.112Z"
   },
   {
    "duration": 11,
    "start_time": "2021-07-19T19:57:37.359Z"
   },
   {
    "duration": 344,
    "start_time": "2021-07-19T19:57:40.943Z"
   },
   {
    "duration": 13,
    "start_time": "2021-07-19T19:57:41.952Z"
   },
   {
    "duration": 269,
    "start_time": "2021-07-19T19:57:43.773Z"
   },
   {
    "duration": 12,
    "start_time": "2021-07-19T19:57:44.834Z"
   },
   {
    "duration": 10,
    "start_time": "2021-07-19T19:57:46.536Z"
   },
   {
    "duration": 4,
    "start_time": "2021-07-19T19:57:47.239Z"
   },
   {
    "duration": 15,
    "start_time": "2021-07-19T19:57:47.847Z"
   },
   {
    "duration": 8,
    "start_time": "2021-07-19T19:57:49.179Z"
   },
   {
    "duration": 10,
    "start_time": "2021-07-19T19:57:49.855Z"
   },
   {
    "duration": 8,
    "start_time": "2021-07-19T19:57:51.233Z"
   },
   {
    "duration": 323,
    "start_time": "2021-07-19T19:57:53.067Z"
   },
   {
    "duration": 322,
    "start_time": "2021-07-19T19:57:55.838Z"
   },
   {
    "duration": 8,
    "start_time": "2021-07-19T19:57:58.945Z"
   },
   {
    "duration": 471,
    "start_time": "2021-07-19T19:58:00.463Z"
   },
   {
    "duration": 6,
    "start_time": "2021-07-19T19:58:03.567Z"
   },
   {
    "duration": 6,
    "start_time": "2021-07-19T19:58:04.814Z"
   },
   {
    "duration": 5,
    "start_time": "2021-07-19T19:58:06.079Z"
   },
   {
    "duration": 336,
    "start_time": "2021-07-19T19:58:07.934Z"
   },
   {
    "duration": 11,
    "start_time": "2021-07-19T19:58:10.782Z"
   },
   {
    "duration": 454,
    "start_time": "2021-07-19T19:58:11.586Z"
   },
   {
    "duration": 11,
    "start_time": "2021-07-19T19:58:16.370Z"
   },
   {
    "duration": 4,
    "start_time": "2021-07-19T19:58:17.292Z"
   },
   {
    "duration": 369,
    "start_time": "2021-07-19T19:58:19.800Z"
   },
   {
    "duration": 10,
    "start_time": "2021-07-19T19:58:56.212Z"
   },
   {
    "duration": 4,
    "start_time": "2021-07-19T19:58:56.903Z"
   },
   {
    "duration": 399,
    "start_time": "2021-07-19T19:58:57.963Z"
   },
   {
    "duration": 7,
    "start_time": "2021-07-19T19:59:00.482Z"
   },
   {
    "duration": 7,
    "start_time": "2021-07-19T20:02:11.442Z"
   },
   {
    "duration": 6,
    "start_time": "2021-07-19T20:02:26.843Z"
   },
   {
    "duration": 20,
    "start_time": "2021-07-19T20:02:26.852Z"
   },
   {
    "duration": 19,
    "start_time": "2021-07-19T20:02:26.876Z"
   },
   {
    "duration": 8,
    "start_time": "2021-07-19T20:02:26.899Z"
   },
   {
    "duration": 24,
    "start_time": "2021-07-19T20:02:26.910Z"
   },
   {
    "duration": 10,
    "start_time": "2021-07-19T20:02:26.937Z"
   },
   {
    "duration": 54,
    "start_time": "2021-07-19T20:02:26.950Z"
   },
   {
    "duration": 85,
    "start_time": "2021-07-19T20:02:27.006Z"
   },
   {
    "duration": 50,
    "start_time": "2021-07-19T20:02:27.097Z"
   },
   {
    "duration": 16,
    "start_time": "2021-07-19T20:02:27.151Z"
   },
   {
    "duration": 29,
    "start_time": "2021-07-19T20:02:27.184Z"
   },
   {
    "duration": 14,
    "start_time": "2021-07-19T20:02:27.216Z"
   },
   {
    "duration": 13,
    "start_time": "2021-07-19T20:02:27.232Z"
   },
   {
    "duration": 39,
    "start_time": "2021-07-19T20:02:27.247Z"
   },
   {
    "duration": 15,
    "start_time": "2021-07-19T20:02:27.289Z"
   },
   {
    "duration": 12,
    "start_time": "2021-07-19T20:02:27.307Z"
   },
   {
    "duration": 9,
    "start_time": "2021-07-19T20:02:27.322Z"
   },
   {
    "duration": 52,
    "start_time": "2021-07-19T20:02:27.334Z"
   },
   {
    "duration": 19,
    "start_time": "2021-07-19T20:02:27.389Z"
   },
   {
    "duration": 13,
    "start_time": "2021-07-19T20:02:27.411Z"
   },
   {
    "duration": 8,
    "start_time": "2021-07-19T20:02:27.427Z"
   },
   {
    "duration": 14,
    "start_time": "2021-07-19T20:02:27.437Z"
   },
   {
    "duration": 32,
    "start_time": "2021-07-19T20:02:27.454Z"
   },
   {
    "duration": 14,
    "start_time": "2021-07-19T20:02:27.489Z"
   },
   {
    "duration": 425,
    "start_time": "2021-07-19T20:02:27.506Z"
   },
   {
    "duration": 13,
    "start_time": "2021-07-19T20:02:27.933Z"
   },
   {
    "duration": 301,
    "start_time": "2021-07-19T20:02:27.958Z"
   },
   {
    "duration": 11,
    "start_time": "2021-07-19T20:02:28.263Z"
   },
   {
    "duration": 14,
    "start_time": "2021-07-19T20:02:28.284Z"
   },
   {
    "duration": 7,
    "start_time": "2021-07-19T20:02:28.302Z"
   },
   {
    "duration": 20,
    "start_time": "2021-07-19T20:02:28.311Z"
   },
   {
    "duration": 16,
    "start_time": "2021-07-19T20:02:28.334Z"
   },
   {
    "duration": 18,
    "start_time": "2021-07-19T20:02:28.382Z"
   },
   {
    "duration": 8,
    "start_time": "2021-07-19T20:02:28.402Z"
   },
   {
    "duration": 391,
    "start_time": "2021-07-19T20:02:28.413Z"
   },
   {
    "duration": 460,
    "start_time": "2021-07-19T20:02:28.806Z"
   },
   {
    "duration": 18,
    "start_time": "2021-07-19T20:02:29.269Z"
   },
   {
    "duration": 463,
    "start_time": "2021-07-19T20:02:29.290Z"
   },
   {
    "duration": 6,
    "start_time": "2021-07-19T20:02:29.756Z"
   },
   {
    "duration": 24,
    "start_time": "2021-07-19T20:02:29.765Z"
   },
   {
    "duration": 13,
    "start_time": "2021-07-19T20:02:29.791Z"
   },
   {
    "duration": 500,
    "start_time": "2021-07-19T20:02:29.807Z"
   },
   {
    "duration": 18,
    "start_time": "2021-07-19T20:02:30.311Z"
   },
   {
    "duration": 514,
    "start_time": "2021-07-19T20:02:30.333Z"
   },
   {
    "duration": 32,
    "start_time": "2021-07-19T20:02:30.850Z"
   },
   {
    "duration": 5,
    "start_time": "2021-07-19T20:02:30.885Z"
   },
   {
    "duration": 416,
    "start_time": "2021-07-19T20:02:30.893Z"
   },
   {
    "duration": 8,
    "start_time": "2021-07-19T20:02:31.312Z"
   },
   {
    "duration": 544,
    "start_time": "2021-07-19T20:02:31.323Z"
   },
   {
    "duration": 12,
    "start_time": "2021-07-19T20:02:31.870Z"
   },
   {
    "duration": 16,
    "start_time": "2021-07-19T20:02:31.885Z"
   },
   {
    "duration": 5,
    "start_time": "2021-07-19T20:02:31.904Z"
   },
   {
    "duration": 134,
    "start_time": "2021-07-19T20:02:31.911Z"
   },
   {
    "duration": 99,
    "start_time": "2021-07-19T20:02:32.048Z"
   },
   {
    "duration": 8,
    "start_time": "2021-07-19T20:02:32.150Z"
   },
   {
    "duration": 43,
    "start_time": "2021-07-19T20:02:32.160Z"
   },
   {
    "duration": 22,
    "start_time": "2021-07-19T20:02:32.206Z"
   },
   {
    "duration": 6,
    "start_time": "2021-07-19T20:02:32.231Z"
   },
   {
    "duration": 134,
    "start_time": "2021-07-19T20:02:32.239Z"
   },
   {
    "duration": 126,
    "start_time": "2021-07-19T20:02:32.376Z"
   },
   {
    "duration": 12,
    "start_time": "2021-07-19T20:02:32.505Z"
   },
   {
    "duration": 40,
    "start_time": "2021-07-19T20:02:32.519Z"
   },
   {
    "duration": 37,
    "start_time": "2021-07-19T20:02:32.561Z"
   },
   {
    "duration": 130,
    "start_time": "2021-07-19T20:02:32.601Z"
   },
   {
    "duration": 126,
    "start_time": "2021-07-19T20:02:32.734Z"
   },
   {
    "duration": 4,
    "start_time": "2021-07-19T20:02:32.862Z"
   },
   {
    "duration": 10,
    "start_time": "2021-07-19T20:02:32.869Z"
   },
   {
    "duration": 12,
    "start_time": "2021-07-19T20:02:32.881Z"
   },
   {
    "duration": 11,
    "start_time": "2021-07-19T20:02:32.897Z"
   },
   {
    "duration": 8,
    "start_time": "2021-07-19T20:02:32.911Z"
   },
   {
    "duration": 12,
    "start_time": "2021-07-19T20:02:32.922Z"
   },
   {
    "duration": 59,
    "start_time": "2021-07-19T20:02:32.936Z"
   },
   {
    "duration": 12,
    "start_time": "2021-07-19T20:02:32.998Z"
   },
   {
    "duration": 17,
    "start_time": "2021-07-19T20:02:33.013Z"
   },
   {
    "duration": 13,
    "start_time": "2021-07-19T20:02:33.032Z"
   },
   {
    "duration": 40,
    "start_time": "2021-07-19T20:02:33.047Z"
   },
   {
    "duration": 13,
    "start_time": "2021-07-19T20:02:33.091Z"
   },
   {
    "duration": 15,
    "start_time": "2021-07-19T20:02:33.106Z"
   },
   {
    "duration": 13,
    "start_time": "2021-07-19T20:02:33.123Z"
   },
   {
    "duration": 9,
    "start_time": "2021-07-19T20:03:56.738Z"
   },
   {
    "duration": 8,
    "start_time": "2021-07-19T20:04:22.857Z"
   },
   {
    "duration": 12,
    "start_time": "2021-07-19T20:04:23.449Z"
   },
   {
    "duration": 239,
    "start_time": "2021-07-19T20:04:49.676Z"
   },
   {
    "duration": 112,
    "start_time": "2021-07-19T20:05:11.067Z"
   },
   {
    "duration": 8370,
    "start_time": "2021-07-19T20:05:18.206Z"
   },
   {
    "duration": 4,
    "start_time": "2021-07-19T20:06:45.227Z"
   },
   {
    "duration": 8,
    "start_time": "2021-07-19T20:06:50.147Z"
   },
   {
    "duration": 11,
    "start_time": "2021-07-19T20:06:50.815Z"
   },
   {
    "duration": 345,
    "start_time": "2021-07-19T20:06:52.542Z"
   },
   {
    "duration": 12,
    "start_time": "2021-07-19T20:06:55.731Z"
   },
   {
    "duration": 264,
    "start_time": "2021-07-19T20:07:40.659Z"
   },
   {
    "duration": 12,
    "start_time": "2021-07-19T20:07:43.475Z"
   },
   {
    "duration": 10,
    "start_time": "2021-07-19T20:08:04.791Z"
   },
   {
    "duration": 4,
    "start_time": "2021-07-19T20:08:21.296Z"
   },
   {
    "duration": 13,
    "start_time": "2021-07-19T20:08:42.797Z"
   },
   {
    "duration": 8,
    "start_time": "2021-07-19T20:09:17.071Z"
   },
   {
    "duration": 11,
    "start_time": "2021-07-19T20:09:23.600Z"
   },
   {
    "duration": 7,
    "start_time": "2021-07-19T20:09:38.572Z"
   },
   {
    "duration": 11,
    "start_time": "2021-07-19T20:09:52.222Z"
   },
   {
    "duration": 320,
    "start_time": "2021-07-19T20:10:18.673Z"
   },
   {
    "duration": 365,
    "start_time": "2021-07-19T20:10:41.049Z"
   },
   {
    "duration": 9,
    "start_time": "2021-07-19T20:11:03.062Z"
   },
   {
    "duration": 462,
    "start_time": "2021-07-19T20:11:31.366Z"
   },
   {
    "duration": 5,
    "start_time": "2021-07-19T20:12:08.758Z"
   },
   {
    "duration": 6,
    "start_time": "2021-07-19T20:12:18.954Z"
   },
   {
    "duration": 5,
    "start_time": "2021-07-19T20:12:42.634Z"
   },
   {
    "duration": 6,
    "start_time": "2021-07-19T20:12:55.105Z"
   },
   {
    "duration": 341,
    "start_time": "2021-07-19T20:13:09.003Z"
   },
   {
    "duration": 12,
    "start_time": "2021-07-19T20:13:36.236Z"
   },
   {
    "duration": 504,
    "start_time": "2021-07-19T20:14:05.718Z"
   },
   {
    "duration": 117,
    "start_time": "2021-07-19T20:14:47.722Z"
   },
   {
    "duration": 323,
    "start_time": "2021-07-19T20:14:52.112Z"
   },
   {
    "duration": 345,
    "start_time": "2021-07-19T20:15:13.020Z"
   },
   {
    "duration": 22,
    "start_time": "2021-07-19T20:15:50.878Z"
   },
   {
    "duration": 4,
    "start_time": "2021-07-19T20:16:03.155Z"
   },
   {
    "duration": 556,
    "start_time": "2021-07-19T20:16:09.718Z"
   },
   {
    "duration": 429,
    "start_time": "2021-07-19T20:16:16.056Z"
   },
   {
    "duration": 7,
    "start_time": "2021-07-19T20:16:26.631Z"
   },
   {
    "duration": 618,
    "start_time": "2021-07-19T20:18:47.061Z"
   },
   {
    "duration": 382,
    "start_time": "2021-07-19T20:18:53.050Z"
   },
   {
    "duration": 384,
    "start_time": "2021-07-19T20:19:22.046Z"
   },
   {
    "duration": 471,
    "start_time": "2021-07-19T20:19:55.774Z"
   },
   {
    "duration": 7,
    "start_time": "2021-07-19T20:20:00.602Z"
   },
   {
    "duration": 125,
    "start_time": "2021-07-19T20:21:25.718Z"
   },
   {
    "duration": 10,
    "start_time": "2021-07-19T20:22:47.301Z"
   },
   {
    "duration": 4,
    "start_time": "2021-07-19T20:22:47.931Z"
   },
   {
    "duration": 92,
    "start_time": "2021-07-19T20:23:09.668Z"
   },
   {
    "duration": 94,
    "start_time": "2021-07-19T20:23:44.622Z"
   },
   {
    "duration": 6,
    "start_time": "2021-07-19T20:23:56.474Z"
   },
   {
    "duration": 25,
    "start_time": "2021-07-19T20:24:15.551Z"
   },
   {
    "duration": 9789,
    "start_time": "2021-07-19T20:24:56.673Z"
   },
   {
    "duration": 4,
    "start_time": "2021-07-19T20:25:30.668Z"
   },
   {
    "duration": 116,
    "start_time": "2021-07-19T20:25:31.955Z"
   },
   {
    "duration": 25,
    "start_time": "2021-07-19T20:26:16.464Z"
   },
   {
    "duration": 4,
    "start_time": "2021-07-19T20:26:31.045Z"
   },
   {
    "duration": 147,
    "start_time": "2021-07-19T20:26:52.986Z"
   },
   {
    "duration": 4,
    "start_time": "2021-07-19T20:27:04.318Z"
   },
   {
    "duration": 11,
    "start_time": "2021-07-19T20:28:28.321Z"
   },
   {
    "duration": 4,
    "start_time": "2021-07-19T20:30:55.339Z"
   },
   {
    "duration": 4,
    "start_time": "2021-07-19T20:31:00.322Z"
   },
   {
    "duration": 108,
    "start_time": "2021-07-19T20:31:01.565Z"
   },
   {
    "duration": 101,
    "start_time": "2021-07-19T20:31:02.137Z"
   },
   {
    "duration": 5,
    "start_time": "2021-07-19T20:31:02.745Z"
   },
   {
    "duration": 40,
    "start_time": "2021-07-19T20:31:35.917Z"
   },
   {
    "duration": 30,
    "start_time": "2021-07-19T20:31:39.638Z"
   },
   {
    "duration": 115,
    "start_time": "2021-07-19T20:32:05.823Z"
   },
   {
    "duration": 102,
    "start_time": "2021-07-19T20:32:39.804Z"
   },
   {
    "duration": 129,
    "start_time": "2021-07-19T20:32:40.379Z"
   },
   {
    "duration": 5,
    "start_time": "2021-07-19T20:32:52.563Z"
   },
   {
    "duration": 8501,
    "start_time": "2021-07-19T20:33:36.355Z"
   },
   {
    "duration": 6,
    "start_time": "2021-07-19T20:33:49.179Z"
   },
   {
    "duration": 6,
    "start_time": "2021-07-19T20:33:59.616Z"
   },
   {
    "duration": 9,
    "start_time": "2021-07-19T20:34:46.311Z"
   },
   {
    "duration": 9143,
    "start_time": "2021-07-19T20:37:15.745Z"
   },
   {
    "duration": 383,
    "start_time": "2021-07-19T20:39:24.497Z"
   },
   {
    "duration": 6,
    "start_time": "2021-07-19T20:39:31.055Z"
   },
   {
    "duration": 7,
    "start_time": "2021-07-19T20:41:36.178Z"
   },
   {
    "duration": 12,
    "start_time": "2021-07-19T20:43:39.408Z"
   },
   {
    "duration": 10,
    "start_time": "2021-07-19T20:44:22.188Z"
   },
   {
    "duration": 9427,
    "start_time": "2021-07-19T20:44:48.992Z"
   },
   {
    "duration": 13,
    "start_time": "2021-07-19T20:48:43.534Z"
   },
   {
    "duration": 7,
    "start_time": "2021-07-19T20:50:35.222Z"
   },
   {
    "duration": 130,
    "start_time": "2021-07-19T20:52:38.983Z"
   },
   {
    "duration": 413,
    "start_time": "2021-07-19T20:53:25.473Z"
   },
   {
    "duration": 724,
    "start_time": "2021-07-19T20:53:35.859Z"
   },
   {
    "duration": 114,
    "start_time": "2021-07-19T20:53:57.971Z"
   },
   {
    "duration": 107,
    "start_time": "2021-07-19T20:54:19.389Z"
   },
   {
    "duration": 8313,
    "start_time": "2021-07-19T20:55:12.001Z"
   },
   {
    "duration": 12,
    "start_time": "2021-07-19T20:55:30.452Z"
   },
   {
    "duration": 13,
    "start_time": "2021-07-19T20:56:07.771Z"
   },
   {
    "duration": 11,
    "start_time": "2021-07-19T20:56:14.314Z"
   },
   {
    "duration": 9,
    "start_time": "2021-07-19T20:57:22.871Z"
   },
   {
    "duration": 365,
    "start_time": "2021-07-19T20:58:44.866Z"
   },
   {
    "duration": 337,
    "start_time": "2021-07-19T20:58:59.454Z"
   },
   {
    "duration": 107,
    "start_time": "2021-07-19T20:59:22.138Z"
   },
   {
    "duration": 6,
    "start_time": "2021-07-19T20:59:28.659Z"
   },
   {
    "duration": 103,
    "start_time": "2021-07-19T21:02:27.149Z"
   },
   {
    "duration": 371,
    "start_time": "2021-07-19T21:02:31.324Z"
   },
   {
    "duration": 108,
    "start_time": "2021-07-19T21:02:46.239Z"
   },
   {
    "duration": 99,
    "start_time": "2021-07-19T21:02:51.339Z"
   },
   {
    "duration": 14,
    "start_time": "2021-07-19T21:02:55.929Z"
   },
   {
    "duration": 187,
    "start_time": "2021-07-19T21:04:18.333Z"
   },
   {
    "duration": 19,
    "start_time": "2021-07-19T21:04:23.076Z"
   },
   {
    "duration": 119,
    "start_time": "2021-07-19T21:18:43.303Z"
   },
   {
    "duration": 14,
    "start_time": "2021-07-19T21:31:46.819Z"
   },
   {
    "duration": 14,
    "start_time": "2021-07-19T21:31:54.255Z"
   },
   {
    "duration": 122,
    "start_time": "2021-07-19T21:33:45.463Z"
   },
   {
    "duration": 8224,
    "start_time": "2021-07-19T21:42:10.770Z"
   },
   {
    "duration": 8,
    "start_time": "2021-07-19T21:42:28.019Z"
   },
   {
    "duration": 1434,
    "start_time": "2021-07-19T21:44:42.657Z"
   },
   {
    "duration": 17,
    "start_time": "2021-07-19T21:44:44.094Z"
   },
   {
    "duration": 16,
    "start_time": "2021-07-19T21:44:44.117Z"
   },
   {
    "duration": 8,
    "start_time": "2021-07-19T21:44:44.135Z"
   },
   {
    "duration": 37,
    "start_time": "2021-07-19T21:44:44.146Z"
   },
   {
    "duration": 5,
    "start_time": "2021-07-19T21:44:44.186Z"
   },
   {
    "duration": 14,
    "start_time": "2021-07-19T21:44:44.196Z"
   },
   {
    "duration": 693,
    "start_time": "2021-07-19T21:44:44.213Z"
   },
   {
    "duration": 44,
    "start_time": "2021-07-19T21:44:44.909Z"
   },
   {
    "duration": 11,
    "start_time": "2021-07-19T21:44:44.955Z"
   },
   {
    "duration": 12,
    "start_time": "2021-07-19T21:44:44.968Z"
   },
   {
    "duration": 12,
    "start_time": "2021-07-19T21:44:44.982Z"
   },
   {
    "duration": 12,
    "start_time": "2021-07-19T21:44:44.997Z"
   },
   {
    "duration": 16,
    "start_time": "2021-07-19T21:44:45.012Z"
   },
   {
    "duration": 15,
    "start_time": "2021-07-19T21:44:45.030Z"
   },
   {
    "duration": 9,
    "start_time": "2021-07-19T21:44:45.047Z"
   },
   {
    "duration": 4,
    "start_time": "2021-07-19T21:44:45.083Z"
   },
   {
    "duration": 10,
    "start_time": "2021-07-19T21:44:45.089Z"
   },
   {
    "duration": 8700,
    "start_time": "2021-07-19T21:44:45.101Z"
   },
   {
    "duration": 280,
    "start_time": "2021-07-19T21:44:53.527Z"
   },
   {
    "duration": 275,
    "start_time": "2021-07-19T21:44:53.533Z"
   },
   {
    "duration": 270,
    "start_time": "2021-07-19T21:44:53.540Z"
   },
   {
    "duration": 266,
    "start_time": "2021-07-19T21:44:53.545Z"
   },
   {
    "duration": 262,
    "start_time": "2021-07-19T21:44:53.551Z"
   },
   {
    "duration": 258,
    "start_time": "2021-07-19T21:44:53.556Z"
   },
   {
    "duration": 252,
    "start_time": "2021-07-19T21:44:53.563Z"
   },
   {
    "duration": 248,
    "start_time": "2021-07-19T21:44:53.569Z"
   },
   {
    "duration": 242,
    "start_time": "2021-07-19T21:44:53.576Z"
   },
   {
    "duration": 238,
    "start_time": "2021-07-19T21:44:53.582Z"
   },
   {
    "duration": 226,
    "start_time": "2021-07-19T21:44:53.595Z"
   },
   {
    "duration": 222,
    "start_time": "2021-07-19T21:44:53.601Z"
   },
   {
    "duration": 216,
    "start_time": "2021-07-19T21:44:53.608Z"
   },
   {
    "duration": 213,
    "start_time": "2021-07-19T21:44:53.613Z"
   },
   {
    "duration": 208,
    "start_time": "2021-07-19T21:44:53.619Z"
   },
   {
    "duration": 203,
    "start_time": "2021-07-19T21:44:53.625Z"
   },
   {
    "duration": 200,
    "start_time": "2021-07-19T21:44:53.630Z"
   },
   {
    "duration": 195,
    "start_time": "2021-07-19T21:44:53.636Z"
   },
   {
    "duration": 191,
    "start_time": "2021-07-19T21:44:53.641Z"
   },
   {
    "duration": 188,
    "start_time": "2021-07-19T21:44:53.646Z"
   },
   {
    "duration": 183,
    "start_time": "2021-07-19T21:44:53.652Z"
   },
   {
    "duration": 181,
    "start_time": "2021-07-19T21:44:53.656Z"
   },
   {
    "duration": 177,
    "start_time": "2021-07-19T21:44:53.661Z"
   },
   {
    "duration": 173,
    "start_time": "2021-07-19T21:44:53.667Z"
   },
   {
    "duration": 166,
    "start_time": "2021-07-19T21:44:53.675Z"
   },
   {
    "duration": 161,
    "start_time": "2021-07-19T21:44:53.681Z"
   },
   {
    "duration": 193,
    "start_time": "2021-07-19T21:44:53.689Z"
   },
   {
    "duration": 180,
    "start_time": "2021-07-19T21:44:53.704Z"
   },
   {
    "duration": 173,
    "start_time": "2021-07-19T21:44:53.712Z"
   },
   {
    "duration": 169,
    "start_time": "2021-07-19T21:44:53.718Z"
   },
   {
    "duration": 162,
    "start_time": "2021-07-19T21:44:53.726Z"
   },
   {
    "duration": 159,
    "start_time": "2021-07-19T21:44:53.731Z"
   },
   {
    "duration": 153,
    "start_time": "2021-07-19T21:44:53.738Z"
   },
   {
    "duration": 148,
    "start_time": "2021-07-19T21:44:53.744Z"
   },
   {
    "duration": 143,
    "start_time": "2021-07-19T21:44:53.751Z"
   },
   {
    "duration": -28,
    "start_time": "2021-07-19T21:44:53.923Z"
   },
   {
    "duration": -159,
    "start_time": "2021-07-19T21:44:54.056Z"
   },
   {
    "duration": -172,
    "start_time": "2021-07-19T21:44:54.070Z"
   },
   {
    "duration": -176,
    "start_time": "2021-07-19T21:44:54.075Z"
   },
   {
    "duration": -180,
    "start_time": "2021-07-19T21:44:54.080Z"
   },
   {
    "duration": -205,
    "start_time": "2021-07-19T21:44:54.107Z"
   },
   {
    "duration": -209,
    "start_time": "2021-07-19T21:44:54.112Z"
   },
   {
    "duration": -230,
    "start_time": "2021-07-19T21:44:54.135Z"
   },
   {
    "duration": -234,
    "start_time": "2021-07-19T21:44:54.140Z"
   },
   {
    "duration": -238,
    "start_time": "2021-07-19T21:44:54.145Z"
   },
   {
    "duration": -279,
    "start_time": "2021-07-19T21:44:54.188Z"
   },
   {
    "duration": -283,
    "start_time": "2021-07-19T21:44:54.193Z"
   },
   {
    "duration": -286,
    "start_time": "2021-07-19T21:44:54.197Z"
   },
   {
    "duration": -290,
    "start_time": "2021-07-19T21:44:54.203Z"
   },
   {
    "duration": -294,
    "start_time": "2021-07-19T21:44:54.208Z"
   },
   {
    "duration": -297,
    "start_time": "2021-07-19T21:44:54.213Z"
   },
   {
    "duration": -301,
    "start_time": "2021-07-19T21:44:54.218Z"
   },
   {
    "duration": -306,
    "start_time": "2021-07-19T21:44:54.224Z"
   },
   {
    "duration": -257,
    "start_time": "2021-07-19T21:44:54.239Z"
   },
   {
    "duration": -260,
    "start_time": "2021-07-19T21:44:54.244Z"
   },
   {
    "duration": -264,
    "start_time": "2021-07-19T21:44:54.249Z"
   },
   {
    "duration": -269,
    "start_time": "2021-07-19T21:44:54.256Z"
   },
   {
    "duration": -288,
    "start_time": "2021-07-19T21:44:54.276Z"
   },
   {
    "duration": -294,
    "start_time": "2021-07-19T21:44:54.284Z"
   },
   {
    "duration": -307,
    "start_time": "2021-07-19T21:44:54.298Z"
   },
   {
    "duration": -317,
    "start_time": "2021-07-19T21:44:54.310Z"
   },
   {
    "duration": -321,
    "start_time": "2021-07-19T21:44:54.315Z"
   },
   {
    "duration": -324,
    "start_time": "2021-07-19T21:44:54.321Z"
   },
   {
    "duration": 1357,
    "start_time": "2021-07-19T21:45:54.989Z"
   },
   {
    "duration": 19,
    "start_time": "2021-07-19T21:45:56.349Z"
   },
   {
    "duration": 20,
    "start_time": "2021-07-19T21:45:56.372Z"
   },
   {
    "duration": 7,
    "start_time": "2021-07-19T21:45:56.396Z"
   },
   {
    "duration": 15,
    "start_time": "2021-07-19T21:45:56.406Z"
   },
   {
    "duration": 8,
    "start_time": "2021-07-19T21:45:56.424Z"
   },
   {
    "duration": 55,
    "start_time": "2021-07-19T21:45:56.434Z"
   },
   {
    "duration": 766,
    "start_time": "2021-07-19T21:45:56.495Z"
   },
   {
    "duration": 48,
    "start_time": "2021-07-19T21:45:57.265Z"
   },
   {
    "duration": 12,
    "start_time": "2021-07-19T21:45:57.316Z"
   },
   {
    "duration": 13,
    "start_time": "2021-07-19T21:45:57.331Z"
   },
   {
    "duration": 11,
    "start_time": "2021-07-19T21:45:57.347Z"
   },
   {
    "duration": 32,
    "start_time": "2021-07-19T21:45:57.360Z"
   },
   {
    "duration": 12,
    "start_time": "2021-07-19T21:45:57.395Z"
   },
   {
    "duration": 13,
    "start_time": "2021-07-19T21:45:57.409Z"
   },
   {
    "duration": 7,
    "start_time": "2021-07-19T21:45:57.424Z"
   },
   {
    "duration": 6,
    "start_time": "2021-07-19T21:45:57.433Z"
   },
   {
    "duration": 42,
    "start_time": "2021-07-19T21:45:57.441Z"
   },
   {
    "duration": 9,
    "start_time": "2021-07-19T21:45:57.485Z"
   },
   {
    "duration": 13,
    "start_time": "2021-07-19T21:45:57.496Z"
   },
   {
    "duration": 18,
    "start_time": "2021-07-19T21:45:57.512Z"
   },
   {
    "duration": 13,
    "start_time": "2021-07-19T21:45:57.533Z"
   },
   {
    "duration": 32,
    "start_time": "2021-07-19T21:45:57.552Z"
   },
   {
    "duration": 349,
    "start_time": "2021-07-19T21:45:57.588Z"
   },
   {
    "duration": 11,
    "start_time": "2021-07-19T21:45:57.940Z"
   },
   {
    "duration": 280,
    "start_time": "2021-07-19T21:45:57.954Z"
   },
   {
    "duration": 17,
    "start_time": "2021-07-19T21:45:58.236Z"
   },
   {
    "duration": 11,
    "start_time": "2021-07-19T21:45:58.256Z"
   },
   {
    "duration": 4,
    "start_time": "2021-07-19T21:45:58.282Z"
   },
   {
    "duration": 16,
    "start_time": "2021-07-19T21:45:58.288Z"
   },
   {
    "duration": 6,
    "start_time": "2021-07-19T21:45:58.306Z"
   },
   {
    "duration": 12,
    "start_time": "2021-07-19T21:45:58.314Z"
   },
   {
    "duration": 8,
    "start_time": "2021-07-19T21:45:58.329Z"
   },
   {
    "duration": 44,
    "start_time": "2021-07-19T21:45:58.340Z"
   },
   {
    "duration": 364,
    "start_time": "2021-07-19T21:45:58.387Z"
   },
   {
    "duration": 350,
    "start_time": "2021-07-19T21:45:58.753Z"
   },
   {
    "duration": 9,
    "start_time": "2021-07-19T21:45:59.105Z"
   },
   {
    "duration": 449,
    "start_time": "2021-07-19T21:45:59.116Z"
   },
   {
    "duration": 5,
    "start_time": "2021-07-19T21:45:59.568Z"
   },
   {
    "duration": 5,
    "start_time": "2021-07-19T21:45:59.583Z"
   },
   {
    "duration": 9,
    "start_time": "2021-07-19T21:45:59.590Z"
   },
   {
    "duration": 353,
    "start_time": "2021-07-19T21:45:59.601Z"
   },
   {
    "duration": 11,
    "start_time": "2021-07-19T21:45:59.957Z"
   },
   {
    "duration": 462,
    "start_time": "2021-07-19T21:45:59.971Z"
   },
   {
    "duration": 24,
    "start_time": "2021-07-19T21:46:00.436Z"
   },
   {
    "duration": 22,
    "start_time": "2021-07-19T21:46:00.462Z"
   },
   {
    "duration": 477,
    "start_time": "2021-07-19T21:46:00.487Z"
   },
   {
    "duration": 17,
    "start_time": "2021-07-19T21:46:00.967Z"
   },
   {
    "duration": 405,
    "start_time": "2021-07-19T21:46:00.986Z"
   },
   {
    "duration": 7,
    "start_time": "2021-07-19T21:46:01.393Z"
   },
   {
    "duration": 16,
    "start_time": "2021-07-19T21:46:01.403Z"
   },
   {
    "duration": 13,
    "start_time": "2021-07-19T21:46:01.421Z"
   },
   {
    "duration": 103,
    "start_time": "2021-07-19T21:46:01.436Z"
   },
   {
    "duration": 145,
    "start_time": "2021-07-19T21:46:01.541Z"
   },
   {
    "duration": 13,
    "start_time": "2021-07-19T21:46:01.689Z"
   },
   {
    "duration": 35,
    "start_time": "2021-07-19T21:46:01.704Z"
   },
   {
    "duration": 4,
    "start_time": "2021-07-19T21:46:01.742Z"
   },
   {
    "duration": 34,
    "start_time": "2021-07-19T21:46:01.748Z"
   },
   {
    "duration": 4,
    "start_time": "2021-07-19T21:46:01.784Z"
   },
   {
    "duration": 112,
    "start_time": "2021-07-19T21:46:01.790Z"
   },
   {
    "duration": 118,
    "start_time": "2021-07-19T21:46:01.905Z"
   },
   {
    "duration": 11,
    "start_time": "2021-07-19T21:46:02.026Z"
   },
   {
    "duration": 42,
    "start_time": "2021-07-19T21:46:02.040Z"
   },
   {
    "duration": 20,
    "start_time": "2021-07-19T21:46:02.085Z"
   },
   {
    "duration": 131,
    "start_time": "2021-07-19T21:46:02.108Z"
   },
   {
    "duration": 148,
    "start_time": "2021-07-19T21:46:02.242Z"
   },
   {
    "duration": 4,
    "start_time": "2021-07-19T21:46:02.392Z"
   },
   {
    "duration": 6,
    "start_time": "2021-07-19T21:46:02.404Z"
   },
   {
    "duration": 8,
    "start_time": "2021-07-19T21:46:02.413Z"
   },
   {
    "duration": 17,
    "start_time": "2021-07-19T21:46:02.423Z"
   },
   {
    "duration": 12,
    "start_time": "2021-07-19T21:46:02.443Z"
   },
   {
    "duration": 10,
    "start_time": "2021-07-19T21:46:02.483Z"
   },
   {
    "duration": 17,
    "start_time": "2021-07-19T21:46:02.496Z"
   },
   {
    "duration": 11,
    "start_time": "2021-07-19T21:46:02.515Z"
   },
   {
    "duration": 11,
    "start_time": "2021-07-19T21:46:02.528Z"
   },
   {
    "duration": 44,
    "start_time": "2021-07-19T21:46:02.541Z"
   },
   {
    "duration": 20,
    "start_time": "2021-07-19T21:46:02.588Z"
   },
   {
    "duration": 8,
    "start_time": "2021-07-19T21:46:02.611Z"
   },
   {
    "duration": 15,
    "start_time": "2021-07-19T21:46:02.622Z"
   },
   {
    "duration": 50,
    "start_time": "2021-07-19T21:46:02.640Z"
   },
   {
    "duration": 1441,
    "start_time": "2021-07-19T21:52:15.854Z"
   },
   {
    "duration": 15,
    "start_time": "2021-07-19T21:52:17.298Z"
   },
   {
    "duration": 18,
    "start_time": "2021-07-19T21:52:17.316Z"
   },
   {
    "duration": 6,
    "start_time": "2021-07-19T21:52:17.336Z"
   },
   {
    "duration": 12,
    "start_time": "2021-07-19T21:52:17.345Z"
   },
   {
    "duration": 7,
    "start_time": "2021-07-19T21:52:17.382Z"
   },
   {
    "duration": 18,
    "start_time": "2021-07-19T21:52:17.391Z"
   },
   {
    "duration": 666,
    "start_time": "2021-07-19T21:52:17.413Z"
   },
   {
    "duration": 44,
    "start_time": "2021-07-19T21:52:18.083Z"
   },
   {
    "duration": 11,
    "start_time": "2021-07-19T21:52:18.129Z"
   },
   {
    "duration": 11,
    "start_time": "2021-07-19T21:52:18.142Z"
   },
   {
    "duration": 12,
    "start_time": "2021-07-19T21:52:18.155Z"
   },
   {
    "duration": 13,
    "start_time": "2021-07-19T21:52:18.170Z"
   },
   {
    "duration": 12,
    "start_time": "2021-07-19T21:52:18.185Z"
   },
   {
    "duration": 14,
    "start_time": "2021-07-19T21:52:18.199Z"
   },
   {
    "duration": 10,
    "start_time": "2021-07-19T21:52:18.215Z"
   },
   {
    "duration": 9,
    "start_time": "2021-07-19T21:52:18.227Z"
   },
   {
    "duration": 10,
    "start_time": "2021-07-19T21:52:18.239Z"
   },
   {
    "duration": 33,
    "start_time": "2021-07-19T21:52:18.251Z"
   },
   {
    "duration": 6,
    "start_time": "2021-07-19T21:52:18.287Z"
   },
   {
    "duration": 5,
    "start_time": "2021-07-19T21:52:18.295Z"
   },
   {
    "duration": 10,
    "start_time": "2021-07-19T21:52:18.302Z"
   },
   {
    "duration": 8,
    "start_time": "2021-07-19T21:52:18.318Z"
   },
   {
    "duration": 13,
    "start_time": "2021-07-19T21:52:18.330Z"
   },
   {
    "duration": 369,
    "start_time": "2021-07-19T21:52:18.345Z"
   },
   {
    "duration": 10,
    "start_time": "2021-07-19T21:52:18.717Z"
   },
   {
    "duration": 278,
    "start_time": "2021-07-19T21:52:18.730Z"
   },
   {
    "duration": 11,
    "start_time": "2021-07-19T21:52:19.011Z"
   },
   {
    "duration": 10,
    "start_time": "2021-07-19T21:52:19.024Z"
   },
   {
    "duration": 6,
    "start_time": "2021-07-19T21:52:19.036Z"
   },
   {
    "duration": 44,
    "start_time": "2021-07-19T21:52:19.044Z"
   },
   {
    "duration": 9,
    "start_time": "2021-07-19T21:52:19.090Z"
   },
   {
    "duration": 10,
    "start_time": "2021-07-19T21:52:19.101Z"
   },
   {
    "duration": 8,
    "start_time": "2021-07-19T21:52:19.114Z"
   },
   {
    "duration": 12,
    "start_time": "2021-07-19T21:52:19.124Z"
   },
   {
    "duration": 376,
    "start_time": "2021-07-19T21:52:19.138Z"
   },
   {
    "duration": 345,
    "start_time": "2021-07-19T21:52:19.517Z"
   },
   {
    "duration": 18,
    "start_time": "2021-07-19T21:52:19.865Z"
   },
   {
    "duration": 474,
    "start_time": "2021-07-19T21:52:19.886Z"
   },
   {
    "duration": 5,
    "start_time": "2021-07-19T21:52:20.363Z"
   },
   {
    "duration": 14,
    "start_time": "2021-07-19T21:52:20.370Z"
   },
   {
    "duration": 8,
    "start_time": "2021-07-19T21:52:20.386Z"
   },
   {
    "duration": 332,
    "start_time": "2021-07-19T21:52:20.396Z"
   },
   {
    "duration": 11,
    "start_time": "2021-07-19T21:52:20.732Z"
   },
   {
    "duration": 444,
    "start_time": "2021-07-19T21:52:20.745Z"
   },
   {
    "duration": 25,
    "start_time": "2021-07-19T21:52:21.191Z"
   },
   {
    "duration": 8,
    "start_time": "2021-07-19T21:52:21.219Z"
   },
   {
    "duration": 470,
    "start_time": "2021-07-19T21:52:21.230Z"
   },
   {
    "duration": 6,
    "start_time": "2021-07-19T21:52:21.703Z"
   },
   {
    "duration": 381,
    "start_time": "2021-07-19T21:52:21.712Z"
   },
   {
    "duration": 7,
    "start_time": "2021-07-19T21:52:22.095Z"
   },
   {
    "duration": 15,
    "start_time": "2021-07-19T21:52:22.104Z"
   },
   {
    "duration": 10,
    "start_time": "2021-07-19T21:52:22.121Z"
   },
   {
    "duration": 125,
    "start_time": "2021-07-19T21:52:22.133Z"
   },
   {
    "duration": 90,
    "start_time": "2021-07-19T21:52:22.261Z"
   },
   {
    "duration": 14,
    "start_time": "2021-07-19T21:52:22.353Z"
   },
   {
    "duration": 26,
    "start_time": "2021-07-19T21:52:22.369Z"
   },
   {
    "duration": 4,
    "start_time": "2021-07-19T21:52:22.397Z"
   },
   {
    "duration": 21,
    "start_time": "2021-07-19T21:52:22.404Z"
   },
   {
    "duration": 4,
    "start_time": "2021-07-19T21:52:22.427Z"
   },
   {
    "duration": 128,
    "start_time": "2021-07-19T21:52:22.433Z"
   },
   {
    "duration": 109,
    "start_time": "2021-07-19T21:52:22.564Z"
   },
   {
    "duration": 5,
    "start_time": "2021-07-19T21:52:22.683Z"
   },
   {
    "duration": 36,
    "start_time": "2021-07-19T21:52:22.691Z"
   },
   {
    "duration": 18,
    "start_time": "2021-07-19T21:52:22.730Z"
   },
   {
    "duration": 155,
    "start_time": "2021-07-19T21:52:22.751Z"
   },
   {
    "duration": 125,
    "start_time": "2021-07-19T21:52:22.908Z"
   },
   {
    "duration": 4,
    "start_time": "2021-07-19T21:52:23.042Z"
   },
   {
    "duration": 8,
    "start_time": "2021-07-19T21:52:23.049Z"
   },
   {
    "duration": 26,
    "start_time": "2021-07-19T21:52:23.059Z"
   },
   {
    "duration": 12,
    "start_time": "2021-07-19T21:52:23.088Z"
   },
   {
    "duration": 6,
    "start_time": "2021-07-19T21:52:23.102Z"
   },
   {
    "duration": 10,
    "start_time": "2021-07-19T21:52:23.110Z"
   },
   {
    "duration": 9,
    "start_time": "2021-07-19T21:52:23.122Z"
   },
   {
    "duration": 50,
    "start_time": "2021-07-19T21:52:23.133Z"
   },
   {
    "duration": 10,
    "start_time": "2021-07-19T21:52:23.186Z"
   },
   {
    "duration": 11,
    "start_time": "2021-07-19T21:52:23.198Z"
   },
   {
    "duration": 8,
    "start_time": "2021-07-19T21:52:23.212Z"
   },
   {
    "duration": 7,
    "start_time": "2021-07-19T21:52:23.223Z"
   },
   {
    "duration": 55,
    "start_time": "2021-07-19T21:52:23.233Z"
   },
   {
    "duration": 13,
    "start_time": "2021-07-19T21:52:23.290Z"
   },
   {
    "duration": 9,
    "start_time": "2021-07-19T21:54:53.830Z"
   },
   {
    "duration": 353,
    "start_time": "2021-07-19T22:00:30.417Z"
   },
   {
    "duration": 1417,
    "start_time": "2021-07-19T22:01:04.941Z"
   },
   {
    "duration": 18,
    "start_time": "2021-07-19T22:01:06.360Z"
   },
   {
    "duration": 20,
    "start_time": "2021-07-19T22:01:06.382Z"
   },
   {
    "duration": 9,
    "start_time": "2021-07-19T22:01:06.406Z"
   },
   {
    "duration": 17,
    "start_time": "2021-07-19T22:01:06.418Z"
   },
   {
    "duration": 10,
    "start_time": "2021-07-19T22:01:06.437Z"
   },
   {
    "duration": 43,
    "start_time": "2021-07-19T22:01:06.449Z"
   },
   {
    "duration": 637,
    "start_time": "2021-07-19T22:01:06.496Z"
   },
   {
    "duration": 45,
    "start_time": "2021-07-19T22:01:07.137Z"
   },
   {
    "duration": 12,
    "start_time": "2021-07-19T22:01:07.184Z"
   },
   {
    "duration": 11,
    "start_time": "2021-07-19T22:01:07.198Z"
   },
   {
    "duration": 11,
    "start_time": "2021-07-19T22:01:07.212Z"
   },
   {
    "duration": 16,
    "start_time": "2021-07-19T22:01:07.226Z"
   },
   {
    "duration": 41,
    "start_time": "2021-07-19T22:01:07.245Z"
   },
   {
    "duration": 9,
    "start_time": "2021-07-19T22:01:07.289Z"
   },
   {
    "duration": 8,
    "start_time": "2021-07-19T22:01:07.301Z"
   },
   {
    "duration": 10,
    "start_time": "2021-07-19T22:01:07.312Z"
   },
   {
    "duration": 10,
    "start_time": "2021-07-19T22:01:07.324Z"
   },
   {
    "duration": 9,
    "start_time": "2021-07-19T22:01:07.336Z"
   },
   {
    "duration": 7,
    "start_time": "2021-07-19T22:01:07.382Z"
   },
   {
    "duration": 25,
    "start_time": "2021-07-19T22:01:07.391Z"
   },
   {
    "duration": 14,
    "start_time": "2021-07-19T22:01:07.418Z"
   },
   {
    "duration": 10,
    "start_time": "2021-07-19T22:01:07.441Z"
   },
   {
    "duration": 411,
    "start_time": "2021-07-19T22:01:07.482Z"
   },
   {
    "duration": 13,
    "start_time": "2021-07-19T22:01:07.896Z"
   },
   {
    "duration": 258,
    "start_time": "2021-07-19T22:01:07.912Z"
   },
   {
    "duration": 17,
    "start_time": "2021-07-19T22:01:08.173Z"
   },
   {
    "duration": 9,
    "start_time": "2021-07-19T22:01:08.193Z"
   },
   {
    "duration": 6,
    "start_time": "2021-07-19T22:01:08.205Z"
   },
   {
    "duration": 16,
    "start_time": "2021-07-19T22:01:08.214Z"
   },
   {
    "duration": 50,
    "start_time": "2021-07-19T22:01:08.233Z"
   },
   {
    "duration": 12,
    "start_time": "2021-07-19T22:01:08.286Z"
   },
   {
    "duration": 9,
    "start_time": "2021-07-19T22:01:08.301Z"
   },
   {
    "duration": 19,
    "start_time": "2021-07-19T22:01:08.312Z"
   },
   {
    "duration": 371,
    "start_time": "2021-07-19T22:01:08.334Z"
   },
   {
    "duration": 346,
    "start_time": "2021-07-19T22:01:08.708Z"
   },
   {
    "duration": 9,
    "start_time": "2021-07-19T22:01:09.056Z"
   },
   {
    "duration": 489,
    "start_time": "2021-07-19T22:01:09.067Z"
   },
   {
    "duration": 5,
    "start_time": "2021-07-19T22:01:09.558Z"
   },
   {
    "duration": 21,
    "start_time": "2021-07-19T22:01:09.565Z"
   },
   {
    "duration": 10,
    "start_time": "2021-07-19T22:01:09.588Z"
   },
   {
    "duration": 346,
    "start_time": "2021-07-19T22:01:09.600Z"
   },
   {
    "duration": 12,
    "start_time": "2021-07-19T22:01:09.949Z"
   },
   {
    "duration": 454,
    "start_time": "2021-07-19T22:01:09.964Z"
   },
   {
    "duration": 25,
    "start_time": "2021-07-19T22:01:10.421Z"
   },
   {
    "duration": 10,
    "start_time": "2021-07-19T22:01:10.449Z"
   },
   {
    "duration": 500,
    "start_time": "2021-07-19T22:01:10.462Z"
   },
   {
    "duration": 18,
    "start_time": "2021-07-19T22:01:10.966Z"
   },
   {
    "duration": 401,
    "start_time": "2021-07-19T22:01:10.987Z"
   },
   {
    "duration": 9,
    "start_time": "2021-07-19T22:01:11.391Z"
   },
   {
    "duration": 11,
    "start_time": "2021-07-19T22:01:11.403Z"
   },
   {
    "duration": 12,
    "start_time": "2021-07-19T22:01:11.417Z"
   },
   {
    "duration": 119,
    "start_time": "2021-07-19T22:01:11.432Z"
   },
   {
    "duration": 99,
    "start_time": "2021-07-19T22:01:11.554Z"
   },
   {
    "duration": 12,
    "start_time": "2021-07-19T22:01:11.655Z"
   },
   {
    "duration": 27,
    "start_time": "2021-07-19T22:01:11.670Z"
   },
   {
    "duration": 3,
    "start_time": "2021-07-19T22:01:11.700Z"
   },
   {
    "duration": 30,
    "start_time": "2021-07-19T22:01:11.706Z"
   },
   {
    "duration": 5,
    "start_time": "2021-07-19T22:01:11.738Z"
   },
   {
    "duration": 126,
    "start_time": "2021-07-19T22:01:11.746Z"
   },
   {
    "duration": 109,
    "start_time": "2021-07-19T22:01:11.882Z"
   },
   {
    "duration": 14,
    "start_time": "2021-07-19T22:01:11.993Z"
   },
   {
    "duration": 35,
    "start_time": "2021-07-19T22:01:12.009Z"
   },
   {
    "duration": 39,
    "start_time": "2021-07-19T22:01:12.047Z"
   },
   {
    "duration": 113,
    "start_time": "2021-07-19T22:01:12.089Z"
   },
   {
    "duration": 124,
    "start_time": "2021-07-19T22:01:12.205Z"
   },
   {
    "duration": 4,
    "start_time": "2021-07-19T22:01:12.332Z"
   },
   {
    "duration": 6,
    "start_time": "2021-07-19T22:01:12.344Z"
   },
   {
    "duration": 8,
    "start_time": "2021-07-19T22:01:12.353Z"
   },
   {
    "duration": 9,
    "start_time": "2021-07-19T22:01:12.383Z"
   },
   {
    "duration": 5,
    "start_time": "2021-07-19T22:01:12.394Z"
   },
   {
    "duration": 10,
    "start_time": "2021-07-19T22:01:12.402Z"
   },
   {
    "duration": 10,
    "start_time": "2021-07-19T22:01:12.414Z"
   },
   {
    "duration": 62,
    "start_time": "2021-07-19T22:01:12.426Z"
   },
   {
    "duration": 12,
    "start_time": "2021-07-19T22:01:12.490Z"
   },
   {
    "duration": 13,
    "start_time": "2021-07-19T22:01:12.504Z"
   },
   {
    "duration": 9,
    "start_time": "2021-07-19T22:01:12.519Z"
   },
   {
    "duration": 5,
    "start_time": "2021-07-19T22:01:12.531Z"
   },
   {
    "duration": 47,
    "start_time": "2021-07-19T22:01:12.538Z"
   },
   {
    "duration": 14,
    "start_time": "2021-07-19T22:01:12.587Z"
   },
   {
    "duration": 1398,
    "start_time": "2021-07-19T22:04:56.841Z"
   },
   {
    "duration": 16,
    "start_time": "2021-07-19T22:04:58.242Z"
   },
   {
    "duration": 24,
    "start_time": "2021-07-19T22:04:58.265Z"
   },
   {
    "duration": 7,
    "start_time": "2021-07-19T22:04:58.291Z"
   },
   {
    "duration": 15,
    "start_time": "2021-07-19T22:04:58.300Z"
   },
   {
    "duration": 15,
    "start_time": "2021-07-19T22:04:58.317Z"
   },
   {
    "duration": 26,
    "start_time": "2021-07-19T22:04:58.336Z"
   },
   {
    "duration": 646,
    "start_time": "2021-07-19T22:04:58.365Z"
   },
   {
    "duration": 44,
    "start_time": "2021-07-19T22:04:59.014Z"
   },
   {
    "duration": 11,
    "start_time": "2021-07-19T22:04:59.060Z"
   },
   {
    "duration": 14,
    "start_time": "2021-07-19T22:04:59.073Z"
   },
   {
    "duration": 13,
    "start_time": "2021-07-19T22:04:59.089Z"
   },
   {
    "duration": 10,
    "start_time": "2021-07-19T22:04:59.105Z"
   },
   {
    "duration": 15,
    "start_time": "2021-07-19T22:04:59.117Z"
   },
   {
    "duration": 11,
    "start_time": "2021-07-19T22:04:59.134Z"
   },
   {
    "duration": 10,
    "start_time": "2021-07-19T22:04:59.147Z"
   },
   {
    "duration": 23,
    "start_time": "2021-07-19T22:04:59.159Z"
   },
   {
    "duration": 5,
    "start_time": "2021-07-19T22:04:59.184Z"
   },
   {
    "duration": 10,
    "start_time": "2021-07-19T22:04:59.192Z"
   },
   {
    "duration": 9,
    "start_time": "2021-07-19T22:04:59.204Z"
   },
   {
    "duration": 8,
    "start_time": "2021-07-19T22:04:59.215Z"
   },
   {
    "duration": 10,
    "start_time": "2021-07-19T22:04:59.229Z"
   },
   {
    "duration": 42,
    "start_time": "2021-07-19T22:04:59.242Z"
   },
   {
    "duration": 12,
    "start_time": "2021-07-19T22:04:59.287Z"
   },
   {
    "duration": 338,
    "start_time": "2021-07-19T22:04:59.301Z"
   },
   {
    "duration": 10,
    "start_time": "2021-07-19T22:04:59.642Z"
   },
   {
    "duration": 276,
    "start_time": "2021-07-19T22:04:59.654Z"
   },
   {
    "duration": 21,
    "start_time": "2021-07-19T22:04:59.932Z"
   },
   {
    "duration": 14,
    "start_time": "2021-07-19T22:04:59.955Z"
   },
   {
    "duration": 13,
    "start_time": "2021-07-19T22:04:59.971Z"
   },
   {
    "duration": 21,
    "start_time": "2021-07-19T22:04:59.986Z"
   },
   {
    "duration": 16,
    "start_time": "2021-07-19T22:05:00.009Z"
   },
   {
    "duration": 23,
    "start_time": "2021-07-19T22:05:00.028Z"
   },
   {
    "duration": 30,
    "start_time": "2021-07-19T22:05:00.054Z"
   },
   {
    "duration": 22,
    "start_time": "2021-07-19T22:05:00.087Z"
   },
   {
    "duration": 386,
    "start_time": "2021-07-19T22:05:00.112Z"
   },
   {
    "duration": 353,
    "start_time": "2021-07-19T22:05:00.502Z"
   },
   {
    "duration": 9,
    "start_time": "2021-07-19T22:05:00.857Z"
   },
   {
    "duration": 501,
    "start_time": "2021-07-19T22:05:00.869Z"
   },
   {
    "duration": 10,
    "start_time": "2021-07-19T22:05:01.372Z"
   },
   {
    "duration": 21,
    "start_time": "2021-07-19T22:05:01.385Z"
   },
   {
    "duration": 18,
    "start_time": "2021-07-19T22:05:01.408Z"
   },
   {
    "duration": 356,
    "start_time": "2021-07-19T22:05:01.429Z"
   },
   {
    "duration": 11,
    "start_time": "2021-07-19T22:05:01.787Z"
   },
   {
    "duration": 414,
    "start_time": "2021-07-19T22:05:01.801Z"
   },
   {
    "duration": 23,
    "start_time": "2021-07-19T22:05:02.217Z"
   },
   {
    "duration": 13,
    "start_time": "2021-07-19T22:05:02.242Z"
   },
   {
    "duration": 477,
    "start_time": "2021-07-19T22:05:02.257Z"
   },
   {
    "duration": 7,
    "start_time": "2021-07-19T22:05:02.736Z"
   },
   {
    "duration": 437,
    "start_time": "2021-07-19T22:05:02.745Z"
   },
   {
    "duration": 7,
    "start_time": "2021-07-19T22:05:03.185Z"
   },
   {
    "duration": 12,
    "start_time": "2021-07-19T22:05:03.194Z"
   },
   {
    "duration": 12,
    "start_time": "2021-07-19T22:05:03.208Z"
   },
   {
    "duration": 104,
    "start_time": "2021-07-19T22:05:03.222Z"
   },
   {
    "duration": 88,
    "start_time": "2021-07-19T22:05:03.329Z"
   },
   {
    "duration": 11,
    "start_time": "2021-07-19T22:05:03.420Z"
   },
   {
    "duration": 24,
    "start_time": "2021-07-19T22:05:03.434Z"
   },
   {
    "duration": 4,
    "start_time": "2021-07-19T22:05:03.460Z"
   },
   {
    "duration": 34,
    "start_time": "2021-07-19T22:05:03.466Z"
   },
   {
    "duration": 5,
    "start_time": "2021-07-19T22:05:03.502Z"
   },
   {
    "duration": 120,
    "start_time": "2021-07-19T22:05:03.509Z"
   },
   {
    "duration": 108,
    "start_time": "2021-07-19T22:05:03.632Z"
   },
   {
    "duration": 13,
    "start_time": "2021-07-19T22:05:03.743Z"
   },
   {
    "duration": 45,
    "start_time": "2021-07-19T22:05:03.759Z"
   },
   {
    "duration": 18,
    "start_time": "2021-07-19T22:05:03.806Z"
   },
   {
    "duration": 113,
    "start_time": "2021-07-19T22:05:03.826Z"
   },
   {
    "duration": 118,
    "start_time": "2021-07-19T22:05:03.947Z"
   },
   {
    "duration": 14,
    "start_time": "2021-07-19T22:05:04.068Z"
   },
   {
    "duration": 12,
    "start_time": "2021-07-19T22:05:04.085Z"
   },
   {
    "duration": 22,
    "start_time": "2021-07-19T22:05:04.099Z"
   },
   {
    "duration": 32,
    "start_time": "2021-07-19T22:05:04.123Z"
   },
   {
    "duration": 8,
    "start_time": "2021-07-19T22:05:04.157Z"
   },
   {
    "duration": 18,
    "start_time": "2021-07-19T22:05:04.168Z"
   },
   {
    "duration": 20,
    "start_time": "2021-07-19T22:05:04.189Z"
   },
   {
    "duration": 15,
    "start_time": "2021-07-19T22:05:04.212Z"
   },
   {
    "duration": 14,
    "start_time": "2021-07-19T22:05:04.229Z"
   },
   {
    "duration": 13,
    "start_time": "2021-07-19T22:05:04.245Z"
   },
   {
    "duration": 12,
    "start_time": "2021-07-19T22:05:04.260Z"
   },
   {
    "duration": 6,
    "start_time": "2021-07-19T22:05:04.283Z"
   },
   {
    "duration": 19,
    "start_time": "2021-07-19T22:05:04.291Z"
   },
   {
    "duration": 12,
    "start_time": "2021-07-19T22:05:04.313Z"
   },
   {
    "duration": 116,
    "start_time": "2021-07-19T22:05:04.328Z"
   },
   {
    "duration": 8,
    "start_time": "2021-07-19T22:05:16.941Z"
   },
   {
    "duration": 8,
    "start_time": "2021-07-19T22:05:27.776Z"
   },
   {
    "duration": 8,
    "start_time": "2021-07-19T22:05:32.432Z"
   },
   {
    "duration": 8,
    "start_time": "2021-07-19T22:05:45.097Z"
   },
   {
    "duration": 345,
    "start_time": "2021-07-19T22:06:06.085Z"
   },
   {
    "duration": 1406,
    "start_time": "2021-07-19T22:09:31.737Z"
   },
   {
    "duration": 17,
    "start_time": "2021-07-19T22:09:33.146Z"
   },
   {
    "duration": 19,
    "start_time": "2021-07-19T22:09:33.165Z"
   },
   {
    "duration": 5,
    "start_time": "2021-07-19T22:09:33.187Z"
   },
   {
    "duration": 16,
    "start_time": "2021-07-19T22:09:33.195Z"
   },
   {
    "duration": 10,
    "start_time": "2021-07-19T22:09:33.213Z"
   },
   {
    "duration": 16,
    "start_time": "2021-07-19T22:09:33.226Z"
   },
   {
    "duration": 658,
    "start_time": "2021-07-19T22:09:33.284Z"
   },
   {
    "duration": 46,
    "start_time": "2021-07-19T22:09:33.947Z"
   },
   {
    "duration": 12,
    "start_time": "2021-07-19T22:09:33.995Z"
   },
   {
    "duration": 11,
    "start_time": "2021-07-19T22:09:34.009Z"
   },
   {
    "duration": 14,
    "start_time": "2021-07-19T22:09:34.023Z"
   },
   {
    "duration": 13,
    "start_time": "2021-07-19T22:09:34.039Z"
   },
   {
    "duration": 33,
    "start_time": "2021-07-19T22:09:34.054Z"
   },
   {
    "duration": 15,
    "start_time": "2021-07-19T22:09:34.090Z"
   },
   {
    "duration": 10,
    "start_time": "2021-07-19T22:09:34.107Z"
   },
   {
    "duration": 10,
    "start_time": "2021-07-19T22:09:34.119Z"
   },
   {
    "duration": 10,
    "start_time": "2021-07-19T22:09:34.131Z"
   },
   {
    "duration": 8,
    "start_time": "2021-07-19T22:09:34.143Z"
   },
   {
    "duration": 7,
    "start_time": "2021-07-19T22:09:34.182Z"
   },
   {
    "duration": 9,
    "start_time": "2021-07-19T22:09:34.191Z"
   },
   {
    "duration": 12,
    "start_time": "2021-07-19T22:09:34.202Z"
   },
   {
    "duration": 9,
    "start_time": "2021-07-19T22:09:34.220Z"
   },
   {
    "duration": 467,
    "start_time": "2021-07-19T22:09:34.233Z"
   },
   {
    "duration": 11,
    "start_time": "2021-07-19T22:09:34.702Z"
   },
   {
    "duration": 276,
    "start_time": "2021-07-19T22:09:34.715Z"
   },
   {
    "duration": 28,
    "start_time": "2021-07-19T22:09:34.993Z"
   },
   {
    "duration": 17,
    "start_time": "2021-07-19T22:09:35.023Z"
   },
   {
    "duration": 17,
    "start_time": "2021-07-19T22:09:35.043Z"
   },
   {
    "duration": 16,
    "start_time": "2021-07-19T22:09:35.062Z"
   },
   {
    "duration": 14,
    "start_time": "2021-07-19T22:09:35.081Z"
   },
   {
    "duration": 13,
    "start_time": "2021-07-19T22:09:35.097Z"
   },
   {
    "duration": 12,
    "start_time": "2021-07-19T22:09:35.112Z"
   },
   {
    "duration": 12,
    "start_time": "2021-07-19T22:09:35.126Z"
   },
   {
    "duration": 342,
    "start_time": "2021-07-19T22:09:35.140Z"
   },
   {
    "duration": 506,
    "start_time": "2021-07-19T22:09:35.485Z"
   },
   {
    "duration": 10,
    "start_time": "2021-07-19T22:09:35.993Z"
   },
   {
    "duration": 606,
    "start_time": "2021-07-19T22:09:36.006Z"
   },
   {
    "duration": 5,
    "start_time": "2021-07-19T22:09:36.615Z"
   },
   {
    "duration": 11,
    "start_time": "2021-07-19T22:09:36.622Z"
   },
   {
    "duration": 12,
    "start_time": "2021-07-19T22:09:36.636Z"
   },
   {
    "duration": 338,
    "start_time": "2021-07-19T22:09:36.651Z"
   },
   {
    "duration": 13,
    "start_time": "2021-07-19T22:09:36.991Z"
   },
   {
    "duration": 385,
    "start_time": "2021-07-19T22:09:37.006Z"
   },
   {
    "duration": 25,
    "start_time": "2021-07-19T22:09:37.394Z"
   },
   {
    "duration": 13,
    "start_time": "2021-07-19T22:09:37.421Z"
   },
   {
    "duration": 458,
    "start_time": "2021-07-19T22:09:37.436Z"
   },
   {
    "duration": 7,
    "start_time": "2021-07-19T22:09:37.897Z"
   },
   {
    "duration": 388,
    "start_time": "2021-07-19T22:09:37.907Z"
   },
   {
    "duration": 6,
    "start_time": "2021-07-19T22:09:38.298Z"
   },
   {
    "duration": 12,
    "start_time": "2021-07-19T22:09:38.306Z"
   },
   {
    "duration": 13,
    "start_time": "2021-07-19T22:09:38.320Z"
   },
   {
    "duration": 110,
    "start_time": "2021-07-19T22:09:38.335Z"
   },
   {
    "duration": 89,
    "start_time": "2021-07-19T22:09:38.448Z"
   },
   {
    "duration": 9,
    "start_time": "2021-07-19T22:09:38.539Z"
   },
   {
    "duration": 43,
    "start_time": "2021-07-19T22:09:38.550Z"
   },
   {
    "duration": 4,
    "start_time": "2021-07-19T22:09:38.595Z"
   },
   {
    "duration": 23,
    "start_time": "2021-07-19T22:09:38.601Z"
   },
   {
    "duration": 3,
    "start_time": "2021-07-19T22:09:38.626Z"
   },
   {
    "duration": 120,
    "start_time": "2021-07-19T22:09:38.632Z"
   },
   {
    "duration": 110,
    "start_time": "2021-07-19T22:09:38.755Z"
   },
   {
    "duration": 15,
    "start_time": "2021-07-19T22:09:38.868Z"
   },
   {
    "duration": 35,
    "start_time": "2021-07-19T22:09:38.885Z"
   },
   {
    "duration": 18,
    "start_time": "2021-07-19T22:09:38.922Z"
   },
   {
    "duration": 141,
    "start_time": "2021-07-19T22:09:38.942Z"
   },
   {
    "duration": 154,
    "start_time": "2021-07-19T22:09:39.085Z"
   },
   {
    "duration": 4,
    "start_time": "2021-07-19T22:09:39.241Z"
   },
   {
    "duration": 6,
    "start_time": "2021-07-19T22:09:39.253Z"
   },
   {
    "duration": 6,
    "start_time": "2021-07-19T22:09:39.284Z"
   },
   {
    "duration": 12,
    "start_time": "2021-07-19T22:09:39.293Z"
   },
   {
    "duration": 10,
    "start_time": "2021-07-19T22:09:39.308Z"
   },
   {
    "duration": 11,
    "start_time": "2021-07-19T22:09:39.320Z"
   },
   {
    "duration": 55,
    "start_time": "2021-07-19T22:09:39.333Z"
   },
   {
    "duration": 12,
    "start_time": "2021-07-19T22:09:39.390Z"
   },
   {
    "duration": 11,
    "start_time": "2021-07-19T22:09:39.405Z"
   },
   {
    "duration": 13,
    "start_time": "2021-07-19T22:09:39.419Z"
   },
   {
    "duration": 16,
    "start_time": "2021-07-19T22:09:39.434Z"
   },
   {
    "duration": 34,
    "start_time": "2021-07-19T22:09:39.452Z"
   },
   {
    "duration": 15,
    "start_time": "2021-07-19T22:09:39.489Z"
   },
   {
    "duration": 11,
    "start_time": "2021-07-19T22:09:39.507Z"
   },
   {
    "duration": 1003,
    "start_time": "2021-07-20T07:13:06.425Z"
   },
   {
    "duration": 18,
    "start_time": "2021-07-20T07:13:07.429Z"
   },
   {
    "duration": 11,
    "start_time": "2021-07-20T07:13:07.450Z"
   },
   {
    "duration": 6,
    "start_time": "2021-07-20T07:13:07.462Z"
   },
   {
    "duration": 20,
    "start_time": "2021-07-20T07:13:07.469Z"
   },
   {
    "duration": 4,
    "start_time": "2021-07-20T07:13:07.491Z"
   },
   {
    "duration": 10,
    "start_time": "2021-07-20T07:13:07.497Z"
   },
   {
    "duration": 709,
    "start_time": "2021-07-20T07:13:07.509Z"
   },
   {
    "duration": 56,
    "start_time": "2021-07-20T07:13:08.220Z"
   },
   {
    "duration": 9,
    "start_time": "2021-07-20T07:13:08.278Z"
   },
   {
    "duration": 7,
    "start_time": "2021-07-20T07:13:08.289Z"
   },
   {
    "duration": 9,
    "start_time": "2021-07-20T07:13:08.298Z"
   },
   {
    "duration": 8,
    "start_time": "2021-07-20T07:13:08.309Z"
   },
   {
    "duration": 9,
    "start_time": "2021-07-20T07:13:08.318Z"
   },
   {
    "duration": 8,
    "start_time": "2021-07-20T07:13:08.329Z"
   },
   {
    "duration": 5,
    "start_time": "2021-07-20T07:13:08.338Z"
   },
   {
    "duration": 42,
    "start_time": "2021-07-20T07:13:08.345Z"
   },
   {
    "duration": 6,
    "start_time": "2021-07-20T07:13:08.389Z"
   },
   {
    "duration": 4,
    "start_time": "2021-07-20T07:13:08.397Z"
   },
   {
    "duration": 6,
    "start_time": "2021-07-20T07:13:08.403Z"
   },
   {
    "duration": 6,
    "start_time": "2021-07-20T07:13:08.410Z"
   },
   {
    "duration": 4,
    "start_time": "2021-07-20T07:13:08.421Z"
   },
   {
    "duration": 6,
    "start_time": "2021-07-20T07:13:08.428Z"
   },
   {
    "duration": 223,
    "start_time": "2021-07-20T07:13:08.436Z"
   },
   {
    "duration": 7,
    "start_time": "2021-07-20T07:13:08.661Z"
   },
   {
    "duration": 152,
    "start_time": "2021-07-20T07:13:08.670Z"
   },
   {
    "duration": 7,
    "start_time": "2021-07-20T07:13:08.823Z"
   },
   {
    "duration": 23,
    "start_time": "2021-07-20T07:13:08.832Z"
   },
   {
    "duration": 12,
    "start_time": "2021-07-20T07:13:08.857Z"
   },
   {
    "duration": 18,
    "start_time": "2021-07-20T07:13:08.870Z"
   },
   {
    "duration": 13,
    "start_time": "2021-07-20T07:13:08.890Z"
   },
   {
    "duration": 13,
    "start_time": "2021-07-20T07:13:08.904Z"
   },
   {
    "duration": 13,
    "start_time": "2021-07-20T07:13:08.919Z"
   },
   {
    "duration": 13,
    "start_time": "2021-07-20T07:13:08.933Z"
   },
   {
    "duration": 219,
    "start_time": "2021-07-20T07:13:08.948Z"
   },
   {
    "duration": 224,
    "start_time": "2021-07-20T07:13:09.169Z"
   },
   {
    "duration": 5,
    "start_time": "2021-07-20T07:13:09.395Z"
   },
   {
    "duration": 363,
    "start_time": "2021-07-20T07:13:09.402Z"
   },
   {
    "duration": 4,
    "start_time": "2021-07-20T07:13:09.767Z"
   },
   {
    "duration": 12,
    "start_time": "2021-07-20T07:13:09.772Z"
   },
   {
    "duration": 3,
    "start_time": "2021-07-20T07:13:09.786Z"
   },
   {
    "duration": 212,
    "start_time": "2021-07-20T07:13:09.791Z"
   },
   {
    "duration": 8,
    "start_time": "2021-07-20T07:13:10.005Z"
   },
   {
    "duration": 301,
    "start_time": "2021-07-20T07:13:10.015Z"
   },
   {
    "duration": 13,
    "start_time": "2021-07-20T07:13:10.318Z"
   },
   {
    "duration": 7,
    "start_time": "2021-07-20T07:13:10.332Z"
   },
   {
    "duration": 355,
    "start_time": "2021-07-20T07:13:10.341Z"
   },
   {
    "duration": 4,
    "start_time": "2021-07-20T07:13:10.698Z"
   },
   {
    "duration": 291,
    "start_time": "2021-07-20T07:13:10.703Z"
   },
   {
    "duration": 6,
    "start_time": "2021-07-20T07:13:10.995Z"
   },
   {
    "duration": 10,
    "start_time": "2021-07-20T07:13:11.002Z"
   },
   {
    "duration": 10,
    "start_time": "2021-07-20T07:13:11.013Z"
   },
   {
    "duration": 62,
    "start_time": "2021-07-20T07:13:11.024Z"
   },
   {
    "duration": 49,
    "start_time": "2021-07-20T07:13:11.088Z"
   },
   {
    "duration": 5,
    "start_time": "2021-07-20T07:13:11.139Z"
   },
   {
    "duration": 13,
    "start_time": "2021-07-20T07:13:11.146Z"
   },
   {
    "duration": 3,
    "start_time": "2021-07-20T07:13:11.160Z"
   },
   {
    "duration": 27,
    "start_time": "2021-07-20T07:13:11.165Z"
   },
   {
    "duration": 2,
    "start_time": "2021-07-20T07:13:11.194Z"
   },
   {
    "duration": 63,
    "start_time": "2021-07-20T07:13:11.198Z"
   },
   {
    "duration": 72,
    "start_time": "2021-07-20T07:13:11.262Z"
   },
   {
    "duration": 5,
    "start_time": "2021-07-20T07:13:11.336Z"
   },
   {
    "duration": 21,
    "start_time": "2021-07-20T07:13:11.342Z"
   },
   {
    "duration": 27,
    "start_time": "2021-07-20T07:13:11.364Z"
   },
   {
    "duration": 53,
    "start_time": "2021-07-20T07:13:11.393Z"
   },
   {
    "duration": 73,
    "start_time": "2021-07-20T07:13:11.448Z"
   },
   {
    "duration": 3,
    "start_time": "2021-07-20T07:13:11.525Z"
   },
   {
    "duration": 5,
    "start_time": "2021-07-20T07:13:11.530Z"
   },
   {
    "duration": 8,
    "start_time": "2021-07-20T07:13:11.536Z"
   },
   {
    "duration": 10,
    "start_time": "2021-07-20T07:13:11.546Z"
   },
   {
    "duration": 4,
    "start_time": "2021-07-20T07:13:11.557Z"
   },
   {
    "duration": 24,
    "start_time": "2021-07-20T07:13:11.563Z"
   },
   {
    "duration": 6,
    "start_time": "2021-07-20T07:13:11.589Z"
   },
   {
    "duration": 7,
    "start_time": "2021-07-20T07:13:11.596Z"
   },
   {
    "duration": 6,
    "start_time": "2021-07-20T07:13:11.605Z"
   },
   {
    "duration": 8,
    "start_time": "2021-07-20T07:13:11.612Z"
   },
   {
    "duration": 7,
    "start_time": "2021-07-20T07:13:11.621Z"
   },
   {
    "duration": 4,
    "start_time": "2021-07-20T07:13:11.630Z"
   },
   {
    "duration": 8,
    "start_time": "2021-07-20T07:13:11.635Z"
   },
   {
    "duration": 45,
    "start_time": "2021-07-20T07:13:11.645Z"
   },
   {
    "duration": 300,
    "start_time": "2021-07-20T15:41:44.145Z"
   },
   {
    "duration": 1036,
    "start_time": "2021-07-20T15:41:57.166Z"
   },
   {
    "duration": 17,
    "start_time": "2021-07-20T15:41:58.204Z"
   },
   {
    "duration": 12,
    "start_time": "2021-07-20T15:41:58.225Z"
   },
   {
    "duration": 5,
    "start_time": "2021-07-20T15:41:58.238Z"
   },
   {
    "duration": 9,
    "start_time": "2021-07-20T15:41:58.245Z"
   },
   {
    "duration": 6,
    "start_time": "2021-07-20T15:41:58.255Z"
   },
   {
    "duration": 11,
    "start_time": "2021-07-20T15:41:58.262Z"
   },
   {
    "duration": 1335,
    "start_time": "2021-07-20T15:41:58.277Z"
   },
   {
    "duration": 60,
    "start_time": "2021-07-20T15:41:59.614Z"
   },
   {
    "duration": 8,
    "start_time": "2021-07-20T15:41:59.675Z"
   },
   {
    "duration": 8,
    "start_time": "2021-07-20T15:41:59.685Z"
   },
   {
    "duration": 14,
    "start_time": "2021-07-20T15:41:59.694Z"
   },
   {
    "duration": 8,
    "start_time": "2021-07-20T15:41:59.709Z"
   },
   {
    "duration": 12,
    "start_time": "2021-07-20T15:41:59.719Z"
   },
   {
    "duration": 10,
    "start_time": "2021-07-20T15:41:59.733Z"
   },
   {
    "duration": 5,
    "start_time": "2021-07-20T15:41:59.745Z"
   },
   {
    "duration": 3,
    "start_time": "2021-07-20T15:41:59.752Z"
   },
   {
    "duration": 7,
    "start_time": "2021-07-20T15:41:59.757Z"
   },
   {
    "duration": 6,
    "start_time": "2021-07-20T15:41:59.765Z"
   },
   {
    "duration": 5,
    "start_time": "2021-07-20T15:41:59.773Z"
   },
   {
    "duration": 5,
    "start_time": "2021-07-20T15:41:59.780Z"
   },
   {
    "duration": 7,
    "start_time": "2021-07-20T15:41:59.786Z"
   },
   {
    "duration": 7,
    "start_time": "2021-07-20T15:41:59.795Z"
   },
   {
    "duration": 42,
    "start_time": "2021-07-20T15:41:59.804Z"
   },
   {
    "duration": 220,
    "start_time": "2021-07-20T15:41:59.847Z"
   },
   {
    "duration": 8,
    "start_time": "2021-07-20T15:42:00.072Z"
   },
   {
    "duration": 158,
    "start_time": "2021-07-20T15:42:00.083Z"
   },
   {
    "duration": 7,
    "start_time": "2021-07-20T15:42:00.243Z"
   },
   {
    "duration": 11,
    "start_time": "2021-07-20T15:42:00.251Z"
   },
   {
    "duration": 10,
    "start_time": "2021-07-20T15:42:00.263Z"
   },
   {
    "duration": 10,
    "start_time": "2021-07-20T15:42:00.276Z"
   },
   {
    "duration": 5,
    "start_time": "2021-07-20T15:42:00.288Z"
   },
   {
    "duration": 10,
    "start_time": "2021-07-20T15:42:00.294Z"
   },
   {
    "duration": 9,
    "start_time": "2021-07-20T15:42:00.306Z"
   },
   {
    "duration": 24,
    "start_time": "2021-07-20T15:42:00.317Z"
   },
   {
    "duration": 313,
    "start_time": "2021-07-20T15:42:00.343Z"
   },
   {
    "duration": 223,
    "start_time": "2021-07-20T15:42:00.658Z"
   },
   {
    "duration": 6,
    "start_time": "2021-07-20T15:42:00.883Z"
   },
   {
    "duration": 385,
    "start_time": "2021-07-20T15:42:00.891Z"
   },
   {
    "duration": 4,
    "start_time": "2021-07-20T15:42:01.277Z"
   },
   {
    "duration": 9,
    "start_time": "2021-07-20T15:42:01.282Z"
   },
   {
    "duration": 10,
    "start_time": "2021-07-20T15:42:01.293Z"
   },
   {
    "duration": 199,
    "start_time": "2021-07-20T15:42:01.304Z"
   },
   {
    "duration": 7,
    "start_time": "2021-07-20T15:42:01.504Z"
   },
   {
    "duration": 309,
    "start_time": "2021-07-20T15:42:01.513Z"
   },
   {
    "duration": 23,
    "start_time": "2021-07-20T15:42:01.824Z"
   },
   {
    "duration": 10,
    "start_time": "2021-07-20T15:42:01.849Z"
   },
   {
    "duration": 366,
    "start_time": "2021-07-20T15:42:01.861Z"
   },
   {
    "duration": 13,
    "start_time": "2021-07-20T15:42:02.228Z"
   },
   {
    "duration": 286,
    "start_time": "2021-07-20T15:42:02.243Z"
   },
   {
    "duration": 12,
    "start_time": "2021-07-20T15:42:02.530Z"
   },
   {
    "duration": 8,
    "start_time": "2021-07-20T15:42:02.543Z"
   },
   {
    "duration": 10,
    "start_time": "2021-07-20T15:42:02.553Z"
   },
   {
    "duration": 52,
    "start_time": "2021-07-20T15:42:02.565Z"
   },
   {
    "duration": 50,
    "start_time": "2021-07-20T15:42:02.619Z"
   },
   {
    "duration": 6,
    "start_time": "2021-07-20T15:42:02.670Z"
   },
   {
    "duration": 14,
    "start_time": "2021-07-20T15:42:02.677Z"
   },
   {
    "duration": 2,
    "start_time": "2021-07-20T15:42:02.693Z"
   },
   {
    "duration": 15,
    "start_time": "2021-07-20T15:42:02.697Z"
   },
   {
    "duration": 3,
    "start_time": "2021-07-20T15:42:02.713Z"
   },
   {
    "duration": 72,
    "start_time": "2021-07-20T15:42:02.717Z"
   },
   {
    "duration": 63,
    "start_time": "2021-07-20T15:42:02.791Z"
   },
   {
    "duration": 5,
    "start_time": "2021-07-20T15:42:02.856Z"
   },
   {
    "duration": 22,
    "start_time": "2021-07-20T15:42:02.862Z"
   },
   {
    "duration": 11,
    "start_time": "2021-07-20T15:42:02.886Z"
   },
   {
    "duration": 69,
    "start_time": "2021-07-20T15:42:02.898Z"
   },
   {
    "duration": 60,
    "start_time": "2021-07-20T15:42:02.968Z"
   },
   {
    "duration": 3,
    "start_time": "2021-07-20T15:42:03.041Z"
   },
   {
    "duration": 8,
    "start_time": "2021-07-20T15:42:03.045Z"
   },
   {
    "duration": 15,
    "start_time": "2021-07-20T15:42:03.055Z"
   },
   {
    "duration": 20,
    "start_time": "2021-07-20T15:42:03.071Z"
   },
   {
    "duration": 12,
    "start_time": "2021-07-20T15:42:03.092Z"
   },
   {
    "duration": 13,
    "start_time": "2021-07-20T15:42:03.106Z"
   },
   {
    "duration": 29,
    "start_time": "2021-07-20T15:42:03.121Z"
   },
   {
    "duration": 17,
    "start_time": "2021-07-20T15:42:03.152Z"
   },
   {
    "duration": 18,
    "start_time": "2021-07-20T15:42:03.171Z"
   },
   {
    "duration": 19,
    "start_time": "2021-07-20T15:42:03.191Z"
   },
   {
    "duration": 21,
    "start_time": "2021-07-20T15:42:03.212Z"
   },
   {
    "duration": 15,
    "start_time": "2021-07-20T15:42:03.234Z"
   },
   {
    "duration": 18,
    "start_time": "2021-07-20T15:42:03.254Z"
   },
   {
    "duration": 33,
    "start_time": "2021-07-20T15:42:03.274Z"
   },
   {
    "duration": 4,
    "start_time": "2021-07-20T15:56:55.456Z"
   },
   {
    "duration": 356,
    "start_time": "2021-07-20T15:57:13.406Z"
   },
   {
    "duration": 492,
    "start_time": "2021-07-20T15:57:49.787Z"
   },
   {
    "duration": 7,
    "start_time": "2021-07-20T15:58:18.973Z"
   },
   {
    "duration": 8,
    "start_time": "2021-07-20T15:58:21.826Z"
   },
   {
    "duration": 296,
    "start_time": "2021-07-20T15:58:54.510Z"
   },
   {
    "duration": 286,
    "start_time": "2021-07-20T15:59:08.397Z"
   },
   {
    "duration": 7,
    "start_time": "2021-07-20T15:59:18.477Z"
   },
   {
    "duration": 8,
    "start_time": "2021-07-20T15:59:20.475Z"
   },
   {
    "duration": 6,
    "start_time": "2021-07-20T15:59:55.540Z"
   },
   {
    "duration": 4,
    "start_time": "2021-07-20T16:13:44.293Z"
   },
   {
    "duration": 5,
    "start_time": "2021-07-20T16:13:53.993Z"
   },
   {
    "duration": 5,
    "start_time": "2021-07-20T16:14:22.419Z"
   },
   {
    "duration": 8,
    "start_time": "2021-07-20T16:14:24.034Z"
   },
   {
    "duration": 7,
    "start_time": "2021-07-20T16:15:17.711Z"
   },
   {
    "duration": 6,
    "start_time": "2021-07-20T16:15:27.145Z"
   },
   {
    "duration": 4,
    "start_time": "2021-07-20T16:15:40.851Z"
   },
   {
    "duration": 4,
    "start_time": "2021-07-20T16:15:49.522Z"
   },
   {
    "duration": 6793,
    "start_time": "2021-07-20T16:16:11.763Z"
   },
   {
    "duration": 6999,
    "start_time": "2021-07-20T16:17:09.187Z"
   },
   {
    "duration": 6529,
    "start_time": "2021-07-20T16:17:24.429Z"
   },
   {
    "duration": 6969,
    "start_time": "2021-07-20T16:18:32.093Z"
   },
   {
    "duration": 4,
    "start_time": "2021-07-20T16:18:59.232Z"
   },
   {
    "duration": 5,
    "start_time": "2021-07-20T16:19:06.577Z"
   },
   {
    "duration": 8,
    "start_time": "2021-07-20T16:19:07.569Z"
   },
   {
    "duration": 6,
    "start_time": "2021-07-20T16:19:26.258Z"
   },
   {
    "duration": 8,
    "start_time": "2021-07-20T16:19:40.290Z"
   },
   {
    "duration": 8,
    "start_time": "2021-07-20T16:21:49.577Z"
   },
   {
    "duration": 11,
    "start_time": "2021-07-20T16:21:57.993Z"
   },
   {
    "duration": 6,
    "start_time": "2021-07-20T16:22:40.982Z"
   },
   {
    "duration": 8,
    "start_time": "2021-07-20T16:22:49.109Z"
   },
   {
    "duration": 7180,
    "start_time": "2021-07-20T16:23:25.061Z"
   },
   {
    "duration": 4,
    "start_time": "2021-07-20T16:23:44.550Z"
   },
   {
    "duration": 4,
    "start_time": "2021-07-20T16:23:52.716Z"
   },
   {
    "duration": 4,
    "start_time": "2021-07-20T16:24:12.779Z"
   },
   {
    "duration": 276,
    "start_time": "2021-07-20T16:27:09.024Z"
   },
   {
    "duration": 7,
    "start_time": "2021-07-20T16:27:12.166Z"
   },
   {
    "duration": 5,
    "start_time": "2021-07-20T16:27:14.290Z"
   },
   {
    "duration": 13,
    "start_time": "2021-07-20T16:27:20.600Z"
   },
   {
    "duration": 5,
    "start_time": "2021-07-20T16:27:44.400Z"
   },
   {
    "duration": 4,
    "start_time": "2021-07-20T16:28:11.621Z"
   },
   {
    "duration": 255,
    "start_time": "2021-07-20T16:28:51.981Z"
   },
   {
    "duration": 3,
    "start_time": "2021-07-20T16:28:57.835Z"
   },
   {
    "duration": 5,
    "start_time": "2021-07-20T16:29:04.508Z"
   },
   {
    "duration": 5,
    "start_time": "2021-07-20T16:30:07.918Z"
   },
   {
    "duration": 12,
    "start_time": "2021-07-20T16:30:14.314Z"
   },
   {
    "duration": 4,
    "start_time": "2021-07-20T16:30:28.011Z"
   },
   {
    "duration": 267,
    "start_time": "2021-07-20T16:30:50.302Z"
   },
   {
    "duration": 287,
    "start_time": "2021-07-20T16:30:57.851Z"
   },
   {
    "duration": 6,
    "start_time": "2021-07-20T16:31:05.571Z"
   },
   {
    "duration": 4,
    "start_time": "2021-07-20T16:31:30.995Z"
   },
   {
    "duration": 7,
    "start_time": "2021-07-20T16:31:59.804Z"
   },
   {
    "duration": 8,
    "start_time": "2021-07-20T16:32:33.019Z"
   },
   {
    "duration": 8,
    "start_time": "2021-07-20T16:32:43.172Z"
   },
   {
    "duration": 8,
    "start_time": "2021-07-20T16:32:51.880Z"
   },
   {
    "duration": 9,
    "start_time": "2021-07-20T16:33:00.777Z"
   },
   {
    "duration": 8,
    "start_time": "2021-07-20T16:33:09.785Z"
   },
   {
    "duration": 7,
    "start_time": "2021-07-20T16:36:44.774Z"
   },
   {
    "duration": 4,
    "start_time": "2021-07-20T16:57:35.372Z"
   },
   {
    "duration": 4,
    "start_time": "2021-07-20T16:57:45.820Z"
   },
   {
    "duration": 5,
    "start_time": "2021-07-20T16:57:50.898Z"
   },
   {
    "duration": 3,
    "start_time": "2021-07-20T16:58:05.468Z"
   },
   {
    "duration": 5,
    "start_time": "2021-07-20T16:58:09.106Z"
   },
   {
    "duration": 6,
    "start_time": "2021-07-20T16:58:10.997Z"
   },
   {
    "duration": 4,
    "start_time": "2021-07-20T16:58:11.594Z"
   },
   {
    "duration": 4,
    "start_time": "2021-07-20T16:58:12.140Z"
   },
   {
    "duration": 12,
    "start_time": "2021-07-20T16:58:35.516Z"
   },
   {
    "duration": 1127,
    "start_time": "2021-07-20T17:00:24.974Z"
   },
   {
    "duration": 17,
    "start_time": "2021-07-20T17:00:26.103Z"
   },
   {
    "duration": 15,
    "start_time": "2021-07-20T17:00:26.122Z"
   },
   {
    "duration": 18,
    "start_time": "2021-07-20T17:00:26.139Z"
   },
   {
    "duration": 22,
    "start_time": "2021-07-20T17:00:26.158Z"
   },
   {
    "duration": 21,
    "start_time": "2021-07-20T17:00:26.182Z"
   },
   {
    "duration": 27,
    "start_time": "2021-07-20T17:00:26.204Z"
   },
   {
    "duration": 539,
    "start_time": "2021-07-20T17:00:26.234Z"
   },
   {
    "duration": 50,
    "start_time": "2021-07-20T17:00:26.775Z"
   },
   {
    "duration": 8,
    "start_time": "2021-07-20T17:00:26.826Z"
   },
   {
    "duration": 16,
    "start_time": "2021-07-20T17:00:26.835Z"
   },
   {
    "duration": 15,
    "start_time": "2021-07-20T17:00:26.853Z"
   },
   {
    "duration": 28,
    "start_time": "2021-07-20T17:00:26.870Z"
   },
   {
    "duration": 26,
    "start_time": "2021-07-20T17:00:26.900Z"
   },
   {
    "duration": 24,
    "start_time": "2021-07-20T17:00:26.927Z"
   },
   {
    "duration": 14,
    "start_time": "2021-07-20T17:00:26.954Z"
   },
   {
    "duration": 13,
    "start_time": "2021-07-20T17:00:26.970Z"
   },
   {
    "duration": 11,
    "start_time": "2021-07-20T17:00:26.985Z"
   },
   {
    "duration": 14,
    "start_time": "2021-07-20T17:00:26.997Z"
   },
   {
    "duration": 16,
    "start_time": "2021-07-20T17:00:27.013Z"
   },
   {
    "duration": 14,
    "start_time": "2021-07-20T17:00:27.030Z"
   },
   {
    "duration": 27,
    "start_time": "2021-07-20T17:00:27.046Z"
   },
   {
    "duration": 14,
    "start_time": "2021-07-20T17:00:27.077Z"
   },
   {
    "duration": 13,
    "start_time": "2021-07-20T17:00:27.094Z"
   },
   {
    "duration": 16,
    "start_time": "2021-07-20T17:00:27.109Z"
   },
   {
    "duration": 13,
    "start_time": "2021-07-20T17:00:27.127Z"
   },
   {
    "duration": 20,
    "start_time": "2021-07-20T17:00:27.141Z"
   },
   {
    "duration": 13,
    "start_time": "2021-07-20T17:00:27.163Z"
   },
   {
    "duration": 21,
    "start_time": "2021-07-20T17:00:27.177Z"
   },
   {
    "duration": 211,
    "start_time": "2021-07-20T17:00:27.200Z"
   },
   {
    "duration": 8,
    "start_time": "2021-07-20T17:00:27.412Z"
   },
   {
    "duration": 159,
    "start_time": "2021-07-20T17:00:27.421Z"
   },
   {
    "duration": 6,
    "start_time": "2021-07-20T17:00:27.582Z"
   },
   {
    "duration": 14,
    "start_time": "2021-07-20T17:00:27.590Z"
   },
   {
    "duration": 19,
    "start_time": "2021-07-20T17:00:27.606Z"
   },
   {
    "duration": 31,
    "start_time": "2021-07-20T17:00:27.627Z"
   },
   {
    "duration": 5,
    "start_time": "2021-07-20T17:00:27.660Z"
   },
   {
    "duration": 9,
    "start_time": "2021-07-20T17:00:27.666Z"
   },
   {
    "duration": 5,
    "start_time": "2021-07-20T17:00:27.676Z"
   },
   {
    "duration": 9,
    "start_time": "2021-07-20T17:00:27.683Z"
   },
   {
    "duration": 207,
    "start_time": "2021-07-20T17:00:27.694Z"
   },
   {
    "duration": 211,
    "start_time": "2021-07-20T17:00:27.903Z"
   },
   {
    "duration": 5,
    "start_time": "2021-07-20T17:00:28.116Z"
   },
   {
    "duration": 372,
    "start_time": "2021-07-20T17:00:28.123Z"
   },
   {
    "duration": 3,
    "start_time": "2021-07-20T17:00:28.497Z"
   },
   {
    "duration": 23,
    "start_time": "2021-07-20T17:00:28.501Z"
   },
   {
    "duration": 15,
    "start_time": "2021-07-20T17:00:28.526Z"
   },
   {
    "duration": 227,
    "start_time": "2021-07-20T17:00:28.543Z"
   },
   {
    "duration": 7,
    "start_time": "2021-07-20T17:00:28.772Z"
   },
   {
    "duration": 307,
    "start_time": "2021-07-20T17:00:28.780Z"
   },
   {
    "duration": 12,
    "start_time": "2021-07-20T17:00:29.089Z"
   },
   {
    "duration": 15,
    "start_time": "2021-07-20T17:00:29.102Z"
   },
   {
    "duration": 365,
    "start_time": "2021-07-20T17:00:29.119Z"
   },
   {
    "duration": 4,
    "start_time": "2021-07-20T17:00:29.486Z"
   },
   {
    "duration": 332,
    "start_time": "2021-07-20T17:00:29.491Z"
   },
   {
    "duration": 5,
    "start_time": "2021-07-20T17:00:29.825Z"
   },
   {
    "duration": 13,
    "start_time": "2021-07-20T17:00:29.841Z"
   },
   {
    "duration": 16,
    "start_time": "2021-07-20T17:00:29.856Z"
   },
   {
    "duration": 60,
    "start_time": "2021-07-20T17:00:29.874Z"
   },
   {
    "duration": 64,
    "start_time": "2021-07-20T17:00:29.936Z"
   },
   {
    "duration": 25,
    "start_time": "2021-07-20T17:00:30.002Z"
   },
   {
    "duration": 32,
    "start_time": "2021-07-20T17:00:30.028Z"
   },
   {
    "duration": 23,
    "start_time": "2021-07-20T17:00:30.061Z"
   },
   {
    "duration": 26,
    "start_time": "2021-07-20T17:00:30.085Z"
   },
   {
    "duration": 13,
    "start_time": "2021-07-20T17:00:30.112Z"
   },
   {
    "duration": 72,
    "start_time": "2021-07-20T17:00:30.126Z"
   },
   {
    "duration": 93,
    "start_time": "2021-07-20T17:00:30.199Z"
   },
   {
    "duration": 16,
    "start_time": "2021-07-20T17:00:30.297Z"
   },
   {
    "duration": 42,
    "start_time": "2021-07-20T17:00:30.315Z"
   },
   {
    "duration": 38,
    "start_time": "2021-07-20T17:00:30.360Z"
   },
   {
    "duration": 67,
    "start_time": "2021-07-20T17:00:30.400Z"
   },
   {
    "duration": 72,
    "start_time": "2021-07-20T17:00:30.469Z"
   },
   {
    "duration": 4,
    "start_time": "2021-07-20T17:00:30.544Z"
   },
   {
    "duration": 23,
    "start_time": "2021-07-20T17:00:30.550Z"
   },
   {
    "duration": 30,
    "start_time": "2021-07-20T17:00:30.574Z"
   },
   {
    "duration": 26,
    "start_time": "2021-07-20T17:00:30.606Z"
   },
   {
    "duration": 22,
    "start_time": "2021-07-20T17:00:30.633Z"
   },
   {
    "duration": 18,
    "start_time": "2021-07-20T17:00:30.657Z"
   },
   {
    "duration": 16,
    "start_time": "2021-07-20T17:00:30.677Z"
   },
   {
    "duration": 19,
    "start_time": "2021-07-20T17:00:30.694Z"
   },
   {
    "duration": 21,
    "start_time": "2021-07-20T17:00:30.715Z"
   },
   {
    "duration": 47,
    "start_time": "2021-07-20T17:00:30.737Z"
   },
   {
    "duration": 31,
    "start_time": "2021-07-20T17:00:30.786Z"
   },
   {
    "duration": 26,
    "start_time": "2021-07-20T17:00:30.819Z"
   },
   {
    "duration": 30,
    "start_time": "2021-07-20T17:00:30.847Z"
   },
   {
    "duration": 20,
    "start_time": "2021-07-20T17:00:30.879Z"
   },
   {
    "duration": 7778,
    "start_time": "2021-07-20T17:01:58.626Z"
   },
   {
    "duration": 7187,
    "start_time": "2021-07-20T17:02:51.262Z"
   },
   {
    "duration": 5,
    "start_time": "2021-07-20T17:03:35.011Z"
   },
   {
    "duration": 5,
    "start_time": "2021-07-20T17:06:25.584Z"
   },
   {
    "duration": 90,
    "start_time": "2021-07-20T17:07:11.305Z"
   },
   {
    "duration": 1056,
    "start_time": "2021-07-20T17:14:39.024Z"
   },
   {
    "duration": 17,
    "start_time": "2021-07-20T17:14:40.081Z"
   },
   {
    "duration": 12,
    "start_time": "2021-07-20T17:14:40.100Z"
   },
   {
    "duration": 6,
    "start_time": "2021-07-20T17:14:40.114Z"
   },
   {
    "duration": 10,
    "start_time": "2021-07-20T17:14:40.122Z"
   },
   {
    "duration": 9,
    "start_time": "2021-07-20T17:14:40.133Z"
   },
   {
    "duration": 11,
    "start_time": "2021-07-20T17:14:40.144Z"
   },
   {
    "duration": 509,
    "start_time": "2021-07-20T17:14:40.157Z"
   },
   {
    "duration": 50,
    "start_time": "2021-07-20T17:14:40.668Z"
   },
   {
    "duration": 8,
    "start_time": "2021-07-20T17:14:40.719Z"
   },
   {
    "duration": 9,
    "start_time": "2021-07-20T17:14:40.728Z"
   },
   {
    "duration": 8,
    "start_time": "2021-07-20T17:14:40.739Z"
   },
   {
    "duration": 8,
    "start_time": "2021-07-20T17:14:40.749Z"
   },
   {
    "duration": 8,
    "start_time": "2021-07-20T17:14:40.759Z"
   },
   {
    "duration": 9,
    "start_time": "2021-07-20T17:14:40.768Z"
   },
   {
    "duration": 8,
    "start_time": "2021-07-20T17:14:40.778Z"
   },
   {
    "duration": 8,
    "start_time": "2021-07-20T17:14:40.787Z"
   },
   {
    "duration": 6,
    "start_time": "2021-07-20T17:14:40.797Z"
   },
   {
    "duration": 10,
    "start_time": "2021-07-20T17:14:40.805Z"
   },
   {
    "duration": 14,
    "start_time": "2021-07-20T17:14:40.817Z"
   },
   {
    "duration": 11,
    "start_time": "2021-07-20T17:14:40.832Z"
   },
   {
    "duration": 15,
    "start_time": "2021-07-20T17:14:40.845Z"
   },
   {
    "duration": 4,
    "start_time": "2021-07-20T17:14:40.863Z"
   },
   {
    "duration": 15,
    "start_time": "2021-07-20T17:14:40.869Z"
   },
   {
    "duration": 6,
    "start_time": "2021-07-20T17:14:40.885Z"
   },
   {
    "duration": 4,
    "start_time": "2021-07-20T17:14:40.892Z"
   },
   {
    "duration": 7,
    "start_time": "2021-07-20T17:14:40.897Z"
   },
   {
    "duration": 7,
    "start_time": "2021-07-20T17:14:40.905Z"
   },
   {
    "duration": 8,
    "start_time": "2021-07-20T17:14:40.914Z"
   },
   {
    "duration": 204,
    "start_time": "2021-07-20T17:14:40.923Z"
   },
   {
    "duration": 11,
    "start_time": "2021-07-20T17:14:41.129Z"
   },
   {
    "duration": 143,
    "start_time": "2021-07-20T17:14:41.142Z"
   },
   {
    "duration": 7,
    "start_time": "2021-07-20T17:14:41.287Z"
   },
   {
    "duration": 8,
    "start_time": "2021-07-20T17:14:41.295Z"
   },
   {
    "duration": 9,
    "start_time": "2021-07-20T17:14:41.305Z"
   },
   {
    "duration": 11,
    "start_time": "2021-07-20T17:14:41.315Z"
   },
   {
    "duration": 17,
    "start_time": "2021-07-20T17:14:41.327Z"
   },
   {
    "duration": 8,
    "start_time": "2021-07-20T17:14:41.346Z"
   },
   {
    "duration": 5,
    "start_time": "2021-07-20T17:14:41.356Z"
   },
   {
    "duration": 10,
    "start_time": "2021-07-20T17:14:41.362Z"
   },
   {
    "duration": 203,
    "start_time": "2021-07-20T17:14:41.373Z"
   },
   {
    "duration": 204,
    "start_time": "2021-07-20T17:14:41.578Z"
   },
   {
    "duration": 6,
    "start_time": "2021-07-20T17:14:41.784Z"
   },
   {
    "duration": 328,
    "start_time": "2021-07-20T17:14:41.791Z"
   },
   {
    "duration": 3,
    "start_time": "2021-07-20T17:14:42.121Z"
   },
   {
    "duration": 15,
    "start_time": "2021-07-20T17:14:42.125Z"
   },
   {
    "duration": 11,
    "start_time": "2021-07-20T17:14:42.142Z"
   },
   {
    "duration": 199,
    "start_time": "2021-07-20T17:14:42.154Z"
   },
   {
    "duration": 7,
    "start_time": "2021-07-20T17:14:42.354Z"
   },
   {
    "duration": 284,
    "start_time": "2021-07-20T17:14:42.363Z"
   },
   {
    "duration": 12,
    "start_time": "2021-07-20T17:14:42.648Z"
   },
   {
    "duration": 5,
    "start_time": "2021-07-20T17:14:42.662Z"
   },
   {
    "duration": 346,
    "start_time": "2021-07-20T17:14:42.669Z"
   },
   {
    "duration": 4,
    "start_time": "2021-07-20T17:14:43.017Z"
   },
   {
    "duration": 327,
    "start_time": "2021-07-20T17:14:43.022Z"
   },
   {
    "duration": 4,
    "start_time": "2021-07-20T17:14:43.351Z"
   },
   {
    "duration": 13,
    "start_time": "2021-07-20T17:14:43.357Z"
   },
   {
    "duration": 18,
    "start_time": "2021-07-20T17:14:43.372Z"
   },
   {
    "duration": 63,
    "start_time": "2021-07-20T17:14:43.391Z"
   },
   {
    "duration": 53,
    "start_time": "2021-07-20T17:14:43.456Z"
   },
   {
    "duration": 14,
    "start_time": "2021-07-20T17:14:43.511Z"
   },
   {
    "duration": 19,
    "start_time": "2021-07-20T17:14:43.526Z"
   },
   {
    "duration": 23,
    "start_time": "2021-07-20T17:14:43.546Z"
   },
   {
    "duration": 38,
    "start_time": "2021-07-20T17:14:43.571Z"
   },
   {
    "duration": 11,
    "start_time": "2021-07-20T17:14:43.611Z"
   },
   {
    "duration": 63,
    "start_time": "2021-07-20T17:14:43.623Z"
   },
   {
    "duration": 77,
    "start_time": "2021-07-20T17:14:43.688Z"
   },
   {
    "duration": 10,
    "start_time": "2021-07-20T17:14:43.769Z"
   },
   {
    "duration": 36,
    "start_time": "2021-07-20T17:14:43.781Z"
   },
   {
    "duration": 24,
    "start_time": "2021-07-20T17:14:43.819Z"
   },
   {
    "duration": 54,
    "start_time": "2021-07-20T17:14:43.845Z"
   },
   {
    "duration": 71,
    "start_time": "2021-07-20T17:14:43.901Z"
   },
   {
    "duration": 3,
    "start_time": "2021-07-20T17:14:43.974Z"
   },
   {
    "duration": 20,
    "start_time": "2021-07-20T17:14:43.979Z"
   },
   {
    "duration": 25,
    "start_time": "2021-07-20T17:14:44.001Z"
   },
   {
    "duration": 17,
    "start_time": "2021-07-20T17:14:44.027Z"
   },
   {
    "duration": 14,
    "start_time": "2021-07-20T17:14:44.045Z"
   },
   {
    "duration": 14,
    "start_time": "2021-07-20T17:14:44.060Z"
   },
   {
    "duration": 18,
    "start_time": "2021-07-20T17:14:44.076Z"
   },
   {
    "duration": 12,
    "start_time": "2021-07-20T17:14:44.095Z"
   },
   {
    "duration": 18,
    "start_time": "2021-07-20T17:14:44.109Z"
   },
   {
    "duration": 12,
    "start_time": "2021-07-20T17:14:44.128Z"
   },
   {
    "duration": 25,
    "start_time": "2021-07-20T17:14:44.142Z"
   },
   {
    "duration": 13,
    "start_time": "2021-07-20T17:14:44.169Z"
   },
   {
    "duration": 34,
    "start_time": "2021-07-20T17:14:44.184Z"
   },
   {
    "duration": 19,
    "start_time": "2021-07-20T17:14:44.220Z"
   },
   {
    "duration": 1345,
    "start_time": "2021-07-20T20:36:19.014Z"
   },
   {
    "duration": 19,
    "start_time": "2021-07-20T20:36:20.362Z"
   },
   {
    "duration": 24,
    "start_time": "2021-07-20T20:36:20.387Z"
   },
   {
    "duration": 7,
    "start_time": "2021-07-20T20:36:20.414Z"
   },
   {
    "duration": 15,
    "start_time": "2021-07-20T20:36:20.423Z"
   },
   {
    "duration": 6,
    "start_time": "2021-07-20T20:36:20.441Z"
   },
   {
    "duration": 51,
    "start_time": "2021-07-20T20:36:20.451Z"
   },
   {
    "duration": 1101,
    "start_time": "2021-07-20T20:36:20.506Z"
   },
   {
    "duration": 54,
    "start_time": "2021-07-20T20:36:21.610Z"
   },
   {
    "duration": 11,
    "start_time": "2021-07-20T20:36:21.667Z"
   },
   {
    "duration": 12,
    "start_time": "2021-07-20T20:36:21.680Z"
   },
   {
    "duration": 11,
    "start_time": "2021-07-20T20:36:21.694Z"
   },
   {
    "duration": 8,
    "start_time": "2021-07-20T20:36:21.707Z"
   },
   {
    "duration": 11,
    "start_time": "2021-07-20T20:36:21.718Z"
   },
   {
    "duration": 11,
    "start_time": "2021-07-20T20:36:21.731Z"
   },
   {
    "duration": 9,
    "start_time": "2021-07-20T20:36:21.744Z"
   },
   {
    "duration": 5,
    "start_time": "2021-07-20T20:36:21.755Z"
   },
   {
    "duration": 43,
    "start_time": "2021-07-20T20:36:21.762Z"
   },
   {
    "duration": 12,
    "start_time": "2021-07-20T20:36:21.808Z"
   },
   {
    "duration": 8,
    "start_time": "2021-07-20T20:36:21.823Z"
   },
   {
    "duration": 23,
    "start_time": "2021-07-20T20:36:21.833Z"
   },
   {
    "duration": 11,
    "start_time": "2021-07-20T20:36:21.863Z"
   },
   {
    "duration": 28,
    "start_time": "2021-07-20T20:36:21.878Z"
   },
   {
    "duration": 11,
    "start_time": "2021-07-20T20:36:21.909Z"
   },
   {
    "duration": 6,
    "start_time": "2021-07-20T20:36:21.923Z"
   },
   {
    "duration": 3,
    "start_time": "2021-07-20T20:36:21.932Z"
   },
   {
    "duration": 9,
    "start_time": "2021-07-20T20:36:21.938Z"
   },
   {
    "duration": 9,
    "start_time": "2021-07-20T20:36:21.949Z"
   },
   {
    "duration": 50,
    "start_time": "2021-07-20T20:36:21.960Z"
   },
   {
    "duration": 355,
    "start_time": "2021-07-20T20:36:22.012Z"
   },
   {
    "duration": 11,
    "start_time": "2021-07-20T20:36:22.369Z"
   },
   {
    "duration": 276,
    "start_time": "2021-07-20T20:36:22.383Z"
   },
   {
    "duration": 11,
    "start_time": "2021-07-20T20:36:22.662Z"
   },
   {
    "duration": 30,
    "start_time": "2021-07-20T20:36:22.675Z"
   },
   {
    "duration": 4,
    "start_time": "2021-07-20T20:36:22.707Z"
   },
   {
    "duration": 14,
    "start_time": "2021-07-20T20:36:22.713Z"
   },
   {
    "duration": 8,
    "start_time": "2021-07-20T20:36:22.729Z"
   },
   {
    "duration": 10,
    "start_time": "2021-07-20T20:36:22.739Z"
   },
   {
    "duration": 7,
    "start_time": "2021-07-20T20:36:22.752Z"
   },
   {
    "duration": 43,
    "start_time": "2021-07-20T20:36:22.761Z"
   },
   {
    "duration": 347,
    "start_time": "2021-07-20T20:36:22.806Z"
   },
   {
    "duration": 330,
    "start_time": "2021-07-20T20:36:23.155Z"
   },
   {
    "duration": 16,
    "start_time": "2021-07-20T20:36:23.488Z"
   },
   {
    "duration": 440,
    "start_time": "2021-07-20T20:36:23.507Z"
   },
   {
    "duration": 5,
    "start_time": "2021-07-20T20:36:23.950Z"
   },
   {
    "duration": 9,
    "start_time": "2021-07-20T20:36:23.957Z"
   },
   {
    "duration": 7,
    "start_time": "2021-07-20T20:36:23.969Z"
   },
   {
    "duration": 351,
    "start_time": "2021-07-20T20:36:23.978Z"
   },
   {
    "duration": 12,
    "start_time": "2021-07-20T20:36:24.331Z"
   },
   {
    "duration": 399,
    "start_time": "2021-07-20T20:36:24.345Z"
   },
   {
    "duration": 22,
    "start_time": "2021-07-20T20:36:24.747Z"
   },
   {
    "duration": 9,
    "start_time": "2021-07-20T20:36:24.771Z"
   },
   {
    "duration": 467,
    "start_time": "2021-07-20T20:36:24.783Z"
   },
   {
    "duration": 6,
    "start_time": "2021-07-20T20:36:25.253Z"
   },
   {
    "duration": 414,
    "start_time": "2021-07-20T20:36:25.262Z"
   },
   {
    "duration": 6,
    "start_time": "2021-07-20T20:36:25.678Z"
   },
   {
    "duration": 9,
    "start_time": "2021-07-20T20:36:25.701Z"
   },
   {
    "duration": 7,
    "start_time": "2021-07-20T20:36:25.712Z"
   },
   {
    "duration": 108,
    "start_time": "2021-07-20T20:36:25.721Z"
   },
   {
    "duration": 90,
    "start_time": "2021-07-20T20:36:25.831Z"
   },
   {
    "duration": 7,
    "start_time": "2021-07-20T20:36:25.924Z"
   },
   {
    "duration": 24,
    "start_time": "2021-07-20T20:36:25.933Z"
   },
   {
    "duration": 3,
    "start_time": "2021-07-20T20:36:25.959Z"
   },
   {
    "duration": 45,
    "start_time": "2021-07-20T20:36:25.965Z"
   },
   {
    "duration": 3,
    "start_time": "2021-07-20T20:36:26.012Z"
   },
   {
    "duration": 121,
    "start_time": "2021-07-20T20:36:26.017Z"
   },
   {
    "duration": 122,
    "start_time": "2021-07-20T20:36:26.146Z"
   },
   {
    "duration": 5,
    "start_time": "2021-07-20T20:36:26.273Z"
   },
   {
    "duration": 70,
    "start_time": "2021-07-20T20:36:26.281Z"
   },
   {
    "duration": 51,
    "start_time": "2021-07-20T20:36:26.354Z"
   },
   {
    "duration": 116,
    "start_time": "2021-07-20T20:36:26.408Z"
   },
   {
    "duration": 120,
    "start_time": "2021-07-20T20:36:26.527Z"
   },
   {
    "duration": 4,
    "start_time": "2021-07-20T20:36:26.649Z"
   },
   {
    "duration": 15,
    "start_time": "2021-07-20T20:36:26.655Z"
   },
   {
    "duration": 8,
    "start_time": "2021-07-20T20:36:26.673Z"
   },
   {
    "duration": 19,
    "start_time": "2021-07-20T20:36:26.683Z"
   },
   {
    "duration": 7,
    "start_time": "2021-07-20T20:36:26.705Z"
   },
   {
    "duration": 11,
    "start_time": "2021-07-20T20:36:26.714Z"
   },
   {
    "duration": 9,
    "start_time": "2021-07-20T20:36:26.727Z"
   },
   {
    "duration": 11,
    "start_time": "2021-07-20T20:36:26.738Z"
   },
   {
    "duration": 50,
    "start_time": "2021-07-20T20:36:26.752Z"
   },
   {
    "duration": 16,
    "start_time": "2021-07-20T20:36:26.805Z"
   },
   {
    "duration": 10,
    "start_time": "2021-07-20T20:36:26.823Z"
   },
   {
    "duration": 10,
    "start_time": "2021-07-20T20:36:26.835Z"
   },
   {
    "duration": 12,
    "start_time": "2021-07-20T20:36:26.847Z"
   },
   {
    "duration": 50,
    "start_time": "2021-07-20T20:36:26.862Z"
   },
   {
    "duration": 987,
    "start_time": "2021-07-21T11:45:42.129Z"
   },
   {
    "duration": 15,
    "start_time": "2021-07-21T11:45:43.118Z"
   },
   {
    "duration": 12,
    "start_time": "2021-07-21T11:45:43.135Z"
   },
   {
    "duration": 7,
    "start_time": "2021-07-21T11:45:43.148Z"
   },
   {
    "duration": 10,
    "start_time": "2021-07-21T11:45:43.156Z"
   },
   {
    "duration": 4,
    "start_time": "2021-07-21T11:45:43.168Z"
   },
   {
    "duration": 11,
    "start_time": "2021-07-21T11:45:43.173Z"
   },
   {
    "duration": 485,
    "start_time": "2021-07-21T11:45:43.192Z"
   },
   {
    "duration": 46,
    "start_time": "2021-07-21T11:45:43.679Z"
   },
   {
    "duration": 7,
    "start_time": "2021-07-21T11:45:43.726Z"
   },
   {
    "duration": 6,
    "start_time": "2021-07-21T11:45:43.735Z"
   },
   {
    "duration": 8,
    "start_time": "2021-07-21T11:45:43.742Z"
   },
   {
    "duration": 7,
    "start_time": "2021-07-21T11:45:43.751Z"
   },
   {
    "duration": 6,
    "start_time": "2021-07-21T11:45:43.760Z"
   },
   {
    "duration": 7,
    "start_time": "2021-07-21T11:45:43.767Z"
   },
   {
    "duration": 8,
    "start_time": "2021-07-21T11:45:43.776Z"
   },
   {
    "duration": 8,
    "start_time": "2021-07-21T11:45:43.785Z"
   },
   {
    "duration": 11,
    "start_time": "2021-07-21T11:45:43.794Z"
   },
   {
    "duration": 10,
    "start_time": "2021-07-21T11:45:43.806Z"
   },
   {
    "duration": 9,
    "start_time": "2021-07-21T11:45:43.817Z"
   },
   {
    "duration": 9,
    "start_time": "2021-07-21T11:45:43.827Z"
   },
   {
    "duration": 13,
    "start_time": "2021-07-21T11:45:43.838Z"
   },
   {
    "duration": 5,
    "start_time": "2021-07-21T11:45:43.855Z"
   },
   {
    "duration": 10,
    "start_time": "2021-07-21T11:45:43.862Z"
   },
   {
    "duration": 10,
    "start_time": "2021-07-21T11:45:43.873Z"
   },
   {
    "duration": 7,
    "start_time": "2021-07-21T11:45:43.884Z"
   },
   {
    "duration": 13,
    "start_time": "2021-07-21T11:45:43.893Z"
   },
   {
    "duration": 9,
    "start_time": "2021-07-21T11:45:43.907Z"
   },
   {
    "duration": 11,
    "start_time": "2021-07-21T11:45:43.917Z"
   },
   {
    "duration": 187,
    "start_time": "2021-07-21T11:45:43.929Z"
   },
   {
    "duration": 6,
    "start_time": "2021-07-21T11:45:44.118Z"
   },
   {
    "duration": 134,
    "start_time": "2021-07-21T11:45:44.126Z"
   },
   {
    "duration": 6,
    "start_time": "2021-07-21T11:45:44.261Z"
   },
   {
    "duration": 6,
    "start_time": "2021-07-21T11:45:44.269Z"
   },
   {
    "duration": 2,
    "start_time": "2021-07-21T11:45:44.291Z"
   },
   {
    "duration": 10,
    "start_time": "2021-07-21T11:45:44.295Z"
   },
   {
    "duration": 4,
    "start_time": "2021-07-21T11:45:44.306Z"
   },
   {
    "duration": 6,
    "start_time": "2021-07-21T11:45:44.312Z"
   },
   {
    "duration": 8,
    "start_time": "2021-07-21T11:45:44.320Z"
   },
   {
    "duration": 11,
    "start_time": "2021-07-21T11:45:44.329Z"
   },
   {
    "duration": 195,
    "start_time": "2021-07-21T11:45:44.342Z"
   },
   {
    "duration": 192,
    "start_time": "2021-07-21T11:45:44.538Z"
   },
   {
    "duration": 5,
    "start_time": "2021-07-21T11:45:44.732Z"
   },
   {
    "duration": 293,
    "start_time": "2021-07-21T11:45:44.739Z"
   },
   {
    "duration": 3,
    "start_time": "2021-07-21T11:45:45.034Z"
   },
   {
    "duration": 8,
    "start_time": "2021-07-21T11:45:45.039Z"
   },
   {
    "duration": 9,
    "start_time": "2021-07-21T11:45:45.048Z"
   },
   {
    "duration": 188,
    "start_time": "2021-07-21T11:45:45.058Z"
   },
   {
    "duration": 7,
    "start_time": "2021-07-21T11:45:45.248Z"
   },
   {
    "duration": 278,
    "start_time": "2021-07-21T11:45:45.257Z"
   },
   {
    "duration": 13,
    "start_time": "2021-07-21T11:45:45.537Z"
   },
   {
    "duration": 5,
    "start_time": "2021-07-21T11:45:45.551Z"
   },
   {
    "duration": 310,
    "start_time": "2021-07-21T11:45:45.557Z"
   },
   {
    "duration": 4,
    "start_time": "2021-07-21T11:45:45.869Z"
   },
   {
    "duration": 287,
    "start_time": "2021-07-21T11:45:45.874Z"
   },
   {
    "duration": 4,
    "start_time": "2021-07-21T11:45:46.163Z"
   },
   {
    "duration": 8,
    "start_time": "2021-07-21T11:45:46.168Z"
   },
   {
    "duration": 3,
    "start_time": "2021-07-21T11:45:46.191Z"
   },
   {
    "duration": 49,
    "start_time": "2021-07-21T11:45:46.195Z"
   },
   {
    "duration": 51,
    "start_time": "2021-07-21T11:45:46.246Z"
   },
   {
    "duration": 5,
    "start_time": "2021-07-21T11:45:46.299Z"
   },
   {
    "duration": 14,
    "start_time": "2021-07-21T11:45:46.306Z"
   },
   {
    "duration": 2,
    "start_time": "2021-07-21T11:45:46.321Z"
   },
   {
    "duration": 11,
    "start_time": "2021-07-21T11:45:46.325Z"
   },
   {
    "duration": 2,
    "start_time": "2021-07-21T11:45:46.337Z"
   },
   {
    "duration": 69,
    "start_time": "2021-07-21T11:45:46.341Z"
   },
   {
    "duration": 52,
    "start_time": "2021-07-21T11:45:46.412Z"
   },
   {
    "duration": 3,
    "start_time": "2021-07-21T11:45:46.468Z"
   },
   {
    "duration": 29,
    "start_time": "2021-07-21T11:45:46.473Z"
   },
   {
    "duration": 11,
    "start_time": "2021-07-21T11:45:46.503Z"
   },
   {
    "duration": 44,
    "start_time": "2021-07-21T11:45:46.516Z"
   },
   {
    "duration": 94,
    "start_time": "2021-07-21T11:45:46.562Z"
   },
   {
    "duration": 6,
    "start_time": "2021-07-21T11:45:46.658Z"
   },
   {
    "duration": 6,
    "start_time": "2021-07-21T11:45:46.666Z"
   },
   {
    "duration": 19,
    "start_time": "2021-07-21T11:45:46.673Z"
   },
   {
    "duration": 7,
    "start_time": "2021-07-21T11:45:46.693Z"
   },
   {
    "duration": 3,
    "start_time": "2021-07-21T11:45:46.702Z"
   },
   {
    "duration": 8,
    "start_time": "2021-07-21T11:45:46.707Z"
   },
   {
    "duration": 9,
    "start_time": "2021-07-21T11:45:46.716Z"
   },
   {
    "duration": 11,
    "start_time": "2021-07-21T11:45:46.726Z"
   },
   {
    "duration": 9,
    "start_time": "2021-07-21T11:45:46.738Z"
   },
   {
    "duration": 10,
    "start_time": "2021-07-21T11:45:46.748Z"
   },
   {
    "duration": 9,
    "start_time": "2021-07-21T11:45:46.759Z"
   },
   {
    "duration": 22,
    "start_time": "2021-07-21T11:45:46.770Z"
   },
   {
    "duration": 7,
    "start_time": "2021-07-21T11:45:46.794Z"
   },
   {
    "duration": 9,
    "start_time": "2021-07-21T11:45:46.803Z"
   },
   {
    "duration": 11,
    "start_time": "2021-07-21T11:46:01.697Z"
   },
   {
    "duration": 4,
    "start_time": "2021-07-21T11:47:06.087Z"
   },
   {
    "duration": 11,
    "start_time": "2021-07-21T11:47:12.853Z"
   },
   {
    "duration": 4,
    "start_time": "2021-07-21T11:47:31.663Z"
   },
   {
    "duration": 4,
    "start_time": "2021-07-21T12:19:11.703Z"
   },
   {
    "duration": 5241,
    "start_time": "2021-07-21T13:04:23.288Z"
   },
   {
    "duration": 953,
    "start_time": "2021-07-21T13:04:39.774Z"
   },
   {
    "duration": 15,
    "start_time": "2021-07-21T13:04:40.729Z"
   },
   {
    "duration": 16,
    "start_time": "2021-07-21T13:04:40.746Z"
   },
   {
    "duration": 5,
    "start_time": "2021-07-21T13:04:40.764Z"
   },
   {
    "duration": 9,
    "start_time": "2021-07-21T13:04:40.771Z"
   },
   {
    "duration": 14,
    "start_time": "2021-07-21T13:04:40.782Z"
   },
   {
    "duration": 19,
    "start_time": "2021-07-21T13:04:40.798Z"
   },
   {
    "duration": 371,
    "start_time": "2021-07-21T13:04:40.819Z"
   },
   {
    "duration": 46,
    "start_time": "2021-07-21T13:04:41.193Z"
   },
   {
    "duration": 7,
    "start_time": "2021-07-21T13:04:41.241Z"
   },
   {
    "duration": 13,
    "start_time": "2021-07-21T13:04:41.250Z"
   },
   {
    "duration": 8,
    "start_time": "2021-07-21T13:04:41.265Z"
   },
   {
    "duration": 7,
    "start_time": "2021-07-21T13:04:41.275Z"
   },
   {
    "duration": 12,
    "start_time": "2021-07-21T13:04:41.283Z"
   },
   {
    "duration": 18,
    "start_time": "2021-07-21T13:04:41.297Z"
   },
   {
    "duration": 11,
    "start_time": "2021-07-21T13:04:41.317Z"
   },
   {
    "duration": 4,
    "start_time": "2021-07-21T13:04:41.330Z"
   },
   {
    "duration": 12,
    "start_time": "2021-07-21T13:04:41.335Z"
   },
   {
    "duration": 9,
    "start_time": "2021-07-21T13:04:41.348Z"
   },
   {
    "duration": 15,
    "start_time": "2021-07-21T13:04:41.358Z"
   },
   {
    "duration": 7,
    "start_time": "2021-07-21T13:04:41.374Z"
   },
   {
    "duration": 5318,
    "start_time": "2021-07-21T13:04:41.383Z"
   },
   {
    "duration": 861,
    "start_time": "2021-07-21T13:04:45.843Z"
   },
   {
    "duration": 855,
    "start_time": "2021-07-21T13:04:45.850Z"
   },
   {
    "duration": 848,
    "start_time": "2021-07-21T13:04:45.858Z"
   },
   {
    "duration": 842,
    "start_time": "2021-07-21T13:04:45.865Z"
   },
   {
    "duration": 837,
    "start_time": "2021-07-21T13:04:45.871Z"
   },
   {
    "duration": 832,
    "start_time": "2021-07-21T13:04:45.877Z"
   },
   {
    "duration": 827,
    "start_time": "2021-07-21T13:04:45.883Z"
   },
   {
    "duration": 821,
    "start_time": "2021-07-21T13:04:45.890Z"
   },
   {
    "duration": 817,
    "start_time": "2021-07-21T13:04:45.895Z"
   },
   {
    "duration": 811,
    "start_time": "2021-07-21T13:04:45.902Z"
   },
   {
    "duration": 806,
    "start_time": "2021-07-21T13:04:45.908Z"
   },
   {
    "duration": 801,
    "start_time": "2021-07-21T13:04:45.914Z"
   },
   {
    "duration": 794,
    "start_time": "2021-07-21T13:04:45.921Z"
   },
   {
    "duration": 788,
    "start_time": "2021-07-21T13:04:45.928Z"
   },
   {
    "duration": 773,
    "start_time": "2021-07-21T13:04:45.944Z"
   },
   {
    "duration": 766,
    "start_time": "2021-07-21T13:04:45.952Z"
   },
   {
    "duration": 759,
    "start_time": "2021-07-21T13:04:45.960Z"
   },
   {
    "duration": 753,
    "start_time": "2021-07-21T13:04:45.967Z"
   },
   {
    "duration": 747,
    "start_time": "2021-07-21T13:04:45.974Z"
   },
   {
    "duration": 741,
    "start_time": "2021-07-21T13:04:45.981Z"
   },
   {
    "duration": 735,
    "start_time": "2021-07-21T13:04:45.988Z"
   },
   {
    "duration": 728,
    "start_time": "2021-07-21T13:04:45.996Z"
   },
   {
    "duration": 723,
    "start_time": "2021-07-21T13:04:46.002Z"
   },
   {
    "duration": 716,
    "start_time": "2021-07-21T13:04:46.010Z"
   },
   {
    "duration": 711,
    "start_time": "2021-07-21T13:04:46.016Z"
   },
   {
    "duration": 706,
    "start_time": "2021-07-21T13:04:46.022Z"
   },
   {
    "duration": 700,
    "start_time": "2021-07-21T13:04:46.028Z"
   },
   {
    "duration": 695,
    "start_time": "2021-07-21T13:04:46.034Z"
   },
   {
    "duration": 691,
    "start_time": "2021-07-21T13:04:46.039Z"
   },
   {
    "duration": 679,
    "start_time": "2021-07-21T13:04:46.052Z"
   },
   {
    "duration": 673,
    "start_time": "2021-07-21T13:04:46.059Z"
   },
   {
    "duration": 668,
    "start_time": "2021-07-21T13:04:46.065Z"
   },
   {
    "duration": 662,
    "start_time": "2021-07-21T13:04:46.071Z"
   },
   {
    "duration": 657,
    "start_time": "2021-07-21T13:04:46.077Z"
   },
   {
    "duration": 653,
    "start_time": "2021-07-21T13:04:46.082Z"
   },
   {
    "duration": 648,
    "start_time": "2021-07-21T13:04:46.088Z"
   },
   {
    "duration": 643,
    "start_time": "2021-07-21T13:04:46.094Z"
   },
   {
    "duration": 638,
    "start_time": "2021-07-21T13:04:46.100Z"
   },
   {
    "duration": 634,
    "start_time": "2021-07-21T13:04:46.105Z"
   },
   {
    "duration": 629,
    "start_time": "2021-07-21T13:04:46.111Z"
   },
   {
    "duration": 624,
    "start_time": "2021-07-21T13:04:46.116Z"
   },
   {
    "duration": 668,
    "start_time": "2021-07-21T13:04:46.123Z"
   },
   {
    "duration": 664,
    "start_time": "2021-07-21T13:04:46.128Z"
   },
   {
    "duration": 659,
    "start_time": "2021-07-21T13:04:46.134Z"
   },
   {
    "duration": 655,
    "start_time": "2021-07-21T13:04:46.139Z"
   },
   {
    "duration": 650,
    "start_time": "2021-07-21T13:04:46.145Z"
   },
   {
    "duration": 645,
    "start_time": "2021-07-21T13:04:46.150Z"
   },
   {
    "duration": 633,
    "start_time": "2021-07-21T13:04:46.163Z"
   },
   {
    "duration": 628,
    "start_time": "2021-07-21T13:04:46.169Z"
   },
   {
    "duration": 623,
    "start_time": "2021-07-21T13:04:46.175Z"
   },
   {
    "duration": 619,
    "start_time": "2021-07-21T13:04:46.180Z"
   },
   {
    "duration": 614,
    "start_time": "2021-07-21T13:04:46.186Z"
   },
   {
    "duration": 608,
    "start_time": "2021-07-21T13:04:46.192Z"
   },
   {
    "duration": 603,
    "start_time": "2021-07-21T13:04:46.198Z"
   },
   {
    "duration": 598,
    "start_time": "2021-07-21T13:04:46.204Z"
   },
   {
    "duration": 594,
    "start_time": "2021-07-21T13:04:46.209Z"
   },
   {
    "duration": 589,
    "start_time": "2021-07-21T13:04:46.215Z"
   },
   {
    "duration": 583,
    "start_time": "2021-07-21T13:04:46.221Z"
   },
   {
    "duration": 579,
    "start_time": "2021-07-21T13:04:46.226Z"
   },
   {
    "duration": 574,
    "start_time": "2021-07-21T13:04:46.232Z"
   },
   {
    "duration": 570,
    "start_time": "2021-07-21T13:04:46.237Z"
   },
   {
    "duration": 563,
    "start_time": "2021-07-21T13:04:46.245Z"
   },
   {
    "duration": 559,
    "start_time": "2021-07-21T13:04:46.250Z"
   },
   {
    "duration": 541,
    "start_time": "2021-07-21T13:04:46.268Z"
   },
   {
    "duration": 537,
    "start_time": "2021-07-21T13:04:46.273Z"
   },
   {
    "duration": 225,
    "start_time": "2021-07-21T13:06:13.460Z"
   },
   {
    "duration": 263,
    "start_time": "2021-07-21T13:07:01.607Z"
   },
   {
    "duration": 228,
    "start_time": "2021-07-21T13:10:55.418Z"
   },
   {
    "duration": 8,
    "start_time": "2021-07-21T13:10:58.872Z"
   },
   {
    "duration": 3,
    "start_time": "2021-07-21T13:11:02.183Z"
   },
   {
    "duration": 10,
    "start_time": "2021-07-21T13:11:08.097Z"
   },
   {
    "duration": 3,
    "start_time": "2021-07-21T13:11:28.355Z"
   },
   {
    "duration": 4,
    "start_time": "2021-07-21T13:12:03.205Z"
   },
   {
    "duration": 1328,
    "start_time": "2021-08-04T12:22:00.702Z"
   },
   {
    "duration": 17,
    "start_time": "2021-08-04T12:22:02.033Z"
   },
   {
    "duration": 22,
    "start_time": "2021-08-04T12:22:02.053Z"
   },
   {
    "duration": 7,
    "start_time": "2021-08-04T12:22:02.082Z"
   },
   {
    "duration": 22,
    "start_time": "2021-08-04T12:22:02.091Z"
   },
   {
    "duration": 9,
    "start_time": "2021-08-04T12:22:02.116Z"
   },
   {
    "duration": 16,
    "start_time": "2021-08-04T12:22:02.127Z"
   },
   {
    "duration": 756,
    "start_time": "2021-08-04T12:22:02.147Z"
   },
   {
    "duration": 48,
    "start_time": "2021-08-04T12:22:02.907Z"
   },
   {
    "duration": 12,
    "start_time": "2021-08-04T12:22:02.957Z"
   },
   {
    "duration": 10,
    "start_time": "2021-08-04T12:22:02.971Z"
   },
   {
    "duration": 12,
    "start_time": "2021-08-04T12:22:02.984Z"
   },
   {
    "duration": 13,
    "start_time": "2021-08-04T12:22:02.998Z"
   },
   {
    "duration": 10,
    "start_time": "2021-08-04T12:22:03.014Z"
   },
   {
    "duration": 11,
    "start_time": "2021-08-04T12:22:03.027Z"
   },
   {
    "duration": 42,
    "start_time": "2021-08-04T12:22:03.040Z"
   },
   {
    "duration": 4,
    "start_time": "2021-08-04T12:22:03.085Z"
   },
   {
    "duration": 9,
    "start_time": "2021-08-04T12:22:03.091Z"
   },
   {
    "duration": 6,
    "start_time": "2021-08-04T12:22:03.103Z"
   },
   {
    "duration": 9,
    "start_time": "2021-08-04T12:22:03.112Z"
   },
   {
    "duration": 10,
    "start_time": "2021-08-04T12:22:03.123Z"
   },
   {
    "duration": 54,
    "start_time": "2021-08-04T12:22:03.135Z"
   },
   {
    "duration": 4,
    "start_time": "2021-08-04T12:22:03.195Z"
   },
   {
    "duration": 9,
    "start_time": "2021-08-04T12:22:03.203Z"
   },
   {
    "duration": 9,
    "start_time": "2021-08-04T12:22:03.214Z"
   },
   {
    "duration": 10,
    "start_time": "2021-08-04T12:22:03.225Z"
   },
   {
    "duration": 11,
    "start_time": "2021-08-04T12:22:03.237Z"
   },
   {
    "duration": 5,
    "start_time": "2021-08-04T12:22:03.283Z"
   },
   {
    "duration": 15,
    "start_time": "2021-08-04T12:22:03.291Z"
   },
   {
    "duration": 10,
    "start_time": "2021-08-04T12:22:03.309Z"
   },
   {
    "duration": 18,
    "start_time": "2021-08-04T12:22:03.321Z"
   },
   {
    "duration": 358,
    "start_time": "2021-08-04T12:22:03.341Z"
   },
   {
    "duration": 13,
    "start_time": "2021-08-04T12:22:03.701Z"
   },
   {
    "duration": 278,
    "start_time": "2021-08-04T12:22:03.716Z"
   },
   {
    "duration": 10,
    "start_time": "2021-08-04T12:22:03.996Z"
   },
   {
    "duration": 12,
    "start_time": "2021-08-04T12:22:04.009Z"
   },
   {
    "duration": 9,
    "start_time": "2021-08-04T12:22:04.023Z"
   },
   {
    "duration": 20,
    "start_time": "2021-08-04T12:22:04.035Z"
   },
   {
    "duration": 7,
    "start_time": "2021-08-04T12:22:04.082Z"
   },
   {
    "duration": 16,
    "start_time": "2021-08-04T12:22:04.091Z"
   },
   {
    "duration": 8,
    "start_time": "2021-08-04T12:22:04.110Z"
   },
   {
    "duration": 11,
    "start_time": "2021-08-04T12:22:04.120Z"
   },
   {
    "duration": 352,
    "start_time": "2021-08-04T12:22:04.133Z"
   },
   {
    "duration": 337,
    "start_time": "2021-08-04T12:22:04.489Z"
   },
   {
    "duration": 9,
    "start_time": "2021-08-04T12:22:04.828Z"
   },
   {
    "duration": 483,
    "start_time": "2021-08-04T12:22:04.840Z"
   },
   {
    "duration": 6,
    "start_time": "2021-08-04T12:22:05.326Z"
   },
   {
    "duration": 22,
    "start_time": "2021-08-04T12:22:05.335Z"
   },
   {
    "duration": 16,
    "start_time": "2021-08-04T12:22:05.360Z"
   },
   {
    "duration": 407,
    "start_time": "2021-08-04T12:22:05.382Z"
   },
   {
    "duration": 16,
    "start_time": "2021-08-04T12:22:05.792Z"
   },
   {
    "duration": 395,
    "start_time": "2021-08-04T12:22:05.811Z"
   },
   {
    "duration": 22,
    "start_time": "2021-08-04T12:22:06.209Z"
   },
   {
    "duration": 18,
    "start_time": "2021-08-04T12:22:06.234Z"
   },
   {
    "duration": 461,
    "start_time": "2021-08-04T12:22:06.254Z"
   },
   {
    "duration": 8,
    "start_time": "2021-08-04T12:22:06.718Z"
   },
   {
    "duration": 406,
    "start_time": "2021-08-04T12:22:06.728Z"
   },
   {
    "duration": 6,
    "start_time": "2021-08-04T12:22:07.136Z"
   },
   {
    "duration": 27,
    "start_time": "2021-08-04T12:22:07.144Z"
   },
   {
    "duration": 32,
    "start_time": "2021-08-04T12:22:07.173Z"
   },
   {
    "duration": 97,
    "start_time": "2021-08-04T12:22:07.207Z"
   },
   {
    "duration": 87,
    "start_time": "2021-08-04T12:22:07.307Z"
   },
   {
    "duration": 29,
    "start_time": "2021-08-04T12:22:07.397Z"
   },
   {
    "duration": 30,
    "start_time": "2021-08-04T12:22:07.429Z"
   },
   {
    "duration": 11,
    "start_time": "2021-08-04T12:22:07.462Z"
   },
   {
    "duration": 44,
    "start_time": "2021-08-04T12:22:07.475Z"
   },
   {
    "duration": 16,
    "start_time": "2021-08-04T12:22:07.521Z"
   },
   {
    "duration": 101,
    "start_time": "2021-08-04T12:22:07.545Z"
   },
   {
    "duration": 100,
    "start_time": "2021-08-04T12:22:07.648Z"
   },
   {
    "duration": 23,
    "start_time": "2021-08-04T12:22:07.751Z"
   },
   {
    "duration": 48,
    "start_time": "2021-08-04T12:22:07.776Z"
   },
   {
    "duration": 17,
    "start_time": "2021-08-04T12:22:07.827Z"
   },
   {
    "duration": 95,
    "start_time": "2021-08-04T12:22:07.847Z"
   },
   {
    "duration": 119,
    "start_time": "2021-08-04T12:22:07.945Z"
   },
   {
    "duration": 28,
    "start_time": "2021-08-04T12:22:08.066Z"
   },
   {
    "duration": 15,
    "start_time": "2021-08-04T12:22:08.096Z"
   },
   {
    "duration": 24,
    "start_time": "2021-08-04T12:22:08.113Z"
   },
   {
    "duration": 12,
    "start_time": "2021-08-04T12:22:08.140Z"
   },
   {
    "duration": 16,
    "start_time": "2021-08-04T12:22:08.155Z"
   },
   {
    "duration": 24,
    "start_time": "2021-08-04T12:22:08.173Z"
   },
   {
    "duration": 13,
    "start_time": "2021-08-04T12:22:08.199Z"
   },
   {
    "duration": 20,
    "start_time": "2021-08-04T12:22:08.215Z"
   },
   {
    "duration": 28,
    "start_time": "2021-08-04T12:22:08.237Z"
   },
   {
    "duration": 23,
    "start_time": "2021-08-04T12:22:08.268Z"
   },
   {
    "duration": 11,
    "start_time": "2021-08-04T12:22:08.293Z"
   },
   {
    "duration": 8,
    "start_time": "2021-08-04T12:22:08.307Z"
   },
   {
    "duration": 20,
    "start_time": "2021-08-04T12:22:08.318Z"
   },
   {
    "duration": 51,
    "start_time": "2021-08-04T12:22:08.341Z"
   },
   {
    "duration": 1487,
    "start_time": "2021-09-19T19:05:20.166Z"
   },
   {
    "duration": 17,
    "start_time": "2021-09-19T19:05:21.655Z"
   },
   {
    "duration": 35,
    "start_time": "2021-09-19T19:05:21.675Z"
   },
   {
    "duration": 18,
    "start_time": "2021-09-19T19:05:21.713Z"
   },
   {
    "duration": 21,
    "start_time": "2021-09-19T19:05:21.734Z"
   },
   {
    "duration": 29,
    "start_time": "2021-09-19T19:05:21.758Z"
   },
   {
    "duration": 26,
    "start_time": "2021-09-19T19:05:21.789Z"
   },
   {
    "duration": 781,
    "start_time": "2021-09-19T19:05:21.820Z"
   },
   {
    "duration": 65,
    "start_time": "2021-09-19T19:05:22.605Z"
   },
   {
    "duration": 12,
    "start_time": "2021-09-19T19:05:22.673Z"
   },
   {
    "duration": 15,
    "start_time": "2021-09-19T19:05:22.687Z"
   },
   {
    "duration": 16,
    "start_time": "2021-09-19T19:05:22.705Z"
   },
   {
    "duration": 21,
    "start_time": "2021-09-19T19:05:22.723Z"
   },
   {
    "duration": 25,
    "start_time": "2021-09-19T19:05:22.746Z"
   },
   {
    "duration": 12,
    "start_time": "2021-09-19T19:05:22.774Z"
   },
   {
    "duration": 14,
    "start_time": "2021-09-19T19:05:22.789Z"
   },
   {
    "duration": 9,
    "start_time": "2021-09-19T19:05:22.805Z"
   },
   {
    "duration": 11,
    "start_time": "2021-09-19T19:05:22.816Z"
   },
   {
    "duration": 43,
    "start_time": "2021-09-19T19:05:22.829Z"
   },
   {
    "duration": 14,
    "start_time": "2021-09-19T19:05:22.874Z"
   },
   {
    "duration": 15,
    "start_time": "2021-09-19T19:05:22.890Z"
   },
   {
    "duration": 13,
    "start_time": "2021-09-19T19:05:22.908Z"
   },
   {
    "duration": 40,
    "start_time": "2021-09-19T19:05:22.928Z"
   },
   {
    "duration": 13,
    "start_time": "2021-09-19T19:05:22.971Z"
   },
   {
    "duration": 19,
    "start_time": "2021-09-19T19:05:22.986Z"
   },
   {
    "duration": 14,
    "start_time": "2021-09-19T19:05:23.007Z"
   },
   {
    "duration": 19,
    "start_time": "2021-09-19T19:05:23.023Z"
   },
   {
    "duration": 7,
    "start_time": "2021-09-19T19:05:23.044Z"
   },
   {
    "duration": 20,
    "start_time": "2021-09-19T19:05:23.054Z"
   },
   {
    "duration": 12,
    "start_time": "2021-09-19T19:05:23.077Z"
   },
   {
    "duration": 26,
    "start_time": "2021-09-19T19:05:23.091Z"
   },
   {
    "duration": 380,
    "start_time": "2021-09-19T19:05:23.119Z"
   },
   {
    "duration": 13,
    "start_time": "2021-09-19T19:05:23.501Z"
   },
   {
    "duration": 291,
    "start_time": "2021-09-19T19:05:23.516Z"
   },
   {
    "duration": 17,
    "start_time": "2021-09-19T19:05:23.810Z"
   },
   {
    "duration": 14,
    "start_time": "2021-09-19T19:05:23.830Z"
   },
   {
    "duration": 4,
    "start_time": "2021-09-19T19:05:23.868Z"
   },
   {
    "duration": 27,
    "start_time": "2021-09-19T19:05:23.875Z"
   },
   {
    "duration": 11,
    "start_time": "2021-09-19T19:05:23.905Z"
   },
   {
    "duration": 16,
    "start_time": "2021-09-19T19:05:23.919Z"
   },
   {
    "duration": 36,
    "start_time": "2021-09-19T19:05:23.937Z"
   },
   {
    "duration": 16,
    "start_time": "2021-09-19T19:05:23.976Z"
   },
   {
    "duration": 382,
    "start_time": "2021-09-19T19:05:23.996Z"
   },
   {
    "duration": 381,
    "start_time": "2021-09-19T19:05:24.381Z"
   },
   {
    "duration": 9,
    "start_time": "2021-09-19T19:05:24.766Z"
   },
   {
    "duration": 500,
    "start_time": "2021-09-19T19:05:24.778Z"
   },
   {
    "duration": 5,
    "start_time": "2021-09-19T19:05:25.281Z"
   },
   {
    "duration": 10,
    "start_time": "2021-09-19T19:05:25.289Z"
   },
   {
    "duration": 15,
    "start_time": "2021-09-19T19:05:25.301Z"
   },
   {
    "duration": 369,
    "start_time": "2021-09-19T19:05:25.318Z"
   },
   {
    "duration": 12,
    "start_time": "2021-09-19T19:05:25.690Z"
   },
   {
    "duration": 417,
    "start_time": "2021-09-19T19:05:25.704Z"
   },
   {
    "duration": 23,
    "start_time": "2021-09-19T19:05:26.124Z"
   },
   {
    "duration": 4,
    "start_time": "2021-09-19T19:05:26.166Z"
   },
   {
    "duration": 496,
    "start_time": "2021-09-19T19:05:26.173Z"
   },
   {
    "duration": 7,
    "start_time": "2021-09-19T19:05:26.672Z"
   },
   {
    "duration": 525,
    "start_time": "2021-09-19T19:05:26.682Z"
   },
   {
    "duration": 8,
    "start_time": "2021-09-19T19:05:27.210Z"
   },
   {
    "duration": 14,
    "start_time": "2021-09-19T19:05:27.221Z"
   },
   {
    "duration": 29,
    "start_time": "2021-09-19T19:05:27.238Z"
   },
   {
    "duration": 149,
    "start_time": "2021-09-19T19:05:27.270Z"
   },
   {
    "duration": 131,
    "start_time": "2021-09-19T19:05:27.422Z"
   },
   {
    "duration": 11,
    "start_time": "2021-09-19T19:05:27.556Z"
   },
   {
    "duration": 38,
    "start_time": "2021-09-19T19:05:27.570Z"
   },
   {
    "duration": 4,
    "start_time": "2021-09-19T19:05:27.611Z"
   },
   {
    "duration": 48,
    "start_time": "2021-09-19T19:05:27.619Z"
   },
   {
    "duration": 4,
    "start_time": "2021-09-19T19:05:27.670Z"
   },
   {
    "duration": 119,
    "start_time": "2021-09-19T19:05:27.682Z"
   },
   {
    "duration": 122,
    "start_time": "2021-09-19T19:05:27.805Z"
   },
   {
    "duration": 8,
    "start_time": "2021-09-19T19:05:27.930Z"
   },
   {
    "duration": 50,
    "start_time": "2021-09-19T19:05:27.941Z"
   },
   {
    "duration": 18,
    "start_time": "2021-09-19T19:05:27.994Z"
   },
   {
    "duration": 125,
    "start_time": "2021-09-19T19:05:28.014Z"
   },
   {
    "duration": 171,
    "start_time": "2021-09-19T19:05:28.142Z"
   },
   {
    "duration": 5,
    "start_time": "2021-09-19T19:05:28.316Z"
   },
   {
    "duration": 9,
    "start_time": "2021-09-19T19:05:28.323Z"
   },
   {
    "duration": 10,
    "start_time": "2021-09-19T19:05:28.335Z"
   },
   {
    "duration": 10,
    "start_time": "2021-09-19T19:05:28.367Z"
   },
   {
    "duration": 6,
    "start_time": "2021-09-19T19:05:28.380Z"
   },
   {
    "duration": 11,
    "start_time": "2021-09-19T19:05:28.389Z"
   },
   {
    "duration": 10,
    "start_time": "2021-09-19T19:05:28.402Z"
   },
   {
    "duration": 58,
    "start_time": "2021-09-19T19:05:28.415Z"
   },
   {
    "duration": 25,
    "start_time": "2021-09-19T19:05:28.475Z"
   },
   {
    "duration": 12,
    "start_time": "2021-09-19T19:05:28.503Z"
   },
   {
    "duration": 11,
    "start_time": "2021-09-19T19:05:28.517Z"
   },
   {
    "duration": 6,
    "start_time": "2021-09-19T19:05:28.530Z"
   },
   {
    "duration": 40,
    "start_time": "2021-09-19T19:05:28.538Z"
   },
   {
    "duration": 13,
    "start_time": "2021-09-19T19:05:28.580Z"
   },
   {
    "duration": 305,
    "start_time": "2021-09-20T21:01:19.097Z"
   },
   {
    "duration": 1093,
    "start_time": "2021-09-20T21:01:28.946Z"
   },
   {
    "duration": 19,
    "start_time": "2021-09-20T21:01:30.041Z"
   },
   {
    "duration": 24,
    "start_time": "2021-09-20T21:01:30.062Z"
   },
   {
    "duration": 18,
    "start_time": "2021-09-20T21:01:30.088Z"
   },
   {
    "duration": 17,
    "start_time": "2021-09-20T21:01:30.108Z"
   },
   {
    "duration": 12,
    "start_time": "2021-09-20T21:01:30.127Z"
   },
   {
    "duration": 32,
    "start_time": "2021-09-20T21:01:30.141Z"
   },
   {
    "duration": 576,
    "start_time": "2021-09-20T21:01:30.176Z"
   },
   {
    "duration": 53,
    "start_time": "2021-09-20T21:01:30.755Z"
   },
   {
    "duration": 9,
    "start_time": "2021-09-20T21:01:30.809Z"
   },
   {
    "duration": 19,
    "start_time": "2021-09-20T21:01:30.820Z"
   },
   {
    "duration": 17,
    "start_time": "2021-09-20T21:01:30.841Z"
   },
   {
    "duration": 11,
    "start_time": "2021-09-20T21:01:30.860Z"
   },
   {
    "duration": 20,
    "start_time": "2021-09-20T21:01:30.873Z"
   },
   {
    "duration": 19,
    "start_time": "2021-09-20T21:01:30.894Z"
   },
   {
    "duration": 14,
    "start_time": "2021-09-20T21:01:30.915Z"
   },
   {
    "duration": 7,
    "start_time": "2021-09-20T21:01:30.930Z"
   },
   {
    "duration": 13,
    "start_time": "2021-09-20T21:01:30.939Z"
   },
   {
    "duration": 10,
    "start_time": "2021-09-20T21:01:30.954Z"
   },
   {
    "duration": 23,
    "start_time": "2021-09-20T21:01:30.966Z"
   },
   {
    "duration": 16,
    "start_time": "2021-09-20T21:01:30.990Z"
   },
   {
    "duration": 18,
    "start_time": "2021-09-20T21:01:31.008Z"
   },
   {
    "duration": 13,
    "start_time": "2021-09-20T21:01:31.031Z"
   },
   {
    "duration": 15,
    "start_time": "2021-09-20T21:01:31.047Z"
   },
   {
    "duration": 17,
    "start_time": "2021-09-20T21:01:31.064Z"
   },
   {
    "duration": 18,
    "start_time": "2021-09-20T21:01:31.083Z"
   },
   {
    "duration": 17,
    "start_time": "2021-09-20T21:01:31.103Z"
   },
   {
    "duration": 14,
    "start_time": "2021-09-20T21:01:31.121Z"
   },
   {
    "duration": 17,
    "start_time": "2021-09-20T21:01:31.137Z"
   },
   {
    "duration": 417,
    "start_time": "2021-09-20T21:01:31.156Z"
   },
   {
    "duration": -808,
    "start_time": "2021-09-20T21:01:32.384Z"
   },
   {
    "duration": -814,
    "start_time": "2021-09-20T21:01:32.390Z"
   },
   {
    "duration": -819,
    "start_time": "2021-09-20T21:01:32.396Z"
   },
   {
    "duration": -823,
    "start_time": "2021-09-20T21:01:32.401Z"
   },
   {
    "duration": -828,
    "start_time": "2021-09-20T21:01:32.407Z"
   },
   {
    "duration": -832,
    "start_time": "2021-09-20T21:01:32.412Z"
   },
   {
    "duration": -837,
    "start_time": "2021-09-20T21:01:32.418Z"
   },
   {
    "duration": -843,
    "start_time": "2021-09-20T21:01:32.425Z"
   },
   {
    "duration": -849,
    "start_time": "2021-09-20T21:01:32.431Z"
   },
   {
    "duration": -854,
    "start_time": "2021-09-20T21:01:32.437Z"
   },
   {
    "duration": -859,
    "start_time": "2021-09-20T21:01:32.443Z"
   },
   {
    "duration": -864,
    "start_time": "2021-09-20T21:01:32.449Z"
   },
   {
    "duration": -870,
    "start_time": "2021-09-20T21:01:32.456Z"
   },
   {
    "duration": -907,
    "start_time": "2021-09-20T21:01:32.494Z"
   },
   {
    "duration": -912,
    "start_time": "2021-09-20T21:01:32.500Z"
   },
   {
    "duration": -917,
    "start_time": "2021-09-20T21:01:32.506Z"
   },
   {
    "duration": -923,
    "start_time": "2021-09-20T21:01:32.512Z"
   },
   {
    "duration": -927,
    "start_time": "2021-09-20T21:01:32.517Z"
   },
   {
    "duration": -933,
    "start_time": "2021-09-20T21:01:32.524Z"
   },
   {
    "duration": -937,
    "start_time": "2021-09-20T21:01:32.529Z"
   },
   {
    "duration": -943,
    "start_time": "2021-09-20T21:01:32.536Z"
   },
   {
    "duration": -949,
    "start_time": "2021-09-20T21:01:32.543Z"
   },
   {
    "duration": -954,
    "start_time": "2021-09-20T21:01:32.549Z"
   },
   {
    "duration": -960,
    "start_time": "2021-09-20T21:01:32.555Z"
   },
   {
    "duration": -965,
    "start_time": "2021-09-20T21:01:32.561Z"
   },
   {
    "duration": -970,
    "start_time": "2021-09-20T21:01:32.567Z"
   },
   {
    "duration": -975,
    "start_time": "2021-09-20T21:01:32.573Z"
   },
   {
    "duration": -979,
    "start_time": "2021-09-20T21:01:32.578Z"
   },
   {
    "duration": -984,
    "start_time": "2021-09-20T21:01:32.584Z"
   },
   {
    "duration": -989,
    "start_time": "2021-09-20T21:01:32.590Z"
   },
   {
    "duration": -1001,
    "start_time": "2021-09-20T21:01:32.603Z"
   },
   {
    "duration": -1006,
    "start_time": "2021-09-20T21:01:32.609Z"
   },
   {
    "duration": -1012,
    "start_time": "2021-09-20T21:01:32.616Z"
   },
   {
    "duration": -1019,
    "start_time": "2021-09-20T21:01:32.623Z"
   },
   {
    "duration": -1026,
    "start_time": "2021-09-20T21:01:32.631Z"
   },
   {
    "duration": -1031,
    "start_time": "2021-09-20T21:01:32.637Z"
   },
   {
    "duration": -1037,
    "start_time": "2021-09-20T21:01:32.644Z"
   },
   {
    "duration": -1042,
    "start_time": "2021-09-20T21:01:32.650Z"
   },
   {
    "duration": -1048,
    "start_time": "2021-09-20T21:01:32.657Z"
   },
   {
    "duration": -1053,
    "start_time": "2021-09-20T21:01:32.663Z"
   },
   {
    "duration": -1059,
    "start_time": "2021-09-20T21:01:32.670Z"
   },
   {
    "duration": -1065,
    "start_time": "2021-09-20T21:01:32.677Z"
   },
   {
    "duration": -1071,
    "start_time": "2021-09-20T21:01:32.683Z"
   },
   {
    "duration": -1076,
    "start_time": "2021-09-20T21:01:32.689Z"
   },
   {
    "duration": -1085,
    "start_time": "2021-09-20T21:01:32.699Z"
   },
   {
    "duration": -1098,
    "start_time": "2021-09-20T21:01:32.712Z"
   },
   {
    "duration": -1104,
    "start_time": "2021-09-20T21:01:32.719Z"
   },
   {
    "duration": -1049,
    "start_time": "2021-09-20T21:01:32.726Z"
   },
   {
    "duration": -1055,
    "start_time": "2021-09-20T21:01:32.733Z"
   },
   {
    "duration": -1066,
    "start_time": "2021-09-20T21:01:32.745Z"
   },
   {
    "duration": -1081,
    "start_time": "2021-09-20T21:01:32.761Z"
   },
   {
    "duration": -1096,
    "start_time": "2021-09-20T21:01:32.776Z"
   },
   {
    "duration": -1107,
    "start_time": "2021-09-20T21:01:32.788Z"
   },
   {
    "duration": -1115,
    "start_time": "2021-09-20T21:01:32.797Z"
   },
   {
    "duration": -1163,
    "start_time": "2021-09-20T21:01:32.846Z"
   },
   {
    "duration": -1171,
    "start_time": "2021-09-20T21:01:32.854Z"
   },
   {
    "duration": -1177,
    "start_time": "2021-09-20T21:01:32.861Z"
   },
   {
    "duration": -1184,
    "start_time": "2021-09-20T21:01:32.869Z"
   },
   {
    "duration": -1193,
    "start_time": "2021-09-20T21:01:32.879Z"
   },
   {
    "duration": 297,
    "start_time": "2021-09-20T21:03:12.063Z"
   },
   {
    "duration": 12,
    "start_time": "2021-09-20T22:43:05.048Z"
   },
   {
    "duration": 363,
    "start_time": "2021-09-20T22:43:15.213Z"
   },
   {
    "duration": 4,
    "start_time": "2021-09-20T22:43:33.836Z"
   },
   {
    "duration": 3,
    "start_time": "2021-09-20T22:45:03.425Z"
   },
   {
    "duration": 7,
    "start_time": "2021-09-20T22:45:04.058Z"
   }
  ],
  "kernelspec": {
   "display_name": "Python 3",
   "language": "python",
   "name": "python3"
  },
  "language_info": {
   "codemirror_mode": {
    "name": "ipython",
    "version": 3
   },
   "file_extension": ".py",
   "mimetype": "text/x-python",
   "name": "python",
   "nbconvert_exporter": "python",
   "pygments_lexer": "ipython3",
   "version": "3.8.5"
  },
  "toc": {
   "base_numbering": 1,
   "nav_menu": {},
   "number_sections": true,
   "sideBar": true,
   "skip_h1_title": true,
   "title_cell": "Table of Contents",
   "title_sidebar": "Contents",
   "toc_cell": false,
   "toc_position": {
    "height": "calc(100% - 180px)",
    "left": "10px",
    "top": "150px",
    "width": "289.6px"
   },
   "toc_section_display": true,
   "toc_window_display": true
  }
 },
 "nbformat": 4,
 "nbformat_minor": 2
}
